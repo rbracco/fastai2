{
 "cells": [
  {
   "cell_type": "code",
   "execution_count": null,
   "metadata": {},
   "outputs": [],
   "source": [
    "from local.torch_basics import *\n",
    "from local.test import *\n",
    "from local.core import *\n",
    "from local.layers import *\n",
    "from local.data.all import *\n",
    "from local.optimizer import *\n",
    "from local.learner import *\n",
    "from local.metrics import *\n",
    "from local.text.all import *\n",
    "from local.callback.rnn import *\n",
    "from local.callback.all import *"
   ]
  },
  {
   "cell_type": "code",
   "execution_count": null,
   "metadata": {},
   "outputs": [],
   "source": [
    "from local.notebook.showdoc import *"
   ]
  },
  {
   "cell_type": "markdown",
   "metadata": {},
   "source": [
    "# Transfer learning in text\n",
    "\n",
    "> How to fine-tune a language model and train a classifier"
   ]
  },
  {
   "cell_type": "markdown",
   "metadata": {},
   "source": [
    "## Finetune a pretrained Language Model"
   ]
  },
  {
   "cell_type": "markdown",
   "metadata": {},
   "source": [
    "First we get our data and tokenize it."
   ]
  },
  {
   "cell_type": "code",
   "execution_count": null,
   "metadata": {},
   "outputs": [],
   "source": [
    "path = untar_data(URLs.IMDB_SAMPLE)\n",
    "df = pd.read_csv(path/'texts.csv')\n",
    "df_tok,count = tokenize_df(df, 'text')"
   ]
  },
  {
   "cell_type": "markdown",
   "metadata": {},
   "source": [
    "Then we put it in a `DataSource`. For a language model, we don't have targets, so there is only one transform to numericalize the texts. Note that `tokenize_df` returns the count of the words in the corpus to make it easy to create a vocabulary."
   ]
  },
  {
   "cell_type": "code",
   "execution_count": null,
   "metadata": {},
   "outputs": [],
   "source": [
    "splits = RandomSplitter()(range_of(df_tok))\n",
    "vocab = make_vocab(count)\n",
    "dsrc = DataSource(df_tok, [[attrgetter(\"text\"), Numericalize(vocab)]], splits=splits, dl_type=LMDataLoader)"
   ]
  },
  {
   "cell_type": "markdown",
   "metadata": {},
   "source": [
    "Then we use that `DataSource` to create a `DataBunch`. Here the class of `TfmdDL` we need to use is `LMDataLoader` which will concatenate all the texts in a source (with a shuffle at each epoch for the training set), split it in `bs` chunks then read continuously through it."
   ]
  },
  {
   "cell_type": "code",
   "execution_count": null,
   "metadata": {},
   "outputs": [],
   "source": [
    "dbunch = dsrc.databunch(bs=64, seq_len=72, after_batch=Cuda)"
   ]
  },
  {
   "cell_type": "code",
   "execution_count": null,
   "metadata": {},
   "outputs": [
    {
     "data": {
      "text/html": [
       "<table border=\"1\" class=\"dataframe\">\n",
       "  <thead>\n",
       "    <tr style=\"text-align: right;\">\n",
       "      <th></th>\n",
       "      <th>text</th>\n",
       "      <th>text_</th>\n",
       "    </tr>\n",
       "  </thead>\n",
       "  <tbody>\n",
       "    <tr>\n",
       "      <th>0</th>\n",
       "      <td>xxbos xxmaj dear xxwrep 4 dear … me ! i had the strength to see it through … xxmaj but why ? ! \\n\\n xxmaj the first two films where fun and actually somewhat good . xxmaj but this is so bad we had problems seeing the whole thing . xxmaj this was some kind of xxmaj tremors for kids . i ca n't believe this movie was made at all ..</td>\n",
       "      <td>xxmaj dear xxwrep 4 dear … me ! i had the strength to see it through … xxmaj but why ? ! \\n\\n xxmaj the first two films where fun and actually somewhat good . xxmaj but this is so bad we had problems seeing the whole thing . xxmaj this was some kind of xxmaj tremors for kids . i ca n't believe this movie was made at all .. seems</td>\n",
       "    </tr>\n",
       "    <tr>\n",
       "      <th>1</th>\n",
       "      <td>xxmaj ebert or any number of arrogant critics , you probably should n't bother . xxmaj but if your taste run more towards xxmaj joe xxmaj bob xxmaj briggs and you want to see a group of people xxunk their craft , then check out \" the xxmaj xxunk \" . xxbos xxup ok , let me again admit that i have n't seen any other xxmaj xxunk xxmaj ivory ( the</td>\n",
       "      <td>ebert or any number of arrogant critics , you probably should n't bother . xxmaj but if your taste run more towards xxmaj joe xxmaj bob xxmaj briggs and you want to see a group of people xxunk their craft , then check out \" the xxmaj xxunk \" . xxbos xxup ok , let me again admit that i have n't seen any other xxmaj xxunk xxmaj ivory ( the xxunk</td>\n",
       "    </tr>\n",
       "    <tr>\n",
       "      <th>2</th>\n",
       "      <td>rent . xxmaj now xxup that i would watch . xxbos xxmaj she is such an extraordinary singer , who cares about anything else xxrep 4 ! xxmaj that final scene is one of the best moments in all of show biz - bar none ! ! xxmaj i 'm glad she kept the camera on herself for ten minutes - she deserves that xxunk status - such is the power of</td>\n",
       "      <td>. xxmaj now xxup that i would watch . xxbos xxmaj she is such an extraordinary singer , who cares about anything else xxrep 4 ! xxmaj that final scene is one of the best moments in all of show biz - bar none ! ! xxmaj i 'm glad she kept the camera on herself for ten minutes - she deserves that xxunk status - such is the power of the</td>\n",
       "    </tr>\n",
       "    <tr>\n",
       "      <th>3</th>\n",
       "      <td>xxmaj about the only thing missing is the moment when xxmaj rambo xxunk from a xxunk - like xxunk and xxunk himself invincible . \\n\\n xxmaj to be honest , xxmaj first xxmaj blood xxmaj part xxup ii is a well - photographed , and well - choreographed , action spectacle . xxmaj the hand - to - hand combat with the larger xxmaj russian commander is one of the few battles</td>\n",
       "      <td>about the only thing missing is the moment when xxmaj rambo xxunk from a xxunk - like xxunk and xxunk himself invincible . \\n\\n xxmaj to be honest , xxmaj first xxmaj blood xxmaj part xxup ii is a well - photographed , and well - choreographed , action spectacle . xxmaj the hand - to - hand combat with the larger xxmaj russian commander is one of the few battles in</td>\n",
       "    </tr>\n",
       "    <tr>\n",
       "      <th>4</th>\n",
       "      <td>xxmaj in an improvised romantic sequence with young a xxmaj xxunk xxmaj lewis , he sticks his thumb into her mouth and kisses her . a kind of symbolic rape , the girl runs away , both xxunk and xxunk by this man 's interest . \\n\\n xxmaj but xxmaj de xxmaj niro 's performance , so xxunk over the top , simply ca n't be xxunk by xxmaj scorsese . xxmaj</td>\n",
       "      <td>in an improvised romantic sequence with young a xxmaj xxunk xxmaj lewis , he sticks his thumb into her mouth and kisses her . a kind of symbolic rape , the girl runs away , both xxunk and xxunk by this man 's interest . \\n\\n xxmaj but xxmaj de xxmaj niro 's performance , so xxunk over the top , simply ca n't be xxunk by xxmaj scorsese . xxmaj you</td>\n",
       "    </tr>\n",
       "    <tr>\n",
       "      <th>5</th>\n",
       "      <td>save your \" notes \" and watch the xxmaj patriot instead . xxbos xxmaj this xxmaj italian semi - horror movie starts out very much like a soft core porn movie and turns into a mystery that has a few to many loose ends to be good , that and the fact it is rather dull just makes this film rather unwatchable for my tastes . xxmaj the only thing really worth</td>\n",
       "      <td>your \" notes \" and watch the xxmaj patriot instead . xxbos xxmaj this xxmaj italian semi - horror movie starts out very much like a soft core porn movie and turns into a mystery that has a few to many loose ends to be good , that and the fact it is rather dull just makes this film rather unwatchable for my tastes . xxmaj the only thing really worth watching</td>\n",
       "    </tr>\n",
       "    <tr>\n",
       "      <th>6</th>\n",
       "      <td>she makes based on real things , the people she meets - there is nothing wrong with this movie . xxmaj it is as close to movie magic as i have ever seen outside of the \" xxmaj star xxmaj wars \" movies , and , given what those films are like , that means this film deserves a high rating indeed . xxmaj ashley xxmaj xxunk ' acting , xxmaj mr</td>\n",
       "      <td>makes based on real things , the people she meets - there is nothing wrong with this movie . xxmaj it is as close to movie magic as i have ever seen outside of the \" xxmaj star xxmaj wars \" movies , and , given what those films are like , that means this film deserves a high rating indeed . xxmaj ashley xxmaj xxunk ' acting , xxmaj mr .</td>\n",
       "    </tr>\n",
       "    <tr>\n",
       "      <th>7</th>\n",
       "      <td>it is all real . xxmaj the story is nothing new for the people of the developing and / or poor countries . xxmaj it xxunk light on the xxunk of the people by corporate media , the xxunk , the artificial xxunk of the people by deliberately creating tension on the streets , sometimes to the point that the army , intelligence agency or even the xxunk believe , led by</td>\n",
       "      <td>is all real . xxmaj the story is nothing new for the people of the developing and / or poor countries . xxmaj it xxunk light on the xxunk of the people by corporate media , the xxunk , the artificial xxunk of the people by deliberately creating tension on the streets , sometimes to the point that the army , intelligence agency or even the xxunk believe , led by the</td>\n",
       "    </tr>\n",
       "    <tr>\n",
       "      <th>8</th>\n",
       "      <td>that the designs they have in mind , and have worked out with their architect ( xxunk xxmaj xxunk ) , ca n't be dropped cheaply at a xxunk of the moment decision by xxmaj muriel to build a little xxunk that nobody planned for . \\n\\n xxmaj the escalating costs of the project are one matter that xxunk xxmaj jim . xxmaj he has been xxunk to handle the \" xxunk</td>\n",
       "      <td>the designs they have in mind , and have worked out with their architect ( xxunk xxmaj xxunk ) , ca n't be dropped cheaply at a xxunk of the moment decision by xxmaj muriel to build a little xxunk that nobody planned for . \\n\\n xxmaj the escalating costs of the project are one matter that xxunk xxmaj jim . xxmaj he has been xxunk to handle the \" xxunk \"</td>\n",
       "    </tr>\n",
       "    <tr>\n",
       "      <th>9</th>\n",
       "      <td>for television movie . xxmaj just the phrase , \" made of xxup tv \" , makes me xxunk . xxmaj the production values for made for xxup tv movies are almost always remarkably lower than production values for professional movie studios . xxmaj that being said , this version of the \" christmas xxmaj carol \" should have been released in theaters , because it xxup is that good . xxmaj</td>\n",
       "      <td>television movie . xxmaj just the phrase , \" made of xxup tv \" , makes me xxunk . xxmaj the production values for made for xxup tv movies are almost always remarkably lower than production values for professional movie studios . xxmaj that being said , this version of the \" christmas xxmaj carol \" should have been released in theaters , because it xxup is that good . xxmaj it</td>\n",
       "    </tr>\n",
       "  </tbody>\n",
       "</table>"
      ],
      "text/plain": [
       "<IPython.core.display.HTML object>"
      ]
     },
     "metadata": {},
     "output_type": "display_data"
    }
   ],
   "source": [
    "dbunch.show_batch()"
   ]
  },
  {
   "cell_type": "markdown",
   "metadata": {},
   "source": [
    "Then we have a convenience method to directly grab a `Learner` from it, using the `AWD_LSTM` architecture."
   ]
  },
  {
   "cell_type": "code",
   "execution_count": null,
   "metadata": {},
   "outputs": [],
   "source": [
    "learn = language_model_learner(dbunch, AWD_LSTM, vocab, metrics=[accuracy, Perplexity()], path=path, opt_func = partial(Adam, wd=0.1)).to_fp16()"
   ]
  },
  {
   "cell_type": "code",
   "execution_count": null,
   "metadata": {},
   "outputs": [
    {
     "data": {
      "text/html": [
       "<table border=\"1\" class=\"dataframe\">\n",
       "  <thead>\n",
       "    <tr style=\"text-align: left;\">\n",
       "      <th>epoch</th>\n",
       "      <th>train_loss</th>\n",
       "      <th>valid_loss</th>\n",
       "      <th>accuracy</th>\n",
       "      <th>perplexity</th>\n",
       "      <th>time</th>\n",
       "    </tr>\n",
       "  </thead>\n",
       "  <tbody>\n",
       "    <tr>\n",
       "      <td>0</td>\n",
       "      <td>4.563926</td>\n",
       "      <td>4.046213</td>\n",
       "      <td>0.275156</td>\n",
       "      <td>57.180485</td>\n",
       "      <td>00:04</td>\n",
       "    </tr>\n",
       "  </tbody>\n",
       "</table>"
      ],
      "text/plain": [
       "<IPython.core.display.HTML object>"
      ]
     },
     "metadata": {},
     "output_type": "display_data"
    }
   ],
   "source": [
    "learn.freeze()\n",
    "learn.fit_one_cycle(1, 1e-2, moms=(0.8,0.7,0.8))"
   ]
  },
  {
   "cell_type": "code",
   "execution_count": null,
   "metadata": {},
   "outputs": [
    {
     "data": {
      "text/html": [
       "<table border=\"1\" class=\"dataframe\">\n",
       "  <thead>\n",
       "    <tr style=\"text-align: left;\">\n",
       "      <th>epoch</th>\n",
       "      <th>train_loss</th>\n",
       "      <th>valid_loss</th>\n",
       "      <th>accuracy</th>\n",
       "      <th>perplexity</th>\n",
       "      <th>time</th>\n",
       "    </tr>\n",
       "  </thead>\n",
       "  <tbody>\n",
       "    <tr>\n",
       "      <td>0</td>\n",
       "      <td>4.316335</td>\n",
       "      <td>4.117260</td>\n",
       "      <td>0.262297</td>\n",
       "      <td>61.390800</td>\n",
       "      <td>00:04</td>\n",
       "    </tr>\n",
       "    <tr>\n",
       "      <td>1</td>\n",
       "      <td>4.158508</td>\n",
       "      <td>4.055263</td>\n",
       "      <td>0.269983</td>\n",
       "      <td>57.700340</td>\n",
       "      <td>00:04</td>\n",
       "    </tr>\n",
       "    <tr>\n",
       "      <td>2</td>\n",
       "      <td>3.830992</td>\n",
       "      <td>4.014355</td>\n",
       "      <td>0.275752</td>\n",
       "      <td>55.387569</td>\n",
       "      <td>00:04</td>\n",
       "    </tr>\n",
       "    <tr>\n",
       "      <td>3</td>\n",
       "      <td>3.451460</td>\n",
       "      <td>4.053249</td>\n",
       "      <td>0.273962</td>\n",
       "      <td>57.584240</td>\n",
       "      <td>00:04</td>\n",
       "    </tr>\n",
       "  </tbody>\n",
       "</table>"
      ],
      "text/plain": [
       "<IPython.core.display.HTML object>"
      ]
     },
     "metadata": {},
     "output_type": "display_data"
    }
   ],
   "source": [
    "learn.unfreeze()\n",
    "learn.fit_one_cycle(4, 1e-2, moms=(0.8,0.7,0.8))"
   ]
  },
  {
   "cell_type": "markdown",
   "metadata": {},
   "source": [
    "Once we have fine-tuned the pretrained language model to this corpus, we save the encoder since we will use it for the classifier."
   ]
  },
  {
   "cell_type": "code",
   "execution_count": null,
   "metadata": {},
   "outputs": [
    {
     "data": {
      "text/html": [],
      "text/plain": [
       "<IPython.core.display.HTML object>"
      ]
     },
     "metadata": {},
     "output_type": "display_data"
    },
    {
     "data": {
      "text/html": [
       "<table border=\"1\" class=\"dataframe\">\n",
       "  <thead>\n",
       "    <tr style=\"text-align: right;\">\n",
       "      <th></th>\n",
       "      <th>input</th>\n",
       "      <th>target</th>\n",
       "      <th>pred</th>\n",
       "    </tr>\n",
       "  </thead>\n",
       "  <tbody>\n",
       "    <tr>\n",
       "      <th>0</th>\n",
       "      <td>xxbos xxmaj superb cast , more please ! \\n\\n xxmaj if you can catch just about anything else written by xxmaj xxunk ( or starring these wonderful actors ) . xxmaj for anyone who does n't know xxmaj xxunk has a real feeling for jazz , my recommendation is to see the ' xxunk ' trilogy whenever you can . \\n\\n \" there 's three kinds of jazz - xxmaj hot ,</td>\n",
       "      <td>xxmaj superb cast , more please ! \\n\\n xxmaj if you can catch just about anything else written by xxmaj xxunk ( or starring these wonderful actors ) . xxmaj for anyone who does n't know xxmaj xxunk has a real feeling for jazz , my recommendation is to see the ' xxunk ' trilogy whenever you can . \\n\\n \" there 's three kinds of jazz - xxmaj hot , xxmaj</td>\n",
       "      <td>xxmaj this acting and great actors ! xxmaj xxmaj the you 're see a about the else you by xxmaj xxunk xxmaj or even xxmaj actors actors ) , xxmaj this me who has n't like what xxunk xxmaj a good interest of this , this opinion is to see this xxmaj xxunk ' . . you can . xxmaj xxmaj xxunk 's no songs of jazz - xxmaj xxunk xxmaj xxmaj</td>\n",
       "    </tr>\n",
       "    <tr>\n",
       "      <th>1</th>\n",
       "      <td>, there is enough xxunk . xxmaj single - xxunk , if you can manage it . \\n\\n xxmaj if the previous comments were n't enough to keep you from watching this film xxunk , allow me to xxunk . xxup nasa xxunk one man and two xxunk extras into space to orbit xxmaj saturn . a really big xxunk xxunk causes xxmaj colonel xxmaj steve xxmaj west to bleed from the</td>\n",
       "      <td>there is enough xxunk . xxmaj single - xxunk , if you can manage it . \\n\\n xxmaj if the previous comments were n't enough to keep you from watching this film xxunk , allow me to xxunk . xxup nasa xxunk one man and two xxunk extras into space to orbit xxmaj saturn . a really big xxunk xxunk causes xxmaj colonel xxmaj steve xxmaj west to bleed from the nose</td>\n",
       "      <td>the are no here to xxmaj the xxunk xxunk xxmaj xxunk you 're find to , xxmaj xxmaj the you movie two are n't too to be the interested watching this movie , , you me to xxunk . xxmaj xxunk xxunk the of 's two xxunk who into the . xxunk the saturn . xxmaj xxunk good xxunk of xxunk a saturn xxmaj xxunk xxmaj west to xxunk from the nose</td>\n",
       "    </tr>\n",
       "    <tr>\n",
       "      <th>2</th>\n",
       "      <td>does n't do a very good job at it , either . \\n\\n xxmaj the most enjoyable part of the original graphic novel was the friendship - hate relationship between xxmaj xxunk and xxmaj horus . xxmaj they were both out of their right time and place , forced together by circumstance . xxmaj most of all , they were funny and likable . xxmaj not so here . xxmaj xxunk has</td>\n",
       "      <td>n't do a very good job at it , either . \\n\\n xxmaj the most enjoyable part of the original graphic novel was the friendship - hate relationship between xxmaj xxunk and xxmaj horus . xxmaj they were both out of their right time and place , forced together by circumstance . xxmaj most of all , they were funny and likable . xxmaj not so here . xxmaj xxunk has no</td>\n",
       "      <td>n't work anything good good job of all . but . xxmaj xxmaj the acting interesting part of the movie was novel was the xxunk of relationship relationship between xxmaj xxunk and xxmaj xxunk . xxmaj the were all xxunk of their own time and xxunk . and together by their . xxmaj they of the , the were xxunk and funny . xxmaj the only much . xxmaj but xxmaj a</td>\n",
       "    </tr>\n",
       "    <tr>\n",
       "      <th>3</th>\n",
       "      <td>edge of xxmaj the xxmaj exterminator . xxmaj other reviews have commented on a suspension of disbelief regarding the film 's heroic middle aged commandos , but how about making a film in the xxmaj xxunk that is set in xxmaj xxunk ? xxmaj all the extras are xxmaj xxunk . xxmaj in fact the only character who looks remotely xxmaj xxunk is good xxunk xxmaj victor xxmaj xxunk as the much</td>\n",
       "      <td>of xxmaj the xxmaj exterminator . xxmaj other reviews have commented on a suspension of disbelief regarding the film 's heroic middle aged commandos , but how about making a film in the xxmaj xxunk that is set in xxmaj xxunk ? xxmaj all the extras are xxmaj xxunk . xxmaj in fact the only character who looks remotely xxmaj xxunk is good xxunk xxmaj victor xxmaj xxunk as the much xxunk</td>\n",
       "      <td>to the xxunk xxmaj xxunk . xxmaj the than have pointed on the xxunk of disbelief in the film 's xxunk xxunk aged and . but it is the a film about the xxmaj xxunk xxmaj is so up the xxunk is xxmaj the in characters are xxunk xxunk xxmaj xxmaj the the , film thing who is like xxmaj xxunk is xxmaj - xxmaj xxunk xxmaj xxunk , xxmaj xxunk xxunk</td>\n",
       "    </tr>\n",
       "    <tr>\n",
       "      <th>4</th>\n",
       "      <td>and a true sense of what it means to have a moment of happiness , however self - contained , as it may lead into something more . xxmaj who 's to say you ca n't suddenly be attached to someone , if only for less than 24 hours , and be that much more attached than a married couple ? xxmaj this is perhaps xxmaj linklater 's xxunk , but there</td>\n",
       "      <td>a true sense of what it means to have a moment of happiness , however self - contained , as it may lead into something more . xxmaj who 's to say you ca n't suddenly be attached to someone , if only for less than 24 hours , and be that much more attached than a married couple ? xxmaj this is perhaps xxmaj linklater 's xxunk , but there 's</td>\n",
       "      <td>the xxunk story of humor the was to be a good of life . and , - indulgent , and it is be to a more than xxmaj the knows the say that have n't help get xxunk to a who or you you the than one hours , then you xxunk xxunk more than to a xxunk man ? xxmaj the is a the xxunk 's least , but it 's</td>\n",
       "    </tr>\n",
       "    <tr>\n",
       "      <th>5</th>\n",
       "      <td>romero 's tradition of using the genre as parable and as a discussion xxunk while still keeping us xxunk out . xxbos … okay , maybe not all of it . xxmaj xxunk by the false promise of bikini - xxunk women on the movie 's cover … but the xxup horror … the xxup horror … … whatever you do , do xxup not watch this movie . xxmaj xxunk out</td>\n",
       "      <td>'s tradition of using the genre as parable and as a discussion xxunk while still keeping us xxunk out . xxbos … okay , maybe not all of it . xxmaj xxunk by the false promise of bikini - xxunk women on the movie 's cover … but the xxup horror … the xxup horror … … whatever you do , do xxup not watch this movie . xxmaj xxunk out your</td>\n",
       "      <td>'s xxunk of xxunk the same as a and xxunk a xxunk xxunk , xxunk maintaining us interested . of xxmaj xxmaj this , i this a of this . xxmaj but xxmaj the xxunk name of xxunk - xxunk women , the cover 's cover , but i movie dvd is xxup xxup xxunk ! xxup xxbos you do n't you n't not watch this movie . xxbos it xxmaj there</td>\n",
       "    </tr>\n",
       "    <tr>\n",
       "      <th>6</th>\n",
       "      <td>xxunk alone in the xxunk version had been hailed as an xxunk of new technique ! \\n\\n xxmaj in the xxunk beauty of its opening scenes and the fairy - tale xxunk of what follows , the film resembles a dream . xxmaj as a ' louise xxmaj brooks movie ' it was not at all what i was expecting , either from her xxmaj hollywood comedies or from xxunk 's xxmaj</td>\n",
       "      <td>alone in the xxunk version had been hailed as an xxunk of new technique ! \\n\\n xxmaj in the xxunk beauty of its opening scenes and the fairy - tale xxunk of what follows , the film resembles a dream . xxmaj as a ' louise xxmaj brooks movie ' it was not at all what i was expecting , either from her xxmaj hollywood comedies or from xxunk 's xxmaj german</td>\n",
       "      <td>, . the xxunk of of been xxunk as a xxunk of the cinema . xxmaj xxmaj the the end of of the xxunk moments , the xxunk tale tale of , the is , the film is a xxunk tale xxmaj the a whole xxunk xxmaj brooks movie ' , is a a all that it was expecting to but . the xxunk french xxunk or from xxmaj to xxmaj french</td>\n",
       "    </tr>\n",
       "    <tr>\n",
       "      <th>7</th>\n",
       "      <td>of footage from the previous film to save budget on this sequel to it . xxmaj there really is n't that much story here and yes , typical of xxmaj universal monster pictures , even in xxmaj america a mob of people will light .. ho hum .. xxunk going after xxmaj kharis . xxmaj you know how it 'll end .. john and the super - powerful xxmaj kharis will xxunk</td>\n",
       "      <td>footage from the previous film to save budget on this sequel to it . xxmaj there really is n't that much story here and yes , typical of xxmaj universal monster pictures , even in xxmaj america a mob of people will light .. ho hum .. xxunk going after xxmaj kharis . xxmaj you know how it 'll end .. john and the super - powerful xxmaj kharis will xxunk off</td>\n",
       "      <td>the from the film film . the the on the film . the . xxmaj the are is no a much to here , there , the of the hollywood 's films , but though the hollywood , few of people who be the xxmaj xxrep xxrep xxunk ! to the xxunk , xxmaj the 'll , to 's end ! xxmaj xxmaj xxmaj xxunk - powerful xxmaj xxunk are xxunk the</td>\n",
       "    </tr>\n",
       "    <tr>\n",
       "      <th>8</th>\n",
       "      <td>heston plays a retired xxunk who goes after an xxunk bunch of convicts led by a violent xxunk ( xxunk ) . xxmaj the hunt becomes even more personal when xxmaj heston 's daughter ( barbara xxmaj xxunk ) is kidnapped by the convicts and subjected to sexual xxunk . \\n\\n▁ xxmaj this is a xxunk film indeed in which every time someone dies it is displayed in over - the -</td>\n",
       "      <td>plays a retired xxunk who goes after an xxunk bunch of convicts led by a violent xxunk ( xxunk ) . xxmaj the hunt becomes even more personal when xxmaj heston 's daughter ( barbara xxmaj xxunk ) is kidnapped by the convicts and subjected to sexual xxunk . \\n\\n▁ xxmaj this is a xxunk film indeed in which every time someone dies it is displayed in over - the - top</td>\n",
       "      <td>'s a xxunk xxmaj who 's on a xxunk of of xxunk and by a xxunk xxunk who xxunk xxmaj . xxmaj he two for more more violent when xxmaj heston 's daughter ( xxunk xxmaj xxunk ) is kidnapped for the xxunk and forced to sexual xxunk . xxmaj xxmaj the is a very film that . which the time it dies it is xxunk in a - the - top</td>\n",
       "    </tr>\n",
       "    <tr>\n",
       "      <th>9</th>\n",
       "      <td>the xxmaj cajuns had been portrayed in a more believable light . xxmaj my family is from the xxunk region of xxmaj xxunk and i live in xxunk xxmaj texas ( about 20 miles from xxmaj lake xxmaj charles ) . i have never heard the people i grew up around talk like these folks did . xxmaj the xxmaj cajuns were portrayed as backwards rednecks . xxmaj most of the xxmaj</td>\n",
       "      <td>xxmaj cajuns had been portrayed in a more believable light . xxmaj my family is from the xxunk region of xxmaj xxunk and i live in xxunk xxmaj texas ( about 20 miles from xxmaj lake xxmaj charles ) . i have never heard the people i grew up around talk like these folks did . xxmaj the xxmaj cajuns were portrayed as backwards rednecks . xxmaj most of the xxmaj cajuns</td>\n",
       "      <td>xxmaj xxunk were a xxunk as a very realistic role . xxmaj the xxmaj is now xxmaj xxmaj xxmaj of xxmaj xxunk , i have in xxmaj xxmaj xxunk . about 15 miles from the texas xxmaj charles ) . xxmaj have seen heard of xxmaj i grew up with . about i people were . xxmaj the movie xxunk are xxunk as a xxunk . xxmaj the of the actors texans</td>\n",
       "    </tr>\n",
       "  </tbody>\n",
       "</table>"
      ],
      "text/plain": [
       "<IPython.core.display.HTML object>"
      ]
     },
     "metadata": {},
     "output_type": "display_data"
    }
   ],
   "source": [
    "learn.show_results()"
   ]
  },
  {
   "cell_type": "code",
   "execution_count": null,
   "metadata": {},
   "outputs": [],
   "source": [
    "learn.save_encoder('enc1')"
   ]
  },
  {
   "cell_type": "markdown",
   "metadata": {},
   "source": [
    "## Use it to train a classifier"
   ]
  },
  {
   "cell_type": "markdown",
   "metadata": {},
   "source": [
    "For classification, we need to use two set of transforms: one to numericalize the texts and the other to encode the labels as categories."
   ]
  },
  {
   "cell_type": "code",
   "execution_count": null,
   "metadata": {},
   "outputs": [],
   "source": [
    "splits = RandomSplitter()(range_of(df_tok))\n",
    "dsrc = DataSource(df_tok, splits=splits, tfms=[\n",
    "    [attrgetter(\"text\"), Numericalize(vocab)],\n",
    "    [attrgetter(\"label\"), Categorize()]], dl_type=SortedDL)"
   ]
  },
  {
   "cell_type": "markdown",
   "metadata": {},
   "source": [
    "We opnce again use a subclass of `TfmdDL` for the dataloaders, since we want to sort the texts (sortish for the training set) by order of lengths. We also use `pad_collate` to create batches form texts of different lengths."
   ]
  },
  {
   "cell_type": "code",
   "execution_count": null,
   "metadata": {},
   "outputs": [],
   "source": [
    "dbunch = dsrc.databunch(before_batch=pad_input, after_batch=Cuda)"
   ]
  },
  {
   "cell_type": "code",
   "execution_count": null,
   "metadata": {},
   "outputs": [
    {
     "data": {
      "text/html": [
       "<table border=\"1\" class=\"dataframe\">\n",
       "  <thead>\n",
       "    <tr style=\"text-align: right;\">\n",
       "      <th></th>\n",
       "      <th>text</th>\n",
       "      <th>category</th>\n",
       "    </tr>\n",
       "  </thead>\n",
       "  <tbody>\n",
       "    <tr>\n",
       "      <th>0</th>\n",
       "      <td>xxbos xxmaj raising xxmaj victor xxmaj vargas : a xxmaj review \\n\\n xxmaj you know , xxmaj raising xxmaj victor xxmaj vargas is like sticking your hands into a big , xxunk bowl of xxunk . xxmaj it 's warm and gooey , but you 're not sure if it feels right . xxmaj try as i might , no matter how warm and gooey xxmaj raising xxmaj victor xxmaj vargas became i was always aware that something did n't quite feel right . xxmaj victor xxmaj vargas suffers from a certain xxunk on the director 's part . xxmaj apparently , the director thought that the ethnic backdrop of a xxmaj latino family on the lower east side , and an xxunk storyline would make the film critic proof . xxmaj he was right , but it did n't fool me . xxmaj raising xxmaj victor xxmaj vargas is the story about a xxunk - year old boy called , you guessed it , xxmaj victor xxmaj vargas ( victor xxmaj xxunk ) who lives his teenage years chasing more xxunk than the xxmaj rolling xxmaj xxunk could do in all the years they 've xxunk . xxmaj the movie starts off in ` ugly xxmaj fat ' xxmaj donna 's bedroom where xxmaj victor is sure to seduce her , but a cry from outside xxunk his plans when his best - friend xxmaj harold ( kevin xxmaj xxunk ) comes - a - looking for him . xxmaj caught in the attempt by xxmaj harold and his sister , xxmaj victor xxmaj vargas runs off for xxunk control . xxmaj yet even with the embarrassing implication that he 's been xxunk the xxunk girl in the neighborhood , nothing xxunk young xxmaj victor from going off on the hunt for more fresh meat . xxmaj on a hot , xxmaj new xxmaj york xxmaj city day they make way to the local public swimming pool where xxmaj victor 's eyes catch a glimpse of the lovely young xxunk xxmaj judy ( judy xxmaj xxunk ) , who 's not just pretty , but a strong and independent too . xxmaj the relationship that develops between xxmaj victor and xxmaj judy becomes the focus of the film . xxmaj the story also focuses on xxmaj victor 's family that is comprised of his grandmother or xxunk ( xxunk xxmaj guzman ) , his brother xxmaj nino ( also played by real life brother to xxmaj victor , xxmaj xxunk xxmaj xxunk ) and his sister xxmaj vicky ( xxunk xxmaj xxunk ) . xxmaj the action follows xxmaj victor between scenes with xxmaj judy and scenes with his family . xxmaj victor tries to xxunk with being an oversexed pimp - daddy , his feelings for xxmaj judy and his grandmother 's conservative xxmaj catholic upbringing . \\n\\n xxmaj the problems that xxunk from xxmaj raising xxmaj victor xxmaj vargas are a few , but glaring errors . xxmaj throughout the film you get to know certain characters like xxmaj vicky , xxmaj nino , xxmaj xxunk , xxmaj judy and even xxmaj judy 's best friend xxmaj xxunk . xxmaj the problem is , we know nothing of xxmaj victor xxmaj vargas except that he is the biggest gigolo in the neighborhood . xxmaj we know that he knows how to lick his lips , and xxunk his xxunk , and carry himself for the sake of xxunk girls into the xxunk , but that 's all . xxmaj we know that xxmaj nino plays piano , and quiet well , you could see it by the awards on the family piano . xxmaj we know his sister xxmaj xxunk , is a gossip - loving girl with an xxunk interest in watching xxup tv . xxmaj we know that xxunk is a hard - working traditional xxmaj xxunk woman who 's trying to raise her kids with xxunk in a world of excess corruption . xxmaj yet where is the titular character , xxmaj victor xxmaj vargas ? xxmaj he 's in this movie somewhere , but we only know what the movie tells us . xxmaj this is by far the film 's biggest flaw . xxmaj victor xxmaj vargas is n't so much a character but a xxunk - xxunk ball , xxunk between scenes with xxmaj judy and his xxmaj grandmother , but we never get to know who xxmaj victor xxmaj vargas really is . xxmaj this is important because as xxmaj i 've mentioned the only thing we know of xxmaj victor xxmaj vargas is that he 's a sexually active teenager with a xxunk the size of xxmaj manhattan . xxmaj he 's a total xxmaj xxunk - male . xxmaj victor xxmaj vargas is not the kind of character i sympathize with at all . xxmaj why should anyone ? xxmaj so by the end of the movie , in the aftermath of the climax are we truly led to believe that somehow xxmaj victor xxmaj vargas has attained xxup any depth and learned the errors of his ways ? xxmaj how could such a two - dimensional character have any depth ? xxmaj if only the director had worried a little more about xxunk out his main character instead of worrying about getting that perfect hand - held shot . \\n\\n xxmaj raising xxmaj victor xxmaj vargas brings to life the world of the xxmaj latino inner - city neighborhood to the big screen . xxmaj something that few films have done before in the past . xxmaj the film has been xxunk for feeling so real , and i wo n't \\n\\n argue with that . i have n't seen this level of reality since xxup xxunk aired xxmaj survivor . xxmaj seriously , although the movie has some nice shots of the city , the writer / director xxmaj peter xxmaj sollett was way too xxunk on close - ups and hand - held shots . xxmaj this problem is particularly noticed in xxunk scenes that are so claustrophobic i was forced to perform deep - breathing xxunk to keep from passing out . xxmaj as the film continues , the shots get tighter and tighter with faces xxunk from xxunk to xxunk on the screen ; you can practically xxunk xxmaj victor xxmaj vargas 's cheap xxunk . xxmaj the overall effect is unrealistic in contrast . xxmaj the xxunk scenes of inner - city apartments make them look small and xxunk , which is not true . xxmaj i 've been in those type apartments ; i used to live in one . xxmaj they 're not xxunk but they have high xxunk and they 're decent living xxunk . xxmaj by the movie 's standards you 'd think that these apartments were xxunk xxunk of xxunk - and - xxunk , xxunk paint and xxunk walls . xxmaj unfortunately , xxmaj sollett 's constant use of close - ups and one particularly bad shot with a xxunk - in on one scene come off as totally amateurish . xxmaj but xxmaj raising xxmaj victor xxmaj vargas is only xxmaj sollett 's second film , and his most well known , a solid effort in filmmaking that will hopefully get better as he continues to make films . xxmaj one review i read xxunk the movie as , ` ethnicity for xxmaj ethnicity 's xxmaj sake , ' and i can not agree more . xxmaj if xxmaj victor xxmaj vargas were truly a great film and story , then the characters ' xxunk would n't matter whether they were xxmaj latino , xxmaj chinese , etc . xxmaj yet if you were to take this story and stick it in middle - class xxunk with a bunch of xxunk - xxunk white kids the results would n't be such glowing reviews , and we 'd see the film 's flaws more clearly . xxmaj indeed , some other aspects of the use of xxmaj latinos in this film bother me . xxmaj while some aspects of xxmaj victor xxmaj vargas are accurate others i have to question . xxmaj for example , xxmaj victor , xxmaj nino and xxmaj vicky all share the same room to sleep . xxmaj this set off an alarm for me because it seemed contrary to what i believe . xxmaj any self - xxunk xxmaj latino family would n't have two older brothers sharing the same room with a thirteen - year old girl . xxmaj at first i was xxunk , perhaps i was wrong , but after speaking with my grandmother i knew my problem with this was justified . xxmaj considering how conservative the grandmother is , you 'd think that xxmaj vicky would have been sleeping in her room . \\n\\n xxmaj as a xxmaj latino who grew up in a somewhat conservative xxmaj cuban household , raised by my grandmother while my mother was working full - time , i could relate to the movie in many ways , which is why my critical xxunk are xxunk because i really wanted to love this movie . xxmaj unfortunately , my lack of respect for xxmaj victor xxmaj vargas xxunk my feelings for the film . xxmaj maybe it 's because xxmaj victor xxmaj vargas reminds me of those guys who were getting laid while i was playing with my xxmaj xxunk xxmaj xxunk when i was xxunk . xxmaj maybe it 's because without any further xxunk by the film , xxmaj victor xxmaj vargas is merely a stereotypical hot - blooded xxmaj latino , who 'll just end up shouting to girls from his car , ` hey bay - xxunk , xxunk want to get into my xxunk xxunk - xxunk ? ' xxmaj either way i do n't like him , so ultimately how can i like a film about him ? xxmaj so if you 'll excuse me , xxmaj i 'm going to go stick my hands into a bowl of xxunk .</td>\n",
       "      <td>negative</td>\n",
       "    </tr>\n",
       "    <tr>\n",
       "      <th>1</th>\n",
       "      <td>xxbos xxup the xxup shop xxup around xxup the xxup corner is one of the xxunk and most feel - good romantic comedies ever made . xxmaj there 's just no getting around that , and it 's hard to actually put one 's feeling for this film into words . xxmaj it 's not one of those films that tries too hard , nor does it come up with the xxunk possible scenarios to get the two protagonists together in the end . xxmaj in fact , all its charm is xxunk , contained within the characters and the setting and the plot … which is highly believable to xxunk . xxmaj it 's easy to think that such a love story , as beautiful as any other ever told , * could * happen to you … a feeling you do n't often get from other romantic comedies , however sweet and heart - warming they may be . \\n\\n xxmaj alfred xxmaj kralik ( james xxmaj stewart ) and xxmaj clara xxmaj xxunk ( margaret xxmaj xxunk ) do n't have the most xxunk of first xxunk when she arrives in the shop ( matuschek &amp; xxmaj co. ) he 's been working in for the past nine years , asking for a job . xxmaj they clash from the very beginning , mostly over a cigarette box that plays music when it 's opened -- he thinks it 's a ludicrous idea ; she makes one big sell of it and gets hired . xxmaj their bickering takes them through the next six months , even as they both ( xxunk , of course ! ) fall in love with each other when they share their souls and minds in letters passed through xxup xxunk xxmaj box xxunk . xxmaj this would be a pretty thin xxunk to base an entire film on , except that xxup the xxup shop xxup around xxup the xxup corner is xxunk xxunk - out with a brilliant supporting cast made up of entirely engaging characters , from the xxunk but lonely xxmaj hugo xxmaj matuschek ( frank xxmaj morgan ) himself , who learns that his shop really is his home ; xxmaj xxunk ( felix xxmaj xxunk ) , xxmaj kralik 's sidekick and friend who always xxunk out of the room when faced with the possibility of being asked for his honest opinion ; xxunk pimp - du - xxunk xxmaj xxunk ( joseph xxmaj xxunk ) who ultimately gets his comeuppance from a xxunk righteous xxmaj kralik ; and ambitious xxunk boy xxmaj xxunk xxmaj xxunk ( william xxmaj tracy ) who wants nothing more than to be promoted to the position of xxunk for xxmaj matuschek &amp; xxmaj co. xxmaj the xxunk love story between ' dear xxmaj friends ' is played out in this little shop in xxmaj budapest , xxmaj hungary , in which xxmaj kralik 's xxunk xxunk and subsequent xxunk to shop manager help the two xxunk - to - be along . xxmaj it 's nice that everyone gets a story in this film ; the supporting characters are well - developed , and xxmaj matuschek 's own journey in life is almost as touching as the one xxmaj alfred and xxmaj clara share . xxmaj his xxunk to new xxunk boy xxmaj xxunk ( charles xxmaj smith ) for xxmaj christmas xxmaj eve dinner , made in the xxunk , beautiful snow of a xxmaj hungarian winter , makes the audience glad that he is not alone ; we come to care even for the characters whose love story it is n't this film 's business to tell . \\n\\n xxmaj aside from the love story , i must say that xxmaj james xxmaj stewart is truly one of the best things about this film . xxmaj he does n't play the full - xxunk xxmaj jimmy xxmaj stewart persona in this film ( c / f ' mr xxmaj smith xxmaj goes xxmaj to xxmaj washington ' for that ) ; in fact xxmaj alfred xxmaj kralik is xxunk and abrupt and not particularly kind . xxmaj he 's rather a xxunk man , in fact , with little hint ( until , perhaps , the very end ) of the xxunk - xxunk down - home xxunk charm xxmaj stewart would soon come to xxunk . xxmaj when he finds out before xxmaj clara that they have been xxunk in secret , in fact , xxmaj kralik does n't ' xxunk up -- he xxunk it out to see how far he can take the xxunk , especially since he quickly realises ( given his stormy relationship with xxmaj clara as boss and xxunk ) that loving the person he knows through the xxunk letters might not xxunk with loving the person herself . xxmaj his description to xxmaj clara of the fictional xxmaj xxunk xxmaj xxunk ( what a name ! ) who was to become her xxunk is hilarious in the extreme , but also his way of proving that the letters do n't reveal all there is to a man , just as her letters do n't reveal all there is to her . xxmaj stewart plays this role perfectly -- he keeps his face perfectly controlled whenever xxmaj clara insults xxmaj mr . xxmaj kralik , as she is often wo nt to do , even ( and especially ) to his face . xxmaj and yet one believes , underneath the xxunk and xxunk , that he * could * reveal his identity with as much xxunk and xxunk and sheer * hope * as he eventually does . \\n\\n xxmaj special mention must be given to the other members of the cast as well . xxmaj margaret xxmaj xxunk xxunk rather less well in the first half of the film , but she really comes into her own in the closing - shop scene on xxmaj christmas xxmaj eve , when she almost gets her heart broken again by xxmaj alfred 's most vivid description of her xxunk xxunk . xxmaj frank xxmaj morgan turns in a great performance as the jealous xxmaj hugo xxmaj matuschek driven to nervous breakdown , the man who has to xxunk his meaning in life when he realises that his wife of 22 years does not want to ' grow old with him ' . xxmaj and xxmaj felix xxmaj xxunk plays the role of the meek but xxunk xxmaj xxunk wonderfully ( a xxmaj lubitsch regular , since he appears as a hilarious xxmaj russian xxunk in xxunk particular note is the scene in which he helps his good friend xxmaj alfred get the xxmaj christmas present the latter * really * wants … a wallet instead of that ludicrous cigarette box xxmaj clara is so hung up on . \\n\\n xxmaj xxunk xxmaj lubitsch really does himself proud with this film -- for example , the famously xxunk and xxunk care given to detail in the creation of the xxmaj matuschek shop is well worth the effort , right down to the xxmaj hungarian names on the door , the xxunk and the cash xxunk and so on . xxmaj but even though xxmaj lubitsch chose to have the story set in xxmaj hungary , the setting is actually universal : it could happen anywhere ; it could happen to you . xxmaj xxunk lies the charm of this simple story , these believable characters who really * are * people . xxmaj the snow on xxmaj christmas xxmaj eve is real as well , or at least as real as xxmaj lubitsch could make it ( he had snow machines brought in at great expense ) . xxmaj it is this desire to make everything appear as real as possible that helps make the story even more believable , that gives this entire film a dreamy realism that can not be xxunk . ( no , not even in a remake like xxup you 've xxup got xxup mail . ) \\n\\n * this * is really the xxmaj jimmy xxmaj stewart xxmaj christmas film that people are missing out on when they talk about xxup it 's a xxup wonderful xxup life . xxmaj not to xxunk from the merits of that other film , but there 'd be no harm , and in fact a lot of good , done in watching xxup the xxup shop xxup around xxup the xxup corner this xxmaj christmas instead . xxmaj it 's sweet , funny , charming , and xxmaj stewart is xxunk in his role . xxmaj we should all be so lucky as to have the romance depicted in this film ; the best thing about this film is that we come away from it feeling that we very possibly could .</td>\n",
       "      <td>positive</td>\n",
       "    </tr>\n",
       "  </tbody>\n",
       "</table>"
      ],
      "text/plain": [
       "<IPython.core.display.HTML object>"
      ]
     },
     "metadata": {},
     "output_type": "display_data"
    }
   ],
   "source": [
    "dbunch.show_batch(max_n=2)"
   ]
  },
  {
   "cell_type": "markdown",
   "metadata": {},
   "source": [
    "Then we once again have a convenience function to create a classifier from this `DataBunch` with the `AWD_LSTM` architecture."
   ]
  },
  {
   "cell_type": "code",
   "execution_count": null,
   "metadata": {},
   "outputs": [],
   "source": [
    "learn = text_classifier_learner(dbunch, AWD_LSTM, vocab, metrics=[accuracy], path=path, opt_func=Adam, drop_mult=0.5)"
   ]
  },
  {
   "cell_type": "code",
   "execution_count": null,
   "metadata": {},
   "outputs": [],
   "source": [
    "learn = learn.load_encoder('enc1')"
   ]
  },
  {
   "cell_type": "markdown",
   "metadata": {},
   "source": [
    "Then we can train with gradual unfreezing and differential learning rates."
   ]
  },
  {
   "cell_type": "code",
   "execution_count": null,
   "metadata": {},
   "outputs": [
    {
     "data": {
      "text/html": [
       "<table border=\"1\" class=\"dataframe\">\n",
       "  <thead>\n",
       "    <tr style=\"text-align: left;\">\n",
       "      <th>epoch</th>\n",
       "      <th>train_loss</th>\n",
       "      <th>valid_loss</th>\n",
       "      <th>accuracy</th>\n",
       "      <th>time</th>\n",
       "    </tr>\n",
       "  </thead>\n",
       "  <tbody>\n",
       "    <tr>\n",
       "      <td>0</td>\n",
       "      <td>0.698546</td>\n",
       "      <td>0.487028</td>\n",
       "      <td>0.785000</td>\n",
       "      <td>00:07</td>\n",
       "    </tr>\n",
       "    <tr>\n",
       "      <td>1</td>\n",
       "      <td>0.600086</td>\n",
       "      <td>0.660895</td>\n",
       "      <td>0.660000</td>\n",
       "      <td>00:07</td>\n",
       "    </tr>\n",
       "    <tr>\n",
       "      <td>2</td>\n",
       "      <td>0.568550</td>\n",
       "      <td>0.569848</td>\n",
       "      <td>0.720000</td>\n",
       "      <td>00:07</td>\n",
       "    </tr>\n",
       "    <tr>\n",
       "      <td>3</td>\n",
       "      <td>0.532045</td>\n",
       "      <td>0.428218</td>\n",
       "      <td>0.825000</td>\n",
       "      <td>00:08</td>\n",
       "    </tr>\n",
       "  </tbody>\n",
       "</table>"
      ],
      "text/plain": [
       "<IPython.core.display.HTML object>"
      ]
     },
     "metadata": {},
     "output_type": "display_data"
    }
   ],
   "source": [
    "learn.fit_one_cycle(4, moms=(0.8,0.7,0.8))"
   ]
  },
  {
   "cell_type": "code",
   "execution_count": null,
   "metadata": {},
   "outputs": [
    {
     "data": {
      "text/html": [
       "<table border=\"1\" class=\"dataframe\">\n",
       "  <thead>\n",
       "    <tr style=\"text-align: left;\">\n",
       "      <th>epoch</th>\n",
       "      <th>train_loss</th>\n",
       "      <th>valid_loss</th>\n",
       "      <th>accuracy</th>\n",
       "      <th>time</th>\n",
       "    </tr>\n",
       "  </thead>\n",
       "  <tbody>\n",
       "    <tr>\n",
       "      <td>0</td>\n",
       "      <td>0.507307</td>\n",
       "      <td>0.429496</td>\n",
       "      <td>0.825000</td>\n",
       "      <td>00:13</td>\n",
       "    </tr>\n",
       "    <tr>\n",
       "      <td>1</td>\n",
       "      <td>0.487505</td>\n",
       "      <td>0.494553</td>\n",
       "      <td>0.785000</td>\n",
       "      <td>00:13</td>\n",
       "    </tr>\n",
       "    <tr>\n",
       "      <td>2</td>\n",
       "      <td>0.426333</td>\n",
       "      <td>0.514599</td>\n",
       "      <td>0.760000</td>\n",
       "      <td>00:11</td>\n",
       "    </tr>\n",
       "    <tr>\n",
       "      <td>3</td>\n",
       "      <td>0.418519</td>\n",
       "      <td>0.562140</td>\n",
       "      <td>0.740000</td>\n",
       "      <td>00:12</td>\n",
       "    </tr>\n",
       "    <tr>\n",
       "      <td>4</td>\n",
       "      <td>0.378008</td>\n",
       "      <td>0.409083</td>\n",
       "      <td>0.820000</td>\n",
       "      <td>00:12</td>\n",
       "    </tr>\n",
       "    <tr>\n",
       "      <td>5</td>\n",
       "      <td>0.353564</td>\n",
       "      <td>0.450574</td>\n",
       "      <td>0.780000</td>\n",
       "      <td>00:12</td>\n",
       "    </tr>\n",
       "    <tr>\n",
       "      <td>6</td>\n",
       "      <td>0.328739</td>\n",
       "      <td>0.419782</td>\n",
       "      <td>0.825000</td>\n",
       "      <td>00:12</td>\n",
       "    </tr>\n",
       "    <tr>\n",
       "      <td>7</td>\n",
       "      <td>0.305973</td>\n",
       "      <td>0.420027</td>\n",
       "      <td>0.830000</td>\n",
       "      <td>00:14</td>\n",
       "    </tr>\n",
       "  </tbody>\n",
       "</table>"
      ],
      "text/plain": [
       "<IPython.core.display.HTML object>"
      ]
     },
     "metadata": {},
     "output_type": "display_data"
    }
   ],
   "source": [
    "learn.unfreeze()\n",
    "learn.opt = learn.create_opt()\n",
    "learn.fit_one_cycle(8, slice(1e-5,1e-3), moms=(0.8,0.7,0.8))"
   ]
  },
  {
   "cell_type": "code",
   "execution_count": null,
   "metadata": {},
   "outputs": [
    {
     "data": {
      "text/html": [],
      "text/plain": [
       "<IPython.core.display.HTML object>"
      ]
     },
     "metadata": {},
     "output_type": "display_data"
    },
    {
     "data": {
      "text/html": [
       "<table border=\"1\" class=\"dataframe\">\n",
       "  <thead>\n",
       "    <tr style=\"text-align: right;\">\n",
       "      <th></th>\n",
       "      <th>text</th>\n",
       "      <th>category</th>\n",
       "      <th>category_</th>\n",
       "    </tr>\n",
       "  </thead>\n",
       "  <tbody>\n",
       "    <tr>\n",
       "      <th>0</th>\n",
       "      <td>xxbos xxmaj raising xxmaj victor xxmaj vargas : a xxmaj review \\n\\n xxmaj you know , xxmaj raising xxmaj victor xxmaj vargas is like sticking your hands into a big , xxunk bowl of xxunk . xxmaj it 's warm and gooey , but you 're not sure if it feels right . xxmaj try as i might , no matter how warm and gooey xxmaj raising xxmaj victor xxmaj vargas became i was always aware that something did n't quite feel right . xxmaj victor xxmaj vargas suffers from a certain xxunk on the director 's part . xxmaj apparently , the director thought that the ethnic backdrop of a xxmaj latino family on the lower east side , and an xxunk storyline would make the film critic proof . xxmaj he was right , but it did n't fool me . xxmaj raising xxmaj victor xxmaj vargas is the story about a xxunk - year old boy called , you guessed it , xxmaj victor xxmaj vargas ( victor xxmaj xxunk ) who lives his teenage years chasing more xxunk than the xxmaj rolling xxmaj xxunk could do in all the years they 've xxunk . xxmaj the movie starts off in ` ugly xxmaj fat ' xxmaj donna 's bedroom where xxmaj victor is sure to seduce her , but a cry from outside xxunk his plans when his best - friend xxmaj harold ( kevin xxmaj xxunk ) comes - a - looking for him . xxmaj caught in the attempt by xxmaj harold and his sister , xxmaj victor xxmaj vargas runs off for xxunk control . xxmaj yet even with the embarrassing implication that he 's been xxunk the xxunk girl in the neighborhood , nothing xxunk young xxmaj victor from going off on the hunt for more fresh meat . xxmaj on a hot , xxmaj new xxmaj york xxmaj city day they make way to the local public swimming pool where xxmaj victor 's eyes catch a glimpse of the lovely young xxunk xxmaj judy ( judy xxmaj xxunk ) , who 's not just pretty , but a strong and independent too . xxmaj the relationship that develops between xxmaj victor and xxmaj judy becomes the focus of the film . xxmaj the story also focuses on xxmaj victor 's family that is comprised of his grandmother or xxunk ( xxunk xxmaj guzman ) , his brother xxmaj nino ( also played by real life brother to xxmaj victor , xxmaj xxunk xxmaj xxunk ) and his sister xxmaj vicky ( xxunk xxmaj xxunk ) . xxmaj the action follows xxmaj victor between scenes with xxmaj judy and scenes with his family . xxmaj victor tries to xxunk with being an oversexed pimp - daddy , his feelings for xxmaj judy and his grandmother 's conservative xxmaj catholic upbringing . \\n\\n xxmaj the problems that xxunk from xxmaj raising xxmaj victor xxmaj vargas are a few , but glaring errors . xxmaj throughout the film you get to know certain characters like xxmaj vicky , xxmaj nino , xxmaj xxunk , xxmaj judy and even xxmaj judy 's best friend xxmaj xxunk . xxmaj the problem is , we know nothing of xxmaj victor xxmaj vargas except that he is the biggest gigolo in the neighborhood . xxmaj we know that he knows how to lick his lips , and xxunk his xxunk , and carry himself for the sake of xxunk girls into the xxunk , but that 's all . xxmaj we know that xxmaj nino plays piano , and quiet well , you could see it by the awards on the family piano . xxmaj we know his sister xxmaj xxunk , is a gossip - loving girl with an xxunk interest in watching xxup tv . xxmaj we know that xxunk is a hard - working traditional xxmaj xxunk woman who 's trying to raise her kids with xxunk in a world of excess corruption . xxmaj yet where is the titular character , xxmaj victor xxmaj vargas ? xxmaj he 's in this movie somewhere , but we only know what the movie tells us . xxmaj this is by far the film 's biggest flaw . xxmaj victor xxmaj vargas is n't so much a character but a xxunk - xxunk ball , xxunk between scenes with xxmaj judy and his xxmaj grandmother , but we never get to know who xxmaj victor xxmaj vargas really is . xxmaj this is important because as xxmaj i 've mentioned the only thing we know of xxmaj victor xxmaj vargas is that he 's a sexually active teenager with a xxunk the size of xxmaj manhattan . xxmaj he 's a total xxmaj xxunk - male . xxmaj victor xxmaj vargas is not the kind of character i sympathize with at all . xxmaj why should anyone ? xxmaj so by the end of the movie , in the aftermath of the climax are we truly led to believe that somehow xxmaj victor xxmaj vargas has attained xxup any depth and learned the errors of his ways ? xxmaj how could such a two - dimensional character have any depth ? xxmaj if only the director had worried a little more about xxunk out his main character instead of worrying about getting that perfect hand - held shot . \\n\\n xxmaj raising xxmaj victor xxmaj vargas brings to life the world of the xxmaj latino inner - city neighborhood to the big screen . xxmaj something that few films have done before in the past . xxmaj the film has been xxunk for feeling so real , and i wo n't \\n\\n argue with that . i have n't seen this level of reality since xxup xxunk aired xxmaj survivor . xxmaj seriously , although the movie has some nice shots of the city , the writer / director xxmaj peter xxmaj sollett was way too xxunk on close - ups and hand - held shots . xxmaj this problem is particularly noticed in xxunk scenes that are so claustrophobic i was forced to perform deep - breathing xxunk to keep from passing out . xxmaj as the film continues , the shots get tighter and tighter with faces xxunk from xxunk to xxunk on the screen ; you can practically xxunk xxmaj victor xxmaj vargas 's cheap xxunk . xxmaj the overall effect is unrealistic in contrast . xxmaj the xxunk scenes of inner - city apartments make them look small and xxunk , which is not true . xxmaj i 've been in those type apartments ; i used to live in one . xxmaj they 're not xxunk but they have high xxunk and they 're decent living xxunk . xxmaj by the movie 's standards you 'd think that these apartments were xxunk xxunk of xxunk - and - xxunk , xxunk paint and xxunk walls . xxmaj unfortunately , xxmaj sollett 's constant use of close - ups and one particularly bad shot with a xxunk - in on one scene come off as totally amateurish . xxmaj but xxmaj raising xxmaj victor xxmaj vargas is only xxmaj sollett 's second film , and his most well known , a solid effort in filmmaking that will hopefully get better as he continues to make films . xxmaj one review i read xxunk the movie as , ` ethnicity for xxmaj ethnicity 's xxmaj sake , ' and i can not agree more . xxmaj if xxmaj victor xxmaj vargas were truly a great film and story , then the characters ' xxunk would n't matter whether they were xxmaj latino , xxmaj chinese , etc . xxmaj yet if you were to take this story and stick it in middle - class xxunk with a bunch of xxunk - xxunk white kids the results would n't be such glowing reviews , and we 'd see the film 's flaws more clearly . xxmaj indeed , some other aspects of the use of xxmaj latinos in this film bother me . xxmaj while some aspects of xxmaj victor xxmaj vargas are accurate others i have to question . xxmaj for example , xxmaj victor , xxmaj nino and xxmaj vicky all share the same room to sleep . xxmaj this set off an alarm for me because it seemed contrary to what i believe . xxmaj any self - xxunk xxmaj latino family would n't have two older brothers sharing the same room with a thirteen - year old girl . xxmaj at first i was xxunk , perhaps i was wrong , but after speaking with my grandmother i knew my problem with this was justified . xxmaj considering how conservative the grandmother is , you 'd think that xxmaj vicky would have been sleeping in her room . \\n\\n xxmaj as a xxmaj latino who grew up in a somewhat conservative xxmaj cuban household , raised by my grandmother while my mother was working full - time , i could relate to the movie in many ways , which is why my critical xxunk are xxunk because i really wanted to love this movie . xxmaj unfortunately , my lack of respect for xxmaj victor xxmaj vargas xxunk my feelings for the film . xxmaj maybe it 's because xxmaj victor xxmaj vargas reminds me of those guys who were getting laid while i was playing with my xxmaj xxunk xxmaj xxunk when i was xxunk . xxmaj maybe it 's because without any further xxunk by the film , xxmaj victor xxmaj vargas is merely a stereotypical hot - blooded xxmaj latino , who 'll just end up shouting to girls from his car , ` hey bay - xxunk , xxunk want to get into my xxunk xxunk - xxunk ? ' xxmaj either way i do n't like him , so ultimately how can i like a film about him ? xxmaj so if you 'll excuse me , xxmaj i 'm going to go stick my hands into a bowl of xxunk .</td>\n",
       "      <td>negative</td>\n",
       "      <td>negative</td>\n",
       "    </tr>\n",
       "    <tr>\n",
       "      <th>1</th>\n",
       "      <td>xxbos xxup the xxup shop xxup around xxup the xxup corner is one of the xxunk and most feel - good romantic comedies ever made . xxmaj there 's just no getting around that , and it 's hard to actually put one 's feeling for this film into words . xxmaj it 's not one of those films that tries too hard , nor does it come up with the xxunk possible scenarios to get the two protagonists together in the end . xxmaj in fact , all its charm is xxunk , contained within the characters and the setting and the plot … which is highly believable to xxunk . xxmaj it 's easy to think that such a love story , as beautiful as any other ever told , * could * happen to you … a feeling you do n't often get from other romantic comedies , however sweet and heart - warming they may be . \\n\\n xxmaj alfred xxmaj kralik ( james xxmaj stewart ) and xxmaj clara xxmaj xxunk ( margaret xxmaj xxunk ) do n't have the most xxunk of first xxunk when she arrives in the shop ( matuschek &amp; xxmaj co. ) he 's been working in for the past nine years , asking for a job . xxmaj they clash from the very beginning , mostly over a cigarette box that plays music when it 's opened -- he thinks it 's a ludicrous idea ; she makes one big sell of it and gets hired . xxmaj their bickering takes them through the next six months , even as they both ( xxunk , of course ! ) fall in love with each other when they share their souls and minds in letters passed through xxup xxunk xxmaj box xxunk . xxmaj this would be a pretty thin xxunk to base an entire film on , except that xxup the xxup shop xxup around xxup the xxup corner is xxunk xxunk - out with a brilliant supporting cast made up of entirely engaging characters , from the xxunk but lonely xxmaj hugo xxmaj matuschek ( frank xxmaj morgan ) himself , who learns that his shop really is his home ; xxmaj xxunk ( felix xxmaj xxunk ) , xxmaj kralik 's sidekick and friend who always xxunk out of the room when faced with the possibility of being asked for his honest opinion ; xxunk pimp - du - xxunk xxmaj xxunk ( joseph xxmaj xxunk ) who ultimately gets his comeuppance from a xxunk righteous xxmaj kralik ; and ambitious xxunk boy xxmaj xxunk xxmaj xxunk ( william xxmaj tracy ) who wants nothing more than to be promoted to the position of xxunk for xxmaj matuschek &amp; xxmaj co. xxmaj the xxunk love story between ' dear xxmaj friends ' is played out in this little shop in xxmaj budapest , xxmaj hungary , in which xxmaj kralik 's xxunk xxunk and subsequent xxunk to shop manager help the two xxunk - to - be along . xxmaj it 's nice that everyone gets a story in this film ; the supporting characters are well - developed , and xxmaj matuschek 's own journey in life is almost as touching as the one xxmaj alfred and xxmaj clara share . xxmaj his xxunk to new xxunk boy xxmaj xxunk ( charles xxmaj smith ) for xxmaj christmas xxmaj eve dinner , made in the xxunk , beautiful snow of a xxmaj hungarian winter , makes the audience glad that he is not alone ; we come to care even for the characters whose love story it is n't this film 's business to tell . \\n\\n xxmaj aside from the love story , i must say that xxmaj james xxmaj stewart is truly one of the best things about this film . xxmaj he does n't play the full - xxunk xxmaj jimmy xxmaj stewart persona in this film ( c / f ' mr xxmaj smith xxmaj goes xxmaj to xxmaj washington ' for that ) ; in fact xxmaj alfred xxmaj kralik is xxunk and abrupt and not particularly kind . xxmaj he 's rather a xxunk man , in fact , with little hint ( until , perhaps , the very end ) of the xxunk - xxunk down - home xxunk charm xxmaj stewart would soon come to xxunk . xxmaj when he finds out before xxmaj clara that they have been xxunk in secret , in fact , xxmaj kralik does n't ' xxunk up -- he xxunk it out to see how far he can take the xxunk , especially since he quickly realises ( given his stormy relationship with xxmaj clara as boss and xxunk ) that loving the person he knows through the xxunk letters might not xxunk with loving the person herself . xxmaj his description to xxmaj clara of the fictional xxmaj xxunk xxmaj xxunk ( what a name ! ) who was to become her xxunk is hilarious in the extreme , but also his way of proving that the letters do n't reveal all there is to a man , just as her letters do n't reveal all there is to her . xxmaj stewart plays this role perfectly -- he keeps his face perfectly controlled whenever xxmaj clara insults xxmaj mr . xxmaj kralik , as she is often wo nt to do , even ( and especially ) to his face . xxmaj and yet one believes , underneath the xxunk and xxunk , that he * could * reveal his identity with as much xxunk and xxunk and sheer * hope * as he eventually does . \\n\\n xxmaj special mention must be given to the other members of the cast as well . xxmaj margaret xxmaj xxunk xxunk rather less well in the first half of the film , but she really comes into her own in the closing - shop scene on xxmaj christmas xxmaj eve , when she almost gets her heart broken again by xxmaj alfred 's most vivid description of her xxunk xxunk . xxmaj frank xxmaj morgan turns in a great performance as the jealous xxmaj hugo xxmaj matuschek driven to nervous breakdown , the man who has to xxunk his meaning in life when he realises that his wife of 22 years does not want to ' grow old with him ' . xxmaj and xxmaj felix xxmaj xxunk plays the role of the meek but xxunk xxmaj xxunk wonderfully ( a xxmaj lubitsch regular , since he appears as a hilarious xxmaj russian xxunk in xxunk particular note is the scene in which he helps his good friend xxmaj alfred get the xxmaj christmas present the latter * really * wants … a wallet instead of that ludicrous cigarette box xxmaj clara is so hung up on . \\n\\n xxmaj xxunk xxmaj lubitsch really does himself proud with this film -- for example , the famously xxunk and xxunk care given to detail in the creation of the xxmaj matuschek shop is well worth the effort , right down to the xxmaj hungarian names on the door , the xxunk and the cash xxunk and so on . xxmaj but even though xxmaj lubitsch chose to have the story set in xxmaj hungary , the setting is actually universal : it could happen anywhere ; it could happen to you . xxmaj xxunk lies the charm of this simple story , these believable characters who really * are * people . xxmaj the snow on xxmaj christmas xxmaj eve is real as well , or at least as real as xxmaj lubitsch could make it ( he had snow machines brought in at great expense ) . xxmaj it is this desire to make everything appear as real as possible that helps make the story even more believable , that gives this entire film a dreamy realism that can not be xxunk . ( no , not even in a remake like xxup you 've xxup got xxup mail . ) \\n\\n * this * is really the xxmaj jimmy xxmaj stewart xxmaj christmas film that people are missing out on when they talk about xxup it 's a xxup wonderful xxup life . xxmaj not to xxunk from the merits of that other film , but there 'd be no harm , and in fact a lot of good , done in watching xxup the xxup shop xxup around xxup the xxup corner this xxmaj christmas instead . xxmaj it 's sweet , funny , charming , and xxmaj stewart is xxunk in his role . xxmaj we should all be so lucky as to have the romance depicted in this film ; the best thing about this film is that we come away from it feeling that we very possibly could .</td>\n",
       "      <td>positive</td>\n",
       "      <td>positive</td>\n",
       "    </tr>\n",
       "    <tr>\n",
       "      <th>2</th>\n",
       "      <td>xxbos xxmaj now that xxmaj che(2008 ) has finished its relatively short xxmaj australian cinema run ( extremely limited xxunk screen in xxmaj xxunk , after xxunk ) , i can xxunk join both xxunk of \" at xxmaj the xxmaj movies \" in taking xxmaj steven xxmaj soderbergh to task . \\n\\n xxmaj it 's usually satisfying to watch a film director change his style / subject , but xxmaj soderbergh 's most recent stinker , xxmaj the xxmaj girlfriend xxmaj xxunk ) , was also missing a story , so narrative ( and editing ? ) seem to suddenly be xxmaj soderbergh 's main challenge . xxmaj strange , after xxunk years in the business . xxmaj he was probably never much good at narrative , just xxunk it well inside \" edgy \" projects . \\n\\n xxmaj none of this excuses him this present , almost diabolical failure . xxmaj as xxmaj david xxmaj stratton xxunk , \" two parts of xxmaj che do n't ( even ) make a whole \" . \\n\\n xxmaj epic xxunk in name only , xxmaj che(2008 ) barely qualifies as a feature film ! xxmaj it certainly has no legs , xxunk as except for its xxunk ultimate resolution forced upon it by history , xxmaj soderbergh 's xxunk - long xxunk just goes nowhere . \\n\\n xxmaj even xxmaj margaret xxmaj xxunk , the more xxunk of xxmaj australia 's xxmaj at xxmaj the xxmaj movies duo , noted about xxmaj soderbergh 's xxunk waste of ( xxunk digital xxunk ) : \" you 're in the woods … you 're in the woods … you 're in the woods … \" . i too am surprised xxmaj soderbergh did n't give us another xxunk of xxup that somewhere between his xxunk two xxmaj parts , because he still left out massive xxunk of xxmaj che 's \" xxunk \" life ! \\n\\n xxmaj for a xxunk of an important but infamous historical figure , xxmaj soderbergh xxunk xxunk , if not deliberately insults , his audiences by \\n\\n 1 . never providing most of xxmaj che 's story ; \\n\\n 2 . xxunk xxunk film xxunk with mere xxunk xxunk ; \\n\\n 3 . xxunk both true hindsight and a narrative of events ; \\n\\n 4 . barely developing an idea , or a character ; \\n\\n 5 . remaining xxunk episodic ; \\n\\n 6 . xxunk proper context for scenes xxrep 3 - whatever we do get is xxunk in xxunk xxunk ; \\n\\n 7 . xxunk xxunk all audiences ( even xxmaj spanish - xxunk will be confused by the xxunk xxunk in xxmaj english ) ; and \\n\\n 8 . xxunk xxunk his main subject into one dimension . xxmaj why , at xxup this late stage ? xxmaj the xxmaj t - shirt franchise has been a success ! \\n\\n xxmaj our sense of xxunk is surely due to xxmaj peter xxmaj xxunk and xxmaj benjamin xxunk xxmaj xxunk xxunk their screenplay solely on xxmaj xxunk 's memoirs . xxmaj so , like a poor student who has read only xxup one of his xxunk xxunk for his xxunk , xxmaj soderbergh 's product is xxunk limited in perspective . \\n\\n xxmaj the audience is held captive within the same xxunk knowledge , scenery and circumstances of the \" revolutionaries \" , but that does n't xxunk our sympathy . xxmaj instead , it xxunk on us that \" ah , xxmaj soderbergh 's trying to xxunk his audiences the same as the xxmaj latino peasants were at the time \" . xxmaj but these are the xxup same illiterate xxmaj latino peasants who sold out the good doctor to his enemies . xxmaj why does xxmaj soderbergh feel the need to xxunk us with them , and keep us equally mentally captive ? xxmaj such audience xxunk must have a purpose . \\n\\n xxmaj part2 is more xxunk than xxmaj part1 , but it 's literally mind - numbing with its repetitive bush - bashing , misery of outlook , and lack of variety or character xxunk . deltoro 's xxmaj che has no opportunity to grow as a person while he struggles to xxunk his own ill - xxunk troops . xxmaj the only xxunk is the humour as xxmaj che deals with his sometimes deeply ignorant \" revolutionaries \" , some of whom xxunk lack self - control around local peasants or food . xxmaj we certainly get no insight into what caused the conditions , nor any xxunk xxunk of their xxunk xxunk , such as it was . \\n\\n xxmaj part2 's excruciating xxunk remains xxunk episodic : again , nothing is telegraphed or xxunk . xxmaj thus even the scenes with xxmaj xxunk xxmaj xxunk ( xxunk xxmaj xxunk ) are unexpected and disconcerting . xxmaj any xxunk events are portrayed xxunk and xxmaj latino - xxunk , with xxmaj part1 's interviews replaced by time - xxunk xxunk between the corrupt xxmaj xxunk president ( xxunk de xxmaj xxunk ) and xxup us xxmaj government xxunk promising xxup cia xxunk ( ! ) . \\n\\n xxmaj the rest of xxmaj part2 's \" woods \" and day - for - night blue xxunk just xxunk the audience until they 're xxunk the xxunk . \\n\\n xxmaj perhaps deltoro felt too xxunk the frustration of many non - american xxmaj latinos about never getting a truthful , xxunk history of xxmaj che 's exploits within their own countries . xxmaj when foreign xxunk still wo n't deliver a free press to their people -- for whatever reason -- then one can see how a popular xxmaj american indie producer might set out to entice the not - so - well - read ( \" i may not be able to read or write , but xxmaj i 'm xxup not xxunk xxmaj inspector xxmaj xxunk ) ) out to their own local cinemas . xxmaj the film 's obvious xxunk and gross over - xxunk hint very strongly that it 's aiming only at the xxunk of the less - informed xxup who xxup still xxup speak xxup little xxmaj english . xxmaj if they did , they 'd have read xxunk on the subject already , and xxunk the relevant social issues amongst themselves -- learning the lessons of history as they should . \\n\\n xxmaj such insights are precisely what societies still need -- and not just the remaining illiterate xxmaj latinos of xxmaj central and xxmaj south xxmaj america -- yet it 's what xxmaj che(2008 ) xxunk fails to deliver . xxmaj soderbergh xxunk his lead because he 's weak on narrative . i am xxunk why xxmaj xxunk deltoro deliberately chose xxmaj soderbergh for this project if he knew this . xxmaj it 's been xxunk , hindsight about xxmaj xxunk was xxunk wanted : it 's what i went to see this film for , but the director xxunk robs us of that . \\n\\n xxmaj david xxmaj stratton , writing in xxmaj the xxmaj australian ( xxunk ) observed that while xxmaj part1 was \" uneven \" , xxmaj part2 actually \" goes rapidly downhill \" from there , \" xxunk xxmaj che 's final campaign in xxmaj xxunk in excruciating detail \" , which \" … feels almost unbearably slow and turgid \" . \\n\\n che : the xxmaj xxunk aka xxmaj part2 is certainly no xxunk for xxmaj xxunk , painting it a picture of misery and xxunk . xxmaj the entire second half is only redeemed by the aforementioned humour , and the dramatic -- yet tragic -- capture and execution of the film 's subject . \\n\\n xxmaj the rest of this xxunk cinema xxunk is just confusing , irritating misery -- xxunk , for a xxmaj soderbergh film , to be avoided at all costs . xxmaj it is bound to break the hearts of all who know even just a xxunk about the xxunk / 10 )</td>\n",
       "      <td>negative</td>\n",
       "      <td>negative</td>\n",
       "    </tr>\n",
       "    <tr>\n",
       "      <th>3</th>\n",
       "      <td>xxbos xxmaj this film sat on my xxmaj xxunk for weeks before i watched it . i xxunk a self - indulgent xxunk flick about relationships gone bad . i was wrong ; this was an xxunk xxunk into the screwed - up xxunk of xxmaj new xxmaj xxunk . \\n\\n xxmaj the format is the same as xxmaj max xxmaj xxunk ' \" la xxmaj xxunk , \" based on a play by xxmaj arthur xxmaj xxunk , who is given an \" inspired by \" credit . xxmaj it starts from one person , a prostitute , standing on a street corner in xxmaj brooklyn . xxmaj she is picked up by a home contractor , who has sex with her on the hood of a car , but ca n't come . xxmaj he refuses to pay her . xxmaj when he 's off xxunk , she answers his cell phone and takes a message . xxmaj she runs away with his keys . \\n\\n xxmaj then the story switches to the contractor , who pays a professional call on a rich , bored xxmaj new xxmaj york woman , who plays with him until he is xxunk , then she pulls away . xxmaj she tells him how desperate and unhappy she is ; he tells her how beautiful she is , and lucky . xxmaj as he is leaving , she asks if he would have sex with her . xxmaj she sits on top of him , xxunk up and down . xxmaj this time he comes , the he leaves . \\n\\n xxmaj the woman and her husband throw a dinner party for their xxunk friends . xxmaj xxunk ( robert ) is talking business , wife ( ellen ) is bored , and switches the subject to sex , and how often men and women think about it . xxmaj husband switches conversation to desert . xxmaj later , after the xxunk leave , xxmaj ellen tries to entice xxmaj robert into sex . xxmaj robert wants none of it , and puts on a jazz record . xxmaj ellen turns on the radio ; xxmaj robert turns up the music ; xxmaj ellen turns on the xxup tv ; xxmaj robert turns on another xxup tv . xxmaj xxunk ensues . xxmaj ellen goes up on the roof , xxmaj robert joins her . xxmaj ellen confesses that she needs to experience more men , men other than xxmaj robert . xxmaj robert says that he too needs to experience men . \\n\\n xxmaj we next follow xxmaj robert as he visits an artist , xxmaj martin , played by xxmaj steve xxmaj buscemi . i wish xxmaj buscemi could have more roles like this , where he is a sexy , smart , totally xxunk guy . xxmaj robert xxunk xxmaj martin 's work , much more than it deserves , xxunk to get it into a show . xxmaj martin is excited , until it turns out that xxmaj robert is speaking out of his xxunk , it is all a xxunk dance . xxmaj robert tries to kiss xxmaj martin , on the lips , and xxmaj martin pulls back , saying that he is not gay . xxmaj robert xxunk that he 's not gay either , xxmaj martin xxunk . xxmaj both admit that the xxunk are bad . xxmaj robert is about to leave , when xxmaj martin allows xxmaj robert to kiss him . xxmaj they make out , and xxmaj robert goes down on xxmaj martin . \\n\\n xxmaj next we follow xxmaj martin , as he xxunk for an art show at a xxmaj manhattan gallery . xxmaj he is xxunk by the xxunk , xxmaj anna , played by xxmaj rosario xxmaj dawson . ( i had to cut some of this review to keep it under 1 xxrep 3 0 words ) … and they make love to each other . \\n\\n xxmaj we next follow xxmaj anna , who is sitting at a lunch stand . xxmaj her boyfriend , xxmaj nick ( adrian xxmaj xxunk ) , enters , bearing xxunk . xxmaj she is cold toward him ; he tries to figure out why . xxmaj he coaxes out of her the information that she has had sex with someone while he was in xxmaj san xxmaj francisco . xxmaj she coaxes out of him the fact that he has stayed with his ex - xxunk while in xxmaj san xxmaj francisco , and had sex with her . xxmaj the latter revelation turns out to be a lie . xxmaj the two of them make out in the xxunk , but she decides that they must break up . xxmaj nick is xxunk . \\n\\n xxmaj and we follow xxmaj nick , who confesses his xxunk to an older woman who he meets on a park bench , xxmaj joey ( carol xxmaj kane ) . xxmaj joey is sort of weird and child - like , but is a good audience for xxmaj nick , who needs a sympathetic ear . xxmaj the two of them go to xxmaj xxunk xxmaj island at night , and look at the stars . xxmaj nick falls under xxmaj joey 's spell , despite the age difference between them . xxmaj they go back to xxmaj joey 's apartment , and xxmaj nick gradually realizes that he is about to have sex with a crazy old woman . xxmaj she is on top of him , does n't want to let him go . xxmaj but he manages to escape . \\n\\n ( this is , by the way , the best xxmaj carol xxmaj kane role since she played xxmaj xxunk 's wife in xxmaj taxi . ) xxmaj joey 's phone rings , and it is a man calling the xxmaj psychic xxmaj friends xxmaj network , and xxmaj joey is one of the psychic friends . xxmaj although she is still hurting from xxmaj nick , she gradually gets into her psychic xxunk . xxmaj the man is at his office , late at night , and wants to have phone sex with her . xxmaj although that is not xxmaj joey 's business , xxmaj joey goes along , and coaxes the man to come . xxmaj she wants to keep talking , although the man want to get off the phone , and finds out that he has xxunk a lot of money from his company , and will be found out xxunk . xxmaj his life is ruined . xxmaj joey realizes that the man is going to commit suicide , and she tries to make him believe that she is his friend , that she cares about him . xxmaj and she does care about him . \\n\\n xxmaj but the man packs a gun into his xxunk , and goes off to seek a prostitute on the xxmaj brooklyn xxunk , and we come back to the beginning , to the same prostitute who started out xxmaj la xxmaj xxunk . xxmaj she wants to give him $ xxunk , xxrep 3 0 in cash if she will kill him . xxmaj he tried to kill himself , but could n't do it . xxmaj the prostitute does not want to do it , but he insists , holding her hand , holding the gun inside his mouth , telling her where to aim . xxmaj eventually , the gun goes off , and we see the prostitute walking down the street , and xxunk at the corner where she normally does business . xxmaj the contractor who did n't pay her earlier in the movie drives up , xxunk down the window . xxmaj they look at each other . xxup the xxup end .</td>\n",
       "      <td>positive</td>\n",
       "      <td>positive</td>\n",
       "    </tr>\n",
       "    <tr>\n",
       "      <th>4</th>\n",
       "      <td>xxbos i really wanted to love this show . i truly , honestly did . \\n\\n xxmaj for the first time , gay viewers get their own version of the \" the xxmaj bachelor \" . xxmaj with the help of his obligatory \" hag \" xxmaj xxunk , xxmaj james , a good looking , well - to - do thirty - something has the chance of love with 15 suitors ( or \" mates \" as they are referred to in the show ) . xxmaj the only problem is half of them are straight and xxmaj james does n't know this . xxmaj if xxmaj james picks a gay one , they get a trip to xxmaj new xxmaj zealand , and xxmaj if he picks a straight one , straight guy gets $ 25 , xxrep 3 0 . xxmaj how can this not be fun ? ! xxmaj take my hand , lets xxunk : \\n\\n xxmaj the most glaring problem with this show is the bachelor himself . xxmaj james is your typical young and successful gay guy with a nice smile and body , the one you 'd probably give two glances towards at your local bar before xxunk for xxunk xxunk . xxmaj why they chose to cast xxmaj james as the leading man is beyond me . xxmaj god knows there 's so many other hotter and xxunk homosexual men out there dying to be on xxup tv . \\n\\n xxmaj aside from his rather average physical appearance , xxmaj james is about as interesting and exciting as a piece of chalk . xxmaj even as such , he has this arrogant , xxunk xxunk xxunk about him . xxmaj however , if xxmaj james were standing up against a blank , white wall he 'd xxunk right into in it . i honestly ca n't recall a single interesting or xxunk thing xxmaj james said during the course of the show . xxmaj he is xxup that boring and forgettable . xxmaj in fact , one of the mates flat out xxunk him he was n't feeling a connection . i thought that was the best part of the show . xxmaj also , xxmaj james speaks with an excruciatingly annoying xxunk . xxmaj sound feminine or sound xxunk , but do n't xxrep 4 * xxunk xxunk xxunk in the middle of sentences … so painful to sit through . i hated him so much all throughout the show i kept thinking , \" please choose a straight guy and xxunk yourself and your unfortunate looking hag \" \\n\\n xxmaj then we have the suitors . a remarkably bland bunch of men who do n't seem to care either way what is happening . xxmaj equally xxunk , they seem to be xxunk from one guy to the next except , \" hey that guy has blond highlights or oh that one has curly hair \" xxmaj again , xxunk inept casting decisions seem to be the aim of this show . xxmaj while it may be hackneyed to type cast roles , it would 've been a lot more entertaining to watch than these xxunk drones . xxmaj however , in all their xxunk they still manage to upstage xxmaj james ( which is n't all that hard to do anyway ) , slightly that is . xxmaj you know you have a problem when some of the suitors are actually hotter and more interesting than the leading man . xxmaj and the fact that the suitors seem to have more fun around xxup each xxup other than with the leading man ? xxmaj very sad . \\n\\n xxmaj also , i just thought that xxmaj i d point something mentioned on the message xxunk which i felt was actually true : the straight men are all hotter than the gay guys . \\n\\n xxmaj do n't get me wrong , xxmaj i m not saying all the gay guys were ugly and boring , as a matter of fact i found some of them very cute . xxmaj it 's just that overall they were just xxup blah compared to the men you 'd see on shows like a xxmaj shot xxmaj at xxmaj love with xxmaj xxunk xxmaj xxunk or xxmaj the xxmaj xxunk . \\n\\n i do n't know how many times i hit fast forward during this show . i can accept a lead character as interesting as a cardboard box , i can accept the xxunk , xxunk suitors but xxup please for the love of xxmaj god entertain me just a little . xxmaj no such luck . \\n\\n xxmaj if you 're expecting drama , intrigue , xxunk , or excitement you will be xxup severely disappointed . xxmaj the biggest \" drama \" comes from the fact that one of the suitors still may have a boyfriend in xxmaj new xxmaj york ( how xxunk ! ) . xxmaj as xxunk as that may be i guarantee you , that is the xxup only thing that remotely resembles any conflict on this show . \\n\\n xxmaj sure there is the twist , but if you have any semblance of xxmaj xxunk in you , you 'll easily xxunk who 's who ( it was n't hard at all , i was only wrong once . ) xxmaj this show is stacking so much of its xxunk on the twist that it fails to deliver anywhere else . \\n\\n xxmaj we get to watch as xxmaj james &amp; xxmaj co xxunk along such exciting activities such as learning how to xxmaj western step dance , shopping for xxunk , visiting a xxunk xxunk , and gay xxunk . xxup yawn . xxmaj sure you have the occasional topless dancing but who cares when everyone is boring anyway . xxmaj that 's one of main problems with the show : xxup no xxup one seems to be enjoying themselves -- they are there just going through the motion trying xxunk hard to appear to have a good time . xxmaj and you really ca nt blame them since the events are all wildly unimaginative and lame . \\n\\n xxmaj finally , the physical aspect is not there . xxmaj there 's no xxunk , no xxunk , no kissing ( ! ) , no xxunk of any sort . xxmaj it 's just \" ok that was a boring date , xxmaj i m gon na go back to my ugly , tacky wanna - be xxmaj xxunk xxmaj xxunk dwelling ( quick xxunk on the lips ) xxup xxunk . \" xxmaj this show is so xxrep 4 * xxunk xxunk it 's ridiculous . i can understand them not wanting to play up the xxunk xxunk nature of homosexual men , but come the xxrep 4 * on . xxmaj people who watch reality xxup tv shows are gon na want more than xxunk xxunk and xxunk kisses . xxmaj this show refuses to compromise . \\n\\n xxmaj sorry if this was long winded but i felt these were issues that needed to be xxunk . i do commend xxmaj bravo for first putting up a show of this nature , but the xxunk incompetent manner in which this show was handled is mind xxunk . xxmaj to summarize my three points : xxmaj boring + xxmaj boring + xxmaj boring = go do something else . xxmaj you 'll have more fun waiting at a doctor 's office for an xxunk , at least they have interesting xxunk there .</td>\n",
       "      <td>negative</td>\n",
       "      <td>negative</td>\n",
       "    </tr>\n",
       "  </tbody>\n",
       "</table>"
      ],
      "text/plain": [
       "<IPython.core.display.HTML object>"
      ]
     },
     "metadata": {},
     "output_type": "display_data"
    }
   ],
   "source": [
    "learn.show_results(max_n=5)"
   ]
  },
  {
   "cell_type": "code",
   "execution_count": null,
   "metadata": {},
   "outputs": [],
   "source": [
    "from local.interpret import *"
   ]
  },
  {
   "cell_type": "code",
   "execution_count": null,
   "metadata": {},
   "outputs": [
    {
     "data": {
      "text/html": [],
      "text/plain": [
       "<IPython.core.display.HTML object>"
      ]
     },
     "metadata": {},
     "output_type": "display_data"
    }
   ],
   "source": [
    "interp = Interpretation.from_learner(learn)"
   ]
  },
  {
   "cell_type": "code",
   "execution_count": null,
   "metadata": {},
   "outputs": [
    {
     "data": {
      "text/html": [
       "<table border=\"1\" class=\"dataframe\">\n",
       "  <thead>\n",
       "    <tr style=\"text-align: right;\">\n",
       "      <th></th>\n",
       "      <th>input</th>\n",
       "      <th>target</th>\n",
       "      <th>predicted</th>\n",
       "      <th>probability</th>\n",
       "      <th>loss</th>\n",
       "    </tr>\n",
       "  </thead>\n",
       "  <tbody>\n",
       "    <tr>\n",
       "      <th>0</th>\n",
       "      <td>xxbos xxmaj i 'm gon na xxunk the xxunk here a bit and say i enjoyed this . xxmaj however , the cartoon is really only going to appeal to those who have very xxunk xxunk . xxmaj it 's definitely something that most people will not get , as is the nature of xxunk . \\n\\n the animation is horrible , but yes , that 's the point . xxmaj the main character is foul mouthed , violent , and stupid . no redeeming qualities whatsoever . his wife xxunk and xxunk , apparently just barely capable of the most basic xxunk skills . most of these stories completely lack any kind of point . \\n\\n but again , that 's the point xxunk \\n\\n xxmaj if non xxunk , foul language , and complete and utter xxunk are your thing , you 're going to love this . \\n\\n xxmaj it is really short , so i would probably rent instead of buying .</td>\n",
       "      <td>positive</td>\n",
       "      <td>negative</td>\n",
       "      <td>0.9993922710418701</td>\n",
       "      <td>7.405811309814453</td>\n",
       "    </tr>\n",
       "    <tr>\n",
       "      <th>1</th>\n",
       "      <td>xxbos xxmaj over xxmaj her xxmaj dead xxmaj body was a nice little xxunk was decent and entertaining , while still being pretty xxunk were a few cliché 's , but i found most stuff xxunk first i did n't think it was going to be good at all , when it started xxunk you can get past the first 20 minutes though , the movie starts getting more xxunk film was n't burst out in laughter hilarious , and was n't xxup oh xxup my xxup xxunk xxunk was just a movie that you can sit down and enjoy for how enjoyable it xxunk do n't see how this movie was xxunk rating is just a bit too xxunk could 've dealt with a xxunk a xxunk , giving this movie a 1 is xxunk was pretty good , and there was nothing horrible enough about it to give it a xxunk is what most people gave it .</td>\n",
       "      <td>positive</td>\n",
       "      <td>negative</td>\n",
       "      <td>0.9974414110183716</td>\n",
       "      <td>5.968324661254883</td>\n",
       "    </tr>\n",
       "    <tr>\n",
       "      <th>2</th>\n",
       "      <td>xxbos xxmaj the 1930s saw a xxunk for documentary films about remote xxunk of the world , with an emphasis on wild animals , exotic terrain and primitive people with unusual xxunk . xxmaj despite the xxunk of xxunk a film crew to a distant and dangerous place , and then bringing 'em back alive ( with the film footage ) , such films were often much cheaper to make than were conventional xxmaj hollywood features … because there were no expensive sets , costumes , or high - xxunk movie stars . \\n\\n xxmaj the most successful makers of such films ( xxunk and xxunk ) were the team of xxmaj martin xxup xxunk xxmaj johnson and his wife xxmaj osa , who made several documentaries ( sometimes with blatantly staged events ) in xxmaj africa and xxmaj asia . xxmaj the xxmaj johnsons ' safari films were extremely popular , inspiring several xxunk … most notably xxmaj wheeler &amp; xxmaj xxunk 's \" so xxmaj this is xxmaj africa \" , in which the very sexy xxmaj esther xxmaj xxunk plays a character named xxmaj mrs . johnson - xxunk ( instead of xxmaj martin xxup xxunk xxmaj johnson , xxunk ? ) . xxmaj although several other filmmakers were producing safari documentaries at this time , the xxmaj johnsons ' films were the most popular in this genre because they xxunk heavily on humour . xxmaj viewed from our own more enlightened ( i hope ) standpoint , this is a serious flaw in the xxmaj johnsons ' documentaries : there are too many scenes in which the funny little xxunk or yellow people are made to look complete idiots who are easily xxunk by the clever white xxunk xxmaj johnson and his wife . \\n\\n xxmaj one definite asset of these movies is the presence of xxmaj osa xxmaj johnson . xxmaj ten years younger than her husband , she manages to seem young enough to be his daughter . xxmaj while certainly not as attractive as the xxunk blond xxmaj esther xxmaj xxunk , xxmaj osa xxmaj johnson was a xxunk brunette who gave xxunk performances in front of the camera in all the films she co - produced with her husband . \\n\\n ' congorilla ' is probably the best of the xxmaj johnsons ' films . xxmaj the shots of the xxmaj xxunk are interesting and have some historical value as evidence of what this environment looked like in 1930 . xxmaj the shots of the xxmaj xxunk and other natives are also interesting , although these suffer from the xxmaj johnsons ' xxunk to stage events in a manner that makes the natives look ' wild ' and alien . \\n\\n xxmaj the best ( and funniest ) scene in ' congorilla ' is an improvised sequence in which xxmaj osa xxmaj johnson attempts to teach a jazz dance to some xxmaj xxunk women . ( the dance is the xxmaj black xxmaj bottom , no less … the same dance which xxmaj bob xxmaj hope famously taught to xxmaj daisy and xxmaj xxunk xxmaj xxunk , the xxunk xxunk . ) xxmaj wearing xxunk , riding xxunk , and a xxunk xxunk , xxmaj osa xxmaj johnson starts xxunk - singing while she does high steps and xxunk her xxunk in her attempt to teach this dance to the xxmaj african women . xxmaj meanwhile , they just stand there staring at her , apparently wondering what this crazy white woman is trying to accomplish . xxmaj it 's a very funny scene , but it has unpleasant undertones . xxmaj osa xxmaj johnson is doing a dance that was xxunk by black xxmaj americans : the implication seems to be that black xxmaj africans should xxunk be able to perform this dance after a brief xxunk ( using natural xxunk , i guess ) because it 's in their blood , or something . \\n\\n xxmaj i 'll rate ' congorilla ' 4 points out of 10 . xxmaj this film says a little bit about xxmaj african life in the 1930s and rather more about xxmaj american cultural xxunk in that same decade .</td>\n",
       "      <td>negative</td>\n",
       "      <td>positive</td>\n",
       "      <td>0.9956069588661194</td>\n",
       "      <td>5.427742004394531</td>\n",
       "    </tr>\n",
       "    <tr>\n",
       "      <th>3</th>\n",
       "      <td>xxbos xxmaj there 's a legion of xxmaj xxunk xxmaj garris xxunk out there who feel he could n't direct a horror film of quality if he had to . xxmaj and , xxunk .. screenplay written by xxmaj stephen xxmaj xxunk often used as an example of this . i like xxup sleepwalkers , though i fully am aware that xxmaj garris just says f # xxunk it and lets all hell break loose about fifteen or so minutes into the movie . xxmaj forget character or plot development , who needs them anyway . xxmaj it 's about violent mayhem and bloody carnage as a mother and son pair of \" xxunk .. xxunk - human xxunk creatures who suck the xxunk from xxunk female xxunk , moving from town to town , living a xxunk existence , truly xxunk their xxunk on a teenager who does n't surrender without a fight . xxmaj before all is said and done , many will be xxunk as a mother xxunk n't xxunk the possible death of her beloved son . \\n\\n xxmaj garris xxunk little time setting up those to be executed , as a xxunk xxmaj xxunk ) , xxunk handsome , xxmaj all xxmaj american xxunk xxmaj charles xxunk xxmaj xxunk be someone entirely different from who he claims , gets his hand ripped off and his neck torn into . xxmaj charles xxunk pretty xxunk into his arms , drawing their energy , in turn \" xxunk \" his hungry mama , xxunk xxmaj xxunk ) . xxmaj the fresh new target is xxmaj tanya xxunk xxmaj amick ) , and she seems to be easy xxunk , but this will not be the case and when xxmaj charles is seriously injured in a xxunk .. thanks to a deputy 's cat , xxmaj xxunk ) , xxmaj mary 's vengeance will be xxunk on all those who get her way . xxmaj mary , come hell or high water , will retrieve xxmaj tanya in the goal of \" refreshing \" her dying son . \\n\\n xxmaj like many teenagers , i had a crush on certain actresses i watched in movies . xxmaj such as xxmaj amy xxmaj xxunk , i was xxunk with xxmaj xxunk xxmaj amick . xxmaj she 's simply adorable in this movie and i love how she bites her lower lip displaying an obvious attraction towards xxmaj charles , unaware of his xxunk motives . i just knew that xxmaj xxunk xxmaj amick would be destined to be a scream queen , but this would never be the case . xxmaj too bad because i would 've welcomed her in the genre with open arms . \\n\\n xxmaj xxunk is xxunk as the menacing , damn sexy , but vicious and mean bitch who xxunk out an entire police force and poor xxmaj tanya 's parents in one fail xxunk , in less than ten or so minutes . xxmaj she stabs one in the back with a xxunk xxunk ! xxmaj she bites the fingers off of poor xxmaj ron xxmaj xxunk , before xxunk his xxunk .. a bone xxunk ) , xxunk him unconscious with his own xxunk ! xxmaj she xxunk xxmaj tanya 's mom through a window after breaking a rose xxunk over her father 's face ! a deputy is xxunk in his ear by xxunk - xxunk ! ) , falling on the xxunk for extra impact . xxmaj poor xxmaj tanya is dragged by her hair from her home by xxmaj mary , driven to the xxmaj brady home , and forced into an xxunk dance with the crippled monster ! xxmaj the sheriff is xxunk onto a xxunk xxunk and we see how cats combat the sleepwalkers unlike humans . xxmaj we see xxmaj mary and xxmaj charles ' abilities to \" dim \" themselves and his car using a power of xxunk . xxmaj writer xxmaj stephen xxmaj king even finds time to include himself and horror director buddies of his in a crime scene sequence with xxmaj clive xxmaj barker and xxmaj tobe xxmaj hooper as xxunk officers , xxmaj joe xxmaj xxunk and xxmaj john xxmaj xxunk as photograph experts . \\n\\n xxmaj the film is shot in a tongue - in - cheek , let - it - all - hang - out manner with music appropriately xxunk this technique home . xxmaj it 's about the ultra - violence , simple as that , with some deranged behavior and jet black humor xxunk xxmaj garris ' direction and xxmaj king 's screenplay . xxmaj the xxunk angle of the sleepwalkers is a bit jarring and in - your - face . xxmaj without a lick of xxunk , this is closer in xxunk to xxmaj king 's own demented xxup xxunk xxup xxunk than his more serious works .</td>\n",
       "      <td>positive</td>\n",
       "      <td>negative</td>\n",
       "      <td>0.9809480905532837</td>\n",
       "      <td>3.960587501525879</td>\n",
       "    </tr>\n",
       "    <tr>\n",
       "      <th>4</th>\n",
       "      <td>xxbos xxmaj the story goes something like this : a small - town girl , xxmaj katie ( jessica xxmaj simpson ) , decides to visit her boyfriend in the big city . xxmaj when she arrives she discovers he is n't quite as faithful as he should be . xxmaj katie then ends up xxunk into the adventure that is xxmaj new xxmaj york . xxmaj filling in as bike xxunk comedic and charming xxunk ensues . xxmaj she falls into a hole in the ground and thus meets charismatic good - guy xxmaj ben ( luke xxmaj wilson ) . xxmaj it 's not love at first sight , at least for her , but destiny and xxmaj ben , wo n't give up quite that easy . xxmaj being \" just \" a small - town girl xxup and blonde a couple of evil executives at a building xxunk decides she 's the perfect xxunk for their xxunk plan . xxmaj misunderstandings with hilarious and sad consequences follow . xxmaj however , this is one blonde who wo n't take it lying down ! \\n\\n xxmaj people being judgmental of this film will soon enough be proved wrong . xxmaj the jokes are confident and fitting , and the story well developed . xxmaj the relationship between xxmaj katie and xxmaj ben feels so natural that it puts anything xxmaj godard has created to shame . xxmaj the multi - talented xxmaj jessica xxmaj simpson once again surprises with a strong role only she could pull off . xxmaj simpson really is the xxmaj marilyn xxmaj xxunk of our day ( there 's even one scene xxunk her ! ) . xxmaj she xxunk perfectly between vulnerable and xxunk . xxmaj katie really does show us that you ca n't judge a book by its cover ! xxmaj luke xxmaj wilson is as charming as ever . xxmaj even if he was covered in xxunk that man would be as appealing as anyone . xxmaj his light touch , puppy dog eyes and laid back manner makes it difficult to xxunk . xxmaj andy xxmaj dick plays the role he was born to play , one of the two diabolical executives . xxmaj he really can not be xxunk . xxmaj the strength of the performance lies in his xxunk . xxmaj it 's remarkable , because most actors would just run away with it and play it for cheap laughs . xxmaj not this guy ! \\n\\n xxmaj in conclusion , director xxmaj scott xxmaj marshall has crafted an intelligent and frequently hilarious comedy that is destined to become a classic alongside masterpieces of cinema like xxmaj epic xxmaj movie and xxmaj xxunk . xxmaj kudos to everyone involved in this , especially xxmaj jessica xxmaj simpson . xxmaj her sincere smile and whole - hearted laughter would make even the xxunk man break out in a big grin . xxmaj you may be tough , but you 're not xxup that tough ! xxmaj xxunk recommended to everyone who wants to be swept off their feet and see a romantic comedy that for once , feels honest . xxmaj thank you for this film ! xxmaj oh , and the soundtrack rocks ! \\n\\n xxmaj now if you still have n't gotten it . xxmaj i 'm being xxunk . 1 / 10</td>\n",
       "      <td>negative</td>\n",
       "      <td>positive</td>\n",
       "      <td>0.9759746789932251</td>\n",
       "      <td>3.7286489009857178</td>\n",
       "    </tr>\n",
       "    <tr>\n",
       "      <th>5</th>\n",
       "      <td>xxbos h xxrep 4 m , want a little romance with your mystery ? xxmaj this has it . i think if the romance was ditched this would have made for a better movie . xxmaj but how could the romance be ditched when the story 's borrowed from something called a xxmaj xxunk xxmaj romance novel , whatever the heck that is . xxmaj had the romance been ditched , the story might have been a little too weak . xxmaj the mystery here was n't too bad , quite interesting but nothing on the level of xxmaj mission xxmaj impossible international espionage . xxmaj oh well . i thought xxmaj mel xxmaj harris was pretty good ; her short skirts , i think , added some sex appeal … but this xxmaj rob xxmaj stewart guy probably could have been better cast , maybe with a more well known xxup tv movie actor . xxmaj the directing was decent and the writing could have been improved on - both could have been a little xxunk , a little darker , more adventurous . xxmaj one thing that was great about this was the use of real xxmaj european locations . xxmaj that could easily have been changed so this could have been filmed in xxmaj xxunk but they really were in xxunk beautiful places like xxmaj budapest . xxmaj possibly a xxunk was the director and / or cinematographer 's choice to frame certain shots picture postcard perfect . xxmaj not good . xxmaj had this been a more dramatic motion picture shot for the big screen , picture postcard perfect scenes really need to take a xxunk and just be a nice part of the background . xxmaj this was just a tv - movie , though , so they had to add some u xxrep 3 m xxunk to the picture and some of that u xxrep 3 m xxunk came from the scenery . xxmaj overall , xxunk really a bad movie . xxmaj i 'll tell you what , this was absolutely the best canadian - hungarian production i have ever seen ! ( and the only that i know of . ) i xxunk xxunk this to be a mediocre made - for - tv movie , giving it a grade of xxup c-</td>\n",
       "      <td>positive</td>\n",
       "      <td>negative</td>\n",
       "      <td>0.9723542332649231</td>\n",
       "      <td>3.5882840156555176</td>\n",
       "    </tr>\n",
       "  </tbody>\n",
       "</table>"
      ],
      "text/plain": [
       "<IPython.core.display.HTML object>"
      ]
     },
     "metadata": {},
     "output_type": "display_data"
    }
   ],
   "source": [
    "interp.plot_top_losses(6)"
   ]
  },
  {
   "cell_type": "code",
   "execution_count": null,
   "metadata": {},
   "outputs": [],
   "source": []
  }
 ],
 "metadata": {
  "kernelspec": {
   "display_name": "Python 3",
   "language": "python",
   "name": "python3"
  }
 },
 "nbformat": 4,
 "nbformat_minor": 2
}
