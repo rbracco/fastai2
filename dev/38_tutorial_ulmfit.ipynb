{
 "cells": [
  {
   "cell_type": "code",
   "execution_count": null,
   "metadata": {},
   "outputs": [],
   "source": [
    "from local.torch_basics import *\n",
    "from local.test import *\n",
    "from local.core import *\n",
    "from local.layers import *\n",
    "from local.data.all import *\n",
    "from local.optimizer import *\n",
    "from local.learner import *\n",
    "from local.metrics import *\n",
    "from local.text.all import *\n",
    "from local.callback.rnn import *\n",
    "from local.callback.all import *"
   ]
  },
  {
   "cell_type": "code",
   "execution_count": null,
   "metadata": {},
   "outputs": [],
   "source": [
    "from local.notebook.showdoc import *"
   ]
  },
  {
   "cell_type": "markdown",
   "metadata": {},
   "source": [
    "# Transfer learning in text\n",
    "\n",
    "> How to fine-tune a language model and train a classifier"
   ]
  },
  {
   "cell_type": "markdown",
   "metadata": {},
   "source": [
    "## Finetune a pretrained Language Model"
   ]
  },
  {
   "cell_type": "markdown",
   "metadata": {},
   "source": [
    "First we get our data and tokenize it."
   ]
  },
  {
   "cell_type": "code",
   "execution_count": null,
   "metadata": {},
   "outputs": [
    {
     "data": {
      "text/html": [],
      "text/plain": [
       "<IPython.core.display.HTML object>"
      ]
     },
     "metadata": {},
     "output_type": "display_data"
    }
   ],
   "source": [
    "path = untar_data(URLs.IMDB_SAMPLE)\n",
    "df = pd.read_csv(path/'texts.csv')\n",
    "df_tok,count = tokenize_df(df, 'text')"
   ]
  },
  {
   "cell_type": "markdown",
   "metadata": {},
   "source": [
    "Then we put it in a `DataSource`. For a language model, we don't have targets, so there is only one transform to numericalize the texts. Note that `tokenize_df` returns the count of the words in the corpus to make it easy to create a vocabulary."
   ]
  },
  {
   "cell_type": "code",
   "execution_count": null,
   "metadata": {},
   "outputs": [],
   "source": [
    "splits = RandomSplitter()(range_of(df_tok))\n",
    "vocab = make_vocab(count)\n",
    "dsrc = DataSource(df_tok, [[attrgetter(\"text\"), Numericalize(vocab)]], splits=splits, dl_type=LMDataLoader)"
   ]
  },
  {
   "cell_type": "markdown",
   "metadata": {},
   "source": [
    "Then we use that `DataSource` to create a `DataBunch`. Here the class of `TfmdDL` we need to use is `LMDataLoader` which will concatenate all the texts in a source (with a shuffle at each epoch for the training set), split it in `bs` chunks then read continuously through it."
   ]
  },
  {
   "cell_type": "code",
   "execution_count": null,
   "metadata": {},
   "outputs": [],
   "source": [
    "dbunch = dsrc.databunch(bs=64, seq_len=72, after_batch=Cuda)"
   ]
  },
  {
   "cell_type": "code",
   "execution_count": null,
   "metadata": {},
   "outputs": [
    {
     "data": {
      "text/html": [
       "<table border=\"1\" class=\"dataframe\">\n",
       "  <thead>\n",
       "    <tr style=\"text-align: right;\">\n",
       "      <th></th>\n",
       "      <th>text</th>\n",
       "      <th>text_</th>\n",
       "    </tr>\n",
       "  </thead>\n",
       "  <tbody>\n",
       "    <tr>\n",
       "      <th>0</th>\n",
       "      <td>xxbos i was blown away by the re - imagined xxmaj battlestar xxmaj xxunk , a show that always kept me guessing and brought me to tears on more than one occasion . a xxunk sci - fi fan , i like to think i can pick out the good stuff from the xxup xxunk , and this was good stuff . \\n\\n xxmaj as such , when i first heard about</td>\n",
       "      <td>i was blown away by the re - imagined xxmaj battlestar xxmaj xxunk , a show that always kept me guessing and brought me to tears on more than one occasion . a xxunk sci - fi fan , i like to think i can pick out the good stuff from the xxup xxunk , and this was good stuff . \\n\\n xxmaj as such , when i first heard about the</td>\n",
       "    </tr>\n",
       "    <tr>\n",
       "      <th>1</th>\n",
       "      <td>british xxmaj royal xxmaj captain who has lost his memory of the last 20 years , and xxmaj xxunk played by xxmaj american ann - xxunk in an almost unrecognizable role as the xxunk sister . xxmaj alan xxmaj xxunk plays the captain who suffers from memory loss xxunk by the shell shock during xxmaj world xxmaj war xxup xxunk xxmaj sir xxmaj ian xxmaj xxunk has a smaller role as the</td>\n",
       "      <td>xxmaj royal xxmaj captain who has lost his memory of the last 20 years , and xxmaj xxunk played by xxmaj american ann - xxunk in an almost unrecognizable role as the xxunk sister . xxmaj alan xxmaj xxunk plays the captain who suffers from memory loss xxunk by the shell shock during xxmaj world xxmaj war xxup xxunk xxmaj sir xxmaj ian xxmaj xxunk has a smaller role as the doctor</td>\n",
       "    </tr>\n",
       "    <tr>\n",
       "      <th>2</th>\n",
       "      <td>realism for their cinematic xxunk , laced heavily with vile profanity , xxunk - xxunk sex , and xxunk - xxunk xxunk . xxmaj these ingredients xxunk the difference between xxmaj g - rated movies and those rated either xxup pg or xxup pg-13 . \\n\\n xxmaj miraculously , director xxmaj john xxmaj lee xxmaj xxunk , who penned scripts for xxmaj clint xxmaj eastwood 's \" a xxmaj perfect xxmaj world</td>\n",
       "      <td>for their cinematic xxunk , laced heavily with vile profanity , xxunk - xxunk sex , and xxunk - xxunk xxunk . xxmaj these ingredients xxunk the difference between xxmaj g - rated movies and those rated either xxup pg or xxup pg-13 . \\n\\n xxmaj miraculously , director xxmaj john xxmaj lee xxmaj xxunk , who penned scripts for xxmaj clint xxmaj eastwood 's \" a xxmaj perfect xxmaj world \"</td>\n",
       "    </tr>\n",
       "    <tr>\n",
       "      <th>3</th>\n",
       "      <td>( \" panic xxmaj beats \" , xxunk ) , \" xxunk xxmaj xxunk \" ( 2004 ) , or any of the ' xxunk xxmaj xxunk ' werewolf films . xxup xxunk . xxmaj paul xxmaj naschy . xxmaj legends never die ! xxbos xxmaj beautiful and touching movie . xxmaj rich colors , great settings , good acting and one of the most charming movies i have seen in a</td>\n",
       "      <td>\" panic xxmaj beats \" , xxunk ) , \" xxunk xxmaj xxunk \" ( 2004 ) , or any of the ' xxunk xxmaj xxunk ' werewolf films . xxup xxunk . xxmaj paul xxmaj naschy . xxmaj legends never die ! xxbos xxmaj beautiful and touching movie . xxmaj rich colors , great settings , good acting and one of the most charming movies i have seen in a while</td>\n",
       "    </tr>\n",
       "    <tr>\n",
       "      <th>4</th>\n",
       "      <td>that handle the desperation of love as well or as xxunk as xxmaj modern xxmaj romance , although 1979 's xxmaj xxunk xxmaj scenes of xxmaj winter comes very close . xxmaj they both essentially deal with obsessed men that are too xxunk attracted / obsessed to their respective women . \\n\\n xxmaj where - as xxmaj xxunk xxmaj scenes of xxmaj winter borders on the subject stalking , this movie has</td>\n",
       "      <td>handle the desperation of love as well or as xxunk as xxmaj modern xxmaj romance , although 1979 's xxmaj xxunk xxmaj scenes of xxmaj winter comes very close . xxmaj they both essentially deal with obsessed men that are too xxunk attracted / obsessed to their respective women . \\n\\n xxmaj where - as xxmaj xxunk xxmaj scenes of xxmaj winter borders on the subject stalking , this movie has a</td>\n",
       "    </tr>\n",
       "    <tr>\n",
       "      <th>5</th>\n",
       "      <td>at it i think that these film makers really have what it takes to go places and i hope to see more work from them in the future . xxbos xxmaj the combination of reading the xxmaj xxunk and viewing this film has inspired my wife and i to new levels . xxmaj recently i was xxunk a statement made by the artist xxmaj thomas xxmaj xxunk in one of his inspirational</td>\n",
       "      <td>it i think that these film makers really have what it takes to go places and i hope to see more work from them in the future . xxbos xxmaj the combination of reading the xxmaj xxunk and viewing this film has inspired my wife and i to new levels . xxmaj recently i was xxunk a statement made by the artist xxmaj thomas xxmaj xxunk in one of his inspirational books</td>\n",
       "    </tr>\n",
       "    <tr>\n",
       "      <th>6</th>\n",
       "      <td>) is talking business , wife ( ellen ) is bored , and switches the subject to sex , and how often men and women think about it . xxmaj husband switches conversation to desert . xxmaj later , after the xxunk leave , xxmaj ellen tries to entice xxmaj robert into sex . xxmaj robert wants none of it , and puts on a jazz record . xxmaj ellen turns on</td>\n",
       "      <td>is talking business , wife ( ellen ) is bored , and switches the subject to sex , and how often men and women think about it . xxmaj husband switches conversation to desert . xxmaj later , after the xxunk leave , xxmaj ellen tries to entice xxmaj robert into sex . xxmaj robert wants none of it , and puts on a jazz record . xxmaj ellen turns on the</td>\n",
       "    </tr>\n",
       "    <tr>\n",
       "      <th>7</th>\n",
       "      <td>xxunk one night , i could not fall asleep until about xxunk xxup xxunk \\n\\n xxmaj this brief review may contain spoilers . \\n\\n xxmaj i 'm a long - time fan of xxmaj the xxmaj xxunk and i can safely say this is the best episode xxmaj i 've seen . xxmaj i 'm not saying everyone should feel this way , but i do . xxmaj this episode is identical</td>\n",
       "      <td>one night , i could not fall asleep until about xxunk xxup xxunk \\n\\n xxmaj this brief review may contain spoilers . \\n\\n xxmaj i 'm a long - time fan of xxmaj the xxmaj xxunk and i can safely say this is the best episode xxmaj i 've seen . xxmaj i 'm not saying everyone should feel this way , but i do . xxmaj this episode is identical to</td>\n",
       "    </tr>\n",
       "    <tr>\n",
       "      <th>8</th>\n",
       "      <td>'s literally something you and your friends would joke about when you 're half - drunk . . . but that joke actually got a theatrical release . xxmaj the idea gets a 9 / 10 from me . xxmaj the only reason it is n't perfect is because they could have taken it even further , but they did n't . \\n\\n xxmaj the mix of both is mixed . i</td>\n",
       "      <td>literally something you and your friends would joke about when you 're half - drunk . . . but that joke actually got a theatrical release . xxmaj the idea gets a 9 / 10 from me . xxmaj the only reason it is n't perfect is because they could have taken it even further , but they did n't . \\n\\n xxmaj the mix of both is mixed . i thought</td>\n",
       "    </tr>\n",
       "  </tbody>\n",
       "</table>"
      ],
      "text/plain": [
       "<IPython.core.display.HTML object>"
      ]
     },
     "metadata": {},
     "output_type": "display_data"
    }
   ],
   "source": [
    "dbunch.show_batch()"
   ]
  },
  {
   "cell_type": "markdown",
   "metadata": {},
   "source": [
    "Then we have a convenience method to directly grab a `Learner` from it, using the `AWD_LSTM` architecture."
   ]
  },
  {
   "cell_type": "code",
   "execution_count": null,
   "metadata": {},
   "outputs": [],
   "source": [
    "learn = language_model_learner(dbunch, AWD_LSTM, vocab, metrics=[accuracy, Perplexity()], path=path, opt_func = partial(Adam, wd=0.1)).to_fp16()"
   ]
  },
  {
   "cell_type": "code",
   "execution_count": null,
   "metadata": {},
   "outputs": [
    {
     "data": {
      "text/html": [
       "<table border=\"1\" class=\"dataframe\">\n",
       "  <thead>\n",
       "    <tr style=\"text-align: left;\">\n",
       "      <th>epoch</th>\n",
       "      <th>train_loss</th>\n",
       "      <th>valid_loss</th>\n",
       "      <th>accuracy</th>\n",
       "      <th>perplexity</th>\n",
       "      <th>time</th>\n",
       "    </tr>\n",
       "  </thead>\n",
       "  <tbody>\n",
       "    <tr>\n",
       "      <td>0</td>\n",
       "      <td>4.556112</td>\n",
       "      <td>4.063600</td>\n",
       "      <td>0.270819</td>\n",
       "      <td>58.183372</td>\n",
       "      <td>00:03</td>\n",
       "    </tr>\n",
       "  </tbody>\n",
       "</table>"
      ],
      "text/plain": [
       "<IPython.core.display.HTML object>"
      ]
     },
     "metadata": {},
     "output_type": "display_data"
    }
   ],
   "source": [
    "learn.freeze()\n",
    "learn.fit_one_cycle(1, 1e-2, moms=(0.8,0.7,0.8))"
   ]
  },
  {
   "cell_type": "code",
   "execution_count": null,
   "metadata": {},
   "outputs": [
    {
     "data": {
      "text/html": [
       "<table border=\"1\" class=\"dataframe\">\n",
       "  <thead>\n",
       "    <tr style=\"text-align: left;\">\n",
       "      <th>epoch</th>\n",
       "      <th>train_loss</th>\n",
       "      <th>valid_loss</th>\n",
       "      <th>accuracy</th>\n",
       "      <th>perplexity</th>\n",
       "      <th>time</th>\n",
       "    </tr>\n",
       "  </thead>\n",
       "  <tbody>\n",
       "    <tr>\n",
       "      <td>0</td>\n",
       "      <td>4.297013</td>\n",
       "      <td>4.170015</td>\n",
       "      <td>0.257841</td>\n",
       "      <td>64.716415</td>\n",
       "      <td>00:03</td>\n",
       "    </tr>\n",
       "    <tr>\n",
       "      <td>1</td>\n",
       "      <td>4.148092</td>\n",
       "      <td>4.096934</td>\n",
       "      <td>0.264612</td>\n",
       "      <td>60.155586</td>\n",
       "      <td>00:03</td>\n",
       "    </tr>\n",
       "    <tr>\n",
       "      <td>2</td>\n",
       "      <td>3.814452</td>\n",
       "      <td>4.073133</td>\n",
       "      <td>0.269285</td>\n",
       "      <td>58.740707</td>\n",
       "      <td>00:03</td>\n",
       "    </tr>\n",
       "    <tr>\n",
       "      <td>3</td>\n",
       "      <td>3.436049</td>\n",
       "      <td>4.108302</td>\n",
       "      <td>0.269531</td>\n",
       "      <td>60.843323</td>\n",
       "      <td>00:03</td>\n",
       "    </tr>\n",
       "  </tbody>\n",
       "</table>"
      ],
      "text/plain": [
       "<IPython.core.display.HTML object>"
      ]
     },
     "metadata": {},
     "output_type": "display_data"
    }
   ],
   "source": [
    "learn.unfreeze()\n",
    "learn.fit_one_cycle(4, 1e-2, moms=(0.8,0.7,0.8))"
   ]
  },
  {
   "cell_type": "markdown",
   "metadata": {},
   "source": [
    "Once we have fine-tuned the pretrained language model to this corpus, we save the encoder since we will use it for the classifier."
   ]
  },
  {
   "cell_type": "code",
   "execution_count": null,
   "metadata": {},
   "outputs": [
    {
     "data": {
      "text/html": [],
      "text/plain": [
       "<IPython.core.display.HTML object>"
      ]
     },
     "metadata": {},
     "output_type": "display_data"
    },
    {
     "data": {
      "text/html": [
       "<table border=\"1\" class=\"dataframe\">\n",
       "  <thead>\n",
       "    <tr style=\"text-align: right;\">\n",
       "      <th></th>\n",
       "      <th>input</th>\n",
       "      <th>target</th>\n",
       "      <th>pred</th>\n",
       "    </tr>\n",
       "  </thead>\n",
       "  <tbody>\n",
       "    <tr>\n",
       "      <th>0</th>\n",
       "      <td>xxbos xxmaj one of the serious potential xxunk costs of most mining xxunk is xxunk of downstream xxunk , rivers and xxunk with excess xxunk and xxunk . xxmaj one of the most serious examples in 19th century xxup usa of excess river xxunk was caused by hydraulic mining of gold - bearing xxunk hills on the sides of the xxmaj xxunk xxmaj valley in the period from the xxunk to the</td>\n",
       "      <td>xxmaj one of the serious potential xxunk costs of most mining xxunk is xxunk of downstream xxunk , rivers and xxunk with excess xxunk and xxunk . xxmaj one of the most serious examples in 19th century xxup usa of excess river xxunk was caused by hydraulic mining of gold - bearing xxunk hills on the sides of the xxmaj xxunk xxmaj valley in the period from the xxunk to the early</td>\n",
       "      <td>xxmaj this of the most movies movies of of this of xxunk is the xxunk xxunk xxunk and xxunk and xxunk . xxunk xxunk and xxunk . xxmaj the of the most important examples of the century xxup usa of xxunk mining xxunk is the by the mining of gold and bearing xxunk and in the xxmaj of the xxmaj xxunk xxmaj valley . the early from the early to the xxunk</td>\n",
       "    </tr>\n",
       "    <tr>\n",
       "      <th>1</th>\n",
       "      <td>who were there in person . xxmaj that extended later to a xxunk xxunk over the years to buy any book on the subject , and eventually to read the equally compelling novels of xxmaj hans xxmaj xxunk xxmaj xxunk and xxmaj erich xxmaj maria xxmaj xxunk , which provided an even deeper xxunk . xxmaj the movie versions , however , were unlike this one in that they rarely delivered the</td>\n",
       "      <td>were there in person . xxmaj that extended later to a xxunk xxunk over the years to buy any book on the subject , and eventually to read the equally compelling novels of xxmaj hans xxmaj xxunk xxmaj xxunk and xxmaj erich xxmaj maria xxmaj xxunk , which provided an even deeper xxunk . xxmaj the movie versions , however , were unlike this one in that they rarely delivered the xxunk</td>\n",
       "      <td>is xxunk to the ? xxmaj the 's into to the xxunk . . the years . make the xxmaj on the subject . and to xxunk xxunk the book xxunk novels of xxmaj xxunk xxmaj zimmer and xxunk and xxmaj xxunk xxmaj xxunk xxmaj xxunk . which were the insight more xxunk in xxmaj the story is were however , were not the one , that they were have the same</td>\n",
       "    </tr>\n",
       "    <tr>\n",
       "      <th>2</th>\n",
       "      <td>xxmaj xxunk ) , but also is a xxunk xxunk and decides to fake his own death to run away with his current affair , xxmaj xxunk ( xxunk xxmaj xxunk ) . xxmaj however in so doing , he gets a xxunk of xxunk ( hence the name of the film ) . xxmaj sally xxmaj xxunk is also on hand as a crazy old xxunk who xxunk for the good</td>\n",
       "      <td>xxunk ) , but also is a xxunk xxunk and decides to fake his own death to run away with his current affair , xxmaj xxunk ( xxunk xxmaj xxunk ) . xxmaj however in so doing , he gets a xxunk of xxunk ( hence the name of the film ) . xxmaj sally xxmaj xxunk is also on hand as a crazy old xxunk who xxunk for the good xxmaj</td>\n",
       "      <td>xxunk xxmaj , the the a a xxunk xxunk . xxunk to xxunk the own name . save away with his wife wife . xxmaj xxunk xxmaj xxunk xxmaj xxunk ) . xxmaj the , fact doing , xxmaj is his xxunk xxunk the xxunk xxunk the title of the film ) . xxmaj the xxmaj field is also a board as the xxunk old woman who is her her xxunk of</td>\n",
       "    </tr>\n",
       "    <tr>\n",
       "      <th>3</th>\n",
       "      <td>, as many film personalities of the silent era try their wings at sound , surely xxunk that they will be left by the xxunk ( as did happen to some ) , xxunk - tin - tin . however , was xxunk natural . xxmaj in such a vaudeville of unrelated sequences , some were sure to stand out xxmaj john xxmaj barrymore 's xxunk from xxmaj richard xxup ii is</td>\n",
       "      <td>as many film personalities of the silent era try their wings at sound , surely xxunk that they will be left by the xxunk ( as did happen to some ) , xxunk - tin - tin . however , was xxunk natural . xxmaj in such a vaudeville of unrelated sequences , some were sure to stand out xxmaj john xxmaj barrymore 's xxunk from xxmaj richard xxup ii is a</td>\n",
       "      <td>and a people makers have the era era , to roles out the , they they their they will be able with the xxunk of xxunk in the in xxmaj of . but the xxunk - tin . xxmaj , the the by and xxmaj the fact a way , xxunk xxunk , the of xxunk to be out and xxunk xxmaj xxunk 's xxmaj , xxmaj xxunk xxmaj xxunk . a</td>\n",
       "    </tr>\n",
       "    <tr>\n",
       "      <th>4</th>\n",
       "      <td>half tragic and believe it or not is xxunk watch able . xxmaj like i said at the beginning you can watch the xxmaj xxunk film even if you have no interest in the band . xxmaj dig ! on the other hand is slightly different and is more enjoyable and a whole lot easier to watch if you have a passing interest in either band . xxmaj still a good film</td>\n",
       "      <td>tragic and believe it or not is xxunk watch able . xxmaj like i said at the beginning you can watch the xxmaj xxunk film even if you have no interest in the band . xxmaj dig ! on the other hand is slightly different and is more enjoyable and a whole lot easier to watch if you have a passing interest in either band . xxmaj still a good film and</td>\n",
       "      <td>- , the that . not . a . it to xxmaj it the did , the time , can see the movie xxunk xxmaj and if you are a idea in the movie . xxmaj the ! xxmaj the other hand , a xxunk from the a xxunk . i bit lot more to watch . you 're to good interest in the xxmaj or xxmaj the , little movie ,</td>\n",
       "    </tr>\n",
       "    <tr>\n",
       "      <th>5</th>\n",
       "      <td>being told today in the xxmaj middle xxmaj east and we are still paying for it . \" \\n\\n xxup we 're still paying for it ? xxmaj xxunk mean \" we \" , xxunk ? xxmaj the xxmaj marines did n't storm the xxmaj temple xxmaj mount . \\n\\n xxmaj but in truth , xxmaj clinton never really came out and xxunk said that we \" deserved \" 9 - 11</td>\n",
       "      <td>told today in the xxmaj middle xxmaj east and we are still paying for it . \" \\n\\n xxup we 're still paying for it ? xxmaj xxunk mean \" we \" , xxunk ? xxmaj the xxmaj marines did n't storm the xxmaj temple xxmaj mount . \\n\\n xxmaj but in truth , xxmaj clinton never really came out and xxunk said that we \" deserved \" 9 - 11 .</td>\n",
       "      <td>a by , the xxmaj united xxmaj east , the are not alive for it . xxmaj i xxmaj ok xxup xxup in for this , xxmaj do xxmaj , you 're . \" xxunk xxmaj the \" xxunk are n't have the xxmaj xxunk xxmaj mount . xxmaj xxmaj the the the , the clinton said mentioned knew to and xxunk the that he were were \" the - 11 .</td>\n",
       "    </tr>\n",
       "    <tr>\n",
       "      <th>6</th>\n",
       "      <td>xxunk . i have n't had so much fun watching a film in years . xxmaj in fact , xxmaj i 'm going to try to get all my friends to see it because it 's the kind of movie that needs to be shared . \\n\\n xxmaj my favorite parts : -- xxmaj when xxmaj arthur xxunk to be a go - go boy ( his dancing is unbelievable ) --</td>\n",
       "      <td>. i have n't had so much fun watching a film in years . xxmaj in fact , xxmaj i 'm going to try to get all my friends to see it because it 's the kind of movie that needs to be shared . \\n\\n xxmaj my favorite parts : -- xxmaj when xxmaj arthur xxunk to be a go - go boy ( his dancing is unbelievable ) -- xxmaj</td>\n",
       "      <td>, xxmaj think to seen any much fun watching this movie , my . xxmaj it fact , i i 'm not to get to make my the friends to see it . of 's a worst of movie that you to be xxunk with xxmaj xxmaj the favorite parts : xxmaj xxmaj the xxmaj xxunk xxunk to xxmaj the xxunk - go boy , he xxunk is xxunk ) , xxmaj</td>\n",
       "    </tr>\n",
       "    <tr>\n",
       "      <th>7</th>\n",
       "      <td>? xxmaj the story between the scientists is a sweet and funny one . xxmaj how they stuck together and they tried to help xxmaj tim xxmaj xxunk character become smart . i liked the love story between xxmaj tim and xxmaj meg because it was simple and brought up a good point when it comes to love , \" nothing is what it seems \" . i would recommend this for</td>\n",
       "      <td>xxmaj the story between the scientists is a sweet and funny one . xxmaj how they stuck together and they tried to help xxmaj tim xxmaj xxunk character become smart . i liked the love story between xxmaj tim and xxmaj meg because it was simple and brought up a good point when it comes to love , \" nothing is what it seems \" . i would recommend this for a</td>\n",
       "      <td>xxmaj the xxmaj is xxmaj two and xxunk little and funny one , xxmaj the can get together in how were to make each xxunk xxmaj meadows , , a . xxmaj think the way story between xxmaj leon and xxmaj leon , it was a and funny up in good ending of xxmaj was to xxmaj . but xxunk \" a it is to . xxmaj think n't this to a</td>\n",
       "    </tr>\n",
       "    <tr>\n",
       "      <th>8</th>\n",
       "      <td>kill everyone they met ) . xxmaj richard xxmaj brooks directed the chilling and disturbing xxmaj capote 's book about the reasons that xxunk these kids to the crime ( are they xxmaj natural xxmaj born xxmaj killers ? ) . xxmaj the crime scenes are very brutal and haunting because of the lack of senses and reasons for what we witnessed . xxmaj stunning black &amp; white cinematography from xxmaj xxunk</td>\n",
       "      <td>everyone they met ) . xxmaj richard xxmaj brooks directed the chilling and disturbing xxmaj capote 's book about the reasons that xxunk these kids to the crime ( are they xxmaj natural xxmaj born xxmaj killers ? ) . xxmaj the crime scenes are very brutal and haunting because of the lack of senses and reasons for what we witnessed . xxmaj stunning black &amp; white cinematography from xxmaj xxunk xxmaj</td>\n",
       "      <td>off who are . . xxmaj the xxmaj dreyfuss is the xxunk and xxunk xxmaj xxunk 's novel , the xxunk that xxunk the xxunk to the death of and they supposed xxunk xxmaj born xxmaj killers ? ) . xxmaj the story scenes are very xxunk and the . the the xxunk of xxunk and xxunk for what they are . xxmaj the and &amp; white cinematography and xxmaj xxunk xxmaj</td>\n",
       "    </tr>\n",
       "    <tr>\n",
       "      <th>9</th>\n",
       "      <td>memoirs , \" is a first - hand account of how she survived those xxunk but dangerous days . xxmaj she also details her relationship with xxmaj the xxmaj duke of xxmaj xxunk ( played by jean - xxunk xxmaj xxunk ) , who , in contrast to herself , is a supporter of the xxmaj revolution . \\n\\n xxmaj true to form , you do n't know whose side of history</td>\n",
       "      <td>, \" is a first - hand account of how she survived those xxunk but dangerous days . xxmaj she also details her relationship with xxmaj the xxmaj duke of xxmaj xxunk ( played by jean - xxunk xxmaj xxunk ) , who , in contrast to herself , is a supporter of the xxmaj revolution . \\n\\n xxmaj true to form , you do n't know whose side of history xxmaj</td>\n",
       "      <td>and and xxunk xxmaj xxunk - hand account of the the xxunk the xxunk xxunk not things . xxmaj the was xxunk her relationship with xxmaj xxunk xxmaj xxunk of xxmaj xxunk . xxunk by xxmaj - xxunk xxmaj xxunk ) , who was in fact to her , is a xxunk of the xxmaj revolution . xxmaj xxmaj the , the , this can n't know what side of philosophy is</td>\n",
       "    </tr>\n",
       "  </tbody>\n",
       "</table>"
      ],
      "text/plain": [
       "<IPython.core.display.HTML object>"
      ]
     },
     "metadata": {},
     "output_type": "display_data"
    }
   ],
   "source": [
    "learn.show_results()"
   ]
  },
  {
   "cell_type": "code",
   "execution_count": null,
   "metadata": {},
   "outputs": [],
   "source": [
    "learn.save_encoder('enc1')"
   ]
  },
  {
   "cell_type": "markdown",
   "metadata": {},
   "source": [
    "## Use it to train a classifier"
   ]
  },
  {
   "cell_type": "markdown",
   "metadata": {},
   "source": [
    "For classification, we need to use two set of transforms: one to numericalize the texts and the other to encode the labels as categories."
   ]
  },
  {
   "cell_type": "code",
   "execution_count": null,
   "metadata": {},
   "outputs": [],
   "source": [
    "splits = RandomSplitter()(range_of(df_tok))\n",
    "dsrc = DataSource(df_tok, splits=splits, tfms=[\n",
    "    [attrgetter(\"text\"), Numericalize(vocab)],\n",
    "    [attrgetter(\"label\"), Categorize()]], dl_type=SortedDL)"
   ]
  },
  {
   "cell_type": "markdown",
   "metadata": {},
   "source": [
    "We opnce again use a subclass of `TfmdDL` for the dataloaders, since we want to sort the texts (sortish for the training set) by order of lengths. We also use `pad_collate` to create batches form texts of different lengths."
   ]
  },
  {
   "cell_type": "code",
   "execution_count": null,
   "metadata": {},
   "outputs": [],
   "source": [
    "dbunch = dsrc.databunch(before_batch=pad_input, after_batch=Cuda)"
   ]
  },
  {
   "cell_type": "code",
   "execution_count": null,
   "metadata": {},
   "outputs": [
    {
     "data": {
      "text/html": [
       "<table border=\"1\" class=\"dataframe\">\n",
       "  <thead>\n",
       "    <tr style=\"text-align: right;\">\n",
       "      <th></th>\n",
       "      <th>text</th>\n",
       "      <th>category</th>\n",
       "    </tr>\n",
       "  </thead>\n",
       "  <tbody>\n",
       "    <tr>\n",
       "      <th>0</th>\n",
       "      <td>xxbos xxmaj raising xxmaj victor xxmaj vargas : a xxmaj review \\n\\n xxmaj you know , xxmaj raising xxmaj victor xxmaj vargas is like sticking your hands into a big , xxunk bowl of xxunk . xxmaj it 's warm and gooey , but you 're not sure if it feels right . xxmaj try as i might , no matter how warm and gooey xxmaj raising xxmaj victor xxmaj vargas became i was always aware that something did n't quite feel right . xxmaj victor xxmaj vargas suffers from a certain xxunk on the director 's part . xxmaj apparently , the director thought that the ethnic backdrop of a xxmaj latino family on the lower east side , and an xxunk storyline would make the film critic proof . xxmaj he was right , but it did n't fool me . xxmaj raising xxmaj victor xxmaj vargas is the story about a xxunk - year old boy called , you guessed it , xxmaj victor xxmaj vargas ( victor xxmaj xxunk ) who lives his teenage years chasing more xxunk than the xxmaj rolling xxmaj xxunk could do in all the years they 've xxunk . xxmaj the movie starts off in ` ugly xxmaj fat ' xxmaj donna 's bedroom where xxmaj victor is sure to seduce her , but a cry from outside xxunk his plans when his best - friend xxmaj harold ( kevin xxmaj xxunk ) comes - a - looking for him . xxmaj caught in the attempt by xxmaj harold and his sister , xxmaj victor xxmaj vargas runs off for xxunk control . xxmaj yet even with the embarrassing implication that he 's been xxunk the xxunk girl in the neighborhood , nothing xxunk young xxmaj victor from going off on the hunt for more fresh meat . xxmaj on a hot , xxmaj new xxmaj york xxmaj city day they make way to the local public swimming pool where xxmaj victor 's eyes catch a glimpse of the lovely young xxunk xxmaj judy ( judy xxmaj xxunk ) , who 's not just pretty , but a strong and independent too . xxmaj the relationship that develops between xxmaj victor and xxmaj judy becomes the focus of the film . xxmaj the story also focuses on xxmaj victor 's family that is comprised of his grandmother or xxunk ( xxunk xxmaj guzman ) , his brother xxmaj nino ( also played by real life brother to xxmaj victor , xxmaj xxunk xxmaj xxunk ) and his sister xxmaj vicky ( xxunk xxmaj xxunk ) . xxmaj the action follows xxmaj victor between scenes with xxmaj judy and scenes with his family . xxmaj victor tries to xxunk with being an oversexed pimp - daddy , his feelings for xxmaj judy and his grandmother 's conservative xxmaj catholic upbringing . \\n\\n xxmaj the problems that xxunk from xxmaj raising xxmaj victor xxmaj vargas are a few , but glaring errors . xxmaj throughout the film you get to know certain characters like xxmaj vicky , xxmaj nino , xxmaj xxunk , xxmaj judy and even xxmaj judy 's best friend xxmaj xxunk . xxmaj the problem is , we know nothing of xxmaj victor xxmaj vargas except that he is the biggest gigolo in the neighborhood . xxmaj we know that he knows how to lick his lips , and xxunk his xxunk , and carry himself for the sake of xxunk girls into the xxunk , but that 's all . xxmaj we know that xxmaj nino plays piano , and quiet well , you could see it by the awards on the family piano . xxmaj we know his sister xxmaj xxunk , is a gossip - loving girl with an xxunk interest in watching xxup tv . xxmaj we know that xxunk is a hard - working traditional xxmaj xxunk woman who 's trying to raise her kids with xxunk in a world of excess corruption . xxmaj yet where is the titular character , xxmaj victor xxmaj vargas ? xxmaj he 's in this movie somewhere , but we only know what the movie tells us . xxmaj this is by far the film 's biggest flaw . xxmaj victor xxmaj vargas is n't so much a character but a xxunk - xxunk ball , xxunk between scenes with xxmaj judy and his xxmaj grandmother , but we never get to know who xxmaj victor xxmaj vargas really is . xxmaj this is important because as xxmaj i 've mentioned the only thing we know of xxmaj victor xxmaj vargas is that he 's a sexually active teenager with a xxunk the size of xxmaj manhattan . xxmaj he 's a total xxmaj xxunk - male . xxmaj victor xxmaj vargas is not the kind of character i sympathize with at all . xxmaj why should anyone ? xxmaj so by the end of the movie , in the aftermath of the climax are we truly led to believe that somehow xxmaj victor xxmaj vargas has attained xxup any depth and learned the errors of his ways ? xxmaj how could such a two - dimensional character have any depth ? xxmaj if only the director had worried a little more about xxunk out his main character instead of worrying about getting that perfect hand - held shot . \\n\\n xxmaj raising xxmaj victor xxmaj vargas brings to life the world of the xxmaj latino inner - city neighborhood to the big screen . xxmaj something that few films have done before in the past . xxmaj the film has been xxunk for feeling so real , and i wo n't \\n\\n argue with that . i have n't seen this level of reality since xxup xxunk aired xxmaj survivor . xxmaj seriously , although the movie has some nice shots of the city , the writer / director xxmaj peter xxmaj sollett was way too xxunk on close - ups and hand - held shots . xxmaj this problem is particularly noticed in xxunk scenes that are so claustrophobic i was forced to perform deep - breathing xxunk to keep from passing out . xxmaj as the film continues , the shots get tighter and tighter with faces xxunk from xxunk to xxunk on the screen ; you can practically xxunk xxmaj victor xxmaj vargas 's cheap xxunk . xxmaj the overall effect is unrealistic in contrast . xxmaj the xxunk scenes of inner - city apartments make them look small and xxunk , which is not true . xxmaj i 've been in those type apartments ; i used to live in one . xxmaj they 're not xxunk but they have high xxunk and they 're decent living xxunk . xxmaj by the movie 's standards you 'd think that these apartments were xxunk xxunk of xxunk - and - xxunk , xxunk paint and xxunk walls . xxmaj unfortunately , xxmaj sollett 's constant use of close - ups and one particularly bad shot with a xxunk - in on one scene come off as totally amateurish . xxmaj but xxmaj raising xxmaj victor xxmaj vargas is only xxmaj sollett 's second film , and his most well known , a solid effort in filmmaking that will hopefully get better as he continues to make films . xxmaj one review i read xxunk the movie as , ` ethnicity for xxmaj ethnicity 's xxmaj sake , ' and i can not agree more . xxmaj if xxmaj victor xxmaj vargas were truly a great film and story , then the characters ' xxunk would n't matter whether they were xxmaj latino , xxmaj chinese , etc . xxmaj yet if you were to take this story and stick it in middle - class xxunk with a bunch of xxunk - xxunk white kids the results would n't be such glowing reviews , and we 'd see the film 's flaws more clearly . xxmaj indeed , some other aspects of the use of xxmaj latinos in this film bother me . xxmaj while some aspects of xxmaj victor xxmaj vargas are accurate others i have to question . xxmaj for example , xxmaj victor , xxmaj nino and xxmaj vicky all share the same room to sleep . xxmaj this set off an alarm for me because it seemed contrary to what i believe . xxmaj any self - xxunk xxmaj latino family would n't have two older brothers sharing the same room with a thirteen - year old girl . xxmaj at first i was xxunk , perhaps i was wrong , but after speaking with my grandmother i knew my problem with this was justified . xxmaj considering how conservative the grandmother is , you 'd think that xxmaj vicky would have been sleeping in her room . \\n\\n xxmaj as a xxmaj latino who grew up in a somewhat conservative xxmaj cuban household , raised by my grandmother while my mother was working full - time , i could relate to the movie in many ways , which is why my critical xxunk are xxunk because i really wanted to love this movie . xxmaj unfortunately , my lack of respect for xxmaj victor xxmaj vargas xxunk my feelings for the film . xxmaj maybe it 's because xxmaj victor xxmaj vargas reminds me of those guys who were getting laid while i was playing with my xxmaj xxunk xxmaj xxunk when i was xxunk . xxmaj maybe it 's because without any further xxunk by the film , xxmaj victor xxmaj vargas is merely a stereotypical hot - blooded xxmaj latino , who 'll just end up shouting to girls from his car , ` hey bay - xxunk , xxunk want to get into my xxunk xxunk - xxunk ? ' xxmaj either way i do n't like him , so ultimately how can i like a film about him ? xxmaj so if you 'll excuse me , xxmaj i 'm going to go stick my hands into a bowl of xxunk .</td>\n",
       "      <td>negative</td>\n",
       "    </tr>\n",
       "    <tr>\n",
       "      <th>1</th>\n",
       "      <td>xxbos xxup the xxup shop xxup around xxup the xxup corner is one of the xxunk and most feel - good romantic comedies ever made . xxmaj there 's just no getting around that , and it 's hard to actually put one 's feeling for this film into words . xxmaj it 's not one of those films that tries too hard , nor does it come up with the xxunk possible scenarios to get the two protagonists together in the end . xxmaj in fact , all its charm is xxunk , contained within the characters and the setting and the plot … which is highly believable to xxunk . xxmaj it 's easy to think that such a love story , as beautiful as any other ever told , * could * happen to you … a feeling you do n't often get from other romantic comedies , however sweet and heart - warming they may be . \\n\\n xxmaj alfred xxmaj kralik ( james xxmaj stewart ) and xxmaj clara xxmaj xxunk ( margaret xxmaj xxunk ) do n't have the most xxunk of first xxunk when she arrives in the shop ( matuschek &amp; xxmaj co. ) he 's been working in for the past nine years , asking for a job . xxmaj they clash from the very beginning , mostly over a cigarette box that plays music when it 's opened -- he thinks it 's a ludicrous idea ; she makes one big sell of it and gets hired . xxmaj their bickering takes them through the next six months , even as they both ( xxunk , of course ! ) fall in love with each other when they share their souls and minds in letters passed through xxup xxunk xxmaj box xxunk . xxmaj this would be a pretty thin xxunk to base an entire film on , except that xxup the xxup shop xxup around xxup the xxup corner is xxunk xxunk - out with a brilliant supporting cast made up of entirely engaging characters , from the xxunk but lonely xxmaj hugo xxmaj matuschek ( frank xxmaj morgan ) himself , who learns that his shop really is his home ; xxmaj xxunk ( felix xxmaj xxunk ) , xxmaj kralik 's sidekick and friend who always xxunk out of the room when faced with the possibility of being asked for his honest opinion ; xxunk pimp - du - xxunk xxmaj xxunk ( joseph xxmaj xxunk ) who ultimately gets his comeuppance from a xxunk righteous xxmaj kralik ; and ambitious xxunk boy xxmaj xxunk xxmaj xxunk ( william xxmaj tracy ) who wants nothing more than to be promoted to the position of xxunk for xxmaj matuschek &amp; xxmaj co. xxmaj the xxunk love story between ' dear xxmaj friends ' is played out in this little shop in xxmaj budapest , xxmaj hungary , in which xxmaj kralik 's xxunk xxunk and subsequent xxunk to shop manager help the two xxunk - to - be along . xxmaj it 's nice that everyone gets a story in this film ; the supporting characters are well - developed , and xxmaj matuschek 's own journey in life is almost as touching as the one xxmaj alfred and xxmaj clara share . xxmaj his xxunk to new xxunk boy xxmaj xxunk ( charles xxmaj smith ) for xxmaj christmas xxmaj eve dinner , made in the xxunk , beautiful snow of a xxmaj hungarian winter , makes the audience glad that he is not alone ; we come to care even for the characters whose love story it is n't this film 's business to tell . \\n\\n xxmaj aside from the love story , i must say that xxmaj james xxmaj stewart is truly one of the best things about this film . xxmaj he does n't play the full - xxunk xxmaj jimmy xxmaj stewart persona in this film ( c / f ' mr xxmaj smith xxmaj goes xxmaj to xxmaj washington ' for that ) ; in fact xxmaj alfred xxmaj kralik is xxunk and abrupt and not particularly kind . xxmaj he 's rather a xxunk man , in fact , with little hint ( until , perhaps , the very end ) of the xxunk - xxunk down - home xxunk charm xxmaj stewart would soon come to xxunk . xxmaj when he finds out before xxmaj clara that they have been xxunk in secret , in fact , xxmaj kralik does n't ' xxunk up -- he xxunk it out to see how far he can take the xxunk , especially since he quickly realises ( given his stormy relationship with xxmaj clara as boss and xxunk ) that loving the person he knows through the xxunk letters might not xxunk with loving the person herself . xxmaj his description to xxmaj clara of the fictional xxmaj xxunk xxmaj xxunk ( what a name ! ) who was to become her xxunk is hilarious in the extreme , but also his way of proving that the letters do n't reveal all there is to a man , just as her letters do n't reveal all there is to her . xxmaj stewart plays this role perfectly -- he keeps his face perfectly controlled whenever xxmaj clara insults xxmaj mr . xxmaj kralik , as she is often wo nt to do , even ( and especially ) to his face . xxmaj and yet one believes , underneath the xxunk and xxunk , that he * could * reveal his identity with as much xxunk and xxunk and sheer * hope * as he eventually does . \\n\\n xxmaj special mention must be given to the other members of the cast as well . xxmaj margaret xxmaj xxunk xxunk rather less well in the first half of the film , but she really comes into her own in the closing - shop scene on xxmaj christmas xxmaj eve , when she almost gets her heart broken again by xxmaj alfred 's most vivid description of her xxunk xxunk . xxmaj frank xxmaj morgan turns in a great performance as the jealous xxmaj hugo xxmaj matuschek driven to nervous breakdown , the man who has to xxunk his meaning in life when he realises that his wife of 22 years does not want to ' grow old with him ' . xxmaj and xxmaj felix xxmaj xxunk plays the role of the meek but xxunk xxmaj xxunk wonderfully ( a xxmaj lubitsch regular , since he appears as a hilarious xxmaj russian xxunk in xxunk particular note is the scene in which he helps his good friend xxmaj alfred get the xxmaj christmas present the latter * really * wants … a wallet instead of that ludicrous cigarette box xxmaj clara is so hung up on . \\n\\n xxmaj xxunk xxmaj lubitsch really does himself proud with this film -- for example , the famously xxunk and xxunk care given to detail in the creation of the xxmaj matuschek shop is well worth the effort , right down to the xxmaj hungarian names on the door , the xxunk and the cash xxunk and so on . xxmaj but even though xxmaj lubitsch chose to have the story set in xxmaj hungary , the setting is actually universal : it could happen anywhere ; it could happen to you . xxmaj xxunk lies the charm of this simple story , these believable characters who really * are * people . xxmaj the snow on xxmaj christmas xxmaj eve is real as well , or at least as real as xxmaj lubitsch could make it ( he had snow machines brought in at great expense ) . xxmaj it is this desire to make everything appear as real as possible that helps make the story even more believable , that gives this entire film a dreamy realism that can not be xxunk . ( no , not even in a remake like xxup you 've xxup got xxup mail . ) \\n\\n * this * is really the xxmaj jimmy xxmaj stewart xxmaj christmas film that people are missing out on when they talk about xxup it 's a xxup wonderful xxup life . xxmaj not to xxunk from the merits of that other film , but there 'd be no harm , and in fact a lot of good , done in watching xxup the xxup shop xxup around xxup the xxup corner this xxmaj christmas instead . xxmaj it 's sweet , funny , charming , and xxmaj stewart is xxunk in his role . xxmaj we should all be so lucky as to have the romance depicted in this film ; the best thing about this film is that we come away from it feeling that we very possibly could .</td>\n",
       "      <td>positive</td>\n",
       "    </tr>\n",
       "  </tbody>\n",
       "</table>"
      ],
      "text/plain": [
       "<IPython.core.display.HTML object>"
      ]
     },
     "metadata": {},
     "output_type": "display_data"
    }
   ],
   "source": [
    "dbunch.show_batch(max_n=2)"
   ]
  },
  {
   "cell_type": "markdown",
   "metadata": {},
   "source": [
    "Then we once again have a convenience function to create a classifier from this `DataBunch` with the `AWD_LSTM` architecture."
   ]
  },
  {
   "cell_type": "code",
   "execution_count": null,
   "metadata": {},
   "outputs": [],
   "source": [
    "learn = text_classifier_learner(dbunch, AWD_LSTM, vocab, metrics=[accuracy], path=path, opt_func=Adam, drop_mult=0.5)"
   ]
  },
  {
   "cell_type": "code",
   "execution_count": null,
   "metadata": {},
   "outputs": [],
   "source": [
    "learn = learn.load_encoder('enc1')"
   ]
  },
  {
   "cell_type": "markdown",
   "metadata": {},
   "source": [
    "Then we can train with gradual unfreezing and differential learning rates."
   ]
  },
  {
   "cell_type": "code",
   "execution_count": null,
   "metadata": {},
   "outputs": [
    {
     "data": {
      "text/html": [
       "<table border=\"1\" class=\"dataframe\">\n",
       "  <thead>\n",
       "    <tr style=\"text-align: left;\">\n",
       "      <th>epoch</th>\n",
       "      <th>train_loss</th>\n",
       "      <th>valid_loss</th>\n",
       "      <th>accuracy</th>\n",
       "      <th>time</th>\n",
       "    </tr>\n",
       "  </thead>\n",
       "  <tbody>\n",
       "    <tr>\n",
       "      <td>0</td>\n",
       "      <td>0.690201</td>\n",
       "      <td>0.919932</td>\n",
       "      <td>0.595000</td>\n",
       "      <td>00:07</td>\n",
       "    </tr>\n",
       "    <tr>\n",
       "      <td>1</td>\n",
       "      <td>0.571145</td>\n",
       "      <td>0.471022</td>\n",
       "      <td>0.765000</td>\n",
       "      <td>00:07</td>\n",
       "    </tr>\n",
       "    <tr>\n",
       "      <td>2</td>\n",
       "      <td>0.551735</td>\n",
       "      <td>0.476959</td>\n",
       "      <td>0.770000</td>\n",
       "      <td>00:06</td>\n",
       "    </tr>\n",
       "    <tr>\n",
       "      <td>3</td>\n",
       "      <td>0.511848</td>\n",
       "      <td>0.456279</td>\n",
       "      <td>0.785000</td>\n",
       "      <td>00:06</td>\n",
       "    </tr>\n",
       "  </tbody>\n",
       "</table>"
      ],
      "text/plain": [
       "<IPython.core.display.HTML object>"
      ]
     },
     "metadata": {},
     "output_type": "display_data"
    }
   ],
   "source": [
    "learn.fit_one_cycle(4, moms=(0.8,0.7,0.8))"
   ]
  },
  {
   "cell_type": "code",
   "execution_count": null,
   "metadata": {},
   "outputs": [
    {
     "data": {
      "text/html": [
       "<table border=\"1\" class=\"dataframe\">\n",
       "  <thead>\n",
       "    <tr style=\"text-align: left;\">\n",
       "      <th>epoch</th>\n",
       "      <th>train_loss</th>\n",
       "      <th>valid_loss</th>\n",
       "      <th>accuracy</th>\n",
       "      <th>time</th>\n",
       "    </tr>\n",
       "  </thead>\n",
       "  <tbody>\n",
       "    <tr>\n",
       "      <td>0</td>\n",
       "      <td>0.477831</td>\n",
       "      <td>0.453384</td>\n",
       "      <td>0.775000</td>\n",
       "      <td>00:11</td>\n",
       "    </tr>\n",
       "    <tr>\n",
       "      <td>1</td>\n",
       "      <td>0.458990</td>\n",
       "      <td>0.550944</td>\n",
       "      <td>0.735000</td>\n",
       "      <td>00:12</td>\n",
       "    </tr>\n",
       "    <tr>\n",
       "      <td>2</td>\n",
       "      <td>0.437760</td>\n",
       "      <td>0.480073</td>\n",
       "      <td>0.770000</td>\n",
       "      <td>00:11</td>\n",
       "    </tr>\n",
       "    <tr>\n",
       "      <td>3</td>\n",
       "      <td>0.407334</td>\n",
       "      <td>0.462960</td>\n",
       "      <td>0.770000</td>\n",
       "      <td>00:12</td>\n",
       "    </tr>\n",
       "    <tr>\n",
       "      <td>4</td>\n",
       "      <td>0.374617</td>\n",
       "      <td>0.443466</td>\n",
       "      <td>0.790000</td>\n",
       "      <td>00:12</td>\n",
       "    </tr>\n",
       "    <tr>\n",
       "      <td>5</td>\n",
       "      <td>0.347900</td>\n",
       "      <td>0.431627</td>\n",
       "      <td>0.830000</td>\n",
       "      <td>00:12</td>\n",
       "    </tr>\n",
       "    <tr>\n",
       "      <td>6</td>\n",
       "      <td>0.328023</td>\n",
       "      <td>0.436412</td>\n",
       "      <td>0.770000</td>\n",
       "      <td>00:10</td>\n",
       "    </tr>\n",
       "    <tr>\n",
       "      <td>7</td>\n",
       "      <td>0.323951</td>\n",
       "      <td>0.434193</td>\n",
       "      <td>0.800000</td>\n",
       "      <td>00:12</td>\n",
       "    </tr>\n",
       "  </tbody>\n",
       "</table>"
      ],
      "text/plain": [
       "<IPython.core.display.HTML object>"
      ]
     },
     "metadata": {},
     "output_type": "display_data"
    }
   ],
   "source": [
    "learn.unfreeze()\n",
    "learn.opt = learn.create_opt()\n",
    "learn.fit_one_cycle(8, slice(1e-5,1e-3), moms=(0.8,0.7,0.8))"
   ]
  },
  {
   "cell_type": "code",
   "execution_count": null,
   "metadata": {},
   "outputs": [
    {
     "data": {
      "text/html": [],
      "text/plain": [
       "<IPython.core.display.HTML object>"
      ]
     },
     "metadata": {},
     "output_type": "display_data"
    },
    {
     "data": {
      "text/html": [
       "<table border=\"1\" class=\"dataframe\">\n",
       "  <thead>\n",
       "    <tr style=\"text-align: right;\">\n",
       "      <th></th>\n",
       "      <th>text</th>\n",
       "      <th>category</th>\n",
       "      <th>category_</th>\n",
       "    </tr>\n",
       "  </thead>\n",
       "  <tbody>\n",
       "    <tr>\n",
       "      <th>0</th>\n",
       "      <td>xxbos xxmaj raising xxmaj victor xxmaj vargas : a xxmaj review \\n\\n xxmaj you know , xxmaj raising xxmaj victor xxmaj vargas is like sticking your hands into a big , xxunk bowl of xxunk . xxmaj it 's warm and gooey , but you 're not sure if it feels right . xxmaj try as i might , no matter how warm and gooey xxmaj raising xxmaj victor xxmaj vargas became i was always aware that something did n't quite feel right . xxmaj victor xxmaj vargas suffers from a certain xxunk on the director 's part . xxmaj apparently , the director thought that the ethnic backdrop of a xxmaj latino family on the lower east side , and an xxunk storyline would make the film critic proof . xxmaj he was right , but it did n't fool me . xxmaj raising xxmaj victor xxmaj vargas is the story about a xxunk - year old boy called , you guessed it , xxmaj victor xxmaj vargas ( victor xxmaj xxunk ) who lives his teenage years chasing more xxunk than the xxmaj rolling xxmaj xxunk could do in all the years they 've xxunk . xxmaj the movie starts off in ` ugly xxmaj fat ' xxmaj donna 's bedroom where xxmaj victor is sure to seduce her , but a cry from outside xxunk his plans when his best - friend xxmaj harold ( kevin xxmaj xxunk ) comes - a - looking for him . xxmaj caught in the attempt by xxmaj harold and his sister , xxmaj victor xxmaj vargas runs off for xxunk control . xxmaj yet even with the embarrassing implication that he 's been xxunk the xxunk girl in the neighborhood , nothing xxunk young xxmaj victor from going off on the hunt for more fresh meat . xxmaj on a hot , xxmaj new xxmaj york xxmaj city day they make way to the local public swimming pool where xxmaj victor 's eyes catch a glimpse of the lovely young xxunk xxmaj judy ( judy xxmaj xxunk ) , who 's not just pretty , but a strong and independent too . xxmaj the relationship that develops between xxmaj victor and xxmaj judy becomes the focus of the film . xxmaj the story also focuses on xxmaj victor 's family that is comprised of his grandmother or xxunk ( xxunk xxmaj guzman ) , his brother xxmaj nino ( also played by real life brother to xxmaj victor , xxmaj xxunk xxmaj xxunk ) and his sister xxmaj vicky ( xxunk xxmaj xxunk ) . xxmaj the action follows xxmaj victor between scenes with xxmaj judy and scenes with his family . xxmaj victor tries to xxunk with being an oversexed pimp - daddy , his feelings for xxmaj judy and his grandmother 's conservative xxmaj catholic upbringing . \\n\\n xxmaj the problems that xxunk from xxmaj raising xxmaj victor xxmaj vargas are a few , but glaring errors . xxmaj throughout the film you get to know certain characters like xxmaj vicky , xxmaj nino , xxmaj xxunk , xxmaj judy and even xxmaj judy 's best friend xxmaj xxunk . xxmaj the problem is , we know nothing of xxmaj victor xxmaj vargas except that he is the biggest gigolo in the neighborhood . xxmaj we know that he knows how to lick his lips , and xxunk his xxunk , and carry himself for the sake of xxunk girls into the xxunk , but that 's all . xxmaj we know that xxmaj nino plays piano , and quiet well , you could see it by the awards on the family piano . xxmaj we know his sister xxmaj xxunk , is a gossip - loving girl with an xxunk interest in watching xxup tv . xxmaj we know that xxunk is a hard - working traditional xxmaj xxunk woman who 's trying to raise her kids with xxunk in a world of excess corruption . xxmaj yet where is the titular character , xxmaj victor xxmaj vargas ? xxmaj he 's in this movie somewhere , but we only know what the movie tells us . xxmaj this is by far the film 's biggest flaw . xxmaj victor xxmaj vargas is n't so much a character but a xxunk - xxunk ball , xxunk between scenes with xxmaj judy and his xxmaj grandmother , but we never get to know who xxmaj victor xxmaj vargas really is . xxmaj this is important because as xxmaj i 've mentioned the only thing we know of xxmaj victor xxmaj vargas is that he 's a sexually active teenager with a xxunk the size of xxmaj manhattan . xxmaj he 's a total xxmaj xxunk - male . xxmaj victor xxmaj vargas is not the kind of character i sympathize with at all . xxmaj why should anyone ? xxmaj so by the end of the movie , in the aftermath of the climax are we truly led to believe that somehow xxmaj victor xxmaj vargas has attained xxup any depth and learned the errors of his ways ? xxmaj how could such a two - dimensional character have any depth ? xxmaj if only the director had worried a little more about xxunk out his main character instead of worrying about getting that perfect hand - held shot . \\n\\n xxmaj raising xxmaj victor xxmaj vargas brings to life the world of the xxmaj latino inner - city neighborhood to the big screen . xxmaj something that few films have done before in the past . xxmaj the film has been xxunk for feeling so real , and i wo n't \\n\\n argue with that . i have n't seen this level of reality since xxup xxunk aired xxmaj survivor . xxmaj seriously , although the movie has some nice shots of the city , the writer / director xxmaj peter xxmaj sollett was way too xxunk on close - ups and hand - held shots . xxmaj this problem is particularly noticed in xxunk scenes that are so claustrophobic i was forced to perform deep - breathing xxunk to keep from passing out . xxmaj as the film continues , the shots get tighter and tighter with faces xxunk from xxunk to xxunk on the screen ; you can practically xxunk xxmaj victor xxmaj vargas 's cheap xxunk . xxmaj the overall effect is unrealistic in contrast . xxmaj the xxunk scenes of inner - city apartments make them look small and xxunk , which is not true . xxmaj i 've been in those type apartments ; i used to live in one . xxmaj they 're not xxunk but they have high xxunk and they 're decent living xxunk . xxmaj by the movie 's standards you 'd think that these apartments were xxunk xxunk of xxunk - and - xxunk , xxunk paint and xxunk walls . xxmaj unfortunately , xxmaj sollett 's constant use of close - ups and one particularly bad shot with a xxunk - in on one scene come off as totally amateurish . xxmaj but xxmaj raising xxmaj victor xxmaj vargas is only xxmaj sollett 's second film , and his most well known , a solid effort in filmmaking that will hopefully get better as he continues to make films . xxmaj one review i read xxunk the movie as , ` ethnicity for xxmaj ethnicity 's xxmaj sake , ' and i can not agree more . xxmaj if xxmaj victor xxmaj vargas were truly a great film and story , then the characters ' xxunk would n't matter whether they were xxmaj latino , xxmaj chinese , etc . xxmaj yet if you were to take this story and stick it in middle - class xxunk with a bunch of xxunk - xxunk white kids the results would n't be such glowing reviews , and we 'd see the film 's flaws more clearly . xxmaj indeed , some other aspects of the use of xxmaj latinos in this film bother me . xxmaj while some aspects of xxmaj victor xxmaj vargas are accurate others i have to question . xxmaj for example , xxmaj victor , xxmaj nino and xxmaj vicky all share the same room to sleep . xxmaj this set off an alarm for me because it seemed contrary to what i believe . xxmaj any self - xxunk xxmaj latino family would n't have two older brothers sharing the same room with a thirteen - year old girl . xxmaj at first i was xxunk , perhaps i was wrong , but after speaking with my grandmother i knew my problem with this was justified . xxmaj considering how conservative the grandmother is , you 'd think that xxmaj vicky would have been sleeping in her room . \\n\\n xxmaj as a xxmaj latino who grew up in a somewhat conservative xxmaj cuban household , raised by my grandmother while my mother was working full - time , i could relate to the movie in many ways , which is why my critical xxunk are xxunk because i really wanted to love this movie . xxmaj unfortunately , my lack of respect for xxmaj victor xxmaj vargas xxunk my feelings for the film . xxmaj maybe it 's because xxmaj victor xxmaj vargas reminds me of those guys who were getting laid while i was playing with my xxmaj xxunk xxmaj xxunk when i was xxunk . xxmaj maybe it 's because without any further xxunk by the film , xxmaj victor xxmaj vargas is merely a stereotypical hot - blooded xxmaj latino , who 'll just end up shouting to girls from his car , ` hey bay - xxunk , xxunk want to get into my xxunk xxunk - xxunk ? ' xxmaj either way i do n't like him , so ultimately how can i like a film about him ? xxmaj so if you 'll excuse me , xxmaj i 'm going to go stick my hands into a bowl of xxunk .</td>\n",
       "      <td>negative</td>\n",
       "      <td>negative</td>\n",
       "    </tr>\n",
       "    <tr>\n",
       "      <th>1</th>\n",
       "      <td>xxbos xxup the xxup shop xxup around xxup the xxup corner is one of the xxunk and most feel - good romantic comedies ever made . xxmaj there 's just no getting around that , and it 's hard to actually put one 's feeling for this film into words . xxmaj it 's not one of those films that tries too hard , nor does it come up with the xxunk possible scenarios to get the two protagonists together in the end . xxmaj in fact , all its charm is xxunk , contained within the characters and the setting and the plot … which is highly believable to xxunk . xxmaj it 's easy to think that such a love story , as beautiful as any other ever told , * could * happen to you … a feeling you do n't often get from other romantic comedies , however sweet and heart - warming they may be . \\n\\n xxmaj alfred xxmaj kralik ( james xxmaj stewart ) and xxmaj clara xxmaj xxunk ( margaret xxmaj xxunk ) do n't have the most xxunk of first xxunk when she arrives in the shop ( matuschek &amp; xxmaj co. ) he 's been working in for the past nine years , asking for a job . xxmaj they clash from the very beginning , mostly over a cigarette box that plays music when it 's opened -- he thinks it 's a ludicrous idea ; she makes one big sell of it and gets hired . xxmaj their bickering takes them through the next six months , even as they both ( xxunk , of course ! ) fall in love with each other when they share their souls and minds in letters passed through xxup xxunk xxmaj box xxunk . xxmaj this would be a pretty thin xxunk to base an entire film on , except that xxup the xxup shop xxup around xxup the xxup corner is xxunk xxunk - out with a brilliant supporting cast made up of entirely engaging characters , from the xxunk but lonely xxmaj hugo xxmaj matuschek ( frank xxmaj morgan ) himself , who learns that his shop really is his home ; xxmaj xxunk ( felix xxmaj xxunk ) , xxmaj kralik 's sidekick and friend who always xxunk out of the room when faced with the possibility of being asked for his honest opinion ; xxunk pimp - du - xxunk xxmaj xxunk ( joseph xxmaj xxunk ) who ultimately gets his comeuppance from a xxunk righteous xxmaj kralik ; and ambitious xxunk boy xxmaj xxunk xxmaj xxunk ( william xxmaj tracy ) who wants nothing more than to be promoted to the position of xxunk for xxmaj matuschek &amp; xxmaj co. xxmaj the xxunk love story between ' dear xxmaj friends ' is played out in this little shop in xxmaj budapest , xxmaj hungary , in which xxmaj kralik 's xxunk xxunk and subsequent xxunk to shop manager help the two xxunk - to - be along . xxmaj it 's nice that everyone gets a story in this film ; the supporting characters are well - developed , and xxmaj matuschek 's own journey in life is almost as touching as the one xxmaj alfred and xxmaj clara share . xxmaj his xxunk to new xxunk boy xxmaj xxunk ( charles xxmaj smith ) for xxmaj christmas xxmaj eve dinner , made in the xxunk , beautiful snow of a xxmaj hungarian winter , makes the audience glad that he is not alone ; we come to care even for the characters whose love story it is n't this film 's business to tell . \\n\\n xxmaj aside from the love story , i must say that xxmaj james xxmaj stewart is truly one of the best things about this film . xxmaj he does n't play the full - xxunk xxmaj jimmy xxmaj stewart persona in this film ( c / f ' mr xxmaj smith xxmaj goes xxmaj to xxmaj washington ' for that ) ; in fact xxmaj alfred xxmaj kralik is xxunk and abrupt and not particularly kind . xxmaj he 's rather a xxunk man , in fact , with little hint ( until , perhaps , the very end ) of the xxunk - xxunk down - home xxunk charm xxmaj stewart would soon come to xxunk . xxmaj when he finds out before xxmaj clara that they have been xxunk in secret , in fact , xxmaj kralik does n't ' xxunk up -- he xxunk it out to see how far he can take the xxunk , especially since he quickly realises ( given his stormy relationship with xxmaj clara as boss and xxunk ) that loving the person he knows through the xxunk letters might not xxunk with loving the person herself . xxmaj his description to xxmaj clara of the fictional xxmaj xxunk xxmaj xxunk ( what a name ! ) who was to become her xxunk is hilarious in the extreme , but also his way of proving that the letters do n't reveal all there is to a man , just as her letters do n't reveal all there is to her . xxmaj stewart plays this role perfectly -- he keeps his face perfectly controlled whenever xxmaj clara insults xxmaj mr . xxmaj kralik , as she is often wo nt to do , even ( and especially ) to his face . xxmaj and yet one believes , underneath the xxunk and xxunk , that he * could * reveal his identity with as much xxunk and xxunk and sheer * hope * as he eventually does . \\n\\n xxmaj special mention must be given to the other members of the cast as well . xxmaj margaret xxmaj xxunk xxunk rather less well in the first half of the film , but she really comes into her own in the closing - shop scene on xxmaj christmas xxmaj eve , when she almost gets her heart broken again by xxmaj alfred 's most vivid description of her xxunk xxunk . xxmaj frank xxmaj morgan turns in a great performance as the jealous xxmaj hugo xxmaj matuschek driven to nervous breakdown , the man who has to xxunk his meaning in life when he realises that his wife of 22 years does not want to ' grow old with him ' . xxmaj and xxmaj felix xxmaj xxunk plays the role of the meek but xxunk xxmaj xxunk wonderfully ( a xxmaj lubitsch regular , since he appears as a hilarious xxmaj russian xxunk in xxunk particular note is the scene in which he helps his good friend xxmaj alfred get the xxmaj christmas present the latter * really * wants … a wallet instead of that ludicrous cigarette box xxmaj clara is so hung up on . \\n\\n xxmaj xxunk xxmaj lubitsch really does himself proud with this film -- for example , the famously xxunk and xxunk care given to detail in the creation of the xxmaj matuschek shop is well worth the effort , right down to the xxmaj hungarian names on the door , the xxunk and the cash xxunk and so on . xxmaj but even though xxmaj lubitsch chose to have the story set in xxmaj hungary , the setting is actually universal : it could happen anywhere ; it could happen to you . xxmaj xxunk lies the charm of this simple story , these believable characters who really * are * people . xxmaj the snow on xxmaj christmas xxmaj eve is real as well , or at least as real as xxmaj lubitsch could make it ( he had snow machines brought in at great expense ) . xxmaj it is this desire to make everything appear as real as possible that helps make the story even more believable , that gives this entire film a dreamy realism that can not be xxunk . ( no , not even in a remake like xxup you 've xxup got xxup mail . ) \\n\\n * this * is really the xxmaj jimmy xxmaj stewart xxmaj christmas film that people are missing out on when they talk about xxup it 's a xxup wonderful xxup life . xxmaj not to xxunk from the merits of that other film , but there 'd be no harm , and in fact a lot of good , done in watching xxup the xxup shop xxup around xxup the xxup corner this xxmaj christmas instead . xxmaj it 's sweet , funny , charming , and xxmaj stewart is xxunk in his role . xxmaj we should all be so lucky as to have the romance depicted in this film ; the best thing about this film is that we come away from it feeling that we very possibly could .</td>\n",
       "      <td>positive</td>\n",
       "      <td>positive</td>\n",
       "    </tr>\n",
       "    <tr>\n",
       "      <th>2</th>\n",
       "      <td>xxbos xxmaj now that xxmaj che(2008 ) has finished its relatively short xxmaj australian cinema run ( extremely limited xxunk screen in xxmaj xxunk , after xxunk ) , i can xxunk join both xxunk of \" at xxmaj the xxmaj movies \" in taking xxmaj steven xxmaj soderbergh to task . \\n\\n xxmaj it 's usually satisfying to watch a film director change his style / subject , but xxmaj soderbergh 's most recent stinker , xxmaj the xxmaj girlfriend xxmaj xxunk ) , was also missing a story , so narrative ( and editing ? ) seem to suddenly be xxmaj soderbergh 's main challenge . xxmaj strange , after xxunk years in the business . xxmaj he was probably never much good at narrative , just xxunk it well inside \" edgy \" projects . \\n\\n xxmaj none of this excuses him this present , almost diabolical failure . xxmaj as xxmaj david xxmaj stratton xxunk , \" two parts of xxmaj che do n't ( even ) make a whole \" . \\n\\n xxmaj epic xxunk in name only , xxmaj che(2008 ) barely qualifies as a feature film ! xxmaj it certainly has no legs , xxunk as except for its xxunk ultimate resolution forced upon it by history , xxmaj soderbergh 's xxunk - long xxunk just goes nowhere . \\n\\n xxmaj even xxmaj margaret xxmaj xxunk , the more xxunk of xxmaj australia 's xxmaj at xxmaj the xxmaj movies duo , noted about xxmaj soderbergh 's xxunk waste of ( xxunk digital xxunk ) : \" you 're in the woods … you 're in the woods … you 're in the woods … \" . i too am surprised xxmaj soderbergh did n't give us another xxunk of xxup that somewhere between his xxunk two xxmaj parts , because he still left out massive xxunk of xxmaj che 's \" xxunk \" life ! \\n\\n xxmaj for a xxunk of an important but infamous historical figure , xxmaj soderbergh xxunk xxunk , if not deliberately insults , his audiences by \\n\\n 1 . never providing most of xxmaj che 's story ; \\n\\n 2 . xxunk xxunk film xxunk with mere xxunk xxunk ; \\n\\n 3 . xxunk both true hindsight and a narrative of events ; \\n\\n 4 . barely developing an idea , or a character ; \\n\\n 5 . remaining xxunk episodic ; \\n\\n 6 . xxunk proper context for scenes xxrep 3 - whatever we do get is xxunk in xxunk xxunk ; \\n\\n 7 . xxunk xxunk all audiences ( even xxmaj spanish - xxunk will be confused by the xxunk xxunk in xxmaj english ) ; and \\n\\n 8 . xxunk xxunk his main subject into one dimension . xxmaj why , at xxup this late stage ? xxmaj the xxmaj t - shirt franchise has been a success ! \\n\\n xxmaj our sense of xxunk is surely due to xxmaj peter xxmaj xxunk and xxmaj benjamin xxunk xxmaj xxunk xxunk their screenplay solely on xxmaj xxunk 's memoirs . xxmaj so , like a poor student who has read only xxup one of his xxunk xxunk for his xxunk , xxmaj soderbergh 's product is xxunk limited in perspective . \\n\\n xxmaj the audience is held captive within the same xxunk knowledge , scenery and circumstances of the \" revolutionaries \" , but that does n't xxunk our sympathy . xxmaj instead , it xxunk on us that \" ah , xxmaj soderbergh 's trying to xxunk his audiences the same as the xxmaj latino peasants were at the time \" . xxmaj but these are the xxup same illiterate xxmaj latino peasants who sold out the good doctor to his enemies . xxmaj why does xxmaj soderbergh feel the need to xxunk us with them , and keep us equally mentally captive ? xxmaj such audience xxunk must have a purpose . \\n\\n xxmaj part2 is more xxunk than xxmaj part1 , but it 's literally mind - numbing with its repetitive bush - bashing , misery of outlook , and lack of variety or character xxunk . deltoro 's xxmaj che has no opportunity to grow as a person while he struggles to xxunk his own ill - xxunk troops . xxmaj the only xxunk is the humour as xxmaj che deals with his sometimes deeply ignorant \" revolutionaries \" , some of whom xxunk lack self - control around local peasants or food . xxmaj we certainly get no insight into what caused the conditions , nor any xxunk xxunk of their xxunk xxunk , such as it was . \\n\\n xxmaj part2 's excruciating xxunk remains xxunk episodic : again , nothing is telegraphed or xxunk . xxmaj thus even the scenes with xxmaj xxunk xxmaj xxunk ( xxunk xxmaj xxunk ) are unexpected and disconcerting . xxmaj any xxunk events are portrayed xxunk and xxmaj latino - xxunk , with xxmaj part1 's interviews replaced by time - xxunk xxunk between the corrupt xxmaj xxunk president ( xxunk de xxmaj xxunk ) and xxup us xxmaj government xxunk promising xxup cia xxunk ( ! ) . \\n\\n xxmaj the rest of xxmaj part2 's \" woods \" and day - for - night blue xxunk just xxunk the audience until they 're xxunk the xxunk . \\n\\n xxmaj perhaps deltoro felt too xxunk the frustration of many non - american xxmaj latinos about never getting a truthful , xxunk history of xxmaj che 's exploits within their own countries . xxmaj when foreign xxunk still wo n't deliver a free press to their people -- for whatever reason -- then one can see how a popular xxmaj american indie producer might set out to entice the not - so - well - read ( \" i may not be able to read or write , but xxmaj i 'm xxup not xxunk xxmaj inspector xxmaj xxunk ) ) out to their own local cinemas . xxmaj the film 's obvious xxunk and gross over - xxunk hint very strongly that it 's aiming only at the xxunk of the less - informed xxup who xxup still xxup speak xxup little xxmaj english . xxmaj if they did , they 'd have read xxunk on the subject already , and xxunk the relevant social issues amongst themselves -- learning the lessons of history as they should . \\n\\n xxmaj such insights are precisely what societies still need -- and not just the remaining illiterate xxmaj latinos of xxmaj central and xxmaj south xxmaj america -- yet it 's what xxmaj che(2008 ) xxunk fails to deliver . xxmaj soderbergh xxunk his lead because he 's weak on narrative . i am xxunk why xxmaj xxunk deltoro deliberately chose xxmaj soderbergh for this project if he knew this . xxmaj it 's been xxunk , hindsight about xxmaj xxunk was xxunk wanted : it 's what i went to see this film for , but the director xxunk robs us of that . \\n\\n xxmaj david xxmaj stratton , writing in xxmaj the xxmaj australian ( xxunk ) observed that while xxmaj part1 was \" uneven \" , xxmaj part2 actually \" goes rapidly downhill \" from there , \" xxunk xxmaj che 's final campaign in xxmaj xxunk in excruciating detail \" , which \" … feels almost unbearably slow and turgid \" . \\n\\n che : the xxmaj xxunk aka xxmaj part2 is certainly no xxunk for xxmaj xxunk , painting it a picture of misery and xxunk . xxmaj the entire second half is only redeemed by the aforementioned humour , and the dramatic -- yet tragic -- capture and execution of the film 's subject . \\n\\n xxmaj the rest of this xxunk cinema xxunk is just confusing , irritating misery -- xxunk , for a xxmaj soderbergh film , to be avoided at all costs . xxmaj it is bound to break the hearts of all who know even just a xxunk about the xxunk / 10 )</td>\n",
       "      <td>negative</td>\n",
       "      <td>negative</td>\n",
       "    </tr>\n",
       "    <tr>\n",
       "      <th>3</th>\n",
       "      <td>xxbos xxmaj this film sat on my xxmaj xxunk for weeks before i watched it . i xxunk a self - indulgent xxunk flick about relationships gone bad . i was wrong ; this was an xxunk xxunk into the screwed - up xxunk of xxmaj new xxmaj xxunk . \\n\\n xxmaj the format is the same as xxmaj max xxmaj xxunk ' \" la xxmaj xxunk , \" based on a play by xxmaj arthur xxmaj xxunk , who is given an \" inspired by \" credit . xxmaj it starts from one person , a prostitute , standing on a street corner in xxmaj brooklyn . xxmaj she is picked up by a home contractor , who has sex with her on the hood of a car , but ca n't come . xxmaj he refuses to pay her . xxmaj when he 's off xxunk , she answers his cell phone and takes a message . xxmaj she runs away with his keys . \\n\\n xxmaj then the story switches to the contractor , who pays a professional call on a rich , bored xxmaj new xxmaj york woman , who plays with him until he is xxunk , then she pulls away . xxmaj she tells him how desperate and unhappy she is ; he tells her how beautiful she is , and lucky . xxmaj as he is leaving , she asks if he would have sex with her . xxmaj she sits on top of him , xxunk up and down . xxmaj this time he comes , the he leaves . \\n\\n xxmaj the woman and her husband throw a dinner party for their xxunk friends . xxmaj xxunk ( robert ) is talking business , wife ( ellen ) is bored , and switches the subject to sex , and how often men and women think about it . xxmaj husband switches conversation to desert . xxmaj later , after the xxunk leave , xxmaj ellen tries to entice xxmaj robert into sex . xxmaj robert wants none of it , and puts on a jazz record . xxmaj ellen turns on the radio ; xxmaj robert turns up the music ; xxmaj ellen turns on the xxup tv ; xxmaj robert turns on another xxup tv . xxmaj xxunk ensues . xxmaj ellen goes up on the roof , xxmaj robert joins her . xxmaj ellen confesses that she needs to experience more men , men other than xxmaj robert . xxmaj robert says that he too needs to experience men . \\n\\n xxmaj we next follow xxmaj robert as he visits an artist , xxmaj martin , played by xxmaj steve xxmaj buscemi . i wish xxmaj buscemi could have more roles like this , where he is a sexy , smart , totally xxunk guy . xxmaj robert xxunk xxmaj martin 's work , much more than it deserves , xxunk to get it into a show . xxmaj martin is excited , until it turns out that xxmaj robert is speaking out of his xxunk , it is all a xxunk dance . xxmaj robert tries to kiss xxmaj martin , on the lips , and xxmaj martin pulls back , saying that he is not gay . xxmaj robert xxunk that he 's not gay either , xxmaj martin xxunk . xxmaj both admit that the xxunk are bad . xxmaj robert is about to leave , when xxmaj martin allows xxmaj robert to kiss him . xxmaj they make out , and xxmaj robert goes down on xxmaj martin . \\n\\n xxmaj next we follow xxmaj martin , as he xxunk for an art show at a xxmaj manhattan gallery . xxmaj he is xxunk by the xxunk , xxmaj anna , played by xxmaj rosario xxmaj dawson . ( i had to cut some of this review to keep it under 1 xxrep 3 0 words ) … and they make love to each other . \\n\\n xxmaj we next follow xxmaj anna , who is sitting at a lunch stand . xxmaj her boyfriend , xxmaj nick ( adrian xxmaj xxunk ) , enters , bearing xxunk . xxmaj she is cold toward him ; he tries to figure out why . xxmaj he coaxes out of her the information that she has had sex with someone while he was in xxmaj san xxmaj francisco . xxmaj she coaxes out of him the fact that he has stayed with his ex - xxunk while in xxmaj san xxmaj francisco , and had sex with her . xxmaj the latter revelation turns out to be a lie . xxmaj the two of them make out in the xxunk , but she decides that they must break up . xxmaj nick is xxunk . \\n\\n xxmaj and we follow xxmaj nick , who confesses his xxunk to an older woman who he meets on a park bench , xxmaj joey ( carol xxmaj kane ) . xxmaj joey is sort of weird and child - like , but is a good audience for xxmaj nick , who needs a sympathetic ear . xxmaj the two of them go to xxmaj xxunk xxmaj island at night , and look at the stars . xxmaj nick falls under xxmaj joey 's spell , despite the age difference between them . xxmaj they go back to xxmaj joey 's apartment , and xxmaj nick gradually realizes that he is about to have sex with a crazy old woman . xxmaj she is on top of him , does n't want to let him go . xxmaj but he manages to escape . \\n\\n ( this is , by the way , the best xxmaj carol xxmaj kane role since she played xxmaj xxunk 's wife in xxmaj taxi . ) xxmaj joey 's phone rings , and it is a man calling the xxmaj psychic xxmaj friends xxmaj network , and xxmaj joey is one of the psychic friends . xxmaj although she is still hurting from xxmaj nick , she gradually gets into her psychic xxunk . xxmaj the man is at his office , late at night , and wants to have phone sex with her . xxmaj although that is not xxmaj joey 's business , xxmaj joey goes along , and coaxes the man to come . xxmaj she wants to keep talking , although the man want to get off the phone , and finds out that he has xxunk a lot of money from his company , and will be found out xxunk . xxmaj his life is ruined . xxmaj joey realizes that the man is going to commit suicide , and she tries to make him believe that she is his friend , that she cares about him . xxmaj and she does care about him . \\n\\n xxmaj but the man packs a gun into his xxunk , and goes off to seek a prostitute on the xxmaj brooklyn xxunk , and we come back to the beginning , to the same prostitute who started out xxmaj la xxmaj xxunk . xxmaj she wants to give him $ xxunk , xxrep 3 0 in cash if she will kill him . xxmaj he tried to kill himself , but could n't do it . xxmaj the prostitute does not want to do it , but he insists , holding her hand , holding the gun inside his mouth , telling her where to aim . xxmaj eventually , the gun goes off , and we see the prostitute walking down the street , and xxunk at the corner where she normally does business . xxmaj the contractor who did n't pay her earlier in the movie drives up , xxunk down the window . xxmaj they look at each other . xxup the xxup end .</td>\n",
       "      <td>positive</td>\n",
       "      <td>positive</td>\n",
       "    </tr>\n",
       "    <tr>\n",
       "      <th>4</th>\n",
       "      <td>xxbos i really wanted to love this show . i truly , honestly did . \\n\\n xxmaj for the first time , gay viewers get their own version of the \" the xxmaj bachelor \" . xxmaj with the help of his obligatory \" hag \" xxmaj xxunk , xxmaj james , a good looking , well - to - do thirty - something has the chance of love with 15 suitors ( or \" mates \" as they are referred to in the show ) . xxmaj the only problem is half of them are straight and xxmaj james does n't know this . xxmaj if xxmaj james picks a gay one , they get a trip to xxmaj new xxmaj zealand , and xxmaj if he picks a straight one , straight guy gets $ 25 , xxrep 3 0 . xxmaj how can this not be fun ? ! xxmaj take my hand , lets xxunk : \\n\\n xxmaj the most glaring problem with this show is the bachelor himself . xxmaj james is your typical young and successful gay guy with a nice smile and body , the one you 'd probably give two glances towards at your local bar before xxunk for xxunk xxunk . xxmaj why they chose to cast xxmaj james as the leading man is beyond me . xxmaj god knows there 's so many other hotter and xxunk homosexual men out there dying to be on xxup tv . \\n\\n xxmaj aside from his rather average physical appearance , xxmaj james is about as interesting and exciting as a piece of chalk . xxmaj even as such , he has this arrogant , xxunk xxunk xxunk about him . xxmaj however , if xxmaj james were standing up against a blank , white wall he 'd xxunk right into in it . i honestly ca n't recall a single interesting or xxunk thing xxmaj james said during the course of the show . xxmaj he is xxup that boring and forgettable . xxmaj in fact , one of the mates flat out xxunk him he was n't feeling a connection . i thought that was the best part of the show . xxmaj also , xxmaj james speaks with an excruciatingly annoying xxunk . xxmaj sound feminine or sound xxunk , but do n't xxrep 4 * xxunk xxunk xxunk in the middle of sentences … so painful to sit through . i hated him so much all throughout the show i kept thinking , \" please choose a straight guy and xxunk yourself and your unfortunate looking hag \" \\n\\n xxmaj then we have the suitors . a remarkably bland bunch of men who do n't seem to care either way what is happening . xxmaj equally xxunk , they seem to be xxunk from one guy to the next except , \" hey that guy has blond highlights or oh that one has curly hair \" xxmaj again , xxunk inept casting decisions seem to be the aim of this show . xxmaj while it may be hackneyed to type cast roles , it would 've been a lot more entertaining to watch than these xxunk drones . xxmaj however , in all their xxunk they still manage to upstage xxmaj james ( which is n't all that hard to do anyway ) , slightly that is . xxmaj you know you have a problem when some of the suitors are actually hotter and more interesting than the leading man . xxmaj and the fact that the suitors seem to have more fun around xxup each xxup other than with the leading man ? xxmaj very sad . \\n\\n xxmaj also , i just thought that xxmaj i d point something mentioned on the message xxunk which i felt was actually true : the straight men are all hotter than the gay guys . \\n\\n xxmaj do n't get me wrong , xxmaj i m not saying all the gay guys were ugly and boring , as a matter of fact i found some of them very cute . xxmaj it 's just that overall they were just xxup blah compared to the men you 'd see on shows like a xxmaj shot xxmaj at xxmaj love with xxmaj xxunk xxmaj xxunk or xxmaj the xxmaj xxunk . \\n\\n i do n't know how many times i hit fast forward during this show . i can accept a lead character as interesting as a cardboard box , i can accept the xxunk , xxunk suitors but xxup please for the love of xxmaj god entertain me just a little . xxmaj no such luck . \\n\\n xxmaj if you 're expecting drama , intrigue , xxunk , or excitement you will be xxup severely disappointed . xxmaj the biggest \" drama \" comes from the fact that one of the suitors still may have a boyfriend in xxmaj new xxmaj york ( how xxunk ! ) . xxmaj as xxunk as that may be i guarantee you , that is the xxup only thing that remotely resembles any conflict on this show . \\n\\n xxmaj sure there is the twist , but if you have any semblance of xxmaj xxunk in you , you 'll easily xxunk who 's who ( it was n't hard at all , i was only wrong once . ) xxmaj this show is stacking so much of its xxunk on the twist that it fails to deliver anywhere else . \\n\\n xxmaj we get to watch as xxmaj james &amp; xxmaj co xxunk along such exciting activities such as learning how to xxmaj western step dance , shopping for xxunk , visiting a xxunk xxunk , and gay xxunk . xxup yawn . xxmaj sure you have the occasional topless dancing but who cares when everyone is boring anyway . xxmaj that 's one of main problems with the show : xxup no xxup one seems to be enjoying themselves -- they are there just going through the motion trying xxunk hard to appear to have a good time . xxmaj and you really ca nt blame them since the events are all wildly unimaginative and lame . \\n\\n xxmaj finally , the physical aspect is not there . xxmaj there 's no xxunk , no xxunk , no kissing ( ! ) , no xxunk of any sort . xxmaj it 's just \" ok that was a boring date , xxmaj i m gon na go back to my ugly , tacky wanna - be xxmaj xxunk xxmaj xxunk dwelling ( quick xxunk on the lips ) xxup xxunk . \" xxmaj this show is so xxrep 4 * xxunk xxunk it 's ridiculous . i can understand them not wanting to play up the xxunk xxunk nature of homosexual men , but come the xxrep 4 * on . xxmaj people who watch reality xxup tv shows are gon na want more than xxunk xxunk and xxunk kisses . xxmaj this show refuses to compromise . \\n\\n xxmaj sorry if this was long winded but i felt these were issues that needed to be xxunk . i do commend xxmaj bravo for first putting up a show of this nature , but the xxunk incompetent manner in which this show was handled is mind xxunk . xxmaj to summarize my three points : xxmaj boring + xxmaj boring + xxmaj boring = go do something else . xxmaj you 'll have more fun waiting at a doctor 's office for an xxunk , at least they have interesting xxunk there .</td>\n",
       "      <td>negative</td>\n",
       "      <td>negative</td>\n",
       "    </tr>\n",
       "  </tbody>\n",
       "</table>"
      ],
      "text/plain": [
       "<IPython.core.display.HTML object>"
      ]
     },
     "metadata": {},
     "output_type": "display_data"
    }
   ],
   "source": [
    "learn.show_results(max_n=5)"
   ]
  },
  {
   "cell_type": "code",
   "execution_count": null,
   "metadata": {},
   "outputs": [],
   "source": [
    "from local.interpret import *"
   ]
  },
  {
   "cell_type": "code",
   "execution_count": null,
   "metadata": {},
   "outputs": [
    {
     "data": {
      "text/html": [],
      "text/plain": [
       "<IPython.core.display.HTML object>"
      ]
     },
     "metadata": {},
     "output_type": "display_data"
    }
   ],
   "source": [
    "interp = Interpretation.from_learner(learn)"
   ]
  },
  {
   "cell_type": "code",
   "execution_count": null,
   "metadata": {},
   "outputs": [
    {
     "data": {
      "text/html": [
       "<table border=\"1\" class=\"dataframe\">\n",
       "  <thead>\n",
       "    <tr style=\"text-align: right;\">\n",
       "      <th></th>\n",
       "      <th>input</th>\n",
       "      <th>target</th>\n",
       "      <th>predicted</th>\n",
       "      <th>probability</th>\n",
       "      <th>loss</th>\n",
       "    </tr>\n",
       "  </thead>\n",
       "  <tbody>\n",
       "    <tr>\n",
       "      <th>0</th>\n",
       "      <td>xxbos xxmaj i 'm gon na xxunk the xxunk here a bit and say i enjoyed this . xxmaj however , the cartoon is really only going to appeal to those who have very xxunk xxunk . xxmaj it 's definitely something that most people will not get , as is the nature of xxunk . \\n\\n the animation is horrible , but yes , that 's the point . xxmaj the main character is foul mouthed , violent , and stupid . no redeeming qualities whatsoever . his wife xxunk and xxunk , apparently just barely capable of the most basic xxunk skills . most of these stories completely lack any kind of point . \\n\\n but again , that 's the point xxunk \\n\\n xxmaj if non xxunk , foul language , and complete and utter xxunk are your thing , you 're going to love this . \\n\\n xxmaj it is really short , so i would probably rent instead of buying .</td>\n",
       "      <td>positive</td>\n",
       "      <td>negative</td>\n",
       "      <td>0.9745826125144958</td>\n",
       "      <td>3.6723222732543945</td>\n",
       "    </tr>\n",
       "    <tr>\n",
       "      <th>1</th>\n",
       "      <td>xxbos xxmaj i 've just finished listening to the director 's commentary for this film , and i think the one big thing i got from it that i agree with is that this film , like xxmaj xxunk 's xxmaj the xxmaj xxunk , is completely xxunk . xxmaj it 's from xxmaj howard 's xxup xxunk . xxmaj so , any review or attempt at contemplating a set of comments about it , as xxmaj ebert did , is really about xxmaj nolte 's character actually . xxmaj if you feel , as he did , that the film \" does not work \" , then you 're saying , i think , that xxmaj howard does not work . xxmaj and , to be frank , you might be right . xxmaj howard 's xxunk and personality really would n't stand up to professional mental xxunk and analysis . \\n\\n xxmaj but , hey , that 's the nature of people . \\n\\n xxmaj andrew .</td>\n",
       "      <td>positive</td>\n",
       "      <td>negative</td>\n",
       "      <td>0.909514844417572</td>\n",
       "      <td>2.402569532394409</td>\n",
       "    </tr>\n",
       "    <tr>\n",
       "      <th>2</th>\n",
       "      <td>xxbos i tend to love everything the great late xxmaj paul xxmaj naschy ( xxunk . ) ever was in . xxmaj while not all films starring xxmaj naschy are great , they all have a specific charm that can be found nowhere but in xxmaj naschy - flicks , and they are always entertaining . xxmaj there is no rule without exception , however , as \" el xxmaj mariscal xxmaj del xxmaj infierno \" aka . \" the xxmaj devil 's xxmaj possessed \" ( 1974 ) proves . xxmaj while the film does have the specific xxmaj naschy - flick - charm , it sadly drags far too much and gets really , really dull in - between . xxmaj naschy stars as the evil xxmaj baron xxmaj xxunk xxmaj de xxmaj xxunk , who xxunk the people and uses black magic and bloody xxunk to stay in power . xxmaj when xxmaj xxunk de xxmaj xxunk ( xxunk xxmaj xxunk ) , who fought side by side with xxmaj xxunk xxmaj de xxmaj xxunk against the xxmaj british , learns about the xxmaj baron 's evil behavior , he decides to turn against his former xxunk in arms and help the people free themselves from the satanic xxmaj baron 's xxunk … \\n\\n xxmaj directed by xxmaj xxunk xxmaj xxunk , who is best known for directing xxmaj naschy in \" la xxmaj xxunk xxmaj de xxmaj xxunk \" ( \" the xxmaj werewolf xxmaj vs. xxmaj the xxmaj vampire xxmaj woman \" , 1971 ) , the film was scripted by xxmaj naschy himself . xxmaj naschy often scripted his own films , and one must say that he mostly did a better , more original job than it is the case here . \" el xxmaj mariscal xxmaj del xxmaj infierno \" is mostly built up as a historical adventure rather than a xxmaj horror film , and it gets quite boring throughout the middle . xxmaj it often resembles the xxmaj sword and xxmaj xxunk films from the 50s , only that this film is set in xxunk times . xxmaj the xxmaj satanic part was probably only added because the great xxmaj paul xxmaj naschy 's name is linked to the xxmaj horror genre . xxmaj the film has its good parts : xxmaj paul xxmaj naschy giving weird speeches , xxmaj paul xxmaj naschy looking weird , xxmaj paul xxmaj naschy doing xxmaj satanic stuff , xxmaj paul xxmaj naschy xxunk innocent victims , etc . xxmaj but sadly , most of the film xxunk on the boring hero and the good guys , and these moments are boring . xxmaj the female cast members are nice to look at , but , unlike most xxmaj naschy films , this one features no nudity and sleaze . xxmaj there is some gore , but it mostly looks clumsy and is n't as fun too look at as it is the case with most other xxmaj naschy films . xxmaj overall , \" el xxmaj mariscal xxmaj del xxmaj infierno \" is only worth a look for my fellow xxmaj naschy - xxunk . xxmaj there are dozens of films starring the xxmaj spanish xxmaj horror xxunk which should be seen before this one , such as \" el xxmaj xxunk xxmaj de xxmaj la xxmaj morgue \" ( \" the xxmaj xxunk of the xxmaj morgue \" , 1973 ) , \" la xxmaj xxunk xxmaj de xxmaj los xxmaj muertos \" ( \" the xxmaj hanging xxmaj woman \" , 1973 ) , \" el xxmaj xxunk xxmaj xxunk xxmaj de xxmaj la xxmaj xxunk \" ( \" horror xxmaj rises xxmaj from xxmaj the xxmaj xxunk \" , 1973 ) , \" xxunk xxmaj de xxmaj xxunk \" ( \" panic xxmaj beats \" , xxunk ) , \" xxunk xxmaj xxunk \" ( 2004 ) , or any of the ' xxunk xxmaj xxunk ' werewolf films . xxup xxunk . xxmaj paul xxmaj naschy . xxmaj legends never die !</td>\n",
       "      <td>negative</td>\n",
       "      <td>positive</td>\n",
       "      <td>0.8922116756439209</td>\n",
       "      <td>2.227585792541504</td>\n",
       "    </tr>\n",
       "    <tr>\n",
       "      <th>3</th>\n",
       "      <td>xxbos xxmaj once again the two bickering professors must join together to save the lost world . xxmaj the five members of the first expedition return ( see xxmaj the xxmaj lost xxmaj world , xxunk , for a list of actors ) . a man seeking oil brings a xxunk crew to the xxunk . xxmaj instead of striking oil they tap an underground xxunk which threatens all life in the xxmaj lost xxmaj world . xxmaj the oil crew clash with the native people and the scientific expedition . xxmaj although the situation looks hopeless … . ( i 'm not going to tell you the ending ) .</td>\n",
       "      <td>positive</td>\n",
       "      <td>negative</td>\n",
       "      <td>0.8912173509597778</td>\n",
       "      <td>2.218402624130249</td>\n",
       "    </tr>\n",
       "    <tr>\n",
       "      <th>4</th>\n",
       "      <td>xxbos xxmaj except for the xxmaj brady xxmaj variety xxmaj hour , this was some of the xxunk television xxmaj i 've seen in a while . xxmaj the video production qualities were n't too bad , but the overall look and feel were xxunk early 80 's . xxmaj and xxmaj marie xxmaj xxunk looks like she did battle with the xxmaj xxunk xxmaj lady .. and lost big time . xxup way too much xxunk . \\n\\n xxmaj it was kind of embarrassing to watch veterans xxmaj danny xxmaj xxunk and xxmaj eric xxmaj xxunk take part in this . xxmaj even more interesting was watching xxmaj alex xxmaj haley talk about the xxmaj african xxmaj xxunk in xxmaj world xxmaj showcase that would be opening ' in about a year . ' \\n\\n xxmaj as of this writing it is 17 years later and it has n't opened yet ( unless you count xxmaj disney 's xxmaj animal xxmaj kingdom . ) xxmaj all in all though , for all the shortcomings , this still an interesting visual piece of xxmaj disney history .</td>\n",
       "      <td>negative</td>\n",
       "      <td>positive</td>\n",
       "      <td>0.8594365119934082</td>\n",
       "      <td>1.9620959758758545</td>\n",
       "    </tr>\n",
       "    <tr>\n",
       "      <th>5</th>\n",
       "      <td>xxbos xxmaj this is n't the best xxmaj xxunk ever made , but by the recent standards of xxmaj nature gone awry movies , mostly showing on the sci - fi channel , this is quality stuff . xxmaj it has some action , some humor , decent f / x and xxmaj xxunk . xxup xxunk is used , but so are some practical f / xxup x , which i like . \\n\\n xxmaj overall this movie is worth a watch if you are a fan of b horror / sci - fi and need a xxunk . xxmaj it 's better than the movie xxmaj xxunk and not a sequel to it , so do n't be xxunk . \\n\\n xxmaj the acting is better than you may expect to find in a movie like this and the directing is more than adequate . xxmaj expect a bit of a xxunk as the characters are \" developed \" , but know that things will pick up . xxmaj if you are watching a xxup dvd you may want to skip a chapter or two .</td>\n",
       "      <td>positive</td>\n",
       "      <td>negative</td>\n",
       "      <td>0.8575683236122131</td>\n",
       "      <td>1.9488929510116577</td>\n",
       "    </tr>\n",
       "  </tbody>\n",
       "</table>"
      ],
      "text/plain": [
       "<IPython.core.display.HTML object>"
      ]
     },
     "metadata": {},
     "output_type": "display_data"
    }
   ],
   "source": [
    "interp.plot_top_losses(6)"
   ]
  },
  {
   "cell_type": "code",
   "execution_count": null,
   "metadata": {},
   "outputs": [],
   "source": []
  }
 ],
 "metadata": {
  "kernelspec": {
   "display_name": "Python 3",
   "language": "python",
   "name": "python3"
  }
 },
 "nbformat": 4,
 "nbformat_minor": 2
}
