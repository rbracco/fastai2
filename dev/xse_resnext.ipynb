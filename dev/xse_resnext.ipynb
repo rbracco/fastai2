{
 "cells": [
  {
   "cell_type": "code",
   "execution_count": null,
   "metadata": {},
   "outputs": [],
   "source": [
    "#default_exp vision.models.xsenet"
   ]
  },
  {
   "cell_type": "code",
   "execution_count": null,
   "metadata": {},
   "outputs": [],
   "source": [
    "#export\n",
    "from local.torch_basics import *\n",
    "from local.test import *"
   ]
  },
  {
   "cell_type": "code",
   "execution_count": null,
   "metadata": {},
   "outputs": [],
   "source": [
    "# export\n",
    "class ProdLayer(Module):\n",
    "    \"Merge a shortcut with the result of the module by multiplying them.\"\n",
    "    def forward(self, x): return x * x.orig"
   ]
  },
  {
   "cell_type": "code",
   "execution_count": null,
   "metadata": {},
   "outputs": [],
   "source": [
    "#export\n",
    "inplace_relu = partial(nn.ReLU, inplace=True)"
   ]
  },
  {
   "cell_type": "code",
   "execution_count": null,
   "metadata": {},
   "outputs": [],
   "source": [
    "# export\n",
    "def SEModule(ch, reduction):\n",
    "    return SequentialEx(nn.AdaptiveAvgPool2d(1), \n",
    "                        ConvLayer(ch, ch//reduction, ks=1, norm_type=None, act_cls=inplace_relu),\n",
    "                        ConvLayer(ch//reduction, ch, ks=1, norm_type=None, act_cls=nn.Sigmoid), \n",
    "                        ProdLayer())"
   ]
  },
  {
   "cell_type": "code",
   "execution_count": null,
   "metadata": {},
   "outputs": [],
   "source": [
    "tst = SEModule(64, 16)\n",
    "x = torch.randn(32, 64, 16, 16)\n",
    "z = F.adaptive_avg_pool2d(x, 1)\n",
    "z = F.relu(tst.layers[1][0](z))\n",
    "z = torch.sigmoid(tst.layers[2][0](z))\n",
    "test_eq(tst(x), x*z)"
   ]
  },
  {
   "cell_type": "code",
   "execution_count": null,
   "metadata": {},
   "outputs": [],
   "source": [
    "#export\n",
    "class SEResNetBlock(Module):\n",
    "    \"SE block from `ni` to `nh` with `stride`\"\n",
    "    def __init__(self, expansion, ni, nf, groups, reduction, nh1=None, nh2=None, stride=1, act_cls=inplace_relu):\n",
    "        if nh2 is None: nh2 = nf\n",
    "        if nh1 is None: nh1 = nh2\n",
    "        nf,ni = nf*expansion,ni*expansion\n",
    "        layers  = [ConvLayer(ni,  nh2, 3, act_cls=act_cls, stride=stride, groups=groups),\n",
    "                   ConvLayer(nh2, nf,  3, act_cls=None, norm_type=NormType.BatchZero)\n",
    "        ] if expansion == 1 else [\n",
    "                   ConvLayer(ni,  nh1, 1, act_cls=act_cls),\n",
    "                   ConvLayer(nh1, nh2, 3, act_cls=act_cls, stride=stride, groups=groups),\n",
    "                   ConvLayer(nh2, nf,  1, act_cls=None, norm_type=NormType.BatchZero)\n",
    "        ]\n",
    "        self.convs = nn.Sequential(*layers)\n",
    "        self.idconv = noop if ni==nf else ConvLayer(ni, nf, 1, act_cls=None)\n",
    "        self.pool = noop if stride==1 else nn.AvgPool2d(2, ceil_mode=True)\n",
    "        self.se = SEModule(nf, reduction=reduction)\n",
    "        self.act = act_cls()\n",
    "\n",
    "    def forward(self, x): return self.act(self.se(self.convs(x)) + self.idconv(self.pool(x)))"
   ]
  },
  {
   "cell_type": "code",
   "execution_count": null,
   "metadata": {},
   "outputs": [],
   "source": [
    "#export\n",
    "def SEBlock(expansion, ni, nf, groups, reduction, stride=1, act_cls=inplace_relu):\n",
    "    return SEResNetBlock(expansion, ni, nf, groups, reduction, nh1=nf*2, nh2=nf*expansion, stride=stride, act_cls=act_cls)"
   ]
  },
  {
   "cell_type": "code",
   "execution_count": null,
   "metadata": {},
   "outputs": [],
   "source": [
    "#export\n",
    "def SEResNeXtBlock(expansion, ni, nf, groups, reduction, stride=1, act_cls=inplace_relu, base_width=4):\n",
    "    w = math.floor(nf * (base_width / 64)) * groups\n",
    "    return SEResNetBlock(expansion, ni, nf, groups, reduction, nh2=w, stride=stride, act_cls=act_cls)"
   ]
  },
  {
   "cell_type": "code",
   "execution_count": null,
   "metadata": {},
   "outputs": [],
   "source": [
    "#export\n",
    "class XSENet(nn.Sequential):\n",
    "    def __init__(self, block, expansion, layers, groups, reduction, p=0.2, c_in=3, c_out=1000):\n",
    "        stem = []\n",
    "        sizes = [c_in,16,32,64] if c_in<3 else [c_in,32,32,64]\n",
    "        for i in range(3):\n",
    "            stem.append(ConvLayer(sizes[i], sizes[i+1], stride=2 if i==0 else 1))\n",
    "\n",
    "        block_szs = [64//expansion,64,128,256,512] +[256]*(len(layers)-4)\n",
    "        blocks = [self._make_layer(block, expansion, block_szs[i], block_szs[i+1], l, groups, reduction, 1 if i==0 else 2)\n",
    "                  for i,l in enumerate(layers)]\n",
    "        drop = [] if p is None else [nn.Dropout(p)]\n",
    "        super().__init__(\n",
    "            *stem,\n",
    "            nn.MaxPool2d(kernel_size=3, stride=2, padding=1),\n",
    "            *blocks,\n",
    "            nn.AdaptiveAvgPool2d(1), Flatten(), *drop,\n",
    "            init_default(nn.Linear(block_szs[-1]*expansion, c_out)),\n",
    "        )\n",
    "\n",
    "    def _make_layer(self, block, expansion, ni, nf, blocks, groups, reduction, stride):\n",
    "        return nn.Sequential(\n",
    "            *[block(expansion, ni if i==0 else nf, nf, groups, reduction, stride=stride if i==0 else 1)\n",
    "              for i in range(blocks)])"
   ]
  },
  {
   "cell_type": "code",
   "execution_count": null,
   "metadata": {},
   "outputs": [],
   "source": [
    "#export\n",
    "se_kwargs1 = dict(groups=1 , reduction=16, p=None)\n",
    "se_kwargs2 = dict(groups=32, reduction=16, p=None)\n",
    "g0 = [2,2,2,2]\n",
    "g1 = [3,4,6,3]\n",
    "g2 = [3,4,23,3]\n",
    "g3 = [3,8,36,3]\n",
    "\n",
    "def xse_resnet18(c_out=1000, pretrained=False):         return XSENet(SEResNetBlock,  1, g0, c_out=c_out, **se_kwargs1)\n",
    "def xse_resnext18_32x4d(c_out=1000, pretrained=False):  return XSENet(SEResNeXtBlock, 1, g0, c_out=c_out, **se_kwargs2)\n",
    "def xse_resnet34(c_out=1000, pretrained=False):         return XSENet(SEResNetBlock,  1, g1, c_out=c_out, **se_kwargs1)\n",
    "def xse_resnext34_32x4d(c_out=1000, pretrained=False):  return XSENet(SEResNeXtBlock, 1, g1, c_out=c_out, **se_kwargs2)\n",
    "def xse_resnet50(c_out=1000, pretrained=False):         return XSENet(SEResNetBlock,  4, g1, c_out=c_out, **se_kwargs1)\n",
    "def xse_resnext50_32x4d(c_out=1000, pretrained=False):  return XSENet(SEResNeXtBlock, 4, g1, c_out=c_out, **se_kwargs2)\n",
    "def xse_resnet101(c_out=1000, pretrained=False):        return XSENet(SEResNetBlock,  4, g2, c_out=c_out, **se_kwargs1)\n",
    "def xse_resnext101_32x4d(c_out=1000, pretrained=False): return XSENet(SEResNeXtBlock, 4, g2, c_out=c_out, **se_kwargs2)\n",
    "def xse_resnet152(c_out=1000, pretrained=False):        return XSENet(SEResNetBlock,  4, g3, c_out=c_out, **se_kwargs1)\n",
    "def xsenet154(c_out=1000, pretrained=False):\n",
    "    return SENet(SEBlock, g3, groups=64, reduction=16, p=0.2, c_out=c_out)"
   ]
  },
  {
   "cell_type": "markdown",
   "metadata": {},
   "source": [
    "## Export -"
   ]
  },
  {
   "cell_type": "code",
   "execution_count": null,
   "metadata": {},
   "outputs": [
    {
     "name": "stdout",
     "output_type": "stream",
     "text": [
      "Converted 00_test.ipynb.\n",
      "Converted 01_core_foundation.ipynb.\n",
      "Converted 01a_core_utils.ipynb.\n",
      "Converted 01b_core_dispatch.ipynb.\n",
      "Converted 01c_core_transform.ipynb.\n",
      "Converted 02_core_script.ipynb.\n",
      "Converted 03_torchcore.ipynb.\n",
      "Converted 03a_layers.ipynb.\n",
      "Converted 04_data_load.ipynb.\n",
      "Converted 05_data_core.ipynb.\n",
      "Converted 06_data_transforms.ipynb.\n",
      "Converted 07_data_block.ipynb.\n",
      "Converted 08_vision_core.ipynb.\n",
      "Converted 09_vision_augment.ipynb.\n",
      "Converted 09a_vision_data.ipynb.\n",
      "Converted 10_pets_tutorial.ipynb.\n",
      "Converted 11_vision_models_xresnet.ipynb.\n",
      "Converted 12_optimizer.ipynb.\n",
      "Converted 13_learner.ipynb.\n",
      "Converted 13a_metrics.ipynb.\n",
      "Converted 14_callback_schedule.ipynb.\n",
      "Converted 14a_callback_data.ipynb.\n",
      "Converted 15_callback_hook.ipynb.\n",
      "Converted 15a_vision_models_unet.ipynb.\n",
      "Converted 16_callback_progress.ipynb.\n",
      "Converted 17_callback_tracker.ipynb.\n",
      "Converted 18_callback_fp16.ipynb.\n",
      "Converted 19_callback_mixup.ipynb.\n",
      "Converted 20_interpret.ipynb.\n",
      "Converted 20a_distributed.ipynb.\n",
      "Converted 21_vision_learner.ipynb.\n",
      "Converted 22_tutorial_imagenette.ipynb.\n",
      "Converted 23_tutorial_transfer_learning.ipynb.\n",
      "Converted 30_text_core.ipynb.\n",
      "Converted 31_text_data.ipynb.\n",
      "Converted 32_text_models_awdlstm.ipynb.\n",
      "Converted 33_text_models_core.ipynb.\n",
      "Converted 34_callback_rnn.ipynb.\n",
      "Converted 35_tutorial_wikitext.ipynb.\n",
      "Converted 36_text_models_qrnn.ipynb.\n",
      "Converted 37_text_learner.ipynb.\n",
      "Converted 38_tutorial_ulmfit.ipynb.\n",
      "Converted 40_tabular_core.ipynb.\n",
      "Converted 41_tabular_model.ipynb.\n",
      "Converted 42_tabular_rapids.ipynb.\n",
      "Converted 50_data_block_examples.ipynb.\n",
      "Converted 60_medical_imaging.ipynb.\n",
      "Converted 65_medical_text.ipynb.\n",
      "Converted 70_callback_wandb.ipynb.\n",
      "Converted 71_callback_tensorboard.ipynb.\n",
      "Converted 90_notebook_core.ipynb.\n",
      "Converted 91_notebook_export.ipynb.\n",
      "Converted 92_notebook_showdoc.ipynb.\n",
      "Converted 93_notebook_export2html.ipynb.\n",
      "Converted 94_notebook_test.ipynb.\n",
      "Converted 95_index.ipynb.\n",
      "Converted 96_data_external.ipynb.\n",
      "Converted 97_utils_test.ipynb.\n",
      "Converted notebook2jekyll.ipynb.\n",
      "Converted xse_resnext.ipynb.\n"
     ]
    }
   ],
   "source": [
    "#hide\n",
    "from local.notebook.export import notebook2script\n",
    "notebook2script(all_fs=True)"
   ]
  },
  {
   "cell_type": "code",
   "execution_count": null,
   "metadata": {},
   "outputs": [],
   "source": []
  }
 ],
 "metadata": {
  "kernelspec": {
   "display_name": "Python 3",
   "language": "python",
   "name": "python3"
  }
 },
 "nbformat": 4,
 "nbformat_minor": 2
}
