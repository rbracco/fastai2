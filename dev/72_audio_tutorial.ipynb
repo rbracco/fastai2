{
 "cells": [
  {
   "cell_type": "code",
   "execution_count": null,
   "metadata": {},
   "outputs": [],
   "source": [
    "%reload_ext autoreload\n",
    "%autoreload 2\n",
    "%matplotlib inline"
   ]
  },
  {
   "cell_type": "code",
   "execution_count": null,
   "metadata": {},
   "outputs": [],
   "source": [
    "from local.torch_basics import *\n",
    "from local.test import *\n",
    "from local.basics import *\n",
    "from local.data.all import *\n",
    "from local.vision.core import *\n",
    "from local.notebook.showdoc import show_doc\n",
    "from local.audio.core import *\n",
    "from local.audio.augment import *\n",
    "from local.vision.learner import *\n",
    "from local.vision.models.xresnet import *\n",
    "from local.metrics import *"
   ]
  },
  {
   "cell_type": "code",
   "execution_count": null,
   "metadata": {},
   "outputs": [],
   "source": [
    "import torchaudio"
   ]
  },
  {
   "cell_type": "markdown",
   "metadata": {},
   "source": [
    "# Tutorial: Training a Voice Recognition Model"
   ]
  },
  {
   "cell_type": "code",
   "execution_count": null,
   "metadata": {},
   "outputs": [
    {
     "data": {
      "text/plain": [
       "PosixPath('/home/jupyter/.fastai/data/ST-AEDS-20180100_1-OS/ST-AEDS-20180100_1-OS')"
      ]
     },
     "execution_count": null,
     "metadata": {},
     "output_type": "execute_result"
    }
   ],
   "source": [
    "p10speakers = Config()['data_path'] / 'ST-AEDS-20180100_1-OS'\n",
    "URLs.SPEAKERS10 = 'http://www.openslr.org/resources/45/ST-AEDS-20180100_1-OS'\n",
    "untar_data(URLs.SPEAKERS10, dest=p10speakers)"
   ]
  },
  {
   "cell_type": "code",
   "execution_count": null,
   "metadata": {},
   "outputs": [
    {
     "data": {
      "text/plain": [
       "PosixPath('/home/jupyter/.fastai/data/100_speakers/250-speakers')"
      ]
     },
     "execution_count": null,
     "metadata": {},
     "output_type": "execute_result"
    }
   ],
   "source": [
    "#Warning this dataset is ~8GB\n",
    "p250speakers = Config()['data_path'] / '250_speakers'\n",
    "URLs.SPEAKERS250 = 'https://public-datasets.fra1.digitaloceanspaces.com/250-speakers.tar'\n",
    "untar_data(URLs.SPEAKERS250, dest=p250speakers)"
   ]
  },
  {
   "cell_type": "code",
   "execution_count": null,
   "metadata": {},
   "outputs": [],
   "source": [
    "x = AudioGetter(\"\", recurse=True, folders=None)\n",
    "files_10  = x(p10speakers)\n",
    "files_250 = x(p250speakers)\n",
    "#original_aud = AudioItem.create(files[0])"
   ]
  },
  {
   "cell_type": "markdown",
   "metadata": {},
   "source": [
    "## Basic EDA of Audio Data"
   ]
  },
  {
   "cell_type": "code",
   "execution_count": null,
   "metadata": {},
   "outputs": [],
   "source": [
    "def stats(file_list, prec=0, devs=3, figsize=(12,4)):\n",
    "    '''Displays samples, plots file lengths and returns outliers of the AudioList'''\n",
    "    len_dict = {}\n",
    "    rate_dict = {}\n",
    "    pb = progress_bar(file_list)\n",
    "    for p in pb:\n",
    "        si, ei = torchaudio.info(str(p))\n",
    "        len_dict[p] = si.length/si.rate\n",
    "        rate_dict[p] = si.rate\n",
    "    lens = list(len_dict.values())\n",
    "    rates = list(rate_dict.values())\n",
    "    print(\"Sample Rates: \")\n",
    "    for sr,count in Counter(rates).items(): print(f\"{int(sr)}: {count} files\")\n",
    "    _plot_lengths(lens, prec, figsize)\n",
    "    return len_dict \n",
    "    \n",
    "def _plot_lengths(lens, prec, figsize):\n",
    "    '''Plots a list of file lengths displaying prec digits of precision'''\n",
    "    rounded = [round(i, prec) for i in lens]\n",
    "    rounded_count = Counter(rounded)\n",
    "    plt.figure(num=None, figsize=figsize, dpi=80, facecolor='w', edgecolor='k')\n",
    "    labels = sorted(rounded_count.keys())\n",
    "    values = [rounded_count[i] for i in labels]\n",
    "    width = 1\n",
    "    plt.bar(labels, values, width)\n",
    "    xticks = np.linspace(int(min(rounded)), int(max(rounded))+1, 10)\n",
    "    plt.xticks(xticks)\n",
    "    plt.show()"
   ]
  },
  {
   "cell_type": "code",
   "execution_count": null,
   "metadata": {},
   "outputs": [
    {
     "data": {
      "text/html": [
       "\n",
       "    <div>\n",
       "        <style>\n",
       "            /* Turns off some styling */\n",
       "            progress {\n",
       "                /* gets rid of default border in Firefox and Opera. */\n",
       "                border: none;\n",
       "                /* Needs to be in here for Safari polyfill so background images work as expected. */\n",
       "                background-size: auto;\n",
       "            }\n",
       "            .progress-bar-interrupted, .progress-bar-interrupted::-webkit-progress-bar {\n",
       "                background: #F44336;\n",
       "            }\n",
       "        </style>\n",
       "      <progress value='44655' class='' max='44655', style='width:300px; height:20px; vertical-align: middle;'></progress>\n",
       "      100.00% [44655/44655 00:01<00:00]\n",
       "    </div>\n",
       "    "
      ],
      "text/plain": [
       "<IPython.core.display.HTML object>"
      ]
     },
     "metadata": {},
     "output_type": "display_data"
    },
    {
     "name": "stdout",
     "output_type": "stream",
     "text": [
      "Sample Rates: \n",
      "16000: 44655 files\n"
     ]
    },
    {
     "data": {
      "image/png": "[encoded data removed]",
      "text/plain": [
       "<Figure size 1200x400 with 1 Axes>"
      ]
     },
     "metadata": {},
     "output_type": "display_data"
    },
    {
     "data": {
      "text/plain": [
       "{PosixPath('/home/jupyter/.fastai/data/100_speakers/250-speakers/id09028/_KymcHdEW0U/00034.wav'): 4.032,\n",
       " PosixPath('/home/jupyter/.fastai/data/100_speakers/250-speakers/id09028/2HgpwyiMUEE/00002.wav'): 5.44,\n",
       " PosixPath('/home/jupyter/.fastai/data/100_speakers/250-speakers/id09028/11xxoaj4aEA/00001.wav'): 6.016,\n",
       " PosixPath('/home/jupyter/.fastai/data/100_speakers/250-speakers/id09028/gC8wHtwhnZw/00036.wav'): 4.544,\n",
       " PosixPath('/home/jupyter/.fastai/data/100_speakers/250-speakers/id09028/gC8wHtwhnZw/00038.wav'): 6.848,\n",
       " PosixPath('/home/jupyter/.fastai/data/100_speakers/250-speakers/id09028/gC8wHtwhnZw/00037.wav'): 4.672,\n",
       " PosixPath('/home/jupyter/.fastai/data/100_speakers/250-speakers/id09028/DwK2JNH10zE/00013.wav'): 4.032,\n",
       " PosixPath('/home/jupyter/.fastai/data/100_speakers/250-speakers/id09028/DwK2JNH10zE/00012.wav'): 4.544,\n",
       " PosixPath('/home/jupyter/.fastai/data/100_speakers/250-speakers/id09028/DwK2JNH10zE/00011.wav'): 4.16,\n",
       " PosixPath('/home/jupyter/.fastai/data/100_speakers/250-speakers/id09028/4f8IoTgW8z0/00005.wav'): 4.544,\n",
       " PosixPath('/home/jupyter/.fastai/data/100_speakers/250-speakers/id09028/4f8IoTgW8z0/00006.wav'): 4.48,\n",
       " PosixPath('/home/jupyter/.fastai/data/100_speakers/250-speakers/id09028/4f8IoTgW8z0/00003.wav'): 6.976,\n",
       " PosixPath('/home/jupyter/.fastai/data/100_speakers/250-speakers/id09028/4f8IoTgW8z0/00004.wav'): 12.48,\n",
       " PosixPath('/home/jupyter/.fastai/data/100_speakers/250-speakers/id09028/nqSiNWupqAU/00040.wav'): 5.312,\n",
       " PosixPath('/home/jupyter/.fastai/data/100_speakers/250-speakers/id09028/nqSiNWupqAU/00041.wav'): 9.792,\n",
       " PosixPath('/home/jupyter/.fastai/data/100_speakers/250-speakers/id09028/nqSiNWupqAU/00039.wav'): 14.144,\n",
       " PosixPath('/home/jupyter/.fastai/data/100_speakers/250-speakers/id09028/nqSiNWupqAU/00042.wav'): 7.68,\n",
       " PosixPath('/home/jupyter/.fastai/data/100_speakers/250-speakers/id09028/IUHFhE6xedU/00014.wav'): 4.48,\n",
       " PosixPath('/home/jupyter/.fastai/data/100_speakers/250-speakers/id09028/TKgNNnzrX_4/00026.wav'): 4.16,\n",
       " PosixPath('/home/jupyter/.fastai/data/100_speakers/250-speakers/id09028/TKgNNnzrX_4/00023.wav'): 4.032,\n",
       " PosixPath('/home/jupyter/.fastai/data/100_speakers/250-speakers/id09028/TKgNNnzrX_4/00024.wav'): 4.032,\n",
       " PosixPath('/home/jupyter/.fastai/data/100_speakers/250-speakers/id09028/TKgNNnzrX_4/00019.wav'): 4.032,\n",
       " PosixPath('/home/jupyter/.fastai/data/100_speakers/250-speakers/id09028/TKgNNnzrX_4/00025.wav'): 8.384,\n",
       " PosixPath('/home/jupyter/.fastai/data/100_speakers/250-speakers/id09028/TKgNNnzrX_4/00021.wav'): 4.16,\n",
       " PosixPath('/home/jupyter/.fastai/data/100_speakers/250-speakers/id09028/TKgNNnzrX_4/00022.wav'): 4.032,\n",
       " PosixPath('/home/jupyter/.fastai/data/100_speakers/250-speakers/id09028/TKgNNnzrX_4/00020.wav'): 4.608,\n",
       " PosixPath('/home/jupyter/.fastai/data/100_speakers/250-speakers/id09028/TKgNNnzrX_4/00018.wav'): 4.096,\n",
       " PosixPath('/home/jupyter/.fastai/data/100_speakers/250-speakers/id09028/vnvyZHEaHDU/00070.wav'): 4.416,\n",
       " PosixPath('/home/jupyter/.fastai/data/100_speakers/250-speakers/id09028/vnvyZHEaHDU/00069.wav'): 6.784,\n",
       " PosixPath('/home/jupyter/.fastai/data/100_speakers/250-speakers/id09028/vnvyZHEaHDU/00071.wav'): 4.16,\n",
       " PosixPath('/home/jupyter/.fastai/data/100_speakers/250-speakers/id09028/d74z7TOXJio/00035.wav'): 7.68,\n",
       " PosixPath('/home/jupyter/.fastai/data/100_speakers/250-speakers/id09028/_33a37huDY8/00032.wav'): 7.296,\n",
       " PosixPath('/home/jupyter/.fastai/data/100_speakers/250-speakers/id09028/_33a37huDY8/00030.wav'): 4.928,\n",
       " PosixPath('/home/jupyter/.fastai/data/100_speakers/250-speakers/id09028/_33a37huDY8/00029.wav'): 6.976,\n",
       " PosixPath('/home/jupyter/.fastai/data/100_speakers/250-speakers/id09028/_33a37huDY8/00031.wav'): 4.032,\n",
       " PosixPath('/home/jupyter/.fastai/data/100_speakers/250-speakers/id09028/_33a37huDY8/00033.wav'): 9.728,\n",
       " PosixPath('/home/jupyter/.fastai/data/100_speakers/250-speakers/id09028/CqQNulTeZps/00009.wav'): 4.096,\n",
       " PosixPath('/home/jupyter/.fastai/data/100_speakers/250-speakers/id09028/CqQNulTeZps/00008.wav'): 4.224,\n",
       " PosixPath('/home/jupyter/.fastai/data/100_speakers/250-speakers/id09028/CqQNulTeZps/00010.wav'): 4.864,\n",
       " PosixPath('/home/jupyter/.fastai/data/100_speakers/250-speakers/id09028/ZDFB4lD4U2I/00028.wav'): 4.288,\n",
       " PosixPath('/home/jupyter/.fastai/data/100_speakers/250-speakers/id09028/ZDFB4lD4U2I/00027.wav'): 6.208,\n",
       " PosixPath('/home/jupyter/.fastai/data/100_speakers/250-speakers/id09028/JQffceqQXp4/00017.wav'): 5.056,\n",
       " PosixPath('/home/jupyter/.fastai/data/100_speakers/250-speakers/id09028/JQffceqQXp4/00015.wav'): 5.184,\n",
       " PosixPath('/home/jupyter/.fastai/data/100_speakers/250-speakers/id09028/JQffceqQXp4/00016.wav'): 5.76,\n",
       " PosixPath('/home/jupyter/.fastai/data/100_speakers/250-speakers/id09028/CkiTk7zR8Zs/00007.wav'): 3.968,\n",
       " PosixPath('/home/jupyter/.fastai/data/100_speakers/250-speakers/id09028/rYFyZz7TPGw/00050.wav'): 3.968,\n",
       " PosixPath('/home/jupyter/.fastai/data/100_speakers/250-speakers/id09028/rYFyZz7TPGw/00066.wav'): 12.928,\n",
       " PosixPath('/home/jupyter/.fastai/data/100_speakers/250-speakers/id09028/rYFyZz7TPGw/00046.wav'): 5.504,\n",
       " PosixPath('/home/jupyter/.fastai/data/100_speakers/250-speakers/id09028/rYFyZz7TPGw/00061.wav'): 8.96,\n",
       " PosixPath('/home/jupyter/.fastai/data/100_speakers/250-speakers/id09028/rYFyZz7TPGw/00053.wav'): 4.416,\n",
       " PosixPath('/home/jupyter/.fastai/data/100_speakers/250-speakers/id09028/rYFyZz7TPGw/00051.wav'): 5.056,\n",
       " PosixPath('/home/jupyter/.fastai/data/100_speakers/250-speakers/id09028/rYFyZz7TPGw/00054.wav'): 6.976,\n",
       " PosixPath('/home/jupyter/.fastai/data/100_speakers/250-speakers/id09028/rYFyZz7TPGw/00056.wav'): 5.888,\n",
       " PosixPath('/home/jupyter/.fastai/data/100_speakers/250-speakers/id09028/rYFyZz7TPGw/00059.wav'): 7.488,\n",
       " PosixPath('/home/jupyter/.fastai/data/100_speakers/250-speakers/id09028/rYFyZz7TPGw/00049.wav'): 5.696,\n",
       " PosixPath('/home/jupyter/.fastai/data/100_speakers/250-speakers/id09028/rYFyZz7TPGw/00043.wav'): 4.224,\n",
       " PosixPath('/home/jupyter/.fastai/data/100_speakers/250-speakers/id09028/rYFyZz7TPGw/00063.wav'): 9.856,\n",
       " PosixPath('/home/jupyter/.fastai/data/100_speakers/250-speakers/id09028/rYFyZz7TPGw/00067.wav'): 4.224,\n",
       " PosixPath('/home/jupyter/.fastai/data/100_speakers/250-speakers/id09028/rYFyZz7TPGw/00068.wav'): 5.056,\n",
       " PosixPath('/home/jupyter/.fastai/data/100_speakers/250-speakers/id09028/rYFyZz7TPGw/00062.wav'): 6.016,\n",
       " PosixPath('/home/jupyter/.fastai/data/100_speakers/250-speakers/id09028/rYFyZz7TPGw/00064.wav'): 4.288,\n",
       " PosixPath('/home/jupyter/.fastai/data/100_speakers/250-speakers/id09028/rYFyZz7TPGw/00045.wav'): 6.464,\n",
       " PosixPath('/home/jupyter/.fastai/data/100_speakers/250-speakers/id09028/rYFyZz7TPGw/00058.wav'): 6.592,\n",
       " PosixPath('/home/jupyter/.fastai/data/100_speakers/250-speakers/id09028/rYFyZz7TPGw/00057.wav'): 4.672,\n",
       " PosixPath('/home/jupyter/.fastai/data/100_speakers/250-speakers/id09028/rYFyZz7TPGw/00065.wav'): 8.384,\n",
       " PosixPath('/home/jupyter/.fastai/data/100_speakers/250-speakers/id09028/rYFyZz7TPGw/00052.wav'): 6.208,\n",
       " PosixPath('/home/jupyter/.fastai/data/100_speakers/250-speakers/id09028/rYFyZz7TPGw/00060.wav'): 5.312,\n",
       " PosixPath('/home/jupyter/.fastai/data/100_speakers/250-speakers/id09028/rYFyZz7TPGw/00055.wav'): 5.184,\n",
       " PosixPath('/home/jupyter/.fastai/data/100_speakers/250-speakers/id09028/rYFyZz7TPGw/00044.wav'): 4.032,\n",
       " PosixPath('/home/jupyter/.fastai/data/100_speakers/250-speakers/id09028/rYFyZz7TPGw/00047.wav'): 4.288,\n",
       " PosixPath('/home/jupyter/.fastai/data/100_speakers/250-speakers/id09028/rYFyZz7TPGw/00048.wav'): 7.296,\n",
       " PosixPath('/home/jupyter/.fastai/data/100_speakers/250-speakers/id09038/xoh7D16SHJ0/00022.wav'): 6.336,\n",
       " PosixPath('/home/jupyter/.fastai/data/100_speakers/250-speakers/id09038/jdc9oR5IW-E/00017.wav'): 7.808,\n",
       " PosixPath('/home/jupyter/.fastai/data/100_speakers/250-speakers/id09038/jdc9oR5IW-E/00018.wav'): 9.92,\n",
       " PosixPath('/home/jupyter/.fastai/data/100_speakers/250-speakers/id09038/lFWUx0uGV9M/00019.wav'): 4.416,\n",
       " PosixPath('/home/jupyter/.fastai/data/100_speakers/250-speakers/id09038/lFWUx0uGV9M/00021.wav'): 5.056,\n",
       " PosixPath('/home/jupyter/.fastai/data/100_speakers/250-speakers/id09038/lFWUx0uGV9M/00020.wav'): 5.184,\n",
       " PosixPath('/home/jupyter/.fastai/data/100_speakers/250-speakers/id09038/5DDp6oq6r4Q/00009.wav'): 7.744,\n",
       " PosixPath('/home/jupyter/.fastai/data/100_speakers/250-speakers/id09038/5DDp6oq6r4Q/00010.wav'): 4.48,\n",
       " PosixPath('/home/jupyter/.fastai/data/100_speakers/250-speakers/id09038/5DDp6oq6r4Q/00012.wav'): 6.656,\n",
       " PosixPath('/home/jupyter/.fastai/data/100_speakers/250-speakers/id09038/5DDp6oq6r4Q/00011.wav'): 4.672,\n",
       " PosixPath('/home/jupyter/.fastai/data/100_speakers/250-speakers/id09038/zvxnSZnTesQ/00023.wav'): 4.096,\n",
       " PosixPath('/home/jupyter/.fastai/data/100_speakers/250-speakers/id09038/T-0CHLiPHVg/00016.wav'): 4.864,\n",
       " PosixPath('/home/jupyter/.fastai/data/100_speakers/250-speakers/id09038/6uctzGgbs1M/00013.wav'): 4.864,\n",
       " PosixPath('/home/jupyter/.fastai/data/100_speakers/250-speakers/id09038/3q2QM3ezTT0/00005.wav'): 6.976,\n",
       " PosixPath('/home/jupyter/.fastai/data/100_speakers/250-speakers/id09038/3q2QM3ezTT0/00006.wav'): 4.224,\n",
       " PosixPath('/home/jupyter/.fastai/data/100_speakers/250-speakers/id09038/3q2QM3ezTT0/00008.wav'): 6.464,\n",
       " PosixPath('/home/jupyter/.fastai/data/100_speakers/250-speakers/id09038/3q2QM3ezTT0/00002.wav'): 4.672,\n",
       " PosixPath('/home/jupyter/.fastai/data/100_speakers/250-speakers/id09038/3q2QM3ezTT0/00001.wav'): 9.6,\n",
       " PosixPath('/home/jupyter/.fastai/data/100_speakers/250-speakers/id09038/3q2QM3ezTT0/00003.wav'): 6.272,\n",
       " PosixPath('/home/jupyter/.fastai/data/100_speakers/250-speakers/id09038/3q2QM3ezTT0/00007.wav'): 5.568,\n",
       " PosixPath('/home/jupyter/.fastai/data/100_speakers/250-speakers/id09038/3q2QM3ezTT0/00004.wav'): 4.544,\n",
       " PosixPath('/home/jupyter/.fastai/data/100_speakers/250-speakers/id09038/AakPMYEMozg/00015.wav'): 4.864,\n",
       " PosixPath('/home/jupyter/.fastai/data/100_speakers/250-speakers/id09038/AakPMYEMozg/00014.wav'): 5.504,\n",
       " PosixPath('/home/jupyter/.fastai/data/100_speakers/250-speakers/id08910/P4z0Wm8X7GE/00023.wav'): 4.096,\n",
       " PosixPath('/home/jupyter/.fastai/data/100_speakers/250-speakers/id08910/P4z0Wm8X7GE/00022.wav'): 4.096,\n",
       " PosixPath('/home/jupyter/.fastai/data/100_speakers/250-speakers/id08910/RhuV_fDtVdU/00032.wav'): 10.816,\n",
       " PosixPath('/home/jupyter/.fastai/data/100_speakers/250-speakers/id08910/RhuV_fDtVdU/00031.wav'): 7.104,\n",
       " PosixPath('/home/jupyter/.fastai/data/100_speakers/250-speakers/id08910/RhuV_fDtVdU/00034.wav'): 4.736,\n",
       " PosixPath('/home/jupyter/.fastai/data/100_speakers/250-speakers/id08910/RhuV_fDtVdU/00033.wav'): 6.4,\n",
       " PosixPath('/home/jupyter/.fastai/data/100_speakers/250-speakers/id08910/mQD9KxPiLCI/00066.wav'): 9.856,\n",
       " PosixPath('/home/jupyter/.fastai/data/100_speakers/250-speakers/id08910/beI6lSJhDHc/00050.wav'): 6.528,\n",
       " PosixPath('/home/jupyter/.fastai/data/100_speakers/250-speakers/id08910/beI6lSJhDHc/00051.wav'): 4.224,\n",
       " PosixPath('/home/jupyter/.fastai/data/100_speakers/250-speakers/id08910/beI6lSJhDHc/00049.wav'): 7.68,\n",
       " PosixPath('/home/jupyter/.fastai/data/100_speakers/250-speakers/id08910/_ULJ5vcD2dQ/00036.wav'): 6.976,\n",
       " PosixPath('/home/jupyter/.fastai/data/100_speakers/250-speakers/id08910/_ULJ5vcD2dQ/00038.wav'): 5.824,\n",
       " PosixPath('/home/jupyter/.fastai/data/100_speakers/250-speakers/id08910/_ULJ5vcD2dQ/00040.wav'): 18.368,\n",
       " PosixPath('/home/jupyter/.fastai/data/100_speakers/250-speakers/id08910/_ULJ5vcD2dQ/00037.wav'): 4.48,\n",
       " PosixPath('/home/jupyter/.fastai/data/100_speakers/250-speakers/id08910/_ULJ5vcD2dQ/00039.wav'): 4.992,\n",
       " PosixPath('/home/jupyter/.fastai/data/100_speakers/250-speakers/id08910/ijoNEI_h54Y/00056.wav'): 6.144,\n",
       " PosixPath('/home/jupyter/.fastai/data/100_speakers/250-speakers/id08910/nFluR2ciw_Y/00073.wav'): 4.736,\n",
       " PosixPath('/home/jupyter/.fastai/data/100_speakers/250-speakers/id08910/nFluR2ciw_Y/00072.wav'): 6.016,\n",
       " PosixPath('/home/jupyter/.fastai/data/100_speakers/250-speakers/id08910/nFluR2ciw_Y/00071.wav'): 6.272,\n",
       " PosixPath('/home/jupyter/.fastai/data/100_speakers/250-speakers/id08910/7ZLwQc4DLT0/00005.wav'): 6.208,\n",
       " PosixPath('/home/jupyter/.fastai/data/100_speakers/250-speakers/id08910/7ZLwQc4DLT0/00006.wav'): 8.512,\n",
       " PosixPath('/home/jupyter/.fastai/data/100_speakers/250-speakers/id08910/7ZLwQc4DLT0/00009.wav'): 5.12,\n",
       " PosixPath('/home/jupyter/.fastai/data/100_speakers/250-speakers/id08910/7ZLwQc4DLT0/00008.wav'): 6.144,\n",
       " PosixPath('/home/jupyter/.fastai/data/100_speakers/250-speakers/id08910/7ZLwQc4DLT0/00002.wav'): 4.608,\n",
       " PosixPath('/home/jupyter/.fastai/data/100_speakers/250-speakers/id08910/7ZLwQc4DLT0/00001.wav'): 6.016,\n",
       " PosixPath('/home/jupyter/.fastai/data/100_speakers/250-speakers/id08910/7ZLwQc4DLT0/00003.wav'): 4.8,\n",
       " PosixPath('/home/jupyter/.fastai/data/100_speakers/250-speakers/id08910/7ZLwQc4DLT0/00007.wav'): 10.368,\n",
       " PosixPath('/home/jupyter/.fastai/data/100_speakers/250-speakers/id08910/7ZLwQc4DLT0/00004.wav'): 4.608,\n",
       " PosixPath('/home/jupyter/.fastai/data/100_speakers/250-speakers/id08910/msTZpHBdV9w/00070.wav'): 5.824,\n",
       " PosixPath('/home/jupyter/.fastai/data/100_speakers/250-speakers/id08910/msTZpHBdV9w/00067.wav'): 5.504,\n",
       " PosixPath('/home/jupyter/.fastai/data/100_speakers/250-speakers/id08910/msTZpHBdV9w/00068.wav'): 8.128,\n",
       " PosixPath('/home/jupyter/.fastai/data/100_speakers/250-speakers/id08910/msTZpHBdV9w/00069.wav'): 13.056,\n",
       " PosixPath('/home/jupyter/.fastai/data/100_speakers/250-speakers/id08910/PEhJJ4boWrs/00026.wav'): 5.696,\n",
       " PosixPath('/home/jupyter/.fastai/data/100_speakers/250-speakers/id08910/PEhJJ4boWrs/00030.wav'): 10.304,\n",
       " PosixPath('/home/jupyter/.fastai/data/100_speakers/250-speakers/id08910/PEhJJ4boWrs/00029.wav'): 7.488,\n",
       " PosixPath('/home/jupyter/.fastai/data/100_speakers/250-speakers/id08910/PEhJJ4boWrs/00028.wav'): 20.928,\n",
       " PosixPath('/home/jupyter/.fastai/data/100_speakers/250-speakers/id08910/PEhJJ4boWrs/00024.wav'): 5.568,\n",
       " PosixPath('/home/jupyter/.fastai/data/100_speakers/250-speakers/id08910/PEhJJ4boWrs/00025.wav'): 5.76,\n",
       " PosixPath('/home/jupyter/.fastai/data/100_speakers/250-speakers/id08910/PEhJJ4boWrs/00027.wav'): 4.864,\n",
       " PosixPath('/home/jupyter/.fastai/data/100_speakers/250-speakers/id08910/g5yk2b2v6E4/00055.wav'): 7.104,\n",
       " PosixPath('/home/jupyter/.fastai/data/100_speakers/250-speakers/id08910/XE8bZ_h-4zo/00035.wav'): 7.36,\n",
       " PosixPath('/home/jupyter/.fastai/data/100_speakers/250-speakers/id08910/c9SrHQ6iSiU/00053.wav'): 6.144,\n",
       " PosixPath('/home/jupyter/.fastai/data/100_speakers/250-speakers/id08910/c9SrHQ6iSiU/00054.wav'): 7.488,\n",
       " PosixPath('/home/jupyter/.fastai/data/100_speakers/250-speakers/id08910/c9SrHQ6iSiU/00052.wav'): 5.248,\n",
       " PosixPath('/home/jupyter/.fastai/data/100_speakers/250-speakers/id08910/aMEMeP2mfKs/00046.wav'): 10.304,\n",
       " PosixPath('/home/jupyter/.fastai/data/100_speakers/250-speakers/id08910/aMEMeP2mfKs/00043.wav'): 4.544,\n",
       " PosixPath('/home/jupyter/.fastai/data/100_speakers/250-speakers/id08910/aMEMeP2mfKs/00045.wav'): 8.704,\n",
       " PosixPath('/home/jupyter/.fastai/data/100_speakers/250-speakers/id08910/aMEMeP2mfKs/00041.wav'): 14.464,\n",
       " PosixPath('/home/jupyter/.fastai/data/100_speakers/250-speakers/id08910/aMEMeP2mfKs/00044.wav'): 11.264,\n",
       " PosixPath('/home/jupyter/.fastai/data/100_speakers/250-speakers/id08910/aMEMeP2mfKs/00042.wav'): 5.824,\n",
       " PosixPath('/home/jupyter/.fastai/data/100_speakers/250-speakers/id08910/DDipgKJcvfg/00010.wav'): 9.664,\n",
       " PosixPath('/home/jupyter/.fastai/data/100_speakers/250-speakers/id08910/DDipgKJcvfg/00012.wav'): 16.576,\n",
       " PosixPath('/home/jupyter/.fastai/data/100_speakers/250-speakers/id08910/DDipgKJcvfg/00011.wav'): 4.352,\n",
       " PosixPath('/home/jupyter/.fastai/data/100_speakers/250-speakers/id08910/LPKnt56KALo/00017.wav'): 5.376,\n",
       " PosixPath('/home/jupyter/.fastai/data/100_speakers/250-speakers/id08910/LPKnt56KALo/00013.wav'): 15.424,\n",
       " PosixPath('/home/jupyter/.fastai/data/100_speakers/250-speakers/id08910/LPKnt56KALo/00015.wav'): 9.408,\n",
       " PosixPath('/home/jupyter/.fastai/data/100_speakers/250-speakers/id08910/LPKnt56KALo/00014.wav'): 5.632,\n",
       " PosixPath('/home/jupyter/.fastai/data/100_speakers/250-speakers/id08910/LPKnt56KALo/00016.wav'): 7.616,\n",
       " PosixPath('/home/jupyter/.fastai/data/100_speakers/250-speakers/id08910/b-VasnAnkow/00047.wav'): 9.408,\n",
       " PosixPath('/home/jupyter/.fastai/data/100_speakers/250-speakers/id08910/b-VasnAnkow/00048.wav'): 7.68,\n",
       " PosixPath('/home/jupyter/.fastai/data/100_speakers/250-speakers/id08910/wF6gQvyYYGo/00080.wav'): 6.016,\n",
       " PosixPath('/home/jupyter/.fastai/data/100_speakers/250-speakers/id08910/wF6gQvyYYGo/00081.wav'): 7.168,\n",
       " PosixPath('/home/jupyter/.fastai/data/100_speakers/250-speakers/id08910/wF6gQvyYYGo/00082.wav'): 7.68,\n",
       " PosixPath('/home/jupyter/.fastai/data/100_speakers/250-speakers/id08910/OXHX9MyfKT8/00019.wav'): 6.848,\n",
       " PosixPath('/home/jupyter/.fastai/data/100_speakers/250-speakers/id08910/OXHX9MyfKT8/00021.wav'): 5.12,\n",
       " PosixPath('/home/jupyter/.fastai/data/100_speakers/250-speakers/id08910/OXHX9MyfKT8/00020.wav'): 5.056,\n",
       " PosixPath('/home/jupyter/.fastai/data/100_speakers/250-speakers/id08910/o2WLVNDeERA/00079.wav'): 4.928,\n",
       " PosixPath('/home/jupyter/.fastai/data/100_speakers/250-speakers/id08910/o2WLVNDeERA/00077.wav'): 4.864,\n",
       " PosixPath('/home/jupyter/.fastai/data/100_speakers/250-speakers/id08910/o2WLVNDeERA/00075.wav'): 7.104,\n",
       " PosixPath('/home/jupyter/.fastai/data/100_speakers/250-speakers/id08910/o2WLVNDeERA/00078.wav'): 7.552,\n",
       " PosixPath('/home/jupyter/.fastai/data/100_speakers/250-speakers/id08910/o2WLVNDeERA/00074.wav'): 4.48,\n",
       " PosixPath('/home/jupyter/.fastai/data/100_speakers/250-speakers/id08910/o2WLVNDeERA/00076.wav'): 4.544,\n",
       " PosixPath('/home/jupyter/.fastai/data/100_speakers/250-speakers/id08910/LShm3200OJY/00018.wav'): 4.032,\n",
       " PosixPath('/home/jupyter/.fastai/data/100_speakers/250-speakers/id08910/ilvdkNVrS_Q/00061.wav'): 5.312,\n",
       " PosixPath('/home/jupyter/.fastai/data/100_speakers/250-speakers/id08910/ilvdkNVrS_Q/00059.wav'): 23.488,\n",
       " PosixPath('/home/jupyter/.fastai/data/100_speakers/250-speakers/id08910/ilvdkNVrS_Q/00063.wav'): 12.48,\n",
       " PosixPath('/home/jupyter/.fastai/data/100_speakers/250-speakers/id08910/ilvdkNVrS_Q/00062.wav'): 9.024,\n",
       " PosixPath('/home/jupyter/.fastai/data/100_speakers/250-speakers/id08910/ilvdkNVrS_Q/00064.wav'): 12.544,\n",
       " PosixPath('/home/jupyter/.fastai/data/100_speakers/250-speakers/id08910/ilvdkNVrS_Q/00058.wav'): 12.928,\n",
       " PosixPath('/home/jupyter/.fastai/data/100_speakers/250-speakers/id08910/ilvdkNVrS_Q/00057.wav'): 7.68,\n",
       " PosixPath('/home/jupyter/.fastai/data/100_speakers/250-speakers/id08910/ilvdkNVrS_Q/00065.wav'): 20.992,\n",
       " PosixPath('/home/jupyter/.fastai/data/100_speakers/250-speakers/id08910/ilvdkNVrS_Q/00060.wav'): 8.576,\n",
       " PosixPath('/home/jupyter/.fastai/data/100_speakers/250-speakers/id08972/wkHlZhXSPLA/00032.wav'): 5.248,\n",
       " PosixPath('/home/jupyter/.fastai/data/100_speakers/250-speakers/id08972/2IoG7Z938Us/00002.wav'): 4.8,\n",
       " PosixPath('/home/jupyter/.fastai/data/100_speakers/250-speakers/id08972/2IoG7Z938Us/00001.wav'): 7.168,\n",
       " PosixPath('/home/jupyter/.fastai/data/100_speakers/250-speakers/id08972/hy_Te08XxdA/00009.wav'): 5.888,\n",
       " PosixPath('/home/jupyter/.fastai/data/100_speakers/250-speakers/id08972/hy_Te08XxdA/00008.wav'): 5.76,\n",
       " PosixPath('/home/jupyter/.fastai/data/100_speakers/250-speakers/id08972/4pP9ERgzmLY/00005.wav'): 4.224,\n",
       " PosixPath('/home/jupyter/.fastai/data/100_speakers/250-speakers/id08972/4pP9ERgzmLY/00006.wav'): 5.696,\n",
       " PosixPath('/home/jupyter/.fastai/data/100_speakers/250-speakers/id08972/4pP9ERgzmLY/00003.wav'): 10.624,\n",
       " PosixPath('/home/jupyter/.fastai/data/100_speakers/250-speakers/id08972/4pP9ERgzmLY/00004.wav'): 4.416,\n",
       " PosixPath('/home/jupyter/.fastai/data/100_speakers/250-speakers/id08972/bbkD42kc7Oc/00007.wav'): 5.184,\n",
       " PosixPath('/home/jupyter/.fastai/data/100_speakers/250-speakers/id08972/oeEGPqDQvLw/00026.wav'): 9.472,\n",
       " PosixPath('/home/jupyter/.fastai/data/100_speakers/250-speakers/id08972/oeEGPqDQvLw/00017.wav'): 4.8,\n",
       " PosixPath('/home/jupyter/.fastai/data/100_speakers/250-speakers/id08972/oeEGPqDQvLw/00023.wav'): 6.08,\n",
       " PosixPath('/home/jupyter/.fastai/data/100_speakers/250-speakers/id08972/oeEGPqDQvLw/00030.wav'): 4.672,\n",
       " PosixPath('/home/jupyter/.fastai/data/100_speakers/250-speakers/id08972/oeEGPqDQvLw/00013.wav'): 4.16,\n",
       " PosixPath('/home/jupyter/.fastai/data/100_speakers/250-speakers/id08972/oeEGPqDQvLw/00029.wav'): 4.416,\n",
       " PosixPath('/home/jupyter/.fastai/data/100_speakers/250-speakers/id08972/oeEGPqDQvLw/00015.wav'): 4.096,\n",
       " PosixPath('/home/jupyter/.fastai/data/100_speakers/250-speakers/id08972/oeEGPqDQvLw/00028.wav'): 5.44,\n",
       " PosixPath('/home/jupyter/.fastai/data/100_speakers/250-speakers/id08972/oeEGPqDQvLw/00031.wav'): 4.928,\n",
       " PosixPath('/home/jupyter/.fastai/data/100_speakers/250-speakers/id08972/oeEGPqDQvLw/00024.wav'): 4.288,\n",
       " PosixPath('/home/jupyter/.fastai/data/100_speakers/250-speakers/id08972/oeEGPqDQvLw/00019.wav'): 5.248,\n",
       " PosixPath('/home/jupyter/.fastai/data/100_speakers/250-speakers/id08972/oeEGPqDQvLw/00025.wav'): 4.096,\n",
       " PosixPath('/home/jupyter/.fastai/data/100_speakers/250-speakers/id08972/oeEGPqDQvLw/00027.wav'): 5.184,\n",
       " PosixPath('/home/jupyter/.fastai/data/100_speakers/250-speakers/id08972/oeEGPqDQvLw/00021.wav'): 5.76,\n",
       " PosixPath('/home/jupyter/.fastai/data/100_speakers/250-speakers/id08972/oeEGPqDQvLw/00022.wav'): 4.288,\n",
       " PosixPath('/home/jupyter/.fastai/data/100_speakers/250-speakers/id08972/oeEGPqDQvLw/00014.wav'): 5.184,\n",
       " PosixPath('/home/jupyter/.fastai/data/100_speakers/250-speakers/id08972/oeEGPqDQvLw/00020.wav'): 4.48,\n",
       " PosixPath('/home/jupyter/.fastai/data/100_speakers/250-speakers/id08972/oeEGPqDQvLw/00016.wav'): 4.544,\n",
       " PosixPath('/home/jupyter/.fastai/data/100_speakers/250-speakers/id08972/oeEGPqDQvLw/00010.wav'): 5.376,\n",
       " PosixPath('/home/jupyter/.fastai/data/100_speakers/250-speakers/id08972/oeEGPqDQvLw/00012.wav'): 8.768,\n",
       " PosixPath('/home/jupyter/.fastai/data/100_speakers/250-speakers/id08972/oeEGPqDQvLw/00018.wav'): 5.824,\n",
       " PosixPath('/home/jupyter/.fastai/data/100_speakers/250-speakers/id08972/oeEGPqDQvLw/00011.wav'): 5.504,\n",
       " PosixPath('/home/jupyter/.fastai/data/100_speakers/250-speakers/id09197/hmSDw2yGoJA/00153.wav'): 6.784,\n",
       " PosixPath('/home/jupyter/.fastai/data/100_speakers/250-speakers/id09197/hmSDw2yGoJA/00156.wav'): 4.864,\n",
       " PosixPath('/home/jupyter/.fastai/data/100_speakers/250-speakers/id09197/hmSDw2yGoJA/00154.wav'): 5.632,\n",
       " PosixPath('/home/jupyter/.fastai/data/100_speakers/250-speakers/id09197/hmSDw2yGoJA/00155.wav'): 4.544,\n",
       " PosixPath('/home/jupyter/.fastai/data/100_speakers/250-speakers/id09197/hmSDw2yGoJA/00152.wav'): 5.184,\n",
       " PosixPath('/home/jupyter/.fastai/data/100_speakers/250-speakers/id09197/FGS32BGNRvY/00041.wav'): 4.48,\n",
       " PosixPath('/home/jupyter/.fastai/data/100_speakers/250-speakers/id09197/FGS32BGNRvY/00042.wav'): 4.288,\n",
       " PosixPath('/home/jupyter/.fastai/data/100_speakers/250-speakers/id09197/HjtC-WK0CX0/00072.wav'): 6.208,\n",
       " PosixPath('/home/jupyter/.fastai/data/100_speakers/250-speakers/id09197/9zkRGVlN0Is/00005.wav'): 3.968,\n",
       " PosixPath('/home/jupyter/.fastai/data/100_speakers/250-speakers/id09197/9zkRGVlN0Is/00004.wav'): 4.544,\n",
       " PosixPath('/home/jupyter/.fastai/data/100_speakers/250-speakers/id09197/cvUTjpLVOwI/00129.wav'): 6.4,\n",
       " PosixPath('/home/jupyter/.fastai/data/100_speakers/250-speakers/id09197/cvUTjpLVOwI/00130.wav'): 4.992,\n",
       " PosixPath('/home/jupyter/.fastai/data/100_speakers/250-speakers/id09197/cvUTjpLVOwI/00145.wav'): 5.376,\n",
       " PosixPath('/home/jupyter/.fastai/data/100_speakers/250-speakers/id09197/cvUTjpLVOwI/00150.wav'): 4.992,\n",
       " PosixPath('/home/jupyter/.fastai/data/100_speakers/250-speakers/id09197/cvUTjpLVOwI/00136.wav'): 5.568,\n",
       " PosixPath('/home/jupyter/.fastai/data/100_speakers/250-speakers/id09197/cvUTjpLVOwI/00144.wav'): 12.48,\n",
       " PosixPath('/home/jupyter/.fastai/data/100_speakers/250-speakers/id09197/cvUTjpLVOwI/00148.wav'): 4.288,\n",
       " PosixPath('/home/jupyter/.fastai/data/100_speakers/250-speakers/id09197/cvUTjpLVOwI/00146.wav'): 4.672,\n",
       " PosixPath('/home/jupyter/.fastai/data/100_speakers/250-speakers/id09197/cvUTjpLVOwI/00141.wav'): 13.568,\n",
       " PosixPath('/home/jupyter/.fastai/data/100_speakers/250-speakers/id09197/cvUTjpLVOwI/00132.wav'): 6.272,\n",
       " PosixPath('/home/jupyter/.fastai/data/100_speakers/250-speakers/id09197/cvUTjpLVOwI/00140.wav'): 7.744,\n",
       " PosixPath('/home/jupyter/.fastai/data/100_speakers/250-speakers/id09197/cvUTjpLVOwI/00128.wav'): 5.632,\n",
       " PosixPath('/home/jupyter/.fastai/data/100_speakers/250-speakers/id09197/cvUTjpLVOwI/00149.wav'): 9.856,\n",
       " PosixPath('/home/jupyter/.fastai/data/100_speakers/250-speakers/id09197/cvUTjpLVOwI/00147.wav'): 5.504,\n",
       " PosixPath('/home/jupyter/.fastai/data/100_speakers/250-speakers/id09197/cvUTjpLVOwI/00131.wav'): 7.872,\n",
       " PosixPath('/home/jupyter/.fastai/data/100_speakers/250-speakers/id09197/cvUTjpLVOwI/00135.wav'): 4.672,\n",
       " PosixPath('/home/jupyter/.fastai/data/100_speakers/250-speakers/id09197/cvUTjpLVOwI/00134.wav'): 6.144,\n",
       " PosixPath('/home/jupyter/.fastai/data/100_speakers/250-speakers/id09197/cvUTjpLVOwI/00142.wav'): 7.744,\n",
       " PosixPath('/home/jupyter/.fastai/data/100_speakers/250-speakers/id09197/cvUTjpLVOwI/00133.wav'): 3.968,\n",
       " PosixPath('/home/jupyter/.fastai/data/100_speakers/250-speakers/id09197/cvUTjpLVOwI/00139.wav'): 4.352,\n",
       " PosixPath('/home/jupyter/.fastai/data/100_speakers/250-speakers/id09197/cvUTjpLVOwI/00137.wav'): 4.992,\n",
       " PosixPath('/home/jupyter/.fastai/data/100_speakers/250-speakers/id09197/cvUTjpLVOwI/00143.wav'): 5.056,\n",
       " PosixPath('/home/jupyter/.fastai/data/100_speakers/250-speakers/id09197/cvUTjpLVOwI/00138.wav'): 4.864,\n",
       " PosixPath('/home/jupyter/.fastai/data/100_speakers/250-speakers/id09197/cZg5Sb-KlSY/00127.wav'): 6.72,\n",
       " PosixPath('/home/jupyter/.fastai/data/100_speakers/250-speakers/id09197/cZg5Sb-KlSY/00124.wav'): 4.608,\n",
       " PosixPath('/home/jupyter/.fastai/data/100_speakers/250-speakers/id09197/cZg5Sb-KlSY/00125.wav'): 4.544,\n",
       " PosixPath('/home/jupyter/.fastai/data/100_speakers/250-speakers/id09197/cZg5Sb-KlSY/00126.wav'): 4.928,\n",
       " PosixPath('/home/jupyter/.fastai/data/100_speakers/250-speakers/id09197/OiQ0uoXo-so/00097.wav'): 5.76,\n",
       " PosixPath('/home/jupyter/.fastai/data/100_speakers/250-speakers/id09197/OiQ0uoXo-so/00096.wav'): 5.184,\n",
       " PosixPath('/home/jupyter/.fastai/data/100_speakers/250-speakers/id09197/OiQ0uoXo-so/00094.wav'): 6.016,\n",
       " PosixPath('/home/jupyter/.fastai/data/100_speakers/250-speakers/id09197/OiQ0uoXo-so/00092.wav'): 6.336,\n",
       " PosixPath('/home/jupyter/.fastai/data/100_speakers/250-speakers/id09197/OiQ0uoXo-so/00095.wav'): 6.016,\n",
       " PosixPath('/home/jupyter/.fastai/data/100_speakers/250-speakers/id09197/OiQ0uoXo-so/00093.wav'): 5.12,\n",
       " PosixPath('/home/jupyter/.fastai/data/100_speakers/250-speakers/id09197/46LRK4lINok/00002.wav'): 6.784,\n",
       " PosixPath('/home/jupyter/.fastai/data/100_speakers/250-speakers/id09197/46LRK4lINok/00001.wav'): 4.544,\n",
       " PosixPath('/home/jupyter/.fastai/data/100_speakers/250-speakers/id09197/WmSNm2Sk5fg/00102.wav'): 4.544,\n",
       " PosixPath('/home/jupyter/.fastai/data/100_speakers/250-speakers/id09197/WmSNm2Sk5fg/00109.wav'): 6.4,\n",
       " PosixPath('/home/jupyter/.fastai/data/100_speakers/250-speakers/id09197/WmSNm2Sk5fg/00111.wav'): 6.464,\n",
       " PosixPath('/home/jupyter/.fastai/data/100_speakers/250-speakers/id09197/WmSNm2Sk5fg/00108.wav'): 6.4,\n",
       " PosixPath('/home/jupyter/.fastai/data/100_speakers/250-speakers/id09197/WmSNm2Sk5fg/00101.wav'): 6.016,\n",
       " PosixPath('/home/jupyter/.fastai/data/100_speakers/250-speakers/id09197/WmSNm2Sk5fg/00104.wav'): 4.416,\n",
       " PosixPath('/home/jupyter/.fastai/data/100_speakers/250-speakers/id09197/WmSNm2Sk5fg/00110.wav'): 6.144,\n",
       " PosixPath('/home/jupyter/.fastai/data/100_speakers/250-speakers/id09197/WmSNm2Sk5fg/00106.wav'): 4.288,\n",
       " PosixPath('/home/jupyter/.fastai/data/100_speakers/250-speakers/id09197/WmSNm2Sk5fg/00107.wav'): 4.032,\n",
       " PosixPath('/home/jupyter/.fastai/data/100_speakers/250-speakers/id09197/WmSNm2Sk5fg/00105.wav'): 4.992,\n",
       " PosixPath('/home/jupyter/.fastai/data/100_speakers/250-speakers/id09197/WmSNm2Sk5fg/00103.wav'): 6.72,\n",
       " PosixPath('/home/jupyter/.fastai/data/100_speakers/250-speakers/id09197/WmSNm2Sk5fg/00100.wav'): 5.248,\n",
       " PosixPath('/home/jupyter/.fastai/data/100_speakers/250-speakers/id09197/DPLP-gU1jKM/00040.wav'): 5.44,\n",
       " PosixPath('/home/jupyter/.fastai/data/100_speakers/250-speakers/id09197/DPLP-gU1jKM/00039.wav'): 3.968,\n",
       " PosixPath('/home/jupyter/.fastai/data/100_speakers/250-speakers/id09197/o4Vrf1JJ24k/00159.wav'): 6.144,\n",
       " PosixPath('/home/jupyter/.fastai/data/100_speakers/250-speakers/id09197/o4Vrf1JJ24k/00160.wav'): 4.864,\n",
       " PosixPath('/home/jupyter/.fastai/data/100_speakers/250-speakers/id09197/o4Vrf1JJ24k/00157.wav'): 6.528,\n",
       " PosixPath('/home/jupyter/.fastai/data/100_speakers/250-speakers/id09197/o4Vrf1JJ24k/00161.wav'): 5.504,\n",
       " PosixPath('/home/jupyter/.fastai/data/100_speakers/250-speakers/id09197/o4Vrf1JJ24k/00158.wav'): 6.848,\n",
       " PosixPath('/home/jupyter/.fastai/data/100_speakers/250-speakers/id09197/PmYafH4NXgY/00098.wav'): 4.544,\n",
       " PosixPath('/home/jupyter/.fastai/data/100_speakers/250-speakers/id09197/PmYafH4NXgY/00099.wav'): 4.608,\n",
       " PosixPath('/home/jupyter/.fastai/data/100_speakers/250-speakers/id09197/GXx7iD3RYlY/00050.wav'): 10.688,\n",
       " PosixPath('/home/jupyter/.fastai/data/100_speakers/250-speakers/id09197/GXx7iD3RYlY/00070.wav'): 6.336,\n",
       " PosixPath('/home/jupyter/.fastai/data/100_speakers/250-speakers/id09197/GXx7iD3RYlY/00066.wav'): 6.336,\n",
       " PosixPath('/home/jupyter/.fastai/data/100_speakers/250-speakers/id09197/GXx7iD3RYlY/00046.wav'): 8.576,\n",
       " PosixPath('/home/jupyter/.fastai/data/100_speakers/250-speakers/id09197/GXx7iD3RYlY/00061.wav'): 5.568,\n",
       " PosixPath('/home/jupyter/.fastai/data/100_speakers/250-speakers/id09197/GXx7iD3RYlY/00053.wav'): 4.224,\n",
       " PosixPath('/home/jupyter/.fastai/data/100_speakers/250-speakers/id09197/GXx7iD3RYlY/00051.wav'): 4.992,\n",
       " PosixPath('/home/jupyter/.fastai/data/100_speakers/250-speakers/id09197/GXx7iD3RYlY/00054.wav'): 4.032,\n",
       " PosixPath('/home/jupyter/.fastai/data/100_speakers/250-speakers/id09197/GXx7iD3RYlY/00056.wav'): 4.416,\n",
       " PosixPath('/home/jupyter/.fastai/data/100_speakers/250-speakers/id09197/GXx7iD3RYlY/00059.wav'): 5.376,\n",
       " PosixPath('/home/jupyter/.fastai/data/100_speakers/250-speakers/id09197/GXx7iD3RYlY/00049.wav'): 7.104,\n",
       " PosixPath('/home/jupyter/.fastai/data/100_speakers/250-speakers/id09197/GXx7iD3RYlY/00043.wav'): 8.64,\n",
       " PosixPath('/home/jupyter/.fastai/data/100_speakers/250-speakers/id09197/GXx7iD3RYlY/00063.wav'): 4.352,\n",
       " PosixPath('/home/jupyter/.fastai/data/100_speakers/250-speakers/id09197/GXx7iD3RYlY/00067.wav'): 5.824,\n",
       " PosixPath('/home/jupyter/.fastai/data/100_speakers/250-speakers/id09197/GXx7iD3RYlY/00068.wav'): 5.44,\n",
       " PosixPath('/home/jupyter/.fastai/data/100_speakers/250-speakers/id09197/GXx7iD3RYlY/00062.wav'): 3.968,\n",
       " PosixPath('/home/jupyter/.fastai/data/100_speakers/250-speakers/id09197/GXx7iD3RYlY/00064.wav'): 6.336,\n",
       " PosixPath('/home/jupyter/.fastai/data/100_speakers/250-speakers/id09197/GXx7iD3RYlY/00045.wav'): 8.896,\n",
       " PosixPath('/home/jupyter/.fastai/data/100_speakers/250-speakers/id09197/GXx7iD3RYlY/00058.wav'): 7.104,\n",
       " PosixPath('/home/jupyter/.fastai/data/100_speakers/250-speakers/id09197/GXx7iD3RYlY/00057.wav'): 4.864,\n",
       " PosixPath('/home/jupyter/.fastai/data/100_speakers/250-speakers/id09197/GXx7iD3RYlY/00065.wav'): 4.288,\n",
       " PosixPath('/home/jupyter/.fastai/data/100_speakers/250-speakers/id09197/GXx7iD3RYlY/00052.wav'): 7.232,\n",
       " PosixPath('/home/jupyter/.fastai/data/100_speakers/250-speakers/id09197/GXx7iD3RYlY/00060.wav'): 4.096,\n",
       " PosixPath('/home/jupyter/.fastai/data/100_speakers/250-speakers/id09197/GXx7iD3RYlY/00069.wav'): 4.416,\n",
       " PosixPath('/home/jupyter/.fastai/data/100_speakers/250-speakers/id09197/GXx7iD3RYlY/00055.wav'): 4.224,\n",
       " PosixPath('/home/jupyter/.fastai/data/100_speakers/250-speakers/id09197/GXx7iD3RYlY/00071.wav'): 7.616,\n",
       " PosixPath('/home/jupyter/.fastai/data/100_speakers/250-speakers/id09197/GXx7iD3RYlY/00044.wav'): 4.352,\n",
       " PosixPath('/home/jupyter/.fastai/data/100_speakers/250-speakers/id09197/GXx7iD3RYlY/00047.wav'): 4.992,\n",
       " PosixPath('/home/jupyter/.fastai/data/100_speakers/250-speakers/id09197/GXx7iD3RYlY/00048.wav'): 9.92,\n",
       " PosixPath('/home/jupyter/.fastai/data/100_speakers/250-speakers/id09197/85hv-Jcari0/00003.wav'): 4.288,\n",
       " PosixPath('/home/jupyter/.fastai/data/100_speakers/250-speakers/id09197/dFd0dxwTxYM/00151.wav'): 4.48,\n",
       " PosixPath('/home/jupyter/.fastai/data/100_speakers/250-speakers/id09197/AFe8-l5G3bQ/00032.wav'): 6.912,\n",
       " PosixPath('/home/jupyter/.fastai/data/100_speakers/250-speakers/id09197/AFe8-l5G3bQ/00026.wav'): 4.032,\n",
       " PosixPath('/home/jupyter/.fastai/data/100_speakers/250-speakers/id09197/AFe8-l5G3bQ/00017.wav'): 6.464,\n",
       " PosixPath('/home/jupyter/.fastai/data/100_speakers/250-speakers/id09197/AFe8-l5G3bQ/00036.wav'): 13.824,\n",
       " PosixPath('/home/jupyter/.fastai/data/100_speakers/250-speakers/id09197/AFe8-l5G3bQ/00023.wav'): 4.032,\n",
       " PosixPath('/home/jupyter/.fastai/data/100_speakers/250-speakers/id09197/AFe8-l5G3bQ/00038.wav'): 4.608,\n",
       " PosixPath('/home/jupyter/.fastai/data/100_speakers/250-speakers/id09197/AFe8-l5G3bQ/00035.wav'): 7.936,\n",
       " PosixPath('/home/jupyter/.fastai/data/100_speakers/250-speakers/id09197/AFe8-l5G3bQ/00030.wav'): 6.528,\n",
       " PosixPath('/home/jupyter/.fastai/data/100_speakers/250-speakers/id09197/AFe8-l5G3bQ/00013.wav'): 4.416,\n",
       " PosixPath('/home/jupyter/.fastai/data/100_speakers/250-speakers/id09197/AFe8-l5G3bQ/00029.wav'): 4.16,\n",
       " PosixPath('/home/jupyter/.fastai/data/100_speakers/250-speakers/id09197/AFe8-l5G3bQ/00015.wav'): 4.864,\n",
       " PosixPath('/home/jupyter/.fastai/data/100_speakers/250-speakers/id09197/AFe8-l5G3bQ/00028.wav'): 4.096,\n",
       " PosixPath('/home/jupyter/.fastai/data/100_speakers/250-speakers/id09197/AFe8-l5G3bQ/00031.wav'): 4.416,\n",
       " PosixPath('/home/jupyter/.fastai/data/100_speakers/250-speakers/id09197/AFe8-l5G3bQ/00006.wav'): 6.016,\n",
       " PosixPath('/home/jupyter/.fastai/data/100_speakers/250-speakers/id09197/AFe8-l5G3bQ/00024.wav'): 4.864,\n",
       " PosixPath('/home/jupyter/.fastai/data/100_speakers/250-speakers/id09197/AFe8-l5G3bQ/00019.wav'): 9.536,\n",
       " PosixPath('/home/jupyter/.fastai/data/100_speakers/250-speakers/id09197/AFe8-l5G3bQ/00025.wav'): 7.168,\n",
       " PosixPath('/home/jupyter/.fastai/data/100_speakers/250-speakers/id09197/AFe8-l5G3bQ/00009.wav'): 4.224,\n",
       " PosixPath('/home/jupyter/.fastai/data/100_speakers/250-speakers/id09197/AFe8-l5G3bQ/00027.wav'): 11.776,\n",
       " PosixPath('/home/jupyter/.fastai/data/100_speakers/250-speakers/id09197/AFe8-l5G3bQ/00021.wav'): 4.352,\n",
       " PosixPath('/home/jupyter/.fastai/data/100_speakers/250-speakers/id09197/AFe8-l5G3bQ/00008.wav'): 4.864,\n",
       " PosixPath('/home/jupyter/.fastai/data/100_speakers/250-speakers/id09197/AFe8-l5G3bQ/00022.wav'): 4.416,\n",
       " PosixPath('/home/jupyter/.fastai/data/100_speakers/250-speakers/id09197/AFe8-l5G3bQ/00014.wav'): 5.504,\n",
       " PosixPath('/home/jupyter/.fastai/data/100_speakers/250-speakers/id09197/AFe8-l5G3bQ/00034.wav'): 6.784,\n",
       " PosixPath('/home/jupyter/.fastai/data/100_speakers/250-speakers/id09197/AFe8-l5G3bQ/00020.wav'): 5.504,\n",
       " PosixPath('/home/jupyter/.fastai/data/100_speakers/250-speakers/id09197/AFe8-l5G3bQ/00016.wav'): 7.296,\n",
       " PosixPath('/home/jupyter/.fastai/data/100_speakers/250-speakers/id09197/AFe8-l5G3bQ/00037.wav'): 4.608,\n",
       " PosixPath('/home/jupyter/.fastai/data/100_speakers/250-speakers/id09197/AFe8-l5G3bQ/00033.wav'): 7.36,\n",
       " PosixPath('/home/jupyter/.fastai/data/100_speakers/250-speakers/id09197/AFe8-l5G3bQ/00007.wav'): 11.264,\n",
       " PosixPath('/home/jupyter/.fastai/data/100_speakers/250-speakers/id09197/AFe8-l5G3bQ/00010.wav'): 5.568,\n",
       " PosixPath('/home/jupyter/.fastai/data/100_speakers/250-speakers/id09197/AFe8-l5G3bQ/00012.wav'): 6.784,\n",
       " PosixPath('/home/jupyter/.fastai/data/100_speakers/250-speakers/id09197/AFe8-l5G3bQ/00018.wav'): 5.44,\n",
       " PosixPath('/home/jupyter/.fastai/data/100_speakers/250-speakers/id09197/AFe8-l5G3bQ/00011.wav'): 7.68,\n",
       " PosixPath('/home/jupyter/.fastai/data/100_speakers/250-speakers/id09197/_KxA6unNcYg/00115.wav'): 12.288,\n",
       " PosixPath('/home/jupyter/.fastai/data/100_speakers/250-speakers/id09197/_KxA6unNcYg/00113.wav'): 9.088,\n",
       " PosixPath('/home/jupyter/.fastai/data/100_speakers/250-speakers/id09197/_KxA6unNcYg/00121.wav'): 4.224,\n",
       " PosixPath('/home/jupyter/.fastai/data/100_speakers/250-speakers/id09197/_KxA6unNcYg/00120.wav'): 4.736,\n",
       " PosixPath('/home/jupyter/.fastai/data/100_speakers/250-speakers/id09197/_KxA6unNcYg/00114.wav'): 5.824,\n",
       " PosixPath('/home/jupyter/.fastai/data/100_speakers/250-speakers/id09197/_KxA6unNcYg/00123.wav'): 4.416,\n",
       " PosixPath('/home/jupyter/.fastai/data/100_speakers/250-speakers/id09197/_KxA6unNcYg/00122.wav'): 4.992,\n",
       " PosixPath('/home/jupyter/.fastai/data/100_speakers/250-speakers/id09197/_KxA6unNcYg/00117.wav'): 3.968,\n",
       " PosixPath('/home/jupyter/.fastai/data/100_speakers/250-speakers/id09197/_KxA6unNcYg/00118.wav'): 5.376,\n",
       " PosixPath('/home/jupyter/.fastai/data/100_speakers/250-speakers/id09197/_KxA6unNcYg/00112.wav'): 4.48,\n",
       " PosixPath('/home/jupyter/.fastai/data/100_speakers/250-speakers/id09197/_KxA6unNcYg/00119.wav'): 6.784,\n",
       " PosixPath('/home/jupyter/.fastai/data/100_speakers/250-speakers/id09197/_KxA6unNcYg/00116.wav'): 6.912,\n",
       " PosixPath('/home/jupyter/.fastai/data/100_speakers/250-speakers/id09197/KVA71eRSGnc/00079.wav'): 11.456,\n",
       " PosixPath('/home/jupyter/.fastai/data/100_speakers/250-speakers/id09197/KVA71eRSGnc/00085.wav'): 6.08,\n",
       " PosixPath('/home/jupyter/.fastai/data/100_speakers/250-speakers/id09197/KVA71eRSGnc/00073.wav'): 6.4,\n",
       " PosixPath('/home/jupyter/.fastai/data/100_speakers/250-speakers/id09197/KVA71eRSGnc/00086.wav'): 4.096,\n",
       " PosixPath('/home/jupyter/.fastai/data/100_speakers/250-speakers/id09197/KVA71eRSGnc/00091.wav'): 10.624,\n",
       " PosixPath('/home/jupyter/.fastai/data/100_speakers/250-speakers/id09197/KVA71eRSGnc/00083.wav'): 6.912,\n",
       " PosixPath('/home/jupyter/.fastai/data/100_speakers/250-speakers/id09197/KVA71eRSGnc/00077.wav'): 11.904,\n",
       " PosixPath('/home/jupyter/.fastai/data/100_speakers/250-speakers/id09197/KVA71eRSGnc/00090.wav'): 7.232,\n",
       " PosixPath('/home/jupyter/.fastai/data/100_speakers/250-speakers/id09197/KVA71eRSGnc/00084.wav'): 7.744,\n",
       " PosixPath('/home/jupyter/.fastai/data/100_speakers/250-speakers/id09197/KVA71eRSGnc/00080.wav'): 13.44,\n",
       " PosixPath('/home/jupyter/.fastai/data/100_speakers/250-speakers/id09197/KVA71eRSGnc/00075.wav'): 8.512,\n",
       " PosixPath('/home/jupyter/.fastai/data/100_speakers/250-speakers/id09197/KVA71eRSGnc/00078.wav'): 7.232,\n",
       " PosixPath('/home/jupyter/.fastai/data/100_speakers/250-speakers/id09197/KVA71eRSGnc/00074.wav'): 8.384,\n",
       " PosixPath('/home/jupyter/.fastai/data/100_speakers/250-speakers/id09197/KVA71eRSGnc/00076.wav'): 4.352,\n",
       " PosixPath('/home/jupyter/.fastai/data/100_speakers/250-speakers/id09197/KVA71eRSGnc/00081.wav'): 6.464,\n",
       " PosixPath('/home/jupyter/.fastai/data/100_speakers/250-speakers/id09197/KVA71eRSGnc/00088.wav'): 3.968,\n",
       " PosixPath('/home/jupyter/.fastai/data/100_speakers/250-speakers/id09197/KVA71eRSGnc/00089.wav'): 14.912,\n",
       " PosixPath('/home/jupyter/.fastai/data/100_speakers/250-speakers/id09197/KVA71eRSGnc/00087.wav'): 6.784,\n",
       " PosixPath('/home/jupyter/.fastai/data/100_speakers/250-speakers/id09197/KVA71eRSGnc/00082.wav'): 4.032,\n",
       " PosixPath('/home/jupyter/.fastai/data/100_speakers/250-speakers/id08927/yMoI6_VzNhk/00323.wav'): 4.544,\n",
       " PosixPath('/home/jupyter/.fastai/data/100_speakers/250-speakers/id08927/yMoI6_VzNhk/00322.wav'): 10.304,\n",
       " PosixPath('/home/jupyter/.fastai/data/100_speakers/250-speakers/id08927/yMoI6_VzNhk/00321.wav'): 6.912,\n",
       " PosixPath('/home/jupyter/.fastai/data/100_speakers/250-speakers/id08927/yMoI6_VzNhk/00325.wav'): 11.264,\n",
       " PosixPath('/home/jupyter/.fastai/data/100_speakers/250-speakers/id08927/yMoI6_VzNhk/00324.wav'): 3.968,\n",
       " PosixPath('/home/jupyter/.fastai/data/100_speakers/250-speakers/id08927/PvoxSkjvqsI/00115.wav'): 7.616,\n",
       " PosixPath('/home/jupyter/.fastai/data/100_speakers/250-speakers/id08927/PvoxSkjvqsI/00109.wav'): 4.608,\n",
       " PosixPath('/home/jupyter/.fastai/data/100_speakers/250-speakers/id08927/PvoxSkjvqsI/00113.wav'): 4.032,\n",
       " PosixPath('/home/jupyter/.fastai/data/100_speakers/250-speakers/id08927/PvoxSkjvqsI/00111.wav'): 5.504,\n",
       " PosixPath('/home/jupyter/.fastai/data/100_speakers/250-speakers/id08927/PvoxSkjvqsI/00108.wav'): 4.352,\n",
       " PosixPath('/home/jupyter/.fastai/data/100_speakers/250-speakers/id08927/PvoxSkjvqsI/00110.wav'): 4.416,\n",
       " PosixPath('/home/jupyter/.fastai/data/100_speakers/250-speakers/id08927/PvoxSkjvqsI/00106.wav'): 6.656,\n",
       " PosixPath('/home/jupyter/.fastai/data/100_speakers/250-speakers/id08927/PvoxSkjvqsI/00114.wav'): 4.864,\n",
       " PosixPath('/home/jupyter/.fastai/data/100_speakers/250-speakers/id08927/PvoxSkjvqsI/00107.wav'): 4.096,\n",
       " PosixPath('/home/jupyter/.fastai/data/100_speakers/250-speakers/id08927/PvoxSkjvqsI/00117.wav'): 6.08,\n",
       " PosixPath('/home/jupyter/.fastai/data/100_speakers/250-speakers/id08927/PvoxSkjvqsI/00118.wav'): 7.808,\n",
       " PosixPath('/home/jupyter/.fastai/data/100_speakers/250-speakers/id08927/PvoxSkjvqsI/00112.wav'): 5.056,\n",
       " PosixPath('/home/jupyter/.fastai/data/100_speakers/250-speakers/id08927/PvoxSkjvqsI/00119.wav'): 5.568,\n",
       " PosixPath('/home/jupyter/.fastai/data/100_speakers/250-speakers/id08927/PvoxSkjvqsI/00116.wav'): 3.968,\n",
       " PosixPath('/home/jupyter/.fastai/data/100_speakers/250-speakers/id08927/y8Soh8hkw30/00319.wav'): 4.352,\n",
       " PosixPath('/home/jupyter/.fastai/data/100_speakers/250-speakers/id08927/y8Soh8hkw30/00315.wav'): 4.416,\n",
       " PosixPath('/home/jupyter/.fastai/data/100_speakers/250-speakers/id08927/y8Soh8hkw30/00299.wav'): 6.08,\n",
       " PosixPath('/home/jupyter/.fastai/data/100_speakers/250-speakers/id08927/y8Soh8hkw30/00301.wav'): 9.152,\n",
       " PosixPath('/home/jupyter/.fastai/data/100_speakers/250-speakers/id08927/y8Soh8hkw30/00309.wav'): 4.544,\n",
       " PosixPath('/home/jupyter/.fastai/data/100_speakers/250-speakers/id08927/y8Soh8hkw30/00307.wav'): 4.288,\n",
       " PosixPath('/home/jupyter/.fastai/data/100_speakers/250-speakers/id08927/y8Soh8hkw30/00316.wav'): 7.744,\n",
       " PosixPath('/home/jupyter/.fastai/data/100_speakers/250-speakers/id08927/y8Soh8hkw30/00303.wav'): 16.768,\n",
       " PosixPath('/home/jupyter/.fastai/data/100_speakers/250-speakers/id08927/y8Soh8hkw30/00296.wav'): 5.056,\n",
       " PosixPath('/home/jupyter/.fastai/data/100_speakers/250-speakers/id08927/y8Soh8hkw30/00312.wav'): 4.544,\n",
       " PosixPath('/home/jupyter/.fastai/data/100_speakers/250-speakers/id08927/y8Soh8hkw30/00314.wav'): 4.8,\n",
       " PosixPath('/home/jupyter/.fastai/data/100_speakers/250-speakers/id08927/y8Soh8hkw30/00300.wav'): 7.488,\n",
       " PosixPath('/home/jupyter/.fastai/data/100_speakers/250-speakers/id08927/y8Soh8hkw30/00302.wav'): 4.928,\n",
       " PosixPath('/home/jupyter/.fastai/data/100_speakers/250-speakers/id08927/y8Soh8hkw30/00297.wav'): 4.224,\n",
       " PosixPath('/home/jupyter/.fastai/data/100_speakers/250-speakers/id08927/y8Soh8hkw30/00310.wav'): 7.808,\n",
       " PosixPath('/home/jupyter/.fastai/data/100_speakers/250-speakers/id08927/y8Soh8hkw30/00313.wav'): 5.76,\n",
       " PosixPath('/home/jupyter/.fastai/data/100_speakers/250-speakers/id08927/y8Soh8hkw30/00318.wav'): 4.352,\n",
       " PosixPath('/home/jupyter/.fastai/data/100_speakers/250-speakers/id08927/y8Soh8hkw30/00306.wav'): 4.224,\n",
       " PosixPath('/home/jupyter/.fastai/data/100_speakers/250-speakers/id08927/y8Soh8hkw30/00298.wav'): 5.184,\n",
       " PosixPath('/home/jupyter/.fastai/data/100_speakers/250-speakers/id08927/y8Soh8hkw30/00320.wav'): 5.376,\n",
       " PosixPath('/home/jupyter/.fastai/data/100_speakers/250-speakers/id08927/y8Soh8hkw30/00304.wav'): 23.36,\n",
       " PosixPath('/home/jupyter/.fastai/data/100_speakers/250-speakers/id08927/y8Soh8hkw30/00311.wav'): 4.928,\n",
       " PosixPath('/home/jupyter/.fastai/data/100_speakers/250-speakers/id08927/y8Soh8hkw30/00317.wav'): 6.784,\n",
       " PosixPath('/home/jupyter/.fastai/data/100_speakers/250-speakers/id08927/y8Soh8hkw30/00308.wav'): 7.488,\n",
       " PosixPath('/home/jupyter/.fastai/data/100_speakers/250-speakers/id08927/y8Soh8hkw30/00305.wav'): 8.128,\n",
       " PosixPath('/home/jupyter/.fastai/data/100_speakers/250-speakers/id08927/CytstBOKs-Y/00066.wav'): 13.056,\n",
       " PosixPath('/home/jupyter/.fastai/data/100_speakers/250-speakers/id08927/CytstBOKs-Y/00067.wav'): 16.064,\n",
       " PosixPath('/home/jupyter/.fastai/data/100_speakers/250-speakers/id08927/CytstBOKs-Y/00065.wav'): 4.544,\n",
       " PosixPath('/home/jupyter/.fastai/data/100_speakers/250-speakers/id08927/StEAryEzGk0/00129.wav'): 5.824,\n",
       " PosixPath('/home/jupyter/.fastai/data/100_speakers/250-speakers/id08927/StEAryEzGk0/00127.wav'): 4.416,\n",
       " PosixPath('/home/jupyter/.fastai/data/100_speakers/250-speakers/id08927/StEAryEzGk0/00123.wav'): 4.224,\n",
       " PosixPath('/home/jupyter/.fastai/data/100_speakers/250-speakers/id08927/StEAryEzGk0/00128.wav'): 4.352,\n",
       " PosixPath('/home/jupyter/.fastai/data/100_speakers/250-speakers/id08927/StEAryEzGk0/00122.wav'): 9.024,\n",
       " PosixPath('/home/jupyter/.fastai/data/100_speakers/250-speakers/id08927/StEAryEzGk0/00124.wav'): 4.096,\n",
       " PosixPath('/home/jupyter/.fastai/data/100_speakers/250-speakers/id08927/StEAryEzGk0/00125.wav'): 4.736,\n",
       " PosixPath('/home/jupyter/.fastai/data/100_speakers/250-speakers/id08927/StEAryEzGk0/00126.wav'): 5.504,\n",
       " PosixPath('/home/jupyter/.fastai/data/100_speakers/250-speakers/id08927/jCy35sFLxB4/00223.wav'): 5.44,\n",
       " PosixPath('/home/jupyter/.fastai/data/100_speakers/250-speakers/id08927/jCy35sFLxB4/00226.wav'): 4.736,\n",
       " PosixPath('/home/jupyter/.fastai/data/100_speakers/250-speakers/id08927/jCy35sFLxB4/00225.wav'): 9.92,\n",
       " PosixPath('/home/jupyter/.fastai/data/100_speakers/250-speakers/id08927/jCy35sFLxB4/00224.wav'): 6.208,\n",
       " PosixPath('/home/jupyter/.fastai/data/100_speakers/250-speakers/id08927/GQxoMIN60uE/00078.wav'): 8.064,\n",
       " PosixPath('/home/jupyter/.fastai/data/100_speakers/250-speakers/id08927/l7ri22fgwhU/00276.wav'): 4.672,\n",
       " PosixPath('/home/jupyter/.fastai/data/100_speakers/250-speakers/id08927/l7ri22fgwhU/00278.wav'): 6.976,\n",
       " PosixPath('/home/jupyter/.fastai/data/100_speakers/250-speakers/id08927/l7ri22fgwhU/00274.wav'): 6.72,\n",
       " PosixPath('/home/jupyter/.fastai/data/100_speakers/250-speakers/id08927/l7ri22fgwhU/00282.wav'): 8.896,\n",
       " PosixPath('/home/jupyter/.fastai/data/100_speakers/250-speakers/id08927/l7ri22fgwhU/00281.wav'): 5.184,\n",
       " PosixPath('/home/jupyter/.fastai/data/100_speakers/250-speakers/id08927/l7ri22fgwhU/00279.wav'): 4.544,\n",
       " PosixPath('/home/jupyter/.fastai/data/100_speakers/250-speakers/id08927/l7ri22fgwhU/00277.wav'): 4.544,\n",
       " PosixPath('/home/jupyter/.fastai/data/100_speakers/250-speakers/id08927/l7ri22fgwhU/00280.wav'): 10.112,\n",
       " PosixPath('/home/jupyter/.fastai/data/100_speakers/250-speakers/id08927/l7ri22fgwhU/00275.wav'): 7.744,\n",
       " PosixPath('/home/jupyter/.fastai/data/100_speakers/250-speakers/id08927/2c_VTJinmX0/00017.wav'): 7.616,\n",
       " PosixPath('/home/jupyter/.fastai/data/100_speakers/250-speakers/id08927/2c_VTJinmX0/00013.wav'): 4.608,\n",
       " PosixPath('/home/jupyter/.fastai/data/100_speakers/250-speakers/id08927/2c_VTJinmX0/00015.wav'): 4.096,\n",
       " PosixPath('/home/jupyter/.fastai/data/100_speakers/250-speakers/id08927/2c_VTJinmX0/00019.wav'): 7.424,\n",
       " PosixPath('/home/jupyter/.fastai/data/100_speakers/250-speakers/id08927/2c_VTJinmX0/00021.wav'): 16.128,\n",
       " PosixPath('/home/jupyter/.fastai/data/100_speakers/250-speakers/id08927/2c_VTJinmX0/00022.wav'): 4.864,\n",
       " PosixPath('/home/jupyter/.fastai/data/100_speakers/250-speakers/id08927/2c_VTJinmX0/00014.wav'): 9.664,\n",
       " PosixPath('/home/jupyter/.fastai/data/100_speakers/250-speakers/id08927/2c_VTJinmX0/00020.wav'): 4.608,\n",
       " PosixPath('/home/jupyter/.fastai/data/100_speakers/250-speakers/id08927/2c_VTJinmX0/00016.wav'): 5.12,\n",
       " PosixPath('/home/jupyter/.fastai/data/100_speakers/250-speakers/id08927/2c_VTJinmX0/00012.wav'): 10.816,\n",
       " PosixPath('/home/jupyter/.fastai/data/100_speakers/250-speakers/id08927/2c_VTJinmX0/00018.wav'): 11.264,\n",
       " PosixPath('/home/jupyter/.fastai/data/100_speakers/250-speakers/id08927/2c_VTJinmX0/00011.wav'): 5.824,\n",
       " PosixPath('/home/jupyter/.fastai/data/100_speakers/250-speakers/id08927/LJ-FjmdPGqM/00100.wav'): 11.008,\n",
       " PosixPath('/home/jupyter/.fastai/data/100_speakers/250-speakers/id08927/l0OIu7rSwrI/00266.wav'): 9.024,\n",
       " PosixPath('/home/jupyter/.fastai/data/100_speakers/250-speakers/id08927/l0OIu7rSwrI/00245.wav'): 6.016,\n",
       " PosixPath('/home/jupyter/.fastai/data/100_speakers/250-speakers/id08927/l0OIu7rSwrI/00264.wav'): 7.104,\n",
       " PosixPath('/home/jupyter/.fastai/data/100_speakers/250-speakers/id08927/l0OIu7rSwrI/00249.wav'): 10.368,\n",
       " PosixPath('/home/jupyter/.fastai/data/100_speakers/250-speakers/id08927/l0OIu7rSwrI/00252.wav'): 4.48,\n",
       " PosixPath('/home/jupyter/.fastai/data/100_speakers/250-speakers/id08927/l0OIu7rSwrI/00257.wav'): 5.056,\n",
       " PosixPath('/home/jupyter/.fastai/data/100_speakers/250-speakers/id08927/l0OIu7rSwrI/00251.wav'): 6.336,\n",
       " PosixPath('/home/jupyter/.fastai/data/100_speakers/250-speakers/id08927/l0OIu7rSwrI/00272.wav'): 6.336,\n",
       " PosixPath('/home/jupyter/.fastai/data/100_speakers/250-speakers/id08927/l0OIu7rSwrI/00265.wav'): 5.184,\n",
       " PosixPath('/home/jupyter/.fastai/data/100_speakers/250-speakers/id08927/l0OIu7rSwrI/00263.wav'): 5.504,\n",
       " PosixPath('/home/jupyter/.fastai/data/100_speakers/250-speakers/id08927/l0OIu7rSwrI/00255.wav'): 4.928,\n",
       " PosixPath('/home/jupyter/.fastai/data/100_speakers/250-speakers/id08927/l0OIu7rSwrI/00259.wav'): 18.432,\n",
       " PosixPath('/home/jupyter/.fastai/data/100_speakers/250-speakers/id08927/l0OIu7rSwrI/00256.wav'): 5.568,\n",
       " PosixPath('/home/jupyter/.fastai/data/100_speakers/250-speakers/id08927/l0OIu7rSwrI/00268.wav'): 4.096,\n",
       " PosixPath('/home/jupyter/.fastai/data/100_speakers/250-speakers/id08927/l0OIu7rSwrI/00271.wav'): 8.576,\n",
       " PosixPath('/home/jupyter/.fastai/data/100_speakers/250-speakers/id08927/l0OIu7rSwrI/00269.wav'): 4.544,\n",
       " PosixPath('/home/jupyter/.fastai/data/100_speakers/250-speakers/id08927/l0OIu7rSwrI/00270.wav'): 8.128,\n",
       " PosixPath('/home/jupyter/.fastai/data/100_speakers/250-speakers/id08927/l0OIu7rSwrI/00267.wav'): 19.776,\n",
       " PosixPath('/home/jupyter/.fastai/data/100_speakers/250-speakers/id08927/l0OIu7rSwrI/00247.wav'): 4.992,\n",
       " PosixPath('/home/jupyter/.fastai/data/100_speakers/250-speakers/id08927/l0OIu7rSwrI/00248.wav'): 4.544,\n",
       " PosixPath('/home/jupyter/.fastai/data/100_speakers/250-speakers/id08927/l0OIu7rSwrI/00246.wav'): 12.416,\n",
       " PosixPath('/home/jupyter/.fastai/data/100_speakers/250-speakers/id08927/l0OIu7rSwrI/00258.wav'): 18.88,\n",
       " PosixPath('/home/jupyter/.fastai/data/100_speakers/250-speakers/id08927/l0OIu7rSwrI/00250.wav'): 8.576,\n",
       " PosixPath('/home/jupyter/.fastai/data/100_speakers/250-speakers/id08927/l0OIu7rSwrI/00253.wav'): 8.576,\n",
       " PosixPath('/home/jupyter/.fastai/data/100_speakers/250-speakers/id08927/l0OIu7rSwrI/00261.wav'): 8.768,\n",
       " PosixPath('/home/jupyter/.fastai/data/100_speakers/250-speakers/id08927/l0OIu7rSwrI/00262.wav'): 13.184,\n",
       " PosixPath('/home/jupyter/.fastai/data/100_speakers/250-speakers/id08927/l0OIu7rSwrI/00254.wav'): 3.968,\n",
       " PosixPath('/home/jupyter/.fastai/data/100_speakers/250-speakers/id08927/l0OIu7rSwrI/00273.wav'): 6.016,\n",
       " PosixPath('/home/jupyter/.fastai/data/100_speakers/250-speakers/id08927/l0OIu7rSwrI/00260.wav'): 4.032,\n",
       " PosixPath('/home/jupyter/.fastai/data/100_speakers/250-speakers/id08927/arlM28oRvvE/00156.wav'): 4.352,\n",
       " PosixPath('/home/jupyter/.fastai/data/100_speakers/250-speakers/id08927/SK5t2o_zCYc/00121.wav'): 4.288,\n",
       " PosixPath('/home/jupyter/.fastai/data/100_speakers/250-speakers/id08927/SK5t2o_zCYc/00120.wav'): 6.976,\n",
       " PosixPath('/home/jupyter/.fastai/data/100_speakers/250-speakers/id08927/AUBTwybYGKg/00050.wav'): 29.824,\n",
       " PosixPath('/home/jupyter/.fastai/data/100_speakers/250-speakers/id08927/AUBTwybYGKg/00061.wav'): 6.016,\n",
       " PosixPath('/home/jupyter/.fastai/data/100_speakers/250-speakers/id08927/AUBTwybYGKg/00053.wav'): 6.336,\n",
       " PosixPath('/home/jupyter/.fastai/data/100_speakers/250-speakers/id08927/AUBTwybYGKg/00051.wav'): 4.352,\n",
       " PosixPath('/home/jupyter/.fastai/data/100_speakers/250-speakers/id08927/AUBTwybYGKg/00054.wav'): 8.128,\n",
       " PosixPath('/home/jupyter/.fastai/data/100_speakers/250-speakers/id08927/AUBTwybYGKg/00056.wav'): 6.784,\n",
       " PosixPath('/home/jupyter/.fastai/data/100_speakers/250-speakers/id08927/AUBTwybYGKg/00059.wav'): 4.416,\n",
       " PosixPath('/home/jupyter/.fastai/data/100_speakers/250-speakers/id08927/AUBTwybYGKg/00063.wav'): 4.992,\n",
       " PosixPath('/home/jupyter/.fastai/data/100_speakers/250-speakers/id08927/AUBTwybYGKg/00062.wav'): 5.888,\n",
       " PosixPath('/home/jupyter/.fastai/data/100_speakers/250-speakers/id08927/AUBTwybYGKg/00058.wav'): 10.688,\n",
       " PosixPath('/home/jupyter/.fastai/data/100_speakers/250-speakers/id08927/AUBTwybYGKg/00057.wav'): 5.696,\n",
       " PosixPath('/home/jupyter/.fastai/data/100_speakers/250-speakers/id08927/AUBTwybYGKg/00052.wav'): 4.096,\n",
       " PosixPath('/home/jupyter/.fastai/data/100_speakers/250-speakers/id08927/AUBTwybYGKg/00060.wav'): 10.368,\n",
       " PosixPath('/home/jupyter/.fastai/data/100_speakers/250-speakers/id08927/AUBTwybYGKg/00055.wav'): 9.024,\n",
       " PosixPath('/home/jupyter/.fastai/data/100_speakers/250-speakers/id08927/m25QJ2grBDs/00284.wav'): 4.16,\n",
       " PosixPath('/home/jupyter/.fastai/data/100_speakers/250-speakers/id08927/m25QJ2grBDs/00285.wav'): 5.312,\n",
       " PosixPath('/home/jupyter/.fastai/data/100_speakers/250-speakers/id08927/IdPxtrRJsIs/00085.wav'): 4.48,\n",
       " PosixPath('/home/jupyter/.fastai/data/100_speakers/250-speakers/id08927/IdPxtrRJsIs/00086.wav'): 4.416,\n",
       " PosixPath('/home/jupyter/.fastai/data/100_speakers/250-speakers/id08927/IdPxtrRJsIs/00091.wav'): 8.32,\n",
       " PosixPath('/home/jupyter/.fastai/data/100_speakers/250-speakers/id08927/IdPxtrRJsIs/00090.wav'): 6.4,\n",
       " PosixPath('/home/jupyter/.fastai/data/100_speakers/250-speakers/id08927/IdPxtrRJsIs/00092.wav'): 13.568,\n",
       " PosixPath('/home/jupyter/.fastai/data/100_speakers/250-speakers/id08927/IdPxtrRJsIs/00088.wav'): 6.72,\n",
       " PosixPath('/home/jupyter/.fastai/data/100_speakers/250-speakers/id08927/IdPxtrRJsIs/00089.wav'): 10.496,\n",
       " PosixPath('/home/jupyter/.fastai/data/100_speakers/250-speakers/id08927/IdPxtrRJsIs/00087.wav'): 4.096,\n",
       " PosixPath('/home/jupyter/.fastai/data/100_speakers/250-speakers/id08927/gqDDO5_qLJE/00190.wav'): 4.288,\n",
       " PosixPath('/home/jupyter/.fastai/data/100_speakers/250-speakers/id08927/gqDDO5_qLJE/00193.wav'): 5.696,\n",
       " PosixPath('/home/jupyter/.fastai/data/100_speakers/250-speakers/id08927/gqDDO5_qLJE/00189.wav'): 7.168,\n",
       " PosixPath('/home/jupyter/.fastai/data/100_speakers/250-speakers/id08927/gqDDO5_qLJE/00191.wav'): 12.224,\n",
       " PosixPath('/home/jupyter/.fastai/data/100_speakers/250-speakers/id08927/gqDDO5_qLJE/00188.wav'): 10.304,\n",
       " PosixPath('/home/jupyter/.fastai/data/100_speakers/250-speakers/id08927/gqDDO5_qLJE/00192.wav'): 12.352,\n",
       " PosixPath('/home/jupyter/.fastai/data/100_speakers/250-speakers/id08927/_js6H49tw54/00151.wav'): 4.864,\n",
       " PosixPath('/home/jupyter/.fastai/data/100_speakers/250-speakers/id08927/_js6H49tw54/00153.wav'): 6.016,\n",
       " PosixPath('/home/jupyter/.fastai/data/100_speakers/250-speakers/id08927/_js6H49tw54/00145.wav'): 4.096,\n",
       " PosixPath('/home/jupyter/.fastai/data/100_speakers/250-speakers/id08927/_js6H49tw54/00150.wav'): 4.224,\n",
       " PosixPath('/home/jupyter/.fastai/data/100_speakers/250-speakers/id08927/_js6H49tw54/00154.wav'): 6.144,\n",
       " PosixPath('/home/jupyter/.fastai/data/100_speakers/250-speakers/id08927/_js6H49tw54/00144.wav'): 6.336,\n",
       " PosixPath('/home/jupyter/.fastai/data/100_speakers/250-speakers/id08927/_js6H49tw54/00155.wav'): 4.416,\n",
       " PosixPath('/home/jupyter/.fastai/data/100_speakers/250-speakers/id08927/_js6H49tw54/00148.wav'): 4.224,\n",
       " PosixPath('/home/jupyter/.fastai/data/100_speakers/250-speakers/id08927/_js6H49tw54/00146.wav'): 5.44,\n",
       " PosixPath('/home/jupyter/.fastai/data/100_speakers/250-speakers/id08927/_js6H49tw54/00141.wav'): 4.736,\n",
       " PosixPath('/home/jupyter/.fastai/data/100_speakers/250-speakers/id08927/_js6H49tw54/00140.wav'): 5.504,\n",
       " PosixPath('/home/jupyter/.fastai/data/100_speakers/250-speakers/id08927/_js6H49tw54/00149.wav'): 8.256,\n",
       " PosixPath('/home/jupyter/.fastai/data/100_speakers/250-speakers/id08927/_js6H49tw54/00152.wav'): 7.232,\n",
       " PosixPath('/home/jupyter/.fastai/data/100_speakers/250-speakers/id08927/_js6H49tw54/00147.wav'): 7.616,\n",
       " PosixPath('/home/jupyter/.fastai/data/100_speakers/250-speakers/id08927/_js6H49tw54/00142.wav'): 5.504,\n",
       " PosixPath('/home/jupyter/.fastai/data/100_speakers/250-speakers/id08927/_js6H49tw54/00139.wav'): 5.184,\n",
       " PosixPath('/home/jupyter/.fastai/data/100_speakers/250-speakers/id08927/_js6H49tw54/00143.wav'): 5.504,\n",
       " PosixPath('/home/jupyter/.fastai/data/100_speakers/250-speakers/id08927/bkdk2cHM90U/00163.wav'): 5.248,\n",
       " PosixPath('/home/jupyter/.fastai/data/100_speakers/250-speakers/id08927/bkdk2cHM90U/00164.wav'): 5.696,\n",
       " PosixPath('/home/jupyter/.fastai/data/100_speakers/250-speakers/id08927/bkdk2cHM90U/00165.wav'): 4.864,\n",
       " PosixPath('/home/jupyter/.fastai/data/100_speakers/250-speakers/id08927/bkdk2cHM90U/00159.wav'): 4.864,\n",
       " PosixPath('/home/jupyter/.fastai/data/100_speakers/250-speakers/id08927/bkdk2cHM90U/00160.wav'): 7.808,\n",
       " PosixPath('/home/jupyter/.fastai/data/100_speakers/250-speakers/id08927/bkdk2cHM90U/00157.wav'): 22.656,\n",
       " PosixPath('/home/jupyter/.fastai/data/100_speakers/250-speakers/id08927/bkdk2cHM90U/00166.wav'): 4.096,\n",
       " PosixPath('/home/jupyter/.fastai/data/100_speakers/250-speakers/id08927/bkdk2cHM90U/00162.wav'): 4.416,\n",
       " PosixPath('/home/jupyter/.fastai/data/100_speakers/250-speakers/id08927/bkdk2cHM90U/00167.wav'): 6.464,\n",
       " PosixPath('/home/jupyter/.fastai/data/100_speakers/250-speakers/id08927/bkdk2cHM90U/00161.wav'): 4.352,\n",
       " PosixPath('/home/jupyter/.fastai/data/100_speakers/250-speakers/id08927/bkdk2cHM90U/00158.wav'): 8.768,\n",
       " PosixPath('/home/jupyter/.fastai/data/100_speakers/250-speakers/id08927/gvpksjdzn8s/00199.wav'): 4.544,\n",
       " PosixPath('/home/jupyter/.fastai/data/100_speakers/250-speakers/id08927/gvpksjdzn8s/00203.wav'): 7.296,\n",
       " PosixPath('/home/jupyter/.fastai/data/100_speakers/250-speakers/id08927/gvpksjdzn8s/00195.wav'): 7.936,\n",
       " PosixPath('/home/jupyter/.fastai/data/100_speakers/250-speakers/id08927/gvpksjdzn8s/00198.wav'): 14.656,\n",
       " PosixPath('/home/jupyter/.fastai/data/100_speakers/250-speakers/id08927/gvpksjdzn8s/00194.wav'): 4.736,\n",
       " PosixPath('/home/jupyter/.fastai/data/100_speakers/250-speakers/id08927/gvpksjdzn8s/00202.wav'): 4.8,\n",
       " PosixPath('/home/jupyter/.fastai/data/100_speakers/250-speakers/id08927/gvpksjdzn8s/00207.wav'): 7.552,\n",
       " PosixPath('/home/jupyter/.fastai/data/100_speakers/250-speakers/id08927/gvpksjdzn8s/00196.wav'): 6.656,\n",
       " PosixPath('/home/jupyter/.fastai/data/100_speakers/250-speakers/id08927/gvpksjdzn8s/00204.wav'): 10.304,\n",
       " PosixPath('/home/jupyter/.fastai/data/100_speakers/250-speakers/id08927/gvpksjdzn8s/00206.wav'): 6.912,\n",
       " PosixPath('/home/jupyter/.fastai/data/100_speakers/250-speakers/id08927/gvpksjdzn8s/00201.wav'): 4.736,\n",
       " PosixPath('/home/jupyter/.fastai/data/100_speakers/250-speakers/id08927/gvpksjdzn8s/00205.wav'): 4.864,\n",
       " PosixPath('/home/jupyter/.fastai/data/100_speakers/250-speakers/id08927/gvpksjdzn8s/00197.wav'): 6.464,\n",
       " PosixPath('/home/jupyter/.fastai/data/100_speakers/250-speakers/id08927/gvpksjdzn8s/00200.wav'): 6.464,\n",
       " PosixPath('/home/jupyter/.fastai/data/100_speakers/250-speakers/id08927/iR1g42tcsTo/00216.wav'): 7.808,\n",
       " PosixPath('/home/jupyter/.fastai/data/100_speakers/250-speakers/id08927/iR1g42tcsTo/00208.wav'): 24.0,\n",
       " PosixPath('/home/jupyter/.fastai/data/100_speakers/250-speakers/id08927/iR1g42tcsTo/00215.wav'): 19.84,\n",
       " PosixPath('/home/jupyter/.fastai/data/100_speakers/250-speakers/id08927/iR1g42tcsTo/00210.wav'): 19.264,\n",
       " PosixPath('/home/jupyter/.fastai/data/100_speakers/250-speakers/id08927/iR1g42tcsTo/00220.wav'): 5.44,\n",
       " PosixPath('/home/jupyter/.fastai/data/100_speakers/250-speakers/id08927/iR1g42tcsTo/00211.wav'): 7.936,\n",
       " PosixPath('/home/jupyter/.fastai/data/100_speakers/250-speakers/id08927/iR1g42tcsTo/00213.wav'): 4.096,\n",
       " PosixPath('/home/jupyter/.fastai/data/100_speakers/250-speakers/id08927/iR1g42tcsTo/00217.wav'): 6.656,\n",
       " PosixPath('/home/jupyter/.fastai/data/100_speakers/250-speakers/id08927/iR1g42tcsTo/00212.wav'): 5.824,\n",
       " PosixPath('/home/jupyter/.fastai/data/100_speakers/250-speakers/id08927/iR1g42tcsTo/00222.wav'): 6.528,\n",
       " PosixPath('/home/jupyter/.fastai/data/100_speakers/250-speakers/id08927/iR1g42tcsTo/00221.wav'): 6.656,\n",
       " PosixPath('/home/jupyter/.fastai/data/100_speakers/250-speakers/id08927/iR1g42tcsTo/00214.wav'): 6.4,\n",
       " PosixPath('/home/jupyter/.fastai/data/100_speakers/250-speakers/id08927/iR1g42tcsTo/00219.wav'): 5.376,\n",
       " PosixPath('/home/jupyter/.fastai/data/100_speakers/250-speakers/id08927/iR1g42tcsTo/00209.wav'): 5.312,\n",
       " PosixPath('/home/jupyter/.fastai/data/100_speakers/250-speakers/id08927/iR1g42tcsTo/00218.wav'): 6.08,\n",
       " PosixPath('/home/jupyter/.fastai/data/100_speakers/250-speakers/id08927/OBoFXPvO3_I/00102.wav'): 16.192,\n",
       " PosixPath('/home/jupyter/.fastai/data/100_speakers/250-speakers/id08927/OBoFXPvO3_I/00101.wav'): 9.344,\n",
       " PosixPath('/home/jupyter/.fastai/data/100_speakers/250-speakers/id08927/OBoFXPvO3_I/00104.wav'): 6.528,\n",
       " PosixPath('/home/jupyter/.fastai/data/100_speakers/250-speakers/id08927/OBoFXPvO3_I/00105.wav'): 10.624,\n",
       " PosixPath('/home/jupyter/.fastai/data/100_speakers/250-speakers/id08927/OBoFXPvO3_I/00103.wav'): 6.656,\n",
       " PosixPath('/home/jupyter/.fastai/data/100_speakers/250-speakers/id08927/jZKgqpY5bsw/00233.wav'): 4.032,\n",
       " PosixPath('/home/jupyter/.fastai/data/100_speakers/250-speakers/id08927/jZKgqpY5bsw/00241.wav'): 4.864,\n",
       " PosixPath('/home/jupyter/.fastai/data/100_speakers/250-speakers/id08927/jZKgqpY5bsw/00242.wav'): 3.968,\n",
       " PosixPath('/home/jupyter/.fastai/data/100_speakers/250-speakers/id08927/jZKgqpY5bsw/00229.wav'): 4.224,\n",
       " PosixPath('/home/jupyter/.fastai/data/100_speakers/250-speakers/id08927/jZKgqpY5bsw/00230.wav'): 5.568,\n",
       " PosixPath('/home/jupyter/.fastai/data/100_speakers/250-speakers/id08927/jZKgqpY5bsw/00243.wav'): 3.968,\n",
       " PosixPath('/home/jupyter/.fastai/data/100_speakers/250-speakers/id08927/jZKgqpY5bsw/00239.wav'): 4.544,\n",
       " PosixPath('/home/jupyter/.fastai/data/100_speakers/250-speakers/id08927/jZKgqpY5bsw/00244.wav'): 4.544,\n",
       " PosixPath('/home/jupyter/.fastai/data/100_speakers/250-speakers/id08927/jZKgqpY5bsw/00240.wav'): 5.248,\n",
       " PosixPath('/home/jupyter/.fastai/data/100_speakers/250-speakers/id08927/jZKgqpY5bsw/00237.wav'): 6.208,\n",
       " PosixPath('/home/jupyter/.fastai/data/100_speakers/250-speakers/id08927/jZKgqpY5bsw/00231.wav'): 5.12,\n",
       " PosixPath('/home/jupyter/.fastai/data/100_speakers/250-speakers/id08927/jZKgqpY5bsw/00238.wav'): 4.416,\n",
       " PosixPath('/home/jupyter/.fastai/data/100_speakers/250-speakers/id08927/jZKgqpY5bsw/00228.wav'): 5.568,\n",
       " PosixPath('/home/jupyter/.fastai/data/100_speakers/250-speakers/id08927/jZKgqpY5bsw/00232.wav'): 5.696,\n",
       " PosixPath('/home/jupyter/.fastai/data/100_speakers/250-speakers/id08927/jZKgqpY5bsw/00236.wav'): 7.04,\n",
       " PosixPath('/home/jupyter/.fastai/data/100_speakers/250-speakers/id08927/jZKgqpY5bsw/00234.wav'): 4.224,\n",
       " PosixPath('/home/jupyter/.fastai/data/100_speakers/250-speakers/id08927/jZKgqpY5bsw/00235.wav'): 5.824,\n",
       " PosixPath('/home/jupyter/.fastai/data/100_speakers/250-speakers/id08927/jZKgqpY5bsw/00227.wav'): 9.344,\n",
       " PosixPath('/home/jupyter/.fastai/data/100_speakers/250-speakers/id08927/IK9FOGzBfjM/00084.wav'): 7.232,\n",
       " PosixPath('/home/jupyter/.fastai/data/100_speakers/250-speakers/id08927/liPFKU-Ys2M/00283.wav'): 13.248,\n",
       " PosixPath('/home/jupyter/.fastai/data/100_speakers/250-speakers/id08927/mGcghEN95_0/00287.wav'): 5.76,\n",
       " PosixPath('/home/jupyter/.fastai/data/100_speakers/250-speakers/id08927/mGcghEN95_0/00288.wav'): 6.912,\n",
       " PosixPath('/home/jupyter/.fastai/data/100_speakers/250-speakers/id08927/mGcghEN95_0/00291.wav'): 5.44,\n",
       " PosixPath('/home/jupyter/.fastai/data/100_speakers/250-speakers/id08927/mGcghEN95_0/00289.wav'): 4.416,\n",
       " PosixPath('/home/jupyter/.fastai/data/100_speakers/250-speakers/id08927/mGcghEN95_0/00290.wav'): 4.032,\n",
       " PosixPath('/home/jupyter/.fastai/data/100_speakers/250-speakers/id08927/mGcghEN95_0/00286.wav'): 4.096,\n",
       " PosixPath('/home/jupyter/.fastai/data/100_speakers/250-speakers/id08927/Gnx3Lig9Vz4/00079.wav'): 4.096,\n",
       " PosixPath('/home/jupyter/.fastai/data/100_speakers/250-speakers/id08927/Gnx3Lig9Vz4/00080.wav'): 5.056,\n",
       " PosixPath('/home/jupyter/.fastai/data/100_speakers/250-speakers/id08927/AD3cdhZThKY/00032.wav'): 8.96,\n",
       " PosixPath('/home/jupyter/.fastai/data/100_speakers/250-speakers/id08927/AD3cdhZThKY/00026.wav'): 4.288,\n",
       " PosixPath('/home/jupyter/.fastai/data/100_speakers/250-speakers/id08927/AD3cdhZThKY/00036.wav'): 9.344,\n",
       " PosixPath('/home/jupyter/.fastai/data/100_speakers/250-speakers/id08927/AD3cdhZThKY/00023.wav'): 7.36,\n",
       " PosixPath('/home/jupyter/.fastai/data/100_speakers/250-speakers/id08927/AD3cdhZThKY/00038.wav'): 5.568,\n",
       " PosixPath('/home/jupyter/.fastai/data/100_speakers/250-speakers/id08927/AD3cdhZThKY/00046.wav'): 5.888,\n",
       " PosixPath('/home/jupyter/.fastai/data/100_speakers/250-speakers/id08927/AD3cdhZThKY/00035.wav'): 5.248,\n",
       " PosixPath('/home/jupyter/.fastai/data/100_speakers/250-speakers/id08927/AD3cdhZThKY/00030.wav'): 5.504,\n",
       " PosixPath('/home/jupyter/.fastai/data/100_speakers/250-speakers/id08927/AD3cdhZThKY/00029.wav'): 4.288,\n",
       " PosixPath('/home/jupyter/.fastai/data/100_speakers/250-speakers/id08927/AD3cdhZThKY/00028.wav'): 9.728,\n",
       " PosixPath('/home/jupyter/.fastai/data/100_speakers/250-speakers/id08927/AD3cdhZThKY/00031.wav'): 6.336,\n",
       " PosixPath('/home/jupyter/.fastai/data/100_speakers/250-speakers/id08927/AD3cdhZThKY/00024.wav'): 13.504,\n",
       " PosixPath('/home/jupyter/.fastai/data/100_speakers/250-speakers/id08927/AD3cdhZThKY/00025.wav'): 10.304,\n",
       " PosixPath('/home/jupyter/.fastai/data/100_speakers/250-speakers/id08927/AD3cdhZThKY/00027.wav'): 5.184,\n",
       " PosixPath('/home/jupyter/.fastai/data/100_speakers/250-speakers/id08927/AD3cdhZThKY/00049.wav'): 8.448,\n",
       " PosixPath('/home/jupyter/.fastai/data/100_speakers/250-speakers/id08927/AD3cdhZThKY/00043.wav'): 6.784,\n",
       " PosixPath('/home/jupyter/.fastai/data/100_speakers/250-speakers/id08927/AD3cdhZThKY/00040.wav'): 7.36,\n",
       " PosixPath('/home/jupyter/.fastai/data/100_speakers/250-speakers/id08927/AD3cdhZThKY/00034.wav'): 9.216,\n",
       " PosixPath('/home/jupyter/.fastai/data/100_speakers/250-speakers/id08927/AD3cdhZThKY/00045.wav'): 6.848,\n",
       " PosixPath('/home/jupyter/.fastai/data/100_speakers/250-speakers/id08927/AD3cdhZThKY/00037.wav'): 6.72,\n",
       " PosixPath('/home/jupyter/.fastai/data/100_speakers/250-speakers/id08927/AD3cdhZThKY/00033.wav'): 12.672,\n",
       " PosixPath('/home/jupyter/.fastai/data/100_speakers/250-speakers/id08927/AD3cdhZThKY/00041.wav'): 10.944,\n",
       " PosixPath('/home/jupyter/.fastai/data/100_speakers/250-speakers/id08927/AD3cdhZThKY/00039.wav'): 9.984,\n",
       " PosixPath('/home/jupyter/.fastai/data/100_speakers/250-speakers/id08927/AD3cdhZThKY/00044.wav'): 4.864,\n",
       " PosixPath('/home/jupyter/.fastai/data/100_speakers/250-speakers/id08927/AD3cdhZThKY/00042.wav'): 15.296,\n",
       " PosixPath('/home/jupyter/.fastai/data/100_speakers/250-speakers/id08927/AD3cdhZThKY/00047.wav'): 5.184,\n",
       " PosixPath('/home/jupyter/.fastai/data/100_speakers/250-speakers/id08927/AD3cdhZThKY/00048.wav'): 8.256,\n",
       " PosixPath('/home/jupyter/.fastai/data/100_speakers/250-speakers/id08927/FBBkQZ2msDU/00070.wav'): 7.424,\n",
       " PosixPath('/home/jupyter/.fastai/data/100_speakers/250-speakers/id08927/FBBkQZ2msDU/00068.wav'): 6.912,\n",
       " PosixPath('/home/jupyter/.fastai/data/100_speakers/250-speakers/id08927/FBBkQZ2msDU/00069.wav'): 4.096,\n",
       " PosixPath('/home/jupyter/.fastai/data/100_speakers/250-speakers/id08927/FBBkQZ2msDU/00071.wav'): 11.84,\n",
       " PosixPath('/home/jupyter/.fastai/data/100_speakers/250-speakers/id08927/HmJcnaMdCrc/00083.wav'): 4.992,\n",
       " PosixPath('/home/jupyter/.fastai/data/100_speakers/250-speakers/id08927/HmJcnaMdCrc/00081.wav'): 10.624,\n",
       " PosixPath('/home/jupyter/.fastai/data/100_speakers/250-speakers/id08927/HmJcnaMdCrc/00082.wav'): 4.544,\n",
       " PosixPath('/home/jupyter/.fastai/data/100_speakers/250-speakers/id08927/TBdVQYzBzSQ/00130.wav'): 4.096,\n",
       " PosixPath('/home/jupyter/.fastai/data/100_speakers/250-speakers/id08927/TBdVQYzBzSQ/00132.wav'): 9.024,\n",
       " PosixPath('/home/jupyter/.fastai/data/100_speakers/250-speakers/id08927/TBdVQYzBzSQ/00131.wav'): 8.128,\n",
       " PosixPath('/home/jupyter/.fastai/data/100_speakers/250-speakers/id08927/TBdVQYzBzSQ/00135.wav'): 5.376,\n",
       " PosixPath('/home/jupyter/.fastai/data/100_speakers/250-speakers/id08927/TBdVQYzBzSQ/00134.wav'): 6.208,\n",
       " PosixPath('/home/jupyter/.fastai/data/100_speakers/250-speakers/id08927/TBdVQYzBzSQ/00133.wav'): 11.264,\n",
       " PosixPath('/home/jupyter/.fastai/data/100_speakers/250-speakers/id08927/ezW2D9ZE-ug/00181.wav'): 4.736,\n",
       " PosixPath('/home/jupyter/.fastai/data/100_speakers/250-speakers/id08927/ezW2D9ZE-ug/00173.wav'): 13.888,\n",
       " PosixPath('/home/jupyter/.fastai/data/100_speakers/250-speakers/id08927/ezW2D9ZE-ug/00182.wav'): 4.736,\n",
       " PosixPath('/home/jupyter/.fastai/data/100_speakers/250-speakers/id08927/ezW2D9ZE-ug/00178.wav'): 6.528,\n",
       " PosixPath('/home/jupyter/.fastai/data/100_speakers/250-speakers/id08927/ezW2D9ZE-ug/00183.wav'): 6.4,\n",
       " PosixPath('/home/jupyter/.fastai/data/100_speakers/250-speakers/id08927/ezW2D9ZE-ug/00185.wav'): 5.184,\n",
       " PosixPath('/home/jupyter/.fastai/data/100_speakers/250-speakers/id08927/ezW2D9ZE-ug/00176.wav'): 5.248,\n",
       " PosixPath('/home/jupyter/.fastai/data/100_speakers/250-speakers/id08927/ezW2D9ZE-ug/00184.wav'): 8.832,\n",
       " PosixPath('/home/jupyter/.fastai/data/100_speakers/250-speakers/id08927/ezW2D9ZE-ug/00172.wav'): 4.16,\n",
       " PosixPath('/home/jupyter/.fastai/data/100_speakers/250-speakers/id08927/ezW2D9ZE-ug/00177.wav'): 7.552,\n",
       " PosixPath('/home/jupyter/.fastai/data/100_speakers/250-speakers/id08927/ezW2D9ZE-ug/00180.wav'): 7.04,\n",
       " PosixPath('/home/jupyter/.fastai/data/100_speakers/250-speakers/id08927/ezW2D9ZE-ug/00175.wav'): 7.488,\n",
       " PosixPath('/home/jupyter/.fastai/data/100_speakers/250-speakers/id08927/ezW2D9ZE-ug/00171.wav'): 4.16,\n",
       " PosixPath('/home/jupyter/.fastai/data/100_speakers/250-speakers/id08927/ezW2D9ZE-ug/00170.wav'): 8.512,\n",
       " PosixPath('/home/jupyter/.fastai/data/100_speakers/250-speakers/id08927/ezW2D9ZE-ug/00168.wav'): 15.808,\n",
       " PosixPath('/home/jupyter/.fastai/data/100_speakers/250-speakers/id08927/ezW2D9ZE-ug/00187.wav'): 4.352,\n",
       " PosixPath('/home/jupyter/.fastai/data/100_speakers/250-speakers/id08927/ezW2D9ZE-ug/00179.wav'): 6.464,\n",
       " PosixPath('/home/jupyter/.fastai/data/100_speakers/250-speakers/id08927/ezW2D9ZE-ug/00169.wav'): 5.568,\n",
       " PosixPath('/home/jupyter/.fastai/data/100_speakers/250-speakers/id08927/ezW2D9ZE-ug/00174.wav'): 4.288,\n",
       " PosixPath('/home/jupyter/.fastai/data/100_speakers/250-speakers/id08927/ezW2D9ZE-ug/00186.wav'): 7.488,\n",
       " PosixPath('/home/jupyter/.fastai/data/100_speakers/250-speakers/id08927/KDRrrh0ndGc/00098.wav'): 11.712,\n",
       " PosixPath('/home/jupyter/.fastai/data/100_speakers/250-speakers/id08927/KDRrrh0ndGc/00097.wav'): 7.488,\n",
       " PosixPath('/home/jupyter/.fastai/data/100_speakers/250-speakers/id08927/KDRrrh0ndGc/00096.wav'): 9.984,\n",
       " PosixPath('/home/jupyter/.fastai/data/100_speakers/250-speakers/id08927/KDRrrh0ndGc/00094.wav'): 14.336,\n",
       " PosixPath('/home/jupyter/.fastai/data/100_speakers/250-speakers/id08927/KDRrrh0ndGc/00099.wav'): 4.224,\n",
       " PosixPath('/home/jupyter/.fastai/data/100_speakers/250-speakers/id08927/KDRrrh0ndGc/00095.wav'): 27.904,\n",
       " PosixPath('/home/jupyter/.fastai/data/100_speakers/250-speakers/id08927/G8Zd1ViSEcw/00073.wav'): 7.68,\n",
       " PosixPath('/home/jupyter/.fastai/data/100_speakers/250-speakers/id08927/G8Zd1ViSEcw/00077.wav'): 4.288,\n",
       " PosixPath('/home/jupyter/.fastai/data/100_speakers/250-speakers/id08927/G8Zd1ViSEcw/00075.wav'): 4.928,\n",
       " PosixPath('/home/jupyter/.fastai/data/100_speakers/250-speakers/id08927/G8Zd1ViSEcw/00074.wav'): 4.864,\n",
       " PosixPath('/home/jupyter/.fastai/data/100_speakers/250-speakers/id08927/G8Zd1ViSEcw/00076.wav'): 7.296,\n",
       " PosixPath('/home/jupyter/.fastai/data/100_speakers/250-speakers/id08927/G8Zd1ViSEcw/00072.wav'): 4.544,\n",
       " PosixPath('/home/jupyter/.fastai/data/100_speakers/250-speakers/id08927/XrbDNJIOpC4/00136.wav'): 9.216,\n",
       " PosixPath('/home/jupyter/.fastai/data/100_speakers/250-speakers/id08927/XrbDNJIOpC4/00137.wav'): 4.48,\n",
       " PosixPath('/home/jupyter/.fastai/data/100_speakers/250-speakers/id08927/XrbDNJIOpC4/00138.wav'): 5.376,\n",
       " PosixPath('/home/jupyter/.fastai/data/100_speakers/250-speakers/id08927/Jq-GE8HA2So/00093.wav'): 5.248,\n",
       " PosixPath('/home/jupyter/.fastai/data/100_speakers/250-speakers/id08927/szZn9C2A-Rg/00295.wav'): 5.248,\n",
       " PosixPath('/home/jupyter/.fastai/data/100_speakers/250-speakers/id08927/szZn9C2A-Rg/00294.wav'): 4.288,\n",
       " PosixPath('/home/jupyter/.fastai/data/100_speakers/250-speakers/id08927/szZn9C2A-Rg/00292.wav'): 4.416,\n",
       " PosixPath('/home/jupyter/.fastai/data/100_speakers/250-speakers/id08927/szZn9C2A-Rg/00293.wav'): 7.168,\n",
       " PosixPath('/home/jupyter/.fastai/data/100_speakers/250-speakers/id08927/1GZumVxQID8/00005.wav'): 8.576,\n",
       " PosixPath('/home/jupyter/.fastai/data/100_speakers/250-speakers/id08927/1GZumVxQID8/00006.wav'): 4.224,\n",
       " PosixPath('/home/jupyter/.fastai/data/100_speakers/250-speakers/id08927/1GZumVxQID8/00009.wav'): 5.376,\n",
       " PosixPath('/home/jupyter/.fastai/data/100_speakers/250-speakers/id08927/1GZumVxQID8/00008.wav'): 3.968,\n",
       " PosixPath('/home/jupyter/.fastai/data/100_speakers/250-speakers/id08927/1GZumVxQID8/00002.wav'): 4.992,\n",
       " PosixPath('/home/jupyter/.fastai/data/100_speakers/250-speakers/id08927/1GZumVxQID8/00001.wav'): 10.176,\n",
       " PosixPath('/home/jupyter/.fastai/data/100_speakers/250-speakers/id08927/1GZumVxQID8/00003.wav'): 10.88,\n",
       " PosixPath('/home/jupyter/.fastai/data/100_speakers/250-speakers/id08927/1GZumVxQID8/00007.wav'): 6.08,\n",
       " PosixPath('/home/jupyter/.fastai/data/100_speakers/250-speakers/id08927/1GZumVxQID8/00010.wav'): 4.736,\n",
       " PosixPath('/home/jupyter/.fastai/data/100_speakers/250-speakers/id08927/1GZumVxQID8/00004.wav'): 6.144,\n",
       " PosixPath('/home/jupyter/.fastai/data/100_speakers/250-speakers/id08927/BsDofqLk4E0/00064.wav'): 3.968,\n",
       " PosixPath('/home/jupyter/.fastai/data/100_speakers/250-speakers/id08984/ZAhqCaQJnlI/00059.wav'): 4.608,\n",
       " PosixPath('/home/jupyter/.fastai/data/100_speakers/250-speakers/id08984/ZAhqCaQJnlI/00058.wav'): 4.032,\n",
       " PosixPath('/home/jupyter/.fastai/data/100_speakers/250-speakers/id08984/ZAhqCaQJnlI/00057.wav'): 4.864,\n",
       " PosixPath('/home/jupyter/.fastai/data/100_speakers/250-speakers/id08984/ZAhqCaQJnlI/00060.wav'): 9.28,\n",
       " PosixPath('/home/jupyter/.fastai/data/100_speakers/250-speakers/id08984/Y8CBav9_5E0/00050.wav'): 4.416,\n",
       " PosixPath('/home/jupyter/.fastai/data/100_speakers/250-speakers/id08984/Y8CBav9_5E0/00053.wav'): 4.416,\n",
       " PosixPath('/home/jupyter/.fastai/data/100_speakers/250-speakers/id08984/Y8CBav9_5E0/00051.wav'): 8.256,\n",
       " PosixPath('/home/jupyter/.fastai/data/100_speakers/250-speakers/id08984/Y8CBav9_5E0/00054.wav'): 7.872,\n",
       " PosixPath('/home/jupyter/.fastai/data/100_speakers/250-speakers/id08984/Y8CBav9_5E0/00056.wav'): 8.768,\n",
       " PosixPath('/home/jupyter/.fastai/data/100_speakers/250-speakers/id08984/Y8CBav9_5E0/00049.wav'): 5.184,\n",
       " PosixPath('/home/jupyter/.fastai/data/100_speakers/250-speakers/id08984/Y8CBav9_5E0/00052.wav'): 5.312,\n",
       " PosixPath('/home/jupyter/.fastai/data/100_speakers/250-speakers/id08984/Y8CBav9_5E0/00055.wav'): 10.624,\n",
       " PosixPath('/home/jupyter/.fastai/data/100_speakers/250-speakers/id08984/d96jlXoy_Io/00063.wav'): 4.416,\n",
       " PosixPath('/home/jupyter/.fastai/data/100_speakers/250-speakers/id08984/nVFrOWtN5qM/00064.wav'): 4.096,\n",
       " PosixPath('/home/jupyter/.fastai/data/100_speakers/250-speakers/id08984/OtEDtaCRVsE/00043.wav'): 5.056,\n",
       " PosixPath('/home/jupyter/.fastai/data/100_speakers/250-speakers/id08984/OtEDtaCRVsE/00041.wav'): 7.552,\n",
       " PosixPath('/home/jupyter/.fastai/data/100_speakers/250-speakers/id08984/OtEDtaCRVsE/00042.wav'): 4.096,\n",
       " PosixPath('/home/jupyter/.fastai/data/100_speakers/250-speakers/id08984/D72oaZyZyYQ/00005.wav'): 4.416,\n",
       " PosixPath('/home/jupyter/.fastai/data/100_speakers/250-speakers/id08984/D72oaZyZyYQ/00003.wav'): 4.48,\n",
       " PosixPath('/home/jupyter/.fastai/data/100_speakers/250-speakers/id08984/D72oaZyZyYQ/00004.wav'): 4.032,\n",
       " PosixPath('/home/jupyter/.fastai/data/100_speakers/250-speakers/id08984/16JBJYw2LxI/00001.wav'): 4.608,\n",
       " PosixPath('/home/jupyter/.fastai/data/100_speakers/250-speakers/id08984/yhzeGiUqwpc/00085.wav'): 4.096,\n",
       " PosixPath('/home/jupyter/.fastai/data/100_speakers/250-speakers/id08984/yhzeGiUqwpc/00086.wav'): 5.248,\n",
       " PosixPath('/home/jupyter/.fastai/data/100_speakers/250-speakers/id08984/yhzeGiUqwpc/00083.wav'): 14.272,\n",
       " PosixPath('/home/jupyter/.fastai/data/100_speakers/250-speakers/id08984/yhzeGiUqwpc/00084.wav'): 4.864,\n",
       " PosixPath('/home/jupyter/.fastai/data/100_speakers/250-speakers/id08984/yhzeGiUqwpc/00088.wav'): 5.76,\n",
       " PosixPath('/home/jupyter/.fastai/data/100_speakers/250-speakers/id08984/yhzeGiUqwpc/00089.wav'): 6.208,\n",
       " PosixPath('/home/jupyter/.fastai/data/100_speakers/250-speakers/id08984/yhzeGiUqwpc/00087.wav'): 3.968,\n",
       " PosixPath('/home/jupyter/.fastai/data/100_speakers/250-speakers/id08984/ZELQqz7MT6E/00061.wav'): 3.968,\n",
       " PosixPath('/home/jupyter/.fastai/data/100_speakers/250-speakers/id08984/ZELQqz7MT6E/00062.wav'): 4.224,\n",
       " PosixPath('/home/jupyter/.fastai/data/100_speakers/250-speakers/id08984/GRdvDJ8CE1g/00006.wav'): 5.248,\n",
       " PosixPath('/home/jupyter/.fastai/data/100_speakers/250-speakers/id08984/KwfgcZq9xHI/00029.wav'): 5.888,\n",
       " PosixPath('/home/jupyter/.fastai/data/100_speakers/250-speakers/id08984/SJ7mmS3mP6c/00046.wav'): 4.672,\n",
       " PosixPath('/home/jupyter/.fastai/data/100_speakers/250-speakers/id08984/SJ7mmS3mP6c/00045.wav'): 6.848,\n",
       " PosixPath('/home/jupyter/.fastai/data/100_speakers/250-speakers/id08984/SJ7mmS3mP6c/00044.wav'): 5.888,\n",
       " PosixPath('/home/jupyter/.fastai/data/100_speakers/250-speakers/id08984/SJ7mmS3mP6c/00047.wav'): 4.224,\n",
       " PosixPath('/home/jupyter/.fastai/data/100_speakers/250-speakers/id08984/SJ7mmS3mP6c/00048.wav'): 6.4,\n",
       " PosixPath('/home/jupyter/.fastai/data/100_speakers/250-speakers/id08984/qTvsy7Cef-E/00072.wav'): 4.096,\n",
       " PosixPath('/home/jupyter/.fastai/data/100_speakers/250-speakers/id08984/w7oEs3OGZa4/00073.wav'): 4.288,\n",
       " PosixPath('/home/jupyter/.fastai/data/100_speakers/250-speakers/id08984/w7oEs3OGZa4/00077.wav'): 7.04,\n",
       " PosixPath('/home/jupyter/.fastai/data/100_speakers/250-speakers/id08984/w7oEs3OGZa4/00075.wav'): 5.632,\n",
       " PosixPath('/home/jupyter/.fastai/data/100_speakers/250-speakers/id08984/w7oEs3OGZa4/00078.wav'): 7.232,\n",
       " PosixPath('/home/jupyter/.fastai/data/100_speakers/250-speakers/id08984/w7oEs3OGZa4/00074.wav'): 17.024,\n",
       " PosixPath('/home/jupyter/.fastai/data/100_speakers/250-speakers/id08984/w7oEs3OGZa4/00076.wav'): 4.736,\n",
       " PosixPath('/home/jupyter/.fastai/data/100_speakers/250-speakers/id08984/APrbokvo9N8/00002.wav'): 4.096,\n",
       " PosixPath('/home/jupyter/.fastai/data/100_speakers/250-speakers/id08984/q5g7x6rDHP8/00070.wav'): 5.248,\n",
       " PosixPath('/home/jupyter/.fastai/data/100_speakers/250-speakers/id08984/q5g7x6rDHP8/00066.wav'): 4.992,\n",
       " PosixPath('/home/jupyter/.fastai/data/100_speakers/250-speakers/id08984/q5g7x6rDHP8/00067.wav'): 6.464,\n",
       " PosixPath('/home/jupyter/.fastai/data/100_speakers/250-speakers/id08984/q5g7x6rDHP8/00068.wav'): 4.416,\n",
       " PosixPath('/home/jupyter/.fastai/data/100_speakers/250-speakers/id08984/q5g7x6rDHP8/00069.wav'): 5.504,\n",
       " PosixPath('/home/jupyter/.fastai/data/100_speakers/250-speakers/id08984/q5g7x6rDHP8/00071.wav'): 4.224,\n",
       " PosixPath('/home/jupyter/.fastai/data/100_speakers/250-speakers/id08984/py9hBHdx1ro/00065.wav'): 4.288,\n",
       " PosixPath('/home/jupyter/.fastai/data/100_speakers/250-speakers/id08984/I13ce5ZRFQU/00026.wav'): 5.824,\n",
       " PosixPath('/home/jupyter/.fastai/data/100_speakers/250-speakers/id08984/I13ce5ZRFQU/00017.wav'): 4.032,\n",
       " PosixPath('/home/jupyter/.fastai/data/100_speakers/250-speakers/id08984/I13ce5ZRFQU/00023.wav'): 5.312,\n",
       " PosixPath('/home/jupyter/.fastai/data/100_speakers/250-speakers/id08984/I13ce5ZRFQU/00013.wav'): 6.784,\n",
       " PosixPath('/home/jupyter/.fastai/data/100_speakers/250-speakers/id08984/I13ce5ZRFQU/00015.wav'): 3.968,\n",
       " PosixPath('/home/jupyter/.fastai/data/100_speakers/250-speakers/id08984/I13ce5ZRFQU/00028.wav'): 10.624,\n",
       " PosixPath('/home/jupyter/.fastai/data/100_speakers/250-speakers/id08984/I13ce5ZRFQU/00024.wav'): 4.16,\n",
       " PosixPath('/home/jupyter/.fastai/data/100_speakers/250-speakers/id08984/I13ce5ZRFQU/00019.wav'): 6.144,\n",
       " PosixPath('/home/jupyter/.fastai/data/100_speakers/250-speakers/id08984/I13ce5ZRFQU/00025.wav'): 4.992,\n",
       " PosixPath('/home/jupyter/.fastai/data/100_speakers/250-speakers/id08984/I13ce5ZRFQU/00009.wav'): 4.608,\n",
       " PosixPath('/home/jupyter/.fastai/data/100_speakers/250-speakers/id08984/I13ce5ZRFQU/00027.wav'): 6.336,\n",
       " PosixPath('/home/jupyter/.fastai/data/100_speakers/250-speakers/id08984/I13ce5ZRFQU/00021.wav'): 4.736,\n",
       " PosixPath('/home/jupyter/.fastai/data/100_speakers/250-speakers/id08984/I13ce5ZRFQU/00008.wav'): 4.224,\n",
       " PosixPath('/home/jupyter/.fastai/data/100_speakers/250-speakers/id08984/I13ce5ZRFQU/00022.wav'): 4.352,\n",
       " PosixPath('/home/jupyter/.fastai/data/100_speakers/250-speakers/id08984/I13ce5ZRFQU/00014.wav'): 6.784,\n",
       " PosixPath('/home/jupyter/.fastai/data/100_speakers/250-speakers/id08984/I13ce5ZRFQU/00020.wav'): 4.8,\n",
       " PosixPath('/home/jupyter/.fastai/data/100_speakers/250-speakers/id08984/I13ce5ZRFQU/00016.wav'): 4.672,\n",
       " PosixPath('/home/jupyter/.fastai/data/100_speakers/250-speakers/id08984/I13ce5ZRFQU/00007.wav'): 6.208,\n",
       " PosixPath('/home/jupyter/.fastai/data/100_speakers/250-speakers/id08984/I13ce5ZRFQU/00010.wav'): 7.808,\n",
       " PosixPath('/home/jupyter/.fastai/data/100_speakers/250-speakers/id08984/I13ce5ZRFQU/00012.wav'): 4.864,\n",
       " PosixPath('/home/jupyter/.fastai/data/100_speakers/250-speakers/id08984/I13ce5ZRFQU/00018.wav'): 10.624,\n",
       " PosixPath('/home/jupyter/.fastai/data/100_speakers/250-speakers/id08984/I13ce5ZRFQU/00011.wav'): 5.376,\n",
       " PosixPath('/home/jupyter/.fastai/data/100_speakers/250-speakers/id08984/N-Z-6EhATEU/00032.wav'): 3.968,\n",
       " PosixPath('/home/jupyter/.fastai/data/100_speakers/250-speakers/id08984/N-Z-6EhATEU/00036.wav'): 5.824,\n",
       " PosixPath('/home/jupyter/.fastai/data/100_speakers/250-speakers/id08984/N-Z-6EhATEU/00038.wav'): 5.376,\n",
       " PosixPath('/home/jupyter/.fastai/data/100_speakers/250-speakers/id08984/N-Z-6EhATEU/00035.wav'): 8.576,\n",
       " PosixPath('/home/jupyter/.fastai/data/100_speakers/250-speakers/id08984/N-Z-6EhATEU/00030.wav'): 4.096,\n",
       " PosixPath('/home/jupyter/.fastai/data/100_speakers/250-speakers/id08984/N-Z-6EhATEU/00031.wav'): 7.424,\n",
       " PosixPath('/home/jupyter/.fastai/data/100_speakers/250-speakers/id08984/N-Z-6EhATEU/00040.wav'): 7.744,\n",
       " PosixPath('/home/jupyter/.fastai/data/100_speakers/250-speakers/id08984/N-Z-6EhATEU/00034.wav'): 4.608,\n",
       " PosixPath('/home/jupyter/.fastai/data/100_speakers/250-speakers/id08984/N-Z-6EhATEU/00037.wav'): 4.032,\n",
       " PosixPath('/home/jupyter/.fastai/data/100_speakers/250-speakers/id08984/N-Z-6EhATEU/00033.wav'): 5.248,\n",
       " PosixPath('/home/jupyter/.fastai/data/100_speakers/250-speakers/id08984/N-Z-6EhATEU/00039.wav'): 4.032,\n",
       " PosixPath('/home/jupyter/.fastai/data/100_speakers/250-speakers/id08984/w8IsF-N5IbE/00079.wav'): 5.696,\n",
       " PosixPath('/home/jupyter/.fastai/data/100_speakers/250-speakers/id08984/w8IsF-N5IbE/00080.wav'): 4.288,\n",
       " PosixPath('/home/jupyter/.fastai/data/100_speakers/250-speakers/id08984/w8IsF-N5IbE/00081.wav'): 5.824,\n",
       " PosixPath('/home/jupyter/.fastai/data/100_speakers/250-speakers/id08984/w8IsF-N5IbE/00082.wav'): 3.968,\n",
       " PosixPath('/home/jupyter/.fastai/data/100_speakers/250-speakers/id09164/qdt6P2Z88EQ/00206.wav'): 4.032,\n",
       " PosixPath('/home/jupyter/.fastai/data/100_speakers/250-speakers/id09164/bLU6pB5dXAs/00163.wav'): 5.248,\n",
       " PosixPath('/home/jupyter/.fastai/data/100_speakers/250-speakers/id09164/bLU6pB5dXAs/00164.wav'): 5.248,\n",
       " PosixPath('/home/jupyter/.fastai/data/100_speakers/250-speakers/id09164/bLU6pB5dXAs/00165.wav'): 5.44,\n",
       " PosixPath('/home/jupyter/.fastai/data/100_speakers/250-speakers/id09164/bLU6pB5dXAs/00160.wav'): 6.144,\n",
       " PosixPath('/home/jupyter/.fastai/data/100_speakers/250-speakers/id09164/bLU6pB5dXAs/00166.wav'): 6.336,\n",
       " PosixPath('/home/jupyter/.fastai/data/100_speakers/250-speakers/id09164/bLU6pB5dXAs/00162.wav'): 20.096,\n",
       " PosixPath('/home/jupyter/.fastai/data/100_speakers/250-speakers/id09164/bLU6pB5dXAs/00161.wav'): 16.128,\n",
       " PosixPath('/home/jupyter/.fastai/data/100_speakers/250-speakers/id09164/ebuPGEUBaTc/00181.wav'): 5.248,\n",
       " PosixPath('/home/jupyter/.fastai/data/100_speakers/250-speakers/id09164/ebuPGEUBaTc/00182.wav'): 4.032,\n",
       " PosixPath('/home/jupyter/.fastai/data/100_speakers/250-speakers/id09164/xTmk8Mgh3Jc/00241.wav'): 7.616,\n",
       " PosixPath('/home/jupyter/.fastai/data/100_speakers/250-speakers/id09164/xTmk8Mgh3Jc/00242.wav'): 4.544,\n",
       " PosixPath('/home/jupyter/.fastai/data/100_speakers/250-speakers/id09164/xTmk8Mgh3Jc/00243.wav'): 4.736,\n",
       " PosixPath('/home/jupyter/.fastai/data/100_speakers/250-speakers/id09164/xTmk8Mgh3Jc/00239.wav'): 4.096,\n",
       " PosixPath('/home/jupyter/.fastai/data/100_speakers/250-speakers/id09164/xTmk8Mgh3Jc/00244.wav'): 4.672,\n",
       " PosixPath('/home/jupyter/.fastai/data/100_speakers/250-speakers/id09164/xTmk8Mgh3Jc/00240.wav'): 4.928,\n",
       " PosixPath('/home/jupyter/.fastai/data/100_speakers/250-speakers/id09164/xTmk8Mgh3Jc/00237.wav'): 7.744,\n",
       " PosixPath('/home/jupyter/.fastai/data/100_speakers/250-speakers/id09164/xTmk8Mgh3Jc/00238.wav'): 4.608,\n",
       " PosixPath('/home/jupyter/.fastai/data/100_speakers/250-speakers/id09164/xTmk8Mgh3Jc/00236.wav'): 4.032,\n",
       " PosixPath('/home/jupyter/.fastai/data/100_speakers/250-speakers/id09164/xTmk8Mgh3Jc/00235.wav'): 8.448,\n",
       " PosixPath('/home/jupyter/.fastai/data/100_speakers/250-speakers/id09164/slatwtl0d8s/00216.wav'): 5.376,\n",
       " PosixPath('/home/jupyter/.fastai/data/100_speakers/250-speakers/id09164/slatwtl0d8s/00208.wav'): 8.192,\n",
       " PosixPath('/home/jupyter/.fastai/data/100_speakers/250-speakers/id09164/slatwtl0d8s/00215.wav'): 5.696,\n",
       " PosixPath('/home/jupyter/.fastai/data/100_speakers/250-speakers/id09164/slatwtl0d8s/00210.wav'): 5.76,\n",
       " PosixPath('/home/jupyter/.fastai/data/100_speakers/250-speakers/id09164/slatwtl0d8s/00211.wav'): 3.968,\n",
       " PosixPath('/home/jupyter/.fastai/data/100_speakers/250-speakers/id09164/slatwtl0d8s/00213.wav'): 4.544,\n",
       " PosixPath('/home/jupyter/.fastai/data/100_speakers/250-speakers/id09164/slatwtl0d8s/00217.wav'): 4.864,\n",
       " PosixPath('/home/jupyter/.fastai/data/100_speakers/250-speakers/id09164/slatwtl0d8s/00212.wav'): 5.056,\n",
       " PosixPath('/home/jupyter/.fastai/data/100_speakers/250-speakers/id09164/slatwtl0d8s/00214.wav'): 4.032,\n",
       " PosixPath('/home/jupyter/.fastai/data/100_speakers/250-speakers/id09164/slatwtl0d8s/00209.wav'): 4.8,\n",
       " PosixPath('/home/jupyter/.fastai/data/100_speakers/250-speakers/id09164/B4pcoGVcU3U/00061.wav'): 5.12,\n",
       " PosixPath('/home/jupyter/.fastai/data/100_speakers/250-speakers/id09164/B4pcoGVcU3U/00053.wav'): 11.584,\n",
       " PosixPath('/home/jupyter/.fastai/data/100_speakers/250-speakers/id09164/B4pcoGVcU3U/00054.wav'): 7.424,\n",
       " PosixPath('/home/jupyter/.fastai/data/100_speakers/250-speakers/id09164/B4pcoGVcU3U/00056.wav'): 4.416,\n",
       " PosixPath('/home/jupyter/.fastai/data/100_speakers/250-speakers/id09164/B4pcoGVcU3U/00059.wav'): 4.224,\n",
       " PosixPath('/home/jupyter/.fastai/data/100_speakers/250-speakers/id09164/B4pcoGVcU3U/00063.wav'): 6.528,\n",
       " PosixPath('/home/jupyter/.fastai/data/100_speakers/250-speakers/id09164/B4pcoGVcU3U/00062.wav'): 12.672,\n",
       " PosixPath('/home/jupyter/.fastai/data/100_speakers/250-speakers/id09164/B4pcoGVcU3U/00064.wav'): 8.448,\n",
       " PosixPath('/home/jupyter/.fastai/data/100_speakers/250-speakers/id09164/B4pcoGVcU3U/00058.wav'): 15.36,\n",
       " PosixPath('/home/jupyter/.fastai/data/100_speakers/250-speakers/id09164/B4pcoGVcU3U/00057.wav'): 9.984,\n",
       " PosixPath('/home/jupyter/.fastai/data/100_speakers/250-speakers/id09164/B4pcoGVcU3U/00052.wav'): 5.504,\n",
       " PosixPath('/home/jupyter/.fastai/data/100_speakers/250-speakers/id09164/B4pcoGVcU3U/00060.wav'): 6.656,\n",
       " PosixPath('/home/jupyter/.fastai/data/100_speakers/250-speakers/id09164/B4pcoGVcU3U/00055.wav'): 10.688,\n",
       " PosixPath('/home/jupyter/.fastai/data/100_speakers/250-speakers/id09164/m7hR_TOX84Y/00183.wav'): 8.128,\n",
       " PosixPath('/home/jupyter/.fastai/data/100_speakers/250-speakers/id09164/m7hR_TOX84Y/00185.wav'): 4.544,\n",
       " PosixPath('/home/jupyter/.fastai/data/100_speakers/250-speakers/id09164/m7hR_TOX84Y/00184.wav'): 4.416,\n",
       " PosixPath('/home/jupyter/.fastai/data/100_speakers/250-speakers/id09164/m7hR_TOX84Y/00189.wav'): 5.376,\n",
       " PosixPath('/home/jupyter/.fastai/data/100_speakers/250-speakers/id09164/m7hR_TOX84Y/00187.wav'): 4.544,\n",
       " PosixPath('/home/jupyter/.fastai/data/100_speakers/250-speakers/id09164/m7hR_TOX84Y/00188.wav'): 4.096,\n",
       " PosixPath('/home/jupyter/.fastai/data/100_speakers/250-speakers/id09164/m7hR_TOX84Y/00186.wav'): 5.696,\n",
       " PosixPath('/home/jupyter/.fastai/data/100_speakers/250-speakers/id09164/pqg1VJaRW2M/00194.wav'): 5.184,\n",
       " PosixPath('/home/jupyter/.fastai/data/100_speakers/250-speakers/id09164/114CHsgzlZ0/00005.wav'): 4.288,\n",
       " PosixPath('/home/jupyter/.fastai/data/100_speakers/250-speakers/id09164/114CHsgzlZ0/00002.wav'): 4.096,\n",
       " PosixPath('/home/jupyter/.fastai/data/100_speakers/250-speakers/id09164/114CHsgzlZ0/00001.wav'): 3.968,\n",
       " PosixPath('/home/jupyter/.fastai/data/100_speakers/250-speakers/id09164/114CHsgzlZ0/00003.wav'): 4.672,\n",
       " PosixPath('/home/jupyter/.fastai/data/100_speakers/250-speakers/id09164/114CHsgzlZ0/00004.wav'): 4.288,\n",
       " PosixPath('/home/jupyter/.fastai/data/100_speakers/250-speakers/id09164/cPQfpJP2a94/00178.wav'): 5.248,\n",
       " PosixPath('/home/jupyter/.fastai/data/100_speakers/250-speakers/id09164/cPQfpJP2a94/00177.wav'): 6.4,\n",
       " PosixPath('/home/jupyter/.fastai/data/100_speakers/250-speakers/id09164/cPQfpJP2a94/00180.wav'): 9.408,\n",
       " PosixPath('/home/jupyter/.fastai/data/100_speakers/250-speakers/id09164/cPQfpJP2a94/00179.wav'): 6.784,\n",
       " PosixPath('/home/jupyter/.fastai/data/100_speakers/250-speakers/id09164/aQFy7eTKkbY/00159.wav'): 4.032,\n",
       " PosixPath('/home/jupyter/.fastai/data/100_speakers/250-speakers/id09164/ox8HSxEbMgg/00193.wav'): 3.968,\n",
       " PosixPath('/home/jupyter/.fastai/data/100_speakers/250-speakers/id09164/ox8HSxEbMgg/00192.wav'): 4.48,\n",
       " PosixPath('/home/jupyter/.fastai/data/100_speakers/250-speakers/id09164/JNJQr69cYKo/00086.wav'): 4.8,\n",
       " PosixPath('/home/jupyter/.fastai/data/100_speakers/250-speakers/id09164/JNJQr69cYKo/00088.wav'): 6.144,\n",
       " PosixPath('/home/jupyter/.fastai/data/100_speakers/250-speakers/id09164/JNJQr69cYKo/00089.wav'): 4.544,\n",
       " PosixPath('/home/jupyter/.fastai/data/100_speakers/250-speakers/id09164/JNJQr69cYKo/00087.wav'): 5.056,\n",
       " PosixPath('/home/jupyter/.fastai/data/100_speakers/250-speakers/id09164/szSDbcbMYIs/00223.wav'): 5.568,\n",
       " PosixPath('/home/jupyter/.fastai/data/100_speakers/250-speakers/id09164/szSDbcbMYIs/00220.wav'): 4.416,\n",
       " PosixPath('/home/jupyter/.fastai/data/100_speakers/250-speakers/id09164/szSDbcbMYIs/00222.wav'): 5.248,\n",
       " PosixPath('/home/jupyter/.fastai/data/100_speakers/250-speakers/id09164/szSDbcbMYIs/00221.wav'): 10.816,\n",
       " PosixPath('/home/jupyter/.fastai/data/100_speakers/250-speakers/id09164/szSDbcbMYIs/00219.wav'): 5.376,\n",
       " PosixPath('/home/jupyter/.fastai/data/100_speakers/250-speakers/id09164/szSDbcbMYIs/00218.wav'): 7.168,\n",
       " PosixPath('/home/jupyter/.fastai/data/100_speakers/250-speakers/id09164/qPVThRAW6T0/00199.wav'): 5.504,\n",
       " PosixPath('/home/jupyter/.fastai/data/100_speakers/250-speakers/id09164/qPVThRAW6T0/00203.wav'): 7.168,\n",
       " PosixPath('/home/jupyter/.fastai/data/100_speakers/250-speakers/id09164/qPVThRAW6T0/00195.wav'): 4.032,\n",
       " PosixPath('/home/jupyter/.fastai/data/100_speakers/250-speakers/id09164/qPVThRAW6T0/00198.wav'): 4.608,\n",
       " PosixPath('/home/jupyter/.fastai/data/100_speakers/250-speakers/id09164/qPVThRAW6T0/00202.wav'): 13.824,\n",
       " PosixPath('/home/jupyter/.fastai/data/100_speakers/250-speakers/id09164/qPVThRAW6T0/00196.wav'): 7.232,\n",
       " PosixPath('/home/jupyter/.fastai/data/100_speakers/250-speakers/id09164/qPVThRAW6T0/00204.wav'): 6.144,\n",
       " PosixPath('/home/jupyter/.fastai/data/100_speakers/250-speakers/id09164/qPVThRAW6T0/00201.wav'): 5.44,\n",
       " PosixPath('/home/jupyter/.fastai/data/100_speakers/250-speakers/id09164/qPVThRAW6T0/00205.wav'): 11.328,\n",
       " PosixPath('/home/jupyter/.fastai/data/100_speakers/250-speakers/id09164/qPVThRAW6T0/00197.wav'): 5.76,\n",
       " PosixPath('/home/jupyter/.fastai/data/100_speakers/250-speakers/id09164/qPVThRAW6T0/00200.wav'): 15.296,\n",
       " PosixPath('/home/jupyter/.fastai/data/100_speakers/250-speakers/id09164/86gELjs8yZo/00013.wav'): 6.656,\n",
       " PosixPath('/home/jupyter/.fastai/data/100_speakers/250-speakers/id09164/86gELjs8yZo/00006.wav'): 5.824,\n",
       " PosixPath('/home/jupyter/.fastai/data/100_speakers/250-speakers/id09164/86gELjs8yZo/00009.wav'): 6.656,\n",
       " PosixPath('/home/jupyter/.fastai/data/100_speakers/250-speakers/id09164/86gELjs8yZo/00008.wav'): 6.272,\n",
       " PosixPath('/home/jupyter/.fastai/data/100_speakers/250-speakers/id09164/86gELjs8yZo/00014.wav'): 4.608,\n",
       " PosixPath('/home/jupyter/.fastai/data/100_speakers/250-speakers/id09164/86gELjs8yZo/00007.wav'): 12.416,\n",
       " PosixPath('/home/jupyter/.fastai/data/100_speakers/250-speakers/id09164/86gELjs8yZo/00010.wav'): 5.504,\n",
       " PosixPath('/home/jupyter/.fastai/data/100_speakers/250-speakers/id09164/86gELjs8yZo/00012.wav'): 4.416,\n",
       " PosixPath('/home/jupyter/.fastai/data/100_speakers/250-speakers/id09164/86gELjs8yZo/00011.wav'): 4.992,\n",
       " PosixPath('/home/jupyter/.fastai/data/100_speakers/250-speakers/id09164/Sa0Grc3ZEDc/00115.wav'): 4.096,\n",
       " PosixPath('/home/jupyter/.fastai/data/100_speakers/250-speakers/id09164/Sa0Grc3ZEDc/00102.wav'): 5.248,\n",
       " PosixPath('/home/jupyter/.fastai/data/100_speakers/250-speakers/id09164/Sa0Grc3ZEDc/00109.wav'): 9.216,\n",
       " PosixPath('/home/jupyter/.fastai/data/100_speakers/250-speakers/id09164/Sa0Grc3ZEDc/00113.wav'): 21.44,\n",
       " PosixPath('/home/jupyter/.fastai/data/100_speakers/250-speakers/id09164/Sa0Grc3ZEDc/00111.wav'): 10.176,\n",
       " PosixPath('/home/jupyter/.fastai/data/100_speakers/250-speakers/id09164/Sa0Grc3ZEDc/00108.wav'): 10.624,\n",
       " PosixPath('/home/jupyter/.fastai/data/100_speakers/250-speakers/id09164/Sa0Grc3ZEDc/00101.wav'): 7.552,\n",
       " PosixPath('/home/jupyter/.fastai/data/100_speakers/250-speakers/id09164/Sa0Grc3ZEDc/00104.wav'): 11.84,\n",
       " PosixPath('/home/jupyter/.fastai/data/100_speakers/250-speakers/id09164/Sa0Grc3ZEDc/00110.wav'): 11.712,\n",
       " PosixPath('/home/jupyter/.fastai/data/100_speakers/250-speakers/id09164/Sa0Grc3ZEDc/00106.wav'): 4.288,\n",
       " PosixPath('/home/jupyter/.fastai/data/100_speakers/250-speakers/id09164/Sa0Grc3ZEDc/00114.wav'): 12.16,\n",
       " PosixPath('/home/jupyter/.fastai/data/100_speakers/250-speakers/id09164/Sa0Grc3ZEDc/00107.wav'): 13.888,\n",
       " PosixPath('/home/jupyter/.fastai/data/100_speakers/250-speakers/id09164/Sa0Grc3ZEDc/00105.wav'): 10.816,\n",
       " PosixPath('/home/jupyter/.fastai/data/100_speakers/250-speakers/id09164/Sa0Grc3ZEDc/00112.wav'): 5.824,\n",
       " PosixPath('/home/jupyter/.fastai/data/100_speakers/250-speakers/id09164/Sa0Grc3ZEDc/00099.wav'): 6.336,\n",
       " PosixPath('/home/jupyter/.fastai/data/100_speakers/250-speakers/id09164/Sa0Grc3ZEDc/00103.wav'): 6.656,\n",
       " PosixPath('/home/jupyter/.fastai/data/100_speakers/250-speakers/id09164/Sa0Grc3ZEDc/00100.wav'): 4.224,\n",
       " PosixPath('/home/jupyter/.fastai/data/100_speakers/250-speakers/id09164/cDWZq1xlMXI/00173.wav'): 11.136,\n",
       " PosixPath('/home/jupyter/.fastai/data/100_speakers/250-speakers/id09164/cDWZq1xlMXI/00176.wav'): 5.504,\n",
       " PosixPath('/home/jupyter/.fastai/data/100_speakers/250-speakers/id09164/cDWZq1xlMXI/00172.wav'): 7.808,\n",
       " PosixPath('/home/jupyter/.fastai/data/100_speakers/250-speakers/id09164/cDWZq1xlMXI/00175.wav'): 5.248,\n",
       " PosixPath('/home/jupyter/.fastai/data/100_speakers/250-speakers/id09164/cDWZq1xlMXI/00171.wav'): 7.424,\n",
       " PosixPath('/home/jupyter/.fastai/data/100_speakers/250-speakers/id09164/cDWZq1xlMXI/00170.wav'): 10.112,\n",
       " PosixPath('/home/jupyter/.fastai/data/100_speakers/250-speakers/id09164/cDWZq1xlMXI/00167.wav'): 7.296,\n",
       " PosixPath('/home/jupyter/.fastai/data/100_speakers/250-speakers/id09164/cDWZq1xlMXI/00168.wav'): 4.928,\n",
       " PosixPath('/home/jupyter/.fastai/data/100_speakers/250-speakers/id09164/cDWZq1xlMXI/00169.wav'): 6.08,\n",
       " PosixPath('/home/jupyter/.fastai/data/100_speakers/250-speakers/id09164/cDWZq1xlMXI/00174.wav'): 7.424,\n",
       " PosixPath('/home/jupyter/.fastai/data/100_speakers/250-speakers/id09164/J24BPFMW_7g/00085.wav'): 6.4,\n",
       " PosixPath('/home/jupyter/.fastai/data/100_speakers/250-speakers/id09164/J24BPFMW_7g/00083.wav'): 4.096,\n",
       " PosixPath('/home/jupyter/.fastai/data/100_speakers/250-speakers/id09164/J24BPFMW_7g/00084.wav'): 6.016,\n",
       " PosixPath('/home/jupyter/.fastai/data/100_speakers/250-speakers/id09164/J24BPFMW_7g/00081.wav'): 8.512,\n",
       " PosixPath('/home/jupyter/.fastai/data/100_speakers/250-speakers/id09164/J24BPFMW_7g/00082.wav'): 6.144,\n",
       " PosixPath('/home/jupyter/.fastai/data/100_speakers/250-speakers/id09164/CZtqzV9KzNU/00066.wav'): 11.072,\n",
       " PosixPath('/home/jupyter/.fastai/data/100_speakers/250-speakers/id09164/CZtqzV9KzNU/00067.wav'): 3.968,\n",
       " PosixPath('/home/jupyter/.fastai/data/100_speakers/250-speakers/id09164/CZtqzV9KzNU/00068.wav'): 8.064,\n",
       " PosixPath('/home/jupyter/.fastai/data/100_speakers/250-speakers/id09164/CZtqzV9KzNU/00065.wav'): 5.696,\n",
       " PosixPath('/home/jupyter/.fastai/data/100_speakers/250-speakers/id09164/FJu-BZnJscY/00079.wav'): 7.168,\n",
       " PosixPath('/home/jupyter/.fastai/data/100_speakers/250-speakers/id09164/FJu-BZnJscY/00080.wav'): 5.056,\n",
       " PosixPath('/home/jupyter/.fastai/data/100_speakers/250-speakers/id09164/Wy4HIq8F9tQ/00127.wav'): 4.864,\n",
       " PosixPath('/home/jupyter/.fastai/data/100_speakers/250-speakers/id09164/Wy4HIq8F9tQ/00125.wav'): 8.064,\n",
       " PosixPath('/home/jupyter/.fastai/data/100_speakers/250-speakers/id09164/Wy4HIq8F9tQ/00126.wav'): 7.808,\n",
       " PosixPath('/home/jupyter/.fastai/data/100_speakers/250-speakers/id09164/MAYlPg8EWQ8/00097.wav'): 8.768,\n",
       " PosixPath('/home/jupyter/.fastai/data/100_speakers/250-speakers/id09164/MAYlPg8EWQ8/00096.wav'): 4.352,\n",
       " PosixPath('/home/jupyter/.fastai/data/100_speakers/250-speakers/id09164/MAYlPg8EWQ8/00094.wav'): 5.696,\n",
       " PosixPath('/home/jupyter/.fastai/data/100_speakers/250-speakers/id09164/MAYlPg8EWQ8/00095.wav'): 4.736,\n",
       " PosixPath('/home/jupyter/.fastai/data/100_speakers/250-speakers/id09164/YHMvwjMxPzw/00151.wav'): 6.912,\n",
       " PosixPath('/home/jupyter/.fastai/data/100_speakers/250-speakers/id09164/YHMvwjMxPzw/00153.wav'): 6.848,\n",
       " PosixPath('/home/jupyter/.fastai/data/100_speakers/250-speakers/id09164/YHMvwjMxPzw/00145.wav'): 4.352,\n",
       " PosixPath('/home/jupyter/.fastai/data/100_speakers/250-speakers/id09164/YHMvwjMxPzw/00150.wav'): 5.568,\n",
       " PosixPath('/home/jupyter/.fastai/data/100_speakers/250-speakers/id09164/YHMvwjMxPzw/00156.wav'): 11.84,\n",
       " PosixPath('/home/jupyter/.fastai/data/100_speakers/250-speakers/id09164/YHMvwjMxPzw/00154.wav'): 7.296,\n",
       " PosixPath('/home/jupyter/.fastai/data/100_speakers/250-speakers/id09164/YHMvwjMxPzw/00144.wav'): 6.016,\n",
       " PosixPath('/home/jupyter/.fastai/data/100_speakers/250-speakers/id09164/YHMvwjMxPzw/00155.wav'): 7.616,\n",
       " PosixPath('/home/jupyter/.fastai/data/100_speakers/250-speakers/id09164/YHMvwjMxPzw/00148.wav'): 4.992,\n",
       " PosixPath('/home/jupyter/.fastai/data/100_speakers/250-speakers/id09164/YHMvwjMxPzw/00146.wav'): 4.736,\n",
       " PosixPath('/home/jupyter/.fastai/data/100_speakers/250-speakers/id09164/YHMvwjMxPzw/00141.wav'): 10.56,\n",
       " PosixPath('/home/jupyter/.fastai/data/100_speakers/250-speakers/id09164/YHMvwjMxPzw/00157.wav'): 4.096,\n",
       " PosixPath('/home/jupyter/.fastai/data/100_speakers/250-speakers/id09164/YHMvwjMxPzw/00140.wav'): 5.248,\n",
       " PosixPath('/home/jupyter/.fastai/data/100_speakers/250-speakers/id09164/YHMvwjMxPzw/00149.wav'): 5.248,\n",
       " PosixPath('/home/jupyter/.fastai/data/100_speakers/250-speakers/id09164/YHMvwjMxPzw/00152.wav'): 6.336,\n",
       " PosixPath('/home/jupyter/.fastai/data/100_speakers/250-speakers/id09164/YHMvwjMxPzw/00147.wav'): 3.968,\n",
       " PosixPath('/home/jupyter/.fastai/data/100_speakers/250-speakers/id09164/YHMvwjMxPzw/00142.wav'): 5.824,\n",
       " PosixPath('/home/jupyter/.fastai/data/100_speakers/250-speakers/id09164/YHMvwjMxPzw/00158.wav'): 12.288,\n",
       " PosixPath('/home/jupyter/.fastai/data/100_speakers/250-speakers/id09164/YHMvwjMxPzw/00139.wav'): 5.376,\n",
       " PosixPath('/home/jupyter/.fastai/data/100_speakers/250-speakers/id09164/YHMvwjMxPzw/00143.wav'): 7.104,\n",
       " PosixPath('/home/jupyter/.fastai/data/100_speakers/250-speakers/id09164/YHMvwjMxPzw/00138.wav'): 6.272,\n",
       " PosixPath('/home/jupyter/.fastai/data/100_speakers/250-speakers/id09164/KlEcqdBkdPQ/00091.wav'): 5.12,\n",
       " PosixPath('/home/jupyter/.fastai/data/100_speakers/250-speakers/id09164/KlEcqdBkdPQ/00090.wav'): 5.888,\n",
       " PosixPath('/home/jupyter/.fastai/data/100_speakers/250-speakers/id09164/KlEcqdBkdPQ/00092.wav'): 4.288,\n",
       " PosixPath('/home/jupyter/.fastai/data/100_speakers/250-speakers/id09164/KlEcqdBkdPQ/00093.wav'): 5.76,\n",
       " PosixPath('/home/jupyter/.fastai/data/100_speakers/250-speakers/id09164/OuWDu_4ZIuk/00098.wav'): 4.16,\n",
       " PosixPath('/home/jupyter/.fastai/data/100_speakers/250-speakers/id09164/VsfQUtkf27c/00121.wav'): 4.736,\n",
       " PosixPath('/home/jupyter/.fastai/data/100_speakers/250-speakers/id09164/VsfQUtkf27c/00123.wav'): 4.864,\n",
       " PosixPath('/home/jupyter/.fastai/data/100_speakers/250-speakers/id09164/VsfQUtkf27c/00122.wav'): 4.608,\n",
       " PosixPath('/home/jupyter/.fastai/data/100_speakers/250-speakers/id09164/VsfQUtkf27c/00124.wav'): 4.672,\n",
       " PosixPath('/home/jupyter/.fastai/data/100_speakers/250-speakers/id09164/XW5OS8Zfy50/00129.wav'): 5.824,\n",
       " PosixPath('/home/jupyter/.fastai/data/100_speakers/250-speakers/id09164/XW5OS8Zfy50/00130.wav'): 5.184,\n",
       " PosixPath('/home/jupyter/.fastai/data/100_speakers/250-speakers/id09164/XW5OS8Zfy50/00136.wav'): 4.544,\n",
       " PosixPath('/home/jupyter/.fastai/data/100_speakers/250-speakers/id09164/XW5OS8Zfy50/00132.wav'): 4.544,\n",
       " PosixPath('/home/jupyter/.fastai/data/100_speakers/250-speakers/id09164/XW5OS8Zfy50/00128.wav'): 5.44,\n",
       " PosixPath('/home/jupyter/.fastai/data/100_speakers/250-speakers/id09164/XW5OS8Zfy50/00131.wav'): 4.224,\n",
       " PosixPath('/home/jupyter/.fastai/data/100_speakers/250-speakers/id09164/XW5OS8Zfy50/00135.wav'): 4.288,\n",
       " PosixPath('/home/jupyter/.fastai/data/100_speakers/250-speakers/id09164/XW5OS8Zfy50/00134.wav'): 5.184,\n",
       " PosixPath('/home/jupyter/.fastai/data/100_speakers/250-speakers/id09164/XW5OS8Zfy50/00133.wav'): 10.176,\n",
       " PosixPath('/home/jupyter/.fastai/data/100_speakers/250-speakers/id09164/XW5OS8Zfy50/00137.wav'): 4.288,\n",
       " PosixPath('/home/jupyter/.fastai/data/100_speakers/250-speakers/id09164/nrjNKYlQiy8/00190.wav'): 4.736,\n",
       " PosixPath('/home/jupyter/.fastai/data/100_speakers/250-speakers/id09164/nrjNKYlQiy8/00191.wav'): 4.864,\n",
       " PosixPath('/home/jupyter/.fastai/data/100_speakers/250-speakers/id09164/9NESBjwEho0/00032.wav'): 10.624,\n",
       " PosixPath('/home/jupyter/.fastai/data/100_speakers/250-speakers/id09164/9NESBjwEho0/00050.wav'): 6.784,\n",
       " PosixPath('/home/jupyter/.fastai/data/100_speakers/250-speakers/id09164/9NESBjwEho0/00026.wav'): 6.4,\n",
       " PosixPath('/home/jupyter/.fastai/data/100_speakers/250-speakers/id09164/9NESBjwEho0/00017.wav'): 5.184,\n",
       " PosixPath('/home/jupyter/.fastai/data/100_speakers/250-speakers/id09164/9NESBjwEho0/00036.wav'): 12.736,\n",
       " PosixPath('/home/jupyter/.fastai/data/100_speakers/250-speakers/id09164/9NESBjwEho0/00023.wav'): 10.88,\n",
       " PosixPath('/home/jupyter/.fastai/data/100_speakers/250-speakers/id09164/9NESBjwEho0/00038.wav'): 5.824,\n",
       " PosixPath('/home/jupyter/.fastai/data/100_speakers/250-speakers/id09164/9NESBjwEho0/00046.wav'): 4.48,\n",
       " PosixPath('/home/jupyter/.fastai/data/100_speakers/250-speakers/id09164/9NESBjwEho0/00035.wav'): 7.296,\n",
       " PosixPath('/home/jupyter/.fastai/data/100_speakers/250-speakers/id09164/9NESBjwEho0/00030.wav'): 6.4,\n",
       " PosixPath('/home/jupyter/.fastai/data/100_speakers/250-speakers/id09164/9NESBjwEho0/00051.wav'): 4.672,\n",
       " PosixPath('/home/jupyter/.fastai/data/100_speakers/250-speakers/id09164/9NESBjwEho0/00029.wav'): 4.288,\n",
       " PosixPath('/home/jupyter/.fastai/data/100_speakers/250-speakers/id09164/9NESBjwEho0/00015.wav'): 4.544,\n",
       " PosixPath('/home/jupyter/.fastai/data/100_speakers/250-speakers/id09164/9NESBjwEho0/00028.wav'): 5.248,\n",
       " PosixPath('/home/jupyter/.fastai/data/100_speakers/250-speakers/id09164/9NESBjwEho0/00031.wav'): 6.208,\n",
       " PosixPath('/home/jupyter/.fastai/data/100_speakers/250-speakers/id09164/9NESBjwEho0/00024.wav'): 7.424,\n",
       " PosixPath('/home/jupyter/.fastai/data/100_speakers/250-speakers/id09164/9NESBjwEho0/00019.wav'): 4.032,\n",
       " PosixPath('/home/jupyter/.fastai/data/100_speakers/250-speakers/id09164/9NESBjwEho0/00025.wav'): 6.592,\n",
       " PosixPath('/home/jupyter/.fastai/data/100_speakers/250-speakers/id09164/9NESBjwEho0/00027.wav'): 5.248,\n",
       " PosixPath('/home/jupyter/.fastai/data/100_speakers/250-speakers/id09164/9NESBjwEho0/00049.wav'): 7.104,\n",
       " PosixPath('/home/jupyter/.fastai/data/100_speakers/250-speakers/id09164/9NESBjwEho0/00043.wav'): 6.592,\n",
       " PosixPath('/home/jupyter/.fastai/data/100_speakers/250-speakers/id09164/9NESBjwEho0/00040.wav'): 4.864,\n",
       " PosixPath('/home/jupyter/.fastai/data/100_speakers/250-speakers/id09164/9NESBjwEho0/00021.wav'): 5.824,\n",
       " PosixPath('/home/jupyter/.fastai/data/100_speakers/250-speakers/id09164/9NESBjwEho0/00022.wav'): 4.16,\n",
       " PosixPath('/home/jupyter/.fastai/data/100_speakers/250-speakers/id09164/9NESBjwEho0/00034.wav'): 5.376,\n",
       " PosixPath('/home/jupyter/.fastai/data/100_speakers/250-speakers/id09164/9NESBjwEho0/00045.wav'): 4.544,\n",
       " PosixPath('/home/jupyter/.fastai/data/100_speakers/250-speakers/id09164/9NESBjwEho0/00020.wav'): 6.848,\n",
       " PosixPath('/home/jupyter/.fastai/data/100_speakers/250-speakers/id09164/9NESBjwEho0/00016.wav'): 5.44,\n",
       " PosixPath('/home/jupyter/.fastai/data/100_speakers/250-speakers/id09164/9NESBjwEho0/00037.wav'): 4.736,\n",
       " PosixPath('/home/jupyter/.fastai/data/100_speakers/250-speakers/id09164/9NESBjwEho0/00033.wav'): 5.696,\n",
       " PosixPath('/home/jupyter/.fastai/data/100_speakers/250-speakers/id09164/9NESBjwEho0/00041.wav'): 4.928,\n",
       " PosixPath('/home/jupyter/.fastai/data/100_speakers/250-speakers/id09164/9NESBjwEho0/00039.wav'): 8.576,\n",
       " PosixPath('/home/jupyter/.fastai/data/100_speakers/250-speakers/id09164/9NESBjwEho0/00018.wav'): 12.544,\n",
       " PosixPath('/home/jupyter/.fastai/data/100_speakers/250-speakers/id09164/9NESBjwEho0/00044.wav'): 6.784,\n",
       " PosixPath('/home/jupyter/.fastai/data/100_speakers/250-speakers/id09164/9NESBjwEho0/00042.wav'): 5.504,\n",
       " PosixPath('/home/jupyter/.fastai/data/100_speakers/250-speakers/id09164/9NESBjwEho0/00047.wav'): 4.608,\n",
       " PosixPath('/home/jupyter/.fastai/data/100_speakers/250-speakers/id09164/9NESBjwEho0/00048.wav'): 6.336,\n",
       " ...}"
      ]
     },
     "execution_count": null,
     "metadata": {},
     "output_type": "execute_result"
    }
   ],
   "source": [
    "stats(files_250)"
   ]
  },
  {
   "cell_type": "markdown",
   "metadata": {},
   "source": [
    "## Datablock and Basic End to End Training on 10 Speakers"
   ]
  },
  {
   "cell_type": "code",
   "execution_count": null,
   "metadata": {},
   "outputs": [],
   "source": [
    "def AudioBlock(cls=AudioItem): return TransformBlock(type_tfms=cls.create, batch_tfms=IntToFloatTensor)"
   ]
  },
  {
   "cell_type": "code",
   "execution_count": null,
   "metadata": {},
   "outputs": [],
   "source": [
    "auds = DataBlock(blocks=(AudioBlock, CategoryBlock),  \n",
    "                 get_items=get_audio_files, \n",
    "                 splitter=RandomSplitter(),\n",
    "                 get_y=lambda x: str(x).split('/')[-1][:5])"
   ]
  },
  {
   "cell_type": "code",
   "execution_count": null,
   "metadata": {},
   "outputs": [],
   "source": [
    "cats = [y for _,y in auds.datasource(p10speakers)]"
   ]
  },
  {
   "cell_type": "code",
   "execution_count": null,
   "metadata": {},
   "outputs": [],
   "source": [
    "#verify categories are being correctly assigned\n",
    "test_eq(min(cats).item(), 0)\n",
    "test_eq(max(cats).item(), 9)"
   ]
  },
  {
   "cell_type": "code",
   "execution_count": null,
   "metadata": {},
   "outputs": [],
   "source": [
    "#crop 2s from the signal and turn it to a MelSpectrogram with no augmentation\n",
    "cfg_voice = AudioConfig.Voice()\n",
    "a2s = AudioToSpec.from_cfg(cfg_voice)\n",
    "crop_2000ms = CropSignal(2000)\n",
    "tfms = Pipeline([crop_2000ms, a2s], as_item=True)\n",
    "dbunch = auds.databunch(p10speakers, item_tfms=tfms, bs=64)"
   ]
  },
  {
   "cell_type": "markdown",
   "metadata": {},
   "source": [
    "<div class = \"alert alert-block alert-warning\"><strong>Broken:</strong><br>Show batch is broken as it appears to just be grabbing the data from the sg, and not the sg object itself, but calls the sg's show method which relies on nchannels, which is an object of AudioSpectrogram (part of sg settings but we overrode getattr to make it work like an attribute). This means the items cant show themselves for the batch, but training still works </div>\n"
   ]
  },
  {
   "cell_type": "code",
   "execution_count": null,
   "metadata": {},
   "outputs": [],
   "source": [
    "#dbunch_cropspec.show_batch(max_n=9)"
   ]
  },
  {
   "cell_type": "code",
   "execution_count": null,
   "metadata": {},
   "outputs": [
    {
     "data": {
      "text/plain": [
       "torch.Size([64, 1, 128, 251])"
      ]
     },
     "execution_count": null,
     "metadata": {},
     "output_type": "execute_result"
    }
   ],
   "source": [
    "dbunch.one_batch()[0].shape"
   ]
  },
  {
   "cell_type": "code",
   "execution_count": null,
   "metadata": {},
   "outputs": [],
   "source": [
    "# credit to Kevin Bird and Hiromi Suenaga for these two lines to adjust a CNN model to take 1 channel input\n",
    "def alter_learner(learn, in_channels):\n",
    "    learn.model[0][0].in_channels=in_channels\n",
    "    learn.model[0][0].weight = torch.nn.parameter.Parameter(learn.model[0][0].weight[:,1,:,:].unsqueeze(1))"
   ]
  },
  {
   "cell_type": "code",
   "execution_count": null,
   "metadata": {},
   "outputs": [],
   "source": [
    "learn = Learner(dbunch, \n",
    "                xresnet18(),\n",
    "                torch.nn.CrossEntropyLoss(), \n",
    "                metrics=[accuracy])\n",
    "nchannels = dbunch.one_batch()[0].shape[1]\n",
    "alter_learner(learn, nchannels)"
   ]
  },
  {
   "cell_type": "code",
   "execution_count": null,
   "metadata": {},
   "outputs": [
    {
     "data": {
      "text/html": [],
      "text/plain": [
       "<IPython.core.display.HTML object>"
      ]
     },
     "metadata": {},
     "output_type": "display_data"
    },
    {
     "data": {
      "image/png": "[encoded data removed]",
      "text/plain": [
       "<Figure size 432x288 with 1 Axes>"
      ]
     },
     "metadata": {
      "needs_background": "light"
     },
     "output_type": "display_data"
    }
   ],
   "source": [
    "learn.lr_find()"
   ]
  },
  {
   "cell_type": "code",
   "execution_count": null,
   "metadata": {},
   "outputs": [
    {
     "data": {
      "text/html": [
       "<table border=\"1\" class=\"dataframe\">\n",
       "  <thead>\n",
       "    <tr style=\"text-align: left;\">\n",
       "      <th>epoch</th>\n",
       "      <th>train_loss</th>\n",
       "      <th>valid_loss</th>\n",
       "      <th>accuracy</th>\n",
       "      <th>time</th>\n",
       "    </tr>\n",
       "  </thead>\n",
       "  <tbody>\n",
       "    <tr>\n",
       "      <td>0</td>\n",
       "      <td>2.045846</td>\n",
       "      <td>3.582747</td>\n",
       "      <td>0.346354</td>\n",
       "      <td>00:13</td>\n",
       "    </tr>\n",
       "    <tr>\n",
       "      <td>1</td>\n",
       "      <td>0.830040</td>\n",
       "      <td>5.764700</td>\n",
       "      <td>0.242188</td>\n",
       "      <td>00:12</td>\n",
       "    </tr>\n",
       "    <tr>\n",
       "      <td>2</td>\n",
       "      <td>0.438936</td>\n",
       "      <td>3.116820</td>\n",
       "      <td>0.502604</td>\n",
       "      <td>00:12</td>\n",
       "    </tr>\n",
       "    <tr>\n",
       "      <td>3</td>\n",
       "      <td>0.285329</td>\n",
       "      <td>6.640458</td>\n",
       "      <td>0.320312</td>\n",
       "      <td>00:12</td>\n",
       "    </tr>\n",
       "    <tr>\n",
       "      <td>4</td>\n",
       "      <td>0.156109</td>\n",
       "      <td>0.339813</td>\n",
       "      <td>0.908854</td>\n",
       "      <td>00:12</td>\n",
       "    </tr>\n",
       "    <tr>\n",
       "      <td>5</td>\n",
       "      <td>0.087593</td>\n",
       "      <td>0.372424</td>\n",
       "      <td>0.891927</td>\n",
       "      <td>00:12</td>\n",
       "    </tr>\n",
       "    <tr>\n",
       "      <td>6</td>\n",
       "      <td>0.061826</td>\n",
       "      <td>0.232947</td>\n",
       "      <td>0.928385</td>\n",
       "      <td>00:12</td>\n",
       "    </tr>\n",
       "    <tr>\n",
       "      <td>7</td>\n",
       "      <td>0.041161</td>\n",
       "      <td>0.043665</td>\n",
       "      <td>0.986979</td>\n",
       "      <td>00:12</td>\n",
       "    </tr>\n",
       "    <tr>\n",
       "      <td>8</td>\n",
       "      <td>0.032756</td>\n",
       "      <td>0.028728</td>\n",
       "      <td>0.992188</td>\n",
       "      <td>00:12</td>\n",
       "    </tr>\n",
       "    <tr>\n",
       "      <td>9</td>\n",
       "      <td>0.022816</td>\n",
       "      <td>0.038119</td>\n",
       "      <td>0.990885</td>\n",
       "      <td>00:12</td>\n",
       "    </tr>\n",
       "  </tbody>\n",
       "</table>"
      ],
      "text/plain": [
       "<IPython.core.display.HTML object>"
      ]
     },
     "metadata": {},
     "output_type": "display_data"
    }
   ],
   "source": [
    "#epochs are a bit longer due to the chosen melspectrogram settings\n",
    "learn.fit_one_cycle(10, lr_max=slice(1e-2))"
   ]
  },
  {
   "cell_type": "markdown",
   "metadata": {},
   "source": [
    "## Datablock and Basic End to End Training on 250 Speakers"
   ]
  },
  {
   "cell_type": "code",
   "execution_count": null,
   "metadata": {},
   "outputs": [
    {
     "data": {
      "text/plain": [
       "44655"
      ]
     },
     "execution_count": null,
     "metadata": {},
     "output_type": "execute_result"
    }
   ],
   "source": [
    "len(files_250)"
   ]
  },
  {
   "cell_type": "code",
   "execution_count": null,
   "metadata": {},
   "outputs": [
    {
     "name": "stdout",
     "output_type": "stream",
     "text": [
      "/home/jupyter/.fastai/data/100_speakers/250-speakers/id08904/2MoCniKpYUs/00027.wav\n",
      "/home/jupyter/.fastai/data/100_speakers/250-speakers/id08920/vmMeQObRG28/00322.wav\n",
      "/home/jupyter/.fastai/data/100_speakers/250-speakers/id08863/r93M2Z24TaE/00231.wav\n",
      "/home/jupyter/.fastai/data/100_speakers/250-speakers/id09049/yqstbrExqkg/00499.wav\n",
      "/home/jupyter/.fastai/data/100_speakers/250-speakers/id09186/P_i1OTFvTac/00246.wav\n",
      "/home/jupyter/.fastai/data/100_speakers/250-speakers/id09230/DMiEYxSMAjU/00051.wav\n",
      "/home/jupyter/.fastai/data/100_speakers/250-speakers/id08936/CQcBSYD4cfY/00046.wav\n",
      "/home/jupyter/.fastai/data/100_speakers/250-speakers/id09031/ly88owE9Sqk/00212.wav\n",
      "/home/jupyter/.fastai/data/100_speakers/250-speakers/id08909/RRjfxEtN5j0/00044.wav\n",
      "/home/jupyter/.fastai/data/100_speakers/250-speakers/id08944/awbtRYb1bS8/00124.wav\n"
     ]
    }
   ],
   "source": [
    "for i in range(10):\n",
    "    print(random.choice(files_250))"
   ]
  },
  {
   "cell_type": "code",
   "execution_count": null,
   "metadata": {},
   "outputs": [],
   "source": [
    "get_250speakers_label = lambda x: str(x).split('/')[-3][3:]"
   ]
  },
  {
   "cell_type": "code",
   "execution_count": null,
   "metadata": {},
   "outputs": [
    {
     "name": "stdout",
     "output_type": "stream",
     "text": [
      "File: /home/jupyter/.fastai/data/100_speakers/250-speakers/id08875/67UcLA2PA1E/00010.wav\n",
      "Label: 8875\n",
      "File: /home/jupyter/.fastai/data/100_speakers/250-speakers/id08968/xdlBsdycEbM/00475.wav\n",
      "Label: 8968\n",
      "File: /home/jupyter/.fastai/data/100_speakers/250-speakers/id08875/98qX2lIfMTI/00026.wav\n",
      "Label: 8875\n",
      "File: /home/jupyter/.fastai/data/100_speakers/250-speakers/id08890/lwrvvvK0uUY/00310.wav\n",
      "Label: 8890\n",
      "File: /home/jupyter/.fastai/data/100_speakers/250-speakers/id08968/Zyaj_LbFzIo/00300.wav\n",
      "Label: 8968\n",
      "File: /home/jupyter/.fastai/data/100_speakers/250-speakers/id09269/1-ycYhStJ4U/00051.wav\n",
      "Label: 9269\n",
      "File: /home/jupyter/.fastai/data/100_speakers/250-speakers/id08996/wCRpGEawwuc/00054.wav\n",
      "Label: 8996\n",
      "File: /home/jupyter/.fastai/data/100_speakers/250-speakers/id09231/Z-54hzwjOm4/00114.wav\n",
      "Label: 9231\n",
      "File: /home/jupyter/.fastai/data/100_speakers/250-speakers/id09048/YgXLkFl_bMI/00166.wav\n",
      "Label: 9048\n",
      "File: /home/jupyter/.fastai/data/100_speakers/250-speakers/id08917/6_Vp4u8b_-I/00041.wav\n",
      "Label: 8917\n"
     ]
    }
   ],
   "source": [
    "for i in range(10):\n",
    "    f = random.choice(files_250)\n",
    "    print(\"File:\",f )\n",
    "    print(\"Label:\", get_250speakers_label(f))"
   ]
  },
  {
   "cell_type": "code",
   "execution_count": null,
   "metadata": {},
   "outputs": [],
   "source": [
    "auds = DataBlock(blocks=(AudioBlock, CategoryBlock),  \n",
    "                 get_items=get_audio_files, \n",
    "                 splitter=RandomSplitter(),\n",
    "                 get_y=get_250speakers_label)"
   ]
  },
  {
   "cell_type": "code",
   "execution_count": null,
   "metadata": {},
   "outputs": [],
   "source": [
    "dbunch250 = auds.databunch(p250speakers, item_tfms=tfms, bs=64)"
   ]
  },
  {
   "cell_type": "code",
   "execution_count": null,
   "metadata": {},
   "outputs": [],
   "source": [
    "cats = [y for _,y in auds.datasource(p250speakers)]"
   ]
  },
  {
   "cell_type": "code",
   "execution_count": null,
   "metadata": {},
   "outputs": [],
   "source": [
    "#verify categories are being correctly assigned for 250 speakers\n",
    "test_eq(min(cats).item(), 0)\n",
    "test_eq(max(cats).item(), 249)"
   ]
  },
  {
   "cell_type": "code",
   "execution_count": null,
   "metadata": {},
   "outputs": [],
   "source": [
    "# Use torchaudio default MelSpectrogram to get a baseline\n",
    "a2s = AudioToSpec()\n",
    "crop_4000ms = CropSignal(4000)\n",
    "tfms = Pipeline([crop_4000ms, a2s], as_item=True)\n",
    "dbunch = auds.databunch(p250speakers, item_tfms=tfms, bs=256)"
   ]
  },
  {
   "cell_type": "code",
   "execution_count": null,
   "metadata": {},
   "outputs": [],
   "source": [
    "learn = Learner(dbunch, \n",
    "                xresnet18(),\n",
    "                torch.nn.CrossEntropyLoss(), \n",
    "                metrics=[accuracy])\n",
    "nchannels = dbunch.one_batch()[0].shape[1]\n",
    "alter_learner(learn, nchannels)"
   ]
  },
  {
   "cell_type": "code",
   "execution_count": null,
   "metadata": {},
   "outputs": [
    {
     "data": {
      "text/html": [],
      "text/plain": [
       "<IPython.core.display.HTML object>"
      ]
     },
     "metadata": {},
     "output_type": "display_data"
    },
    {
     "data": {
      "image/png": "[encoded data removed]",
      "text/plain": [
       "<Figure size 432x288 with 1 Axes>"
      ]
     },
     "metadata": {
      "needs_background": "light"
     },
     "output_type": "display_data"
    }
   ],
   "source": [
    "learn.lr_find()"
   ]
  },
  {
   "cell_type": "code",
   "execution_count": null,
   "metadata": {},
   "outputs": [
    {
     "data": {
      "text/html": [
       "<table border=\"1\" class=\"dataframe\">\n",
       "  <thead>\n",
       "    <tr style=\"text-align: left;\">\n",
       "      <th>epoch</th>\n",
       "      <th>train_loss</th>\n",
       "      <th>valid_loss</th>\n",
       "      <th>accuracy</th>\n",
       "      <th>time</th>\n",
       "    </tr>\n",
       "  </thead>\n",
       "  <tbody>\n",
       "    <tr>\n",
       "      <td>0</td>\n",
       "      <td>3.079318</td>\n",
       "      <td>4.239493</td>\n",
       "      <td>0.221364</td>\n",
       "      <td>01:05</td>\n",
       "    </tr>\n",
       "    <tr>\n",
       "      <td>1</td>\n",
       "      <td>1.258915</td>\n",
       "      <td>2.491192</td>\n",
       "      <td>0.479566</td>\n",
       "      <td>01:04</td>\n",
       "    </tr>\n",
       "    <tr>\n",
       "      <td>2</td>\n",
       "      <td>0.607324</td>\n",
       "      <td>0.916477</td>\n",
       "      <td>0.769231</td>\n",
       "      <td>01:05</td>\n",
       "    </tr>\n",
       "    <tr>\n",
       "      <td>3</td>\n",
       "      <td>0.239654</td>\n",
       "      <td>0.370874</td>\n",
       "      <td>0.906729</td>\n",
       "      <td>01:05</td>\n",
       "    </tr>\n",
       "    <tr>\n",
       "      <td>4</td>\n",
       "      <td>0.092296</td>\n",
       "      <td>0.299991</td>\n",
       "      <td>0.926884</td>\n",
       "      <td>01:05</td>\n",
       "    </tr>\n",
       "  </tbody>\n",
       "</table>"
      ],
      "text/plain": [
       "<IPython.core.display.HTML object>"
      ]
     },
     "metadata": {},
     "output_type": "display_data"
    }
   ],
   "source": [
    "learn.fit_one_cycle(5, lr_max=slice(2e-2))"
   ]
  },
  {
   "cell_type": "code",
   "execution_count": null,
   "metadata": {},
   "outputs": [
    {
     "data": {
      "text/html": [],
      "text/plain": [
       "<IPython.core.display.HTML object>"
      ]
     },
     "metadata": {},
     "output_type": "display_data"
    },
    {
     "data": {
      "image/png": "[encoded data removed]",
      "text/plain": [
       "<Figure size 432x288 with 1 Axes>"
      ]
     },
     "metadata": {
      "needs_background": "light"
     },
     "output_type": "display_data"
    }
   ],
   "source": [
    "learn.lr_find()"
   ]
  },
  {
   "cell_type": "code",
   "execution_count": null,
   "metadata": {},
   "outputs": [
    {
     "data": {
      "text/html": [
       "<table border=\"1\" class=\"dataframe\">\n",
       "  <thead>\n",
       "    <tr style=\"text-align: left;\">\n",
       "      <th>epoch</th>\n",
       "      <th>train_loss</th>\n",
       "      <th>valid_loss</th>\n",
       "      <th>accuracy</th>\n",
       "      <th>time</th>\n",
       "    </tr>\n",
       "  </thead>\n",
       "  <tbody>\n",
       "    <tr>\n",
       "      <td>0</td>\n",
       "      <td>0.063921</td>\n",
       "      <td>0.305443</td>\n",
       "      <td>0.926996</td>\n",
       "      <td>01:05</td>\n",
       "    </tr>\n",
       "    <tr>\n",
       "      <td>1</td>\n",
       "      <td>0.060413</td>\n",
       "      <td>0.289734</td>\n",
       "      <td>0.930467</td>\n",
       "      <td>01:05</td>\n",
       "    </tr>\n",
       "    <tr>\n",
       "      <td>2</td>\n",
       "      <td>0.047093</td>\n",
       "      <td>0.291265</td>\n",
       "      <td>0.931811</td>\n",
       "      <td>01:05</td>\n",
       "    </tr>\n",
       "    <tr>\n",
       "      <td>3</td>\n",
       "      <td>0.034050</td>\n",
       "      <td>0.281140</td>\n",
       "      <td>0.935170</td>\n",
       "      <td>01:05</td>\n",
       "    </tr>\n",
       "    <tr>\n",
       "      <td>4</td>\n",
       "      <td>0.028684</td>\n",
       "      <td>0.277568</td>\n",
       "      <td>0.935058</td>\n",
       "      <td>01:05</td>\n",
       "    </tr>\n",
       "  </tbody>\n",
       "</table>"
      ],
      "text/plain": [
       "<IPython.core.display.HTML object>"
      ]
     },
     "metadata": {},
     "output_type": "display_data"
    }
   ],
   "source": [
    "learn.unfreeze()\n",
    "learn.fit_one_cycle(5, lr_max=slice(1e-3))"
   ]
  },
  {
   "cell_type": "markdown",
   "metadata": {},
   "source": [
    "## Cropping signal instead of Spectrogram so that we can move on to GPU transforms"
   ]
  },
  {
   "cell_type": "code",
   "execution_count": null,
   "metadata": {},
   "outputs": [],
   "source": [
    "auds = DataBlock(blocks=(AudioBlock, CategoryBlock),  \n",
    "                 get_items=get_audio_files, \n",
    "                 splitter=RandomSplitter(),\n",
    "                 get_y=lambda x: str(x).split('/')[-1][:5])"
   ]
  },
  {
   "cell_type": "code",
   "execution_count": null,
   "metadata": {},
   "outputs": [],
   "source": [
    "auds.datasource(p)[0]"
   ]
  },
  {
   "cell_type": "code",
   "execution_count": null,
   "metadata": {},
   "outputs": [],
   "source": [
    "p = Path('/home/jupyter/.fastai/data/ST-AEDS-20180100_1-OS')\n",
    "cropsig_2000ms = CropSignal(2000)\n",
    "ds_tfms = Pipeline([cropsig_2000ms, a2s], as_item=True)\n",
    "dl_tfms = Pipeline([], as_item=True)\n",
    "dbunch_cropsig = auds.databunch(p, item_tfms=ds_tfms, bs=64)\n",
    "dbunch_cropsig.show_batch(max_n=9)"
   ]
  },
  {
   "cell_type": "code",
   "execution_count": null,
   "metadata": {},
   "outputs": [],
   "source": [
    "dbunch_cropsig.one_batch()[0].shape"
   ]
  },
  {
   "cell_type": "code",
   "execution_count": null,
   "metadata": {},
   "outputs": [],
   "source": [
    "learn = Learner(dbunch_cropsig,\n",
    "                xresnet18(),  \n",
    "                torch.nn.CrossEntropyLoss(), \n",
    "                metrics=[accuracy])\n",
    "alter_learner(learn)"
   ]
  },
  {
   "cell_type": "code",
   "execution_count": null,
   "metadata": {},
   "outputs": [],
   "source": [
    "learn.lr_find()"
   ]
  },
  {
   "cell_type": "code",
   "execution_count": null,
   "metadata": {},
   "outputs": [],
   "source": [
    "learn.fit_one_cycle(10, lr_max=2e-1)"
   ]
  },
  {
   "cell_type": "code",
   "execution_count": null,
   "metadata": {},
   "outputs": [],
   "source": [
    "learn.unfreeze()"
   ]
  },
  {
   "cell_type": "code",
   "execution_count": null,
   "metadata": {},
   "outputs": [],
   "source": [
    "learn.lr_find()"
   ]
  },
  {
   "cell_type": "markdown",
   "metadata": {},
   "source": [
    "## Non GPU Transform for Speed Baseline"
   ]
  },
  {
   "cell_type": "code",
   "execution_count": null,
   "metadata": {},
   "outputs": [],
   "source": [
    "p = Path('/home/jupyter/.fastai/data/ST-AEDS-20180100_1-OS')\n",
    "cropsig_2000ms = CropSignal(2000)\n",
    "a2s_baseline = AudioToSpec(n_fft=2048, hop_length=256, n_mels=128)\n",
    "ds_tfms = Pipeline([cropsig_2000ms, a2s_baseline, MaskFreq()], as_item=True)\n",
    "dbunch_cropsig = auds.databunch(p, item_tfms=ds_tfms, bs=64)\n",
    "dbunch_cropsig.show_batch(max_n=9)"
   ]
  },
  {
   "cell_type": "code",
   "execution_count": null,
   "metadata": {},
   "outputs": [],
   "source": [
    "dbunch_cropsig.one_batch()[0].shape"
   ]
  },
  {
   "cell_type": "code",
   "execution_count": null,
   "metadata": {},
   "outputs": [],
   "source": [
    "learn = Learner(dbunch_cropsig,\n",
    "                xresnet18(),  \n",
    "                torch.nn.CrossEntropyLoss(), \n",
    "                metrics=[accuracy])\n",
    "alter_learner(learn)"
   ]
  },
  {
   "cell_type": "code",
   "execution_count": null,
   "metadata": {},
   "outputs": [],
   "source": [
    "learn.lr_find()"
   ]
  },
  {
   "cell_type": "code",
   "execution_count": null,
   "metadata": {},
   "outputs": [],
   "source": [
    "learn.fit_one_cycle(10, lr_max=2e-1)"
   ]
  },
  {
   "cell_type": "markdown",
   "metadata": {},
   "source": [
    "## Attempted GPU Transform"
   ]
  },
  {
   "cell_type": "code",
   "execution_count": null,
   "metadata": {},
   "outputs": [],
   "source": [
    "def MaskFreqBatch(num_masks=1, size=20, start=None, val=None, **kwargs):\n",
    "    device = torch.device(\"cuda\") if torch.cuda.is_available() else torch.device(\"cpu\")\n",
    "    def _inner(spectro:AudioSpectrogram)->AudioSpectrogram:\n",
    "        '''Google SpecAugment time masking from https://arxiv.org/abs/1904.08779.'''\n",
    "        start_ = start\n",
    "        sg = spectro.clone()\n",
    "        channel_mean = sg.contiguous().view(sg.size(0), -1).mean(-1)[:,None,None]\n",
    "        mask_val = channel_mean if val is None else val\n",
    "        c, y, x = sg.shape[-3:]\n",
    "        for _ in range(num_masks):\n",
    "            #print(\"Mask Val\", mask_val)\n",
    "            #Currently not worrying about getting the channel mean from batchwise implementation\n",
    "            mask = torch.ones(size, x, device=device).unsqueeze(0).unsqueeze(0) #* mask_val    \n",
    "            if start_ is None: start_= random.randint(0, y-size)\n",
    "            if not 0 <= start_ <= y-size:\n",
    "                raise ValueError(f\"Start value '{start_}' out of range for AudioSpectrogram of shape {sg.shape}\")\n",
    "            sg[...,start_:start_+size,:] = mask\n",
    "            start_ = None\n",
    "        return AudioSpectrogram.create(sg, settings=spectro.settings)\n",
    "    return _inner"
   ]
  },
  {
   "cell_type": "code",
   "execution_count": null,
   "metadata": {},
   "outputs": [],
   "source": [
    "p = Path('/home/jupyter/.fastai/data/ST-AEDS-20180100_1-OS')\n",
    "cropsig_2000ms = CropSignal(2000)"
   ]
  },
  {
   "cell_type": "code",
   "execution_count": null,
   "metadata": {},
   "outputs": [],
   "source": [
    "def SGRollBatch(max_shift_pct=0.5, direction=0, **kwargs):\n",
    "    '''Shifts spectrogram along x-axis wrapping around to other side'''\n",
    "    if int(direction) not in [-1, 0, 1]: \n",
    "        raise ValueError(\"Direction must be -1(left) 0(bidirectional) or 1(right)\")\n",
    "    def _inner(spectro:AudioSpectrogram)->AudioSpectrogram:\n",
    "        nonlocal direction\n",
    "        direction = random.choice([-1, 1]) if direction == 0 else direction\n",
    "        sg = spectro.clone()\n",
    "        c, height, width = sg.shape[-3:]\n",
    "        roll_by = int(width*random.random()*max_shift_pct*direction)\n",
    "        sg = sg.roll(roll_by, dims=-1)\n",
    "        return AudioSpectrogram.create(sg, settings=spectro.settings)\n",
    "    return _inner"
   ]
  },
  {
   "cell_type": "code",
   "execution_count": null,
   "metadata": {},
   "outputs": [],
   "source": [
    "ds_tfms = Pipeline([cropsig_2000ms, a2s_baseline], as_item=True)\n",
    "dl_tfms = Pipeline([Cuda(), MaskFreqBatch(), SGRollBatch()], as_item=True)\n",
    "dbunch = auds.databunch(p, item_tfms=ds_tfms, batch_tfms=dl_tfms, bs=64)\n",
    "dbunch.show_batch(max_n=9)"
   ]
  },
  {
   "cell_type": "code",
   "execution_count": null,
   "metadata": {},
   "outputs": [],
   "source": []
  },
  {
   "cell_type": "code",
   "execution_count": null,
   "metadata": {},
   "outputs": [],
   "source": [
    "dbunch.one_batch()[0].shape"
   ]
  },
  {
   "cell_type": "code",
   "execution_count": null,
   "metadata": {},
   "outputs": [],
   "source": [
    "learn = Learner(dbunch,\n",
    "                xresnet18(),  \n",
    "                torch.nn.CrossEntropyLoss(), \n",
    "                metrics=[accuracy])\n",
    "alter_learner(learn)"
   ]
  },
  {
   "cell_type": "code",
   "execution_count": null,
   "metadata": {},
   "outputs": [],
   "source": [
    "learn.lr_find()"
   ]
  },
  {
   "cell_type": "code",
   "execution_count": null,
   "metadata": {},
   "outputs": [],
   "source": [
    "learn.fit_one_cycle(10, lr_max=2e-2)"
   ]
  },
  {
   "cell_type": "markdown",
   "metadata": {},
   "source": [
    "## 2nd Attempt with correct mean channel values"
   ]
  },
  {
   "cell_type": "code",
   "execution_count": null,
   "metadata": {},
   "outputs": [],
   "source": [
    "def MaskFreqBatchValue(num_masks=1, size=20, start=None, val=None, **kwargs):\n",
    "    device = torch.device(\"cuda\") if torch.cuda.is_available() else torch.device(\"cpu\")\n",
    "    def _inner(spectro:AudioSpectrogram)->AudioSpectrogram:\n",
    "        '''Google SpecAugment time masking from https://arxiv.org/abs/1904.08779.'''\n",
    "        start_ = start\n",
    "        sg = spectro.clone()\n",
    "        channel_mean = sg.contiguous().view(sg.size(0), -1).mean(-1)[:,None,None,None]\n",
    "        mask_val = channel_mean if val is None else val\n",
    "        b, c, y, x = sg.shape\n",
    "        for _ in range(num_masks):\n",
    "            ones_mask = torch.ones(size=(1, c, size, x), device=device)\n",
    "            mask = ones_mask * mask_val\n",
    "            if start_ is None: start_= random.randint(0, y-size)\n",
    "            if not 0 <= start_ <= y-size:\n",
    "                raise ValueError(f\"Start value '{start_}' out of range for AudioSpectrogram of shape {sg.shape}\")\n",
    "            sg[:,:,start_:start_+size,:] = mask\n",
    "            start_ = None\n",
    "        return AudioSpectrogram.create(sg, settings=spectro.settings)\n",
    "    return _inner"
   ]
  },
  {
   "cell_type": "code",
   "execution_count": null,
   "metadata": {},
   "outputs": [],
   "source": [
    "(torch.ones(size=(64,1,20,128)) * 12).shape"
   ]
  },
  {
   "cell_type": "code",
   "execution_count": null,
   "metadata": {},
   "outputs": [],
   "source": [
    "ds_tfms = Pipeline([cropsig_2000ms, a2s_baseline], as_item=True)\n",
    "dl_tfms = Pipeline([Cuda(), MaskFreqBatchValue()], as_item=True)\n",
    "dbunch = auds.databunch(p, item_tfms=ds_tfms, batch_tfms=dl_tfms, bs=64)\n",
    "dbunch.show_batch(max_n=9)"
   ]
  },
  {
   "cell_type": "markdown",
   "metadata": {},
   "source": [
    "## 3rd Attempt with correct random placement of mask"
   ]
  },
  {
   "cell_type": "code",
   "execution_count": null,
   "metadata": {},
   "outputs": [],
   "source": [
    "def MaskFreqBatchPlace(num_masks=1, size=20, start=None, val=None, **kwargs):\n",
    "    device = torch.device(\"cuda\") if torch.cuda.is_available() else torch.device(\"cpu\")\n",
    "    def _inner(spectro:AudioSpectrogram)->AudioSpectrogram:\n",
    "        '''Google SpecAugment time masking from https://arxiv.org/abs/1904.08779.'''\n",
    "        start_ = start\n",
    "        sg = spectro.clone()\n",
    "        channel_mean = sg.contiguous().view(sg.size(0), -1).mean(-1)[:,None,None,None]\n",
    "        mask_val = channel_mean if val is None else val\n",
    "        b, c, y, x = sg.shape\n",
    "        for _ in range(num_masks):\n",
    "            ones_mask = torch.ones(size=(1, c, size, x), device=device)\n",
    "            mask = ones_mask * mask_val\n",
    "            if start_ is None: start_= random.randint(0, y-size)\n",
    "            if not 0 <= start_ <= y-size:\n",
    "                raise ValueError(f\"Start value '{start_}' out of range for AudioSpectrogram of shape {sg.shape}\")\n",
    "            start_test = np.arange(0,,1)\n",
    "            #print(\"Index: shape\", start_test.shape)\n",
    "            sg[:,:,start_:start_+size,:] = mask\n",
    "            start_ = None\n",
    "        return AudioSpectrogram.create(sg, settings=spectro.settings)\n",
    "    return _inner"
   ]
  },
  {
   "cell_type": "code",
   "execution_count": null,
   "metadata": {},
   "outputs": [],
   "source": [
    "ds_tfms = Pipeline([cropsig_2000ms, a2s_baseline], as_item=True)\n",
    "dl_tfms = Pipeline([Cuda(), MaskFreqBatchPlace()], as_item=True)\n",
    "dbunch = auds.databunch(p, item_tfms=ds_tfms, batch_tfms=dl_tfms, bs=4)\n",
    "dbunch.show_batch(max_n=9)"
   ]
  },
  {
   "cell_type": "code",
   "execution_count": null,
   "metadata": {},
   "outputs": [],
   "source": [
    "(torch.ones(size=(64,1,20,128)) * 12).shape"
   ]
  },
  {
   "cell_type": "code",
   "execution_count": null,
   "metadata": {},
   "outputs": [],
   "source": [
    "fake_batch = torch.stack([CropTime(2000)(a2s(AudioItem.create(files[i]))) for i in range(64)])"
   ]
  },
  {
   "cell_type": "code",
   "execution_count": null,
   "metadata": {},
   "outputs": [],
   "source": [
    "fake_batch.shape"
   ]
  },
  {
   "cell_type": "code",
   "execution_count": null,
   "metadata": {},
   "outputs": [],
   "source": [
    "index = np.array([2,4,6,8], dtype=np.intp)"
   ]
  },
  {
   "cell_type": "code",
   "execution_count": null,
   "metadata": {},
   "outputs": [],
   "source": [
    "index + 20"
   ]
  },
  {
   "cell_type": "code",
   "execution_count": null,
   "metadata": {},
   "outputs": [],
   "source": [
    "fake_batch[:,:,index:index+20,:]"
   ]
  },
  {
   "cell_type": "code",
   "execution_count": null,
   "metadata": {},
   "outputs": [],
   "source": [
    "fake_batch[:,:,torch.arange(0, 7).long(),:].shape"
   ]
  }
 ],
 "metadata": {
  "kernelspec": {
   "display_name": "Python 3",
   "language": "python",
   "name": "python3"
  }
 },
 "nbformat": 4,
 "nbformat_minor": 2
}
