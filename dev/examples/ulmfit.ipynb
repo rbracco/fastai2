{
 "cells": [
  {
   "cell_type": "code",
   "execution_count": null,
   "metadata": {},
   "outputs": [],
   "source": [
    "#export\n",
    "from local.torch_basics import *\n",
    "from local.test import *\n",
    "from local.core import *\n",
    "from local.layers import *\n",
    "from local.data.all import *\n",
    "from local.notebook.showdoc import show_doc\n",
    "from local.optimizer import *\n",
    "from local.learner import *\n",
    "from local.metrics import *\n",
    "from local.text.core import *\n",
    "from local.text.data import *\n",
    "from local.text.models.core import *\n",
    "from local.text.models.awdlstm import *\n",
    "from local.text.learner import *\n",
    "from local.callback.rnn import *\n",
    "from local.callback.all import *"
   ]
  },
  {
   "cell_type": "markdown",
   "metadata": {},
   "source": [
    "# ULMFiT"
   ]
  },
  {
   "cell_type": "markdown",
   "metadata": {},
   "source": [
    "## Finetune a pretrained Language Model"
   ]
  },
  {
   "cell_type": "markdown",
   "metadata": {},
   "source": [
    "First we get our data and tokenize it."
   ]
  },
  {
   "cell_type": "code",
   "execution_count": null,
   "metadata": {},
   "outputs": [],
   "source": [
    "path = untar_data(URLs.IMDB)\n",
    "tokenize_folder(path, folders=['train', 'test', 'unsup'])"
   ]
  },
  {
   "cell_type": "code",
   "execution_count": null,
   "metadata": {},
   "outputs": [],
   "source": [
    "path = untar_data(URLs.IMDB).parent/'imdb_tok'"
   ]
  },
  {
   "cell_type": "code",
   "execution_count": null,
   "metadata": {},
   "outputs": [],
   "source": [
    "count = pickle.load(open(path/'counter.pkl', 'rb'))\n",
    "vocab = make_vocab(count)"
   ]
  },
  {
   "cell_type": "code",
   "execution_count": null,
   "metadata": {},
   "outputs": [
    {
     "data": {
      "text/plain": [
       "100000"
      ]
     },
     "execution_count": null,
     "metadata": {},
     "output_type": "execute_result"
    }
   ],
   "source": [
    "texts = get_files(path, extensions=['.txt'])\n",
    "len(texts)"
   ]
  },
  {
   "cell_type": "markdown",
   "metadata": {},
   "source": [
    "Then we put it in a `DataSource`. For a language model, we don't have targets, so there is only one transform to numericalize the texts. Note that `tokenize_df` returns the count of the words in the corpus to make it easy to create a vocabulary."
   ]
  },
  {
   "cell_type": "code",
   "execution_count": null,
   "metadata": {},
   "outputs": [],
   "source": [
    "def read_file(f): return L(f.read().split(' '))"
   ]
  },
  {
   "cell_type": "code",
   "execution_count": null,
   "metadata": {},
   "outputs": [],
   "source": [
    "splits = RandomSplitter(valid_pct=0.1)(texts)\n",
    "vocab = make_vocab(count)\n",
    "dsrc = DataSource(texts, [[read_file, Numericalize(vocab)]], splits=splits, dl_type=LMDataLoader)"
   ]
  },
  {
   "cell_type": "markdown",
   "metadata": {},
   "source": [
    "Then we use that `DataSource` to create a `DataBunch`. Here the class of `TfmdDL` we need to use is `LMDataLoader` which will concatenate all the texts in a source (with a shuffle at each epoch for the training set), split it in `bs` chunks then read continuously through it."
   ]
  },
  {
   "cell_type": "code",
   "execution_count": null,
   "metadata": {},
   "outputs": [],
   "source": [
    "bs,sl=256,80\n",
    "dbunch_lm = dsrc.databunch(bs=bs, seq_len=sl, val_bs=bs, after_batch=Cuda)"
   ]
  },
  {
   "cell_type": "code",
   "execution_count": null,
   "metadata": {},
   "outputs": [
    {
     "data": {
      "text/html": [
       "<table border=\"1\" class=\"dataframe\">\n",
       "  <thead>\n",
       "    <tr style=\"text-align: right;\">\n",
       "      <th></th>\n",
       "      <th>text</th>\n",
       "      <th>text_</th>\n",
       "    </tr>\n",
       "  </thead>\n",
       "  <tbody>\n",
       "    <tr>\n",
       "      <th>0</th>\n",
       "      <td>xxbos i feel dumber after watching the first 20 min , luckily i walked out and saved the rest of my brain , people should watch better films and take notes on why they are rated highly , not because of the budget of the film or the special effects , just simply good acting and getting simple things right , and most importantly -- not being xxup xxunk , but i guess this was produced for those xxmaj xxunk</td>\n",
       "      <td>i feel dumber after watching the first 20 min , luckily i walked out and saved the rest of my brain , people should watch better films and take notes on why they are rated highly , not because of the budget of the film or the special effects , just simply good acting and getting simple things right , and most importantly -- not being xxup xxunk , but i guess this was produced for those xxmaj xxunk without</td>\n",
       "    </tr>\n",
       "    <tr>\n",
       "      <th>1</th>\n",
       "      <td>xxmaj the movie story involves families , two of them . xxmaj one xxmaj homo xxmaj sapiens , one xxmaj canine and both supplying us with some big surprises . \\n\\n xxup as the finale , we have xxup the xxup pilgrim ( chaplin / xxmaj first xxmaj national , 1923 ) was a good choice to have as the finale . xxmaj it was bright , light and tight . xxmaj it was an excursion into the area of</td>\n",
       "      <td>the movie story involves families , two of them . xxmaj one xxmaj homo xxmaj sapiens , one xxmaj canine and both supplying us with some big surprises . \\n\\n xxup as the finale , we have xxup the xxup pilgrim ( chaplin / xxmaj first xxmaj national , 1923 ) was a good choice to have as the finale . xxmaj it was bright , light and tight . xxmaj it was an excursion into the area of the</td>\n",
       "    </tr>\n",
       "    <tr>\n",
       "      <th>2</th>\n",
       "      <td>has caught on . xxmaj now xxmaj comedy xxmaj central , that place we all go to find old xxup snl reruns , has made a movie . xxmaj you would think it be funny . i mean , xxup comedy xxup central making a movie . i thought wrong . xxmaj its really pretty boring . xxmaj its about a college student who starts a porn club and the problems he has trouble keeping it going . xxmaj its</td>\n",
       "      <td>caught on . xxmaj now xxmaj comedy xxmaj central , that place we all go to find old xxup snl reruns , has made a movie . xxmaj you would think it be funny . i mean , xxup comedy xxup central making a movie . i thought wrong . xxmaj its really pretty boring . xxmaj its about a college student who starts a porn club and the problems he has trouble keeping it going . xxmaj its not</td>\n",
       "    </tr>\n",
       "    <tr>\n",
       "      <th>3</th>\n",
       "      <td>martial arts actors uses their guns often , but are very bad shots . xxmaj the result is a long string of martial fight scenes . xxmaj in each fight , the good guy is driven from the scene and makes a miraculous return . ( this is repeated with several variations ) . xxmaj add to the mix an xxunk xxup swat team , bad dialog , and illogical events , and you have a really bad attempt to</td>\n",
       "      <td>arts actors uses their guns often , but are very bad shots . xxmaj the result is a long string of martial fight scenes . xxmaj in each fight , the good guy is driven from the scene and makes a miraculous return . ( this is repeated with several variations ) . xxmaj add to the mix an xxunk xxup swat team , bad dialog , and illogical events , and you have a really bad attempt to mimic</td>\n",
       "    </tr>\n",
       "    <tr>\n",
       "      <th>4</th>\n",
       "      <td>xxmaj the whole movie puts you into a halloween mood , sure , it 's silly and the jokes are cheap but it 's a pleasure to watch it . i would give xxmaj elvira , xxmaj mistress xxmaj of xxmaj the xxmaj dark 8 / 10 xxbos xxmaj so this movie has been on my radar for quite a while . i was smooth talked by xxmaj justin xxmaj mark 's assurance that his treatment of the movie was</td>\n",
       "      <td>the whole movie puts you into a halloween mood , sure , it 's silly and the jokes are cheap but it 's a pleasure to watch it . i would give xxmaj elvira , xxmaj mistress xxmaj of xxmaj the xxmaj dark 8 / 10 xxbos xxmaj so this movie has been on my radar for quite a while . i was smooth talked by xxmaj justin xxmaj mark 's assurance that his treatment of the movie was respectful</td>\n",
       "    </tr>\n",
       "    <tr>\n",
       "      <th>5</th>\n",
       "      <td>.now . \\n\\n \" paul xxmaj andrew 's \" comment says it all for me , although i agree with the majority of the other comments . i do n't even consider the few opinions who thought it was the best film ever made - in just the period of the 90s ? ? xxmaj wow ! again … \\n\\n i found no redeeming nor entertaining qualities for \" the xxmaj specialist , \" except for how hard the special</td>\n",
       "      <td>. \\n\\n \" paul xxmaj andrew 's \" comment says it all for me , although i agree with the majority of the other comments . i do n't even consider the few opinions who thought it was the best film ever made - in just the period of the 90s ? ? xxmaj wow ! again … \\n\\n i found no redeeming nor entertaining qualities for \" the xxmaj specialist , \" except for how hard the special -</td>\n",
       "    </tr>\n",
       "    <tr>\n",
       "      <th>6</th>\n",
       "      <td>xxmaj ken all fighting or hanging off the highest cliff while xxmaj jenny and her father 's men speed to the rescue with xxmaj ken 's horse ' tarzan . ' \\n\\n a good 1930s western , mainly because of xxmaj ken xxmaj maynard . xxbos first of all i do n't believe in the conspiracy theory .. but i can not understand the ' intentional ' repeated view to the xxmaj arabic and / or xxmaj muslim as a</td>\n",
       "      <td>ken all fighting or hanging off the highest cliff while xxmaj jenny and her father 's men speed to the rescue with xxmaj ken 's horse ' tarzan . ' \\n\\n a good 1930s western , mainly because of xxmaj ken xxmaj maynard . xxbos first of all i do n't believe in the conspiracy theory .. but i can not understand the ' intentional ' repeated view to the xxmaj arabic and / or xxmaj muslim as a prepared</td>\n",
       "    </tr>\n",
       "    <tr>\n",
       "      <th>7</th>\n",
       "      <td>suspense is really edgy and makes you want to fast forward to the next scene to see what happens next . xxmaj as well as the stand allow story of xxmaj xxunk 's new company ' ghost ' making you want more as the plot continues . xxmaj even as a sequel this is a hard one to beat . i whole heartedly will you to see it , even if you have not yet view the first one .</td>\n",
       "      <td>is really edgy and makes you want to fast forward to the next scene to see what happens next . xxmaj as well as the stand allow story of xxmaj xxunk 's new company ' ghost ' making you want more as the plot continues . xxmaj even as a sequel this is a hard one to beat . i whole heartedly will you to see it , even if you have not yet view the first one . xxbos</td>\n",
       "    </tr>\n",
       "    <tr>\n",
       "      <th>8</th>\n",
       "      <td>without much ado about the human cost of war and over those who cover up failures . xxmaj oh , i do love the character , xxmaj emily . xxmaj theron presents her character beautifully , surging up my hope and optimism of seeing those who do still abide by their moral conscience and make wise choices and decisions . xxmaj susan xxmaj sarandon 's xxmaj joan comes across the screen well to remind the audience of the many unspoken</td>\n",
       "      <td>much ado about the human cost of war and over those who cover up failures . xxmaj oh , i do love the character , xxmaj emily . xxmaj theron presents her character beautifully , surging up my hope and optimism of seeing those who do still abide by their moral conscience and make wise choices and decisions . xxmaj susan xxmaj sarandon 's xxmaj joan comes across the screen well to remind the audience of the many unspoken and</td>\n",
       "    </tr>\n",
       "    <tr>\n",
       "      <th>9</th>\n",
       "      <td>film on xxup tv decades ago and , while i did n't clearly remember the specifics of the plot ( of which there 's very little ) until i caught it on xxup tv again last night , i vividly remembered the corpses skulking about the screen . xxmaj there 's something intensely and appropriately creepy about the actors ' performances as the dead bodies . \\n\\n xxmaj although \" shanks \" is xxunk than the usual xxmaj william xxmaj</td>\n",
       "      <td>on xxup tv decades ago and , while i did n't clearly remember the specifics of the plot ( of which there 's very little ) until i caught it on xxup tv again last night , i vividly remembered the corpses skulking about the screen . xxmaj there 's something intensely and appropriately creepy about the actors ' performances as the dead bodies . \\n\\n xxmaj although \" shanks \" is xxunk than the usual xxmaj william xxmaj castle</td>\n",
       "    </tr>\n",
       "  </tbody>\n",
       "</table>"
      ],
      "text/plain": [
       "<IPython.core.display.HTML object>"
      ]
     },
     "metadata": {},
     "output_type": "display_data"
    }
   ],
   "source": [
    "dbunch_lm.show_batch()"
   ]
  },
  {
   "cell_type": "markdown",
   "metadata": {},
   "source": [
    "Then we have a convenience method to directly grab a `Learner` from it, using the `AWD_LSTM` architecture."
   ]
  },
  {
   "cell_type": "code",
   "execution_count": null,
   "metadata": {},
   "outputs": [],
   "source": [
    "opt_func = partial(Adam, wd=0.1)\n",
    "learn = language_model_learner(dbunch_lm, AWD_LSTM, vocab, opt_func=opt_func, metrics=[accuracy, Perplexity()], path=path)\n",
    "learn = learn.to_fp16(clip=0.1)"
   ]
  },
  {
   "cell_type": "code",
   "execution_count": null,
   "metadata": {},
   "outputs": [
    {
     "data": {
      "text/html": [
       "<table border=\"1\" class=\"dataframe\">\n",
       "  <thead>\n",
       "    <tr style=\"text-align: left;\">\n",
       "      <th>epoch</th>\n",
       "      <th>train_loss</th>\n",
       "      <th>valid_loss</th>\n",
       "      <th>accuracy</th>\n",
       "      <th>perplexity</th>\n",
       "      <th>time</th>\n",
       "    </tr>\n",
       "  </thead>\n",
       "  <tbody>\n",
       "    <tr>\n",
       "      <td>0</td>\n",
       "      <td>4.426135</td>\n",
       "      <td>3.984901</td>\n",
       "      <td>0.292371</td>\n",
       "      <td>53.779987</td>\n",
       "      <td>07:00</td>\n",
       "    </tr>\n",
       "  </tbody>\n",
       "</table>"
      ],
      "text/plain": [
       "<IPython.core.display.HTML object>"
      ]
     },
     "metadata": {},
     "output_type": "display_data"
    }
   ],
   "source": [
    "learn.fit_one_cycle(1, 2e-2, moms=(0.8,0.7,0.8))"
   ]
  },
  {
   "cell_type": "code",
   "execution_count": null,
   "metadata": {},
   "outputs": [],
   "source": [
    "learn.save('stage1')"
   ]
  },
  {
   "cell_type": "code",
   "execution_count": null,
   "metadata": {},
   "outputs": [],
   "source": [
    "learn.load('stage1');"
   ]
  },
  {
   "cell_type": "code",
   "execution_count": null,
   "metadata": {},
   "outputs": [
    {
     "data": {
      "text/html": [
       "<table border=\"1\" class=\"dataframe\">\n",
       "  <thead>\n",
       "    <tr style=\"text-align: left;\">\n",
       "      <th>epoch</th>\n",
       "      <th>train_loss</th>\n",
       "      <th>valid_loss</th>\n",
       "      <th>accuracy</th>\n",
       "      <th>perplexity</th>\n",
       "      <th>time</th>\n",
       "    </tr>\n",
       "  </thead>\n",
       "  <tbody>\n",
       "    <tr>\n",
       "      <td>0</td>\n",
       "      <td>4.163227</td>\n",
       "      <td>3.870354</td>\n",
       "      <td>0.306840</td>\n",
       "      <td>47.959347</td>\n",
       "      <td>07:24</td>\n",
       "    </tr>\n",
       "    <tr>\n",
       "      <td>1</td>\n",
       "      <td>4.055693</td>\n",
       "      <td>3.790802</td>\n",
       "      <td>0.316436</td>\n",
       "      <td>44.291908</td>\n",
       "      <td>07:41</td>\n",
       "    </tr>\n",
       "    <tr>\n",
       "      <td>2</td>\n",
       "      <td>3.979279</td>\n",
       "      <td>3.729021</td>\n",
       "      <td>0.323357</td>\n",
       "      <td>41.638317</td>\n",
       "      <td>07:22</td>\n",
       "    </tr>\n",
       "    <tr>\n",
       "      <td>3</td>\n",
       "      <td>3.919654</td>\n",
       "      <td>3.688891</td>\n",
       "      <td>0.327770</td>\n",
       "      <td>40.000469</td>\n",
       "      <td>07:22</td>\n",
       "    </tr>\n",
       "    <tr>\n",
       "      <td>4</td>\n",
       "      <td>3.889432</td>\n",
       "      <td>3.660633</td>\n",
       "      <td>0.330762</td>\n",
       "      <td>38.885933</td>\n",
       "      <td>07:22</td>\n",
       "    </tr>\n",
       "    <tr>\n",
       "      <td>5</td>\n",
       "      <td>3.842923</td>\n",
       "      <td>3.637397</td>\n",
       "      <td>0.333315</td>\n",
       "      <td>37.992798</td>\n",
       "      <td>07:26</td>\n",
       "    </tr>\n",
       "    <tr>\n",
       "      <td>6</td>\n",
       "      <td>3.813823</td>\n",
       "      <td>3.619074</td>\n",
       "      <td>0.335308</td>\n",
       "      <td>37.303013</td>\n",
       "      <td>07:25</td>\n",
       "    </tr>\n",
       "    <tr>\n",
       "      <td>7</td>\n",
       "      <td>3.793213</td>\n",
       "      <td>3.608010</td>\n",
       "      <td>0.336566</td>\n",
       "      <td>36.892574</td>\n",
       "      <td>07:20</td>\n",
       "    </tr>\n",
       "    <tr>\n",
       "      <td>8</td>\n",
       "      <td>3.766456</td>\n",
       "      <td>3.602140</td>\n",
       "      <td>0.337257</td>\n",
       "      <td>36.676647</td>\n",
       "      <td>07:22</td>\n",
       "    </tr>\n",
       "    <tr>\n",
       "      <td>9</td>\n",
       "      <td>3.759768</td>\n",
       "      <td>3.600955</td>\n",
       "      <td>0.337450</td>\n",
       "      <td>36.633202</td>\n",
       "      <td>07:23</td>\n",
       "    </tr>\n",
       "  </tbody>\n",
       "</table>"
      ],
      "text/plain": [
       "<IPython.core.display.HTML object>"
      ]
     },
     "metadata": {},
     "output_type": "display_data"
    }
   ],
   "source": [
    "learn.unfreeze()\n",
    "learn.fit_one_cycle(10, 2e-3, moms=(0.8,0.7,0.8))"
   ]
  },
  {
   "cell_type": "markdown",
   "metadata": {},
   "source": [
    "Once we have fine-tuned the pretrained language model to this corpus, we save the encoder since we will use it for the classifier."
   ]
  },
  {
   "cell_type": "code",
   "execution_count": null,
   "metadata": {},
   "outputs": [],
   "source": [
    "learn.save_encoder('finetuned1')"
   ]
  },
  {
   "cell_type": "markdown",
   "metadata": {},
   "source": [
    "## Use it to train a classifier"
   ]
  },
  {
   "cell_type": "code",
   "execution_count": null,
   "metadata": {},
   "outputs": [],
   "source": [
    "texts = get_files(path, extensions=['.txt'], folders=['train', 'test'])"
   ]
  },
  {
   "cell_type": "code",
   "execution_count": null,
   "metadata": {},
   "outputs": [],
   "source": [
    "splits = GrandparentSplitter(valid_name='test')(texts)"
   ]
  },
  {
   "cell_type": "markdown",
   "metadata": {},
   "source": [
    "For classification, we need to use two set of transforms: one to numericalize the texts and the other to encode the labels as categories."
   ]
  },
  {
   "cell_type": "code",
   "execution_count": null,
   "metadata": {},
   "outputs": [],
   "source": [
    "dsrc = DataSource(texts, [[read_file, Numericalize(vocab)], [parent_label, Categorize()]], splits=splits, dl_type=SortedDL)"
   ]
  },
  {
   "cell_type": "code",
   "execution_count": null,
   "metadata": {},
   "outputs": [],
   "source": [
    "bs = 64"
   ]
  },
  {
   "cell_type": "code",
   "execution_count": null,
   "metadata": {},
   "outputs": [],
   "source": [
    "dbunch = dsrc.databunch(before_batch=pad_input, after_batch=Cuda, bs=bs)"
   ]
  },
  {
   "cell_type": "code",
   "execution_count": null,
   "metadata": {},
   "outputs": [
    {
     "data": {
      "text/html": [
       "<table border=\"1\" class=\"dataframe\">\n",
       "  <thead>\n",
       "    <tr style=\"text-align: right;\">\n",
       "      <th></th>\n",
       "      <th>text</th>\n",
       "      <th>category</th>\n",
       "    </tr>\n",
       "  </thead>\n",
       "  <tbody>\n",
       "    <tr>\n",
       "      <th>0</th>\n",
       "      <td>xxbos xxmaj polish film maker xxmaj walerian xxmaj borowczyk 's xxmaj la xxmaj bête ( french , 1975 , aka xxmaj the xxmaj beast ) is among the most controversial and brave films ever made and a very excellent one too . xxmaj this film tells everything that 's generally been hidden and denied about our nature and our sexual nature in particular with the symbolism and silence of its images . xxmaj the images may look wild , perverse , \" sick \" or exciting , but they are all in relation with the lastly mentioned . xxmaj sex , desire and death are very strong and primary things and dominate all the flesh that has a human soul inside it . xxmaj they interest and xxunk us so powerfully ( and by our nature ) that they are considered scary , unacceptable and something too wild to be true . \\n\\n▁ a sophisticated young woman travels with her mother to a xxmaj french countryside to meet her soon - to - become husband whom with she has had a letter affair of some kind . xxmaj all are very exciting and each others ' parents and relatives wait impatiently to see the new people arriving to their families . xxmaj the innocence of the young bride shines through and no one knows what can happen and wake up inside the walls of the big and beautiful xxmaj french mansion , with all its humans and animals , and a mysterious \" la bête \" that turns out to be something that the characters , nor most of the film 's audience , could have never imagined to be real and ( in front of ) them . \\n\\n xxmaj the film is about the same theme as xxmaj canadian xxmaj david xxmaj cronenberg 's xxunk feature xxmaj shivers ( 1975 ) , which happens inside a huge luxury building in which destructive and gory parasites spread from human to human by sexual contact and make people act furiously and violently in their lust for pleasure and fulfilment of instincts . xxmaj human has instincts that can be and are stronger than his will and that is why those instincts can be as dangerous and powerful as the instincts of some other animal , a beast , be it a lust for blood , revenge or sex and carnal pleasure . xxmaj humans are only animals that have intelligence and tools to convey it but because we are also animals , that intelligence is not always used too much as can be seen anywhere around us . xxmaj the film opens greatly , and very shockingly for most xxunk attitudes , showing a horny male horse raging in fury as he waits to get inside the mare and continue the race , but the rage and visible lust we see from his eyes and violent movements are the key elements of that beginning and why it is there , not the close - ups of organs as could be so easily claimed . xxmaj the horse is a beast that battles in an almost unbearable heat , in heat that 's much stronger than his will as he does n't have any control at that point anymore . xxmaj the power of the instinct makes an animal a beast . \\n\\n xxmaj after the memorable beginning , the characters get introduced , and the film fantastically has all the necessary age groups inside it from the little innocent children waiting to grow up and develop to their blossom , to the adults and elders that all represent their own part of the lifespan , creating the face of human life on screen . a film does n't necessarily need more characters this way as all the important ones are already there and represent the whole race , including the urban and countryside inhabitants , and both sexes . xxmaj the mansion makes the protagonist girl 's sexuality wake as she saws the horses coupling and acting like she obviously has never thought of . xxmaj for the first time she sees something unique and something that excites and feels almost vital for her and her body , like getting water when you 're very thirsty . xxmaj the transformation of the girl is a very important element in the film as she has lived unaware of these things inside her , with his mother and camera and a letter - boyfriend , even though the things have just waited for the moment to burst out . xxmaj flesh desires flesh and that belongs to being a xxunk , but still those things are not so easily admitted everywhere and films like these trying to depict it get banned for decades ? xxmaj man 's stupidity and unwillingness to interpret images must not be an argument for a film being banned or otherwise violated . \\n\\n xxmaj the film 's last 30 minutes are also as important as the beginning , and once again show how powerful cinema is without needless words and talk . xxmaj as the girl and audience realizes what her body starts to feel and desire , she starts to have dreams about the mysterious beast that turns out to be none other than the undressed form of ourselves , having lived in the woods without other people / beasts near him . xxmaj the dream sequence is the one that causes and caused most of the controversy alongside the film 's overall straight and honest attitude , and the images are so easy to be judged as \" perverse \" and \" pornographic \" , without a courage to go deeper into them , character reactions and thoughts behind what we see . xxmaj the images are exciting in her dream and also eventually inside the dream for the dream 's ( more ) human character , and xxmaj borowczyk forces us to admit it with the images that are so close to a \" normal \" sexual act between a man and a female , which is a beautiful thing and expression of love , another human need . xxmaj also the numerous , and cleverly blackly humorous love making scenes inside the mansion , between the young mother and the black servant , get interrupted many times as someone screams for the servant , for example , and there 's no doubt that the sensual image of two young human bodies being together and being interrupted with an angry shout at least does n't become any more pleasant by the interruption . xxmaj borowczyk has managed to paint his images so beautiful and \" sensitive \" that his message is almost impossible to be misunderstood , but nothing seems to be impossible for our cultures and minds that criticize art . xxmaj he uses dialogue only when it 's necessary , otherwise the images do the job and make the film powerful . \\n\\n xxmaj death is also there , as flesh dies sooner or later , after years of life and instincts , it dies . xxmaj the ending is inevitable but the meaning of the dream sequence could have also been as powerful without the kind of dramatic and \" revealing \" ending too . xxmaj another blackly humorous element comes when we see the shocked city women running out of the place in which they saw a little more than they were looking for ! xxmaj they visited the mansion of truth about flesh , us and them . xxmaj the film reminds me of xxmaj french writer xxmaj georges xxmaj bataille 's xxmaj story of the xxmaj eye with its same themes about eroticism , death and how they both are always connected to the nature of our flesh . xxmaj the book is well written and fantastic as well as this film , and naturally both have been blamed for their \" too explicit \" content and other equally noteworthy shallow comments . \\n\\n xxmaj borowczyk 's film is also very beautiful visually alongside its raw honesty , and the nature and forest have rarely looked so bright and shining as they do in this film . xxmaj the sun shines through the trees , and to everyplace where humans live , and the beauty of it is always there , but so is the ugliness that originates by the inhabitants of the world . xxmaj to every innocent white sheep there 's a selfish , evil and horrible beast in our world and that is why the intelligence we have been given never fully seems to overcome the power of our bad instincts and the other side of the sheep , present inside every human soul . xxmaj it is about how many manages to keep the dark side passive and not active . xxmaj the fulfilment of some of our instincts is not a bad thing , and by using this intelligence and seeing which of the instincts are good and which bad , they can be satisfied without exploitation , violence and the lethal and destructive circle created by it . xxmaj human is not more than an animal with intelligence , intelligence that is so easy to be forgotten and eaten to the background by things that feel better and more satisfying at each and perhaps sudden moment . xxmaj borowczyk 's film is a masterpiece , unforgettable and clever piece of magical cinema with ageless theme and also an example of how much can be achieved , expressed and given by a film maker , who is also only a human .</td>\n",
       "      <td>pos</td>\n",
       "    </tr>\n",
       "    <tr>\n",
       "      <th>1</th>\n",
       "      <td>xxbos xxmaj it is not as great a film as many people believe ( including my late aunt , who said it was her favorite movie ) . xxmaj but due to the better sections of this film noir , particularly that justifiably famous \" fun house \" finale , xxup the xxup lady xxup from xxup shanghai has gained a position of importance beyond it 's actual worth as a key to the saga of xxmaj orson xxmaj welles ' failure to conquer xxmaj hollywood . \\n\\n xxmaj by 1946 xxmaj welles ' position as a xxmaj hollywood figure was mixed . xxup citizen xxup kane was not recognized as the great movie it has since been seen as due to the way it was attacked by the xxmaj hearst press and by xxmaj hollywood insiders themselves . xxmaj welles ' attempt at total control ( direction and production and acting ) of his movies seemed to threaten the whole system . xxmaj his best job in this period was as xxmaj edward xxmaj rochester in xxup jane xxup eyre , supposedly shot by xxmaj robert xxmaj stevenson , but actually shot in large measure ( with xxmaj stevenson 's blessing ) by xxmaj welles . xxmaj but the credit went to xxmaj stevenson . xxmaj only xxup the xxup stranger , a film benefiting from a postwar interest in fleeing xxmaj nazi war criminals , made a profit . xxmaj for five years in xxmaj hollywood it was barely a great record . \\n\\n xxmaj welles returned to xxmaj broadway in 1946 , hoping to recapture his critical abilities by his production of xxup around xxup the xxup world xxup in 80 xxup days . xxmaj but despite the assistance xxmaj mike xxmaj todd , and xxmaj cole xxmaj porter composing the score , the musical was a failure . xxmaj his failure occurred just at the same time that his wife , xxmaj rita xxmaj hayworth , was on the rise with her portrayal of xxup gilda . xxmaj so the marriage was going on the rocks as well . \\n\\n xxmaj welles had to make money - his xxmaj broadway production had led to his personal bankruptcy . xxmaj he sold his interest in the possible movie rights to xxup around xxup the xxup world to xxmaj todd ( which he would eventually rue ) , and he also sold the idea of a film about the career of xxmaj henri xxmaj desire xxmaj xxunk to xxmaj charlie xxmaj chaplin , who was supposed to be directed in it ( and who turned it into xxup monsieur xxup verdoux ) . \\n\\n xxmaj the story goes that xxmaj welles , with a $ 10 , xxrep 3 0 .00 tax bill to worry about , called xxmaj cohn and offered to do a film with xxmaj rita for a down payment . xxmaj cohn was willing to do so , but naturally asked what the film was . xxmaj it was a wise question . xxmaj welles was on a pay phone in xxmaj new xxmaj york in a pharmacy that had a book department . xxmaj he grabbed a book with the title xxup the xxup lady xxup from xxup shanghai , and raved that it was a great thriller . xxmaj somehow xxmaj welles convinced the normally astute xxmaj cohn that xxmaj welles knew what he was talking about . xxmaj cohn said he 'd look into getting the rights , and sent xxmaj welles his down - payment of $ 10 , xxrep 3 0 .00 . xxmaj after xxmaj cohn hung up xxmaj welles bought the book and read it - and found it was really pretty bad . xxmaj he spent time rewriting a treatment and screenplay that would build up xxmaj rita 's character of xxmaj elsa xxmaj bannister . \\n\\n xxmaj certainly it has a curious plot development . xxmaj michael o'hara is a seaman / xxunk . xxmaj he rescues xxmaj elsa xxmaj bannister , when she is apparently attacked by gangsters in a park in xxmaj san xxmaj francisco . xxmaj elsa is married to xxmaj arthur xxmaj bannister ( everett xxmaj sloane ) a crippled criminal lawyer with a great reputation . xxmaj she convinces him to hire xxmaj michael as the skipper of their yacht . xxmaj the cruise also contains xxmaj bannister 's sinister partner xxmaj george xxmaj grisby ( glenn xxmaj anders ) and one xxmaj sidney xxmaj broome ( ted xxmaj de xxmaj corsia ) who turns out to be a detective hired by xxmaj bannister to watch xxmaj elsa . xxmaj when they can xxmaj michael and xxmaj elsa try to find time together , but xxmaj broome or xxmaj grisby keeps showing up . \\n\\n xxmaj grisby makes xxmaj michael an offer - he wants ( for reasons connected to his so - called fatalistic view of modern society ) to drop out of it , pretending to be dead . xxmaj according to xxmaj grisby ( the plot becomes murky here ) he can still collect his life insurance ( although dead ? ) and use it to run off to the xxmaj south xxmaj seas . xxmaj he will pay xxmaj michael $ 10 , xxrep 3 0 .00 if he will pretend to shoot xxmaj grisby . xxmaj this includes actually signing a document admitting to the murder ( michael does not realize that such an admission would wipe out the need to produce a corpse if all the other evidence suggests that xxmaj grisby is probably dead ) . \\n\\n xxmaj of course xxmaj grisby is killed , and xxmaj michael is arrested for that , and for the murder of xxmaj broome ( shot with xxmaj michael 's gun ) . xxmaj michael is tried with xxmaj bannister defending him , and discovers that the latter is doing a second rate job because he wants xxmaj michael to be convicted . xxmaj michael is convinced that xxmaj bannister is the actual murderer , and manages to escape just before the jury verdict . xxmaj he is knocked out and deposited in a deserted carnival , and this leads to the famous \" fun house \" sequence and the conclusion of the film . \\n\\n xxmaj it 's a terribly confusing movie ( as i have had commented on ) . xxmaj that does not mean it 's not worth seeing - visually it is striking . xxmaj witness the fight between xxmaj michael and the police in the trial judge 's quarters , where he knocks the bailiff into the judge 's bookcase , shattering glass . xxmaj or the clever use of photography to capture xxmaj hayworth diving from a rock , reflected on the lecherous xxmaj grisby 's binoculars . \\n\\n xxmaj the acting is pretty good , in particular xxmaj sloane ( possibly that fine actor 's best film role ) . xxmaj glenn xxmaj anders was a leading xxmaj broadway performer . xxmaj he rarely made movies before xxup the xxup lady xxup from xxup shanghai , and his slimy xxmaj grisby is unforgettable . xxmaj also xxmaj ted xxmaj de xxmaj corsia does very nicely with xxmaj broome - a detective who is really looking for his own interests , to his own cost . \\n\\n xxmaj as for xxmaj hayworth , she turns in a performance that was unlike most of what she had done before ( blood xxup and xxup sand , xxup tales xxup of xxup manhattan , and xxup the xxup strawberry xxup blond are exceptions ) , and is a memorable siren . xxmaj welles ' o'hara is a very unusual character for the actor - a likable but naive man who learns the hard way not to believe what he secretly wants to believe . xxmaj it 's not xxup kane , xxup xxunk , xxup othello , xxup touch xxup of xxup evil , or xxup chimes xxup at xxup midnight , but it is a good film for all that .</td>\n",
       "      <td>pos</td>\n",
       "    </tr>\n",
       "  </tbody>\n",
       "</table>"
      ],
      "text/plain": [
       "<IPython.core.display.HTML object>"
      ]
     },
     "metadata": {},
     "output_type": "display_data"
    }
   ],
   "source": [
    "dbunch.show_batch(max_n=2)"
   ]
  },
  {
   "cell_type": "markdown",
   "metadata": {},
   "source": [
    "Then we once again have a convenience function to create a classifier from this `DataBunch` with the `AWD_LSTM` architecture."
   ]
  },
  {
   "cell_type": "code",
   "execution_count": null,
   "metadata": {},
   "outputs": [],
   "source": [
    "opt_func = partial(Adam, wd=0.1)\n",
    "learn = text_classifier_learner(dbunch, AWD_LSTM, vocab, metrics=[accuracy], path=path, drop_mult=0.5, opt_func=opt_func)"
   ]
  },
  {
   "cell_type": "markdown",
   "metadata": {},
   "source": [
    "We load our pretrained encoder."
   ]
  },
  {
   "cell_type": "code",
   "execution_count": null,
   "metadata": {},
   "outputs": [],
   "source": [
    "learn = learn.load_encoder('finetuned1')\n",
    "learn = learn.to_fp16(clip=0.1)"
   ]
  },
  {
   "cell_type": "markdown",
   "metadata": {},
   "source": [
    "Then we can train with gradual unfreezing and differential learning rates."
   ]
  },
  {
   "cell_type": "code",
   "execution_count": null,
   "metadata": {},
   "outputs": [],
   "source": [
    "lr = 1e-1 * bs/128"
   ]
  },
  {
   "cell_type": "code",
   "execution_count": null,
   "metadata": {},
   "outputs": [
    {
     "data": {
      "text/html": [
       "<table border=\"1\" class=\"dataframe\">\n",
       "  <thead>\n",
       "    <tr style=\"text-align: left;\">\n",
       "      <th>epoch</th>\n",
       "      <th>train_loss</th>\n",
       "      <th>valid_loss</th>\n",
       "      <th>accuracy</th>\n",
       "      <th>time</th>\n",
       "    </tr>\n",
       "  </thead>\n",
       "  <tbody>\n",
       "    <tr>\n",
       "      <td>0</td>\n",
       "      <td>0.328318</td>\n",
       "      <td>0.200650</td>\n",
       "      <td>0.922120</td>\n",
       "      <td>01:08</td>\n",
       "    </tr>\n",
       "  </tbody>\n",
       "</table>"
      ],
      "text/plain": [
       "<IPython.core.display.HTML object>"
      ]
     },
     "metadata": {},
     "output_type": "display_data"
    }
   ],
   "source": [
    "learn.fit_one_cycle(1, lr, moms=(0.8,0.7,0.8), wd=0.1)"
   ]
  },
  {
   "cell_type": "code",
   "execution_count": null,
   "metadata": {},
   "outputs": [
    {
     "data": {
      "text/html": [
       "<table border=\"1\" class=\"dataframe\">\n",
       "  <thead>\n",
       "    <tr style=\"text-align: left;\">\n",
       "      <th>epoch</th>\n",
       "      <th>train_loss</th>\n",
       "      <th>valid_loss</th>\n",
       "      <th>accuracy</th>\n",
       "      <th>time</th>\n",
       "    </tr>\n",
       "  </thead>\n",
       "  <tbody>\n",
       "    <tr>\n",
       "      <td>0</td>\n",
       "      <td>0.208120</td>\n",
       "      <td>0.166004</td>\n",
       "      <td>0.937440</td>\n",
       "      <td>01:15</td>\n",
       "    </tr>\n",
       "  </tbody>\n",
       "</table>"
      ],
      "text/plain": [
       "<IPython.core.display.HTML object>"
      ]
     },
     "metadata": {},
     "output_type": "display_data"
    }
   ],
   "source": [
    "learn.freeze_to(-2)\n",
    "lr /= 2\n",
    "learn.fit_one_cycle(1, slice(lr/(2.6**4),lr), moms=(0.8,0.7,0.8), wd=0.1)"
   ]
  },
  {
   "cell_type": "code",
   "execution_count": null,
   "metadata": {},
   "outputs": [
    {
     "data": {
      "text/html": [
       "<table border=\"1\" class=\"dataframe\">\n",
       "  <thead>\n",
       "    <tr style=\"text-align: left;\">\n",
       "      <th>epoch</th>\n",
       "      <th>train_loss</th>\n",
       "      <th>valid_loss</th>\n",
       "      <th>accuracy</th>\n",
       "      <th>time</th>\n",
       "    </tr>\n",
       "  </thead>\n",
       "  <tbody>\n",
       "    <tr>\n",
       "      <td>0</td>\n",
       "      <td>0.162498</td>\n",
       "      <td>0.154959</td>\n",
       "      <td>0.942400</td>\n",
       "      <td>01:35</td>\n",
       "    </tr>\n",
       "  </tbody>\n",
       "</table>"
      ],
      "text/plain": [
       "<IPython.core.display.HTML object>"
      ]
     },
     "metadata": {},
     "output_type": "display_data"
    }
   ],
   "source": [
    "learn.freeze_to(-3)\n",
    "lr /= 2\n",
    "learn.fit_one_cycle(1, slice(lr/(2.6**4),lr), moms=(0.8,0.7,0.8), wd=0.1)"
   ]
  },
  {
   "cell_type": "code",
   "execution_count": null,
   "metadata": {},
   "outputs": [
    {
     "data": {
      "text/html": [
       "<table border=\"1\" class=\"dataframe\">\n",
       "  <thead>\n",
       "    <tr style=\"text-align: left;\">\n",
       "      <th>epoch</th>\n",
       "      <th>train_loss</th>\n",
       "      <th>valid_loss</th>\n",
       "      <th>accuracy</th>\n",
       "      <th>time</th>\n",
       "    </tr>\n",
       "  </thead>\n",
       "  <tbody>\n",
       "    <tr>\n",
       "      <td>0</td>\n",
       "      <td>0.133800</td>\n",
       "      <td>0.163456</td>\n",
       "      <td>0.940560</td>\n",
       "      <td>01:34</td>\n",
       "    </tr>\n",
       "    <tr>\n",
       "      <td>1</td>\n",
       "      <td>0.095326</td>\n",
       "      <td>0.154301</td>\n",
       "      <td>0.945120</td>\n",
       "      <td>01:34</td>\n",
       "    </tr>\n",
       "  </tbody>\n",
       "</table>"
      ],
      "text/plain": [
       "<IPython.core.display.HTML object>"
      ]
     },
     "metadata": {},
     "output_type": "display_data"
    }
   ],
   "source": [
    "learn.unfreeze()\n",
    "lr /= 5\n",
    "learn.fit_one_cycle(2, slice(lr/(2.6**4),lr), moms=(0.8,0.7,0.8), wd=0.1)"
   ]
  },
  {
   "cell_type": "code",
   "execution_count": null,
   "metadata": {},
   "outputs": [],
   "source": []
  }
 ],
 "metadata": {
  "kernelspec": {
   "display_name": "Python 3",
   "language": "python",
   "name": "python3"
  }
 },
 "nbformat": 4,
 "nbformat_minor": 2
}
