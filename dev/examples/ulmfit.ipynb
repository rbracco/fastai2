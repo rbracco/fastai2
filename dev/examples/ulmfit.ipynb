{
 "cells": [
  {
   "cell_type": "code",
   "execution_count": null,
   "metadata": {},
   "outputs": [],
   "source": [
    "#export\n",
    "from local.torch_basics import *\n",
    "from local.test import *\n",
    "from local.core import *\n",
    "from local.layers import *\n",
    "from local.data.all import *\n",
    "from local.notebook.showdoc import show_doc\n",
    "from local.optimizer import *\n",
    "from local.learner import *\n",
    "from local.metrics import *\n",
    "from local.text.core import *\n",
    "from local.text.data import *\n",
    "from local.text.models.core import *\n",
    "from local.text.models.awdlstm import *\n",
    "from local.text.learner import *\n",
    "from local.callback.rnn import *\n",
    "from local.callback.all import *"
   ]
  },
  {
   "cell_type": "markdown",
   "metadata": {},
   "source": [
    "# ULMFiT"
   ]
  },
  {
   "cell_type": "markdown",
   "metadata": {},
   "source": [
    "## Finetune a pretrained Language Model"
   ]
  },
  {
   "cell_type": "markdown",
   "metadata": {},
   "source": [
    "First we get our data and tokenize it."
   ]
  },
  {
   "cell_type": "code",
   "execution_count": null,
   "metadata": {},
   "outputs": [],
   "source": [
    "path = untar_data(URLs.IMDB)\n",
    "tokenize_folder(path, folders=['train', 'test', 'unsup'])"
   ]
  },
  {
   "cell_type": "code",
   "execution_count": null,
   "metadata": {},
   "outputs": [],
   "source": [
    "path = untar_data(URLs.IMDB).parent/'imdb_tok'"
   ]
  },
  {
   "cell_type": "code",
   "execution_count": null,
   "metadata": {},
   "outputs": [],
   "source": [
    "count = pickle.load(open(path/'counter.pkl', 'rb'))\n",
    "vocab = make_vocab(count)"
   ]
  },
  {
   "cell_type": "code",
   "execution_count": null,
   "metadata": {},
   "outputs": [
    {
     "data": {
      "text/plain": [
       "100000"
      ]
     },
     "execution_count": null,
     "metadata": {},
     "output_type": "execute_result"
    }
   ],
   "source": [
    "texts = get_files(path, extensions=['.txt'])\n",
    "len(texts)"
   ]
  },
  {
   "cell_type": "markdown",
   "metadata": {},
   "source": [
    "Then we put it in a `DataSource`. For a language model, we don't have targets, so there is only one transform to numericalize the texts. Note that `tokenize_df` returns the count of the words in the corpus to make it easy to create a vocabulary."
   ]
  },
  {
   "cell_type": "code",
   "execution_count": null,
   "metadata": {},
   "outputs": [],
   "source": [
    "def read_file(f): return L(f.read().split(' '))"
   ]
  },
  {
   "cell_type": "code",
   "execution_count": null,
   "metadata": {},
   "outputs": [],
   "source": [
    "splits = RandomSplitter(valid_pct=0.1)(texts)\n",
    "vocab = make_vocab(count)\n",
    "dsrc = DataSource(texts, [[read_file, Numericalize(vocab)]], splits=splits, dl_type=LMDataLoader)"
   ]
  },
  {
   "cell_type": "markdown",
   "metadata": {},
   "source": [
    "Then we use that `DataSource` to create a `DataBunch`. Here the class of `TfmdDL` we need to use is `LMDataLoader` which will concatenate all the texts in a source (with a shuffle at each epoch for the training set), split it in `bs` chunks then read continuously through it."
   ]
  },
  {
   "cell_type": "code",
   "execution_count": null,
   "metadata": {},
   "outputs": [],
   "source": [
    "bs,sl=256,80\n",
    "dbunch_lm = dsrc.databunch(bs=bs, seq_len=sl, val_bs=bs, after_batch=Cuda)"
   ]
  },
  {
   "cell_type": "code",
   "execution_count": null,
   "metadata": {},
   "outputs": [
    {
     "data": {
      "text/html": [
       "<table border=\"1\" class=\"dataframe\">\n",
       "  <thead>\n",
       "    <tr style=\"text-align: right;\">\n",
       "      <th></th>\n",
       "      <th>text</th>\n",
       "      <th>text_</th>\n",
       "    </tr>\n",
       "  </thead>\n",
       "  <tbody>\n",
       "    <tr>\n",
       "      <th>0</th>\n",
       "      <td>xxbos i feel dumber after watching the first 20 min , luckily i walked out and saved the rest of my brain , people should watch better films and take notes on why they are rated highly , not because of the budget of the film or the special effects , just simply good acting and getting simple things right , and most importantly -- not being xxup xxunk , but i guess this was produced for those xxmaj xxunk</td>\n",
       "      <td>i feel dumber after watching the first 20 min , luckily i walked out and saved the rest of my brain , people should watch better films and take notes on why they are rated highly , not because of the budget of the film or the special effects , just simply good acting and getting simple things right , and most importantly -- not being xxup xxunk , but i guess this was produced for those xxmaj xxunk without</td>\n",
       "    </tr>\n",
       "    <tr>\n",
       "      <th>1</th>\n",
       "      <td>xxmaj the movie story involves families , two of them . xxmaj one xxmaj homo xxmaj sapiens , one xxmaj canine and both supplying us with some big surprises . \\n\\n xxup as the finale , we have xxup the xxup pilgrim ( chaplin / xxmaj first xxmaj national , 1923 ) was a good choice to have as the finale . xxmaj it was bright , light and tight . xxmaj it was an excursion into the area of</td>\n",
       "      <td>the movie story involves families , two of them . xxmaj one xxmaj homo xxmaj sapiens , one xxmaj canine and both supplying us with some big surprises . \\n\\n xxup as the finale , we have xxup the xxup pilgrim ( chaplin / xxmaj first xxmaj national , 1923 ) was a good choice to have as the finale . xxmaj it was bright , light and tight . xxmaj it was an excursion into the area of the</td>\n",
       "    </tr>\n",
       "    <tr>\n",
       "      <th>2</th>\n",
       "      <td>has caught on . xxmaj now xxmaj comedy xxmaj central , that place we all go to find old xxup snl reruns , has made a movie . xxmaj you would think it be funny . i mean , xxup comedy xxup central making a movie . i thought wrong . xxmaj its really pretty boring . xxmaj its about a college student who starts a porn club and the problems he has trouble keeping it going . xxmaj its</td>\n",
       "      <td>caught on . xxmaj now xxmaj comedy xxmaj central , that place we all go to find old xxup snl reruns , has made a movie . xxmaj you would think it be funny . i mean , xxup comedy xxup central making a movie . i thought wrong . xxmaj its really pretty boring . xxmaj its about a college student who starts a porn club and the problems he has trouble keeping it going . xxmaj its not</td>\n",
       "    </tr>\n",
       "    <tr>\n",
       "      <th>3</th>\n",
       "      <td>martial arts actors uses their guns often , but are very bad shots . xxmaj the result is a long string of martial fight scenes . xxmaj in each fight , the good guy is driven from the scene and makes a miraculous return . ( this is repeated with several variations ) . xxmaj add to the mix an xxunk xxup swat team , bad dialog , and illogical events , and you have a really bad attempt to</td>\n",
       "      <td>arts actors uses their guns often , but are very bad shots . xxmaj the result is a long string of martial fight scenes . xxmaj in each fight , the good guy is driven from the scene and makes a miraculous return . ( this is repeated with several variations ) . xxmaj add to the mix an xxunk xxup swat team , bad dialog , and illogical events , and you have a really bad attempt to mimic</td>\n",
       "    </tr>\n",
       "    <tr>\n",
       "      <th>4</th>\n",
       "      <td>xxmaj the whole movie puts you into a halloween mood , sure , it 's silly and the jokes are cheap but it 's a pleasure to watch it . i would give xxmaj elvira , xxmaj mistress xxmaj of xxmaj the xxmaj dark 8 / 10 xxbos xxmaj so this movie has been on my radar for quite a while . i was smooth talked by xxmaj justin xxmaj mark 's assurance that his treatment of the movie was</td>\n",
       "      <td>the whole movie puts you into a halloween mood , sure , it 's silly and the jokes are cheap but it 's a pleasure to watch it . i would give xxmaj elvira , xxmaj mistress xxmaj of xxmaj the xxmaj dark 8 / 10 xxbos xxmaj so this movie has been on my radar for quite a while . i was smooth talked by xxmaj justin xxmaj mark 's assurance that his treatment of the movie was respectful</td>\n",
       "    </tr>\n",
       "    <tr>\n",
       "      <th>5</th>\n",
       "      <td>.now . \\n\\n \" paul xxmaj andrew 's \" comment says it all for me , although i agree with the majority of the other comments . i do n't even consider the few opinions who thought it was the best film ever made - in just the period of the 90s ? ? xxmaj wow ! again … \\n\\n i found no redeeming nor entertaining qualities for \" the xxmaj specialist , \" except for how hard the special</td>\n",
       "      <td>. \\n\\n \" paul xxmaj andrew 's \" comment says it all for me , although i agree with the majority of the other comments . i do n't even consider the few opinions who thought it was the best film ever made - in just the period of the 90s ? ? xxmaj wow ! again … \\n\\n i found no redeeming nor entertaining qualities for \" the xxmaj specialist , \" except for how hard the special -</td>\n",
       "    </tr>\n",
       "    <tr>\n",
       "      <th>6</th>\n",
       "      <td>xxmaj ken all fighting or hanging off the highest cliff while xxmaj jenny and her father 's men speed to the rescue with xxmaj ken 's horse ' tarzan . ' \\n\\n a good 1930s western , mainly because of xxmaj ken xxmaj maynard . xxbos first of all i do n't believe in the conspiracy theory .. but i can not understand the ' intentional ' repeated view to the xxmaj arabic and / or xxmaj muslim as a</td>\n",
       "      <td>ken all fighting or hanging off the highest cliff while xxmaj jenny and her father 's men speed to the rescue with xxmaj ken 's horse ' tarzan . ' \\n\\n a good 1930s western , mainly because of xxmaj ken xxmaj maynard . xxbos first of all i do n't believe in the conspiracy theory .. but i can not understand the ' intentional ' repeated view to the xxmaj arabic and / or xxmaj muslim as a prepared</td>\n",
       "    </tr>\n",
       "    <tr>\n",
       "      <th>7</th>\n",
       "      <td>suspense is really edgy and makes you want to fast forward to the next scene to see what happens next . xxmaj as well as the stand allow story of xxmaj xxunk 's new company ' ghost ' making you want more as the plot continues . xxmaj even as a sequel this is a hard one to beat . i whole heartedly will you to see it , even if you have not yet view the first one .</td>\n",
       "      <td>is really edgy and makes you want to fast forward to the next scene to see what happens next . xxmaj as well as the stand allow story of xxmaj xxunk 's new company ' ghost ' making you want more as the plot continues . xxmaj even as a sequel this is a hard one to beat . i whole heartedly will you to see it , even if you have not yet view the first one . xxbos</td>\n",
       "    </tr>\n",
       "    <tr>\n",
       "      <th>8</th>\n",
       "      <td>without much ado about the human cost of war and over those who cover up failures . xxmaj oh , i do love the character , xxmaj emily . xxmaj theron presents her character beautifully , surging up my hope and optimism of seeing those who do still abide by their moral conscience and make wise choices and decisions . xxmaj susan xxmaj sarandon 's xxmaj joan comes across the screen well to remind the audience of the many unspoken</td>\n",
       "      <td>much ado about the human cost of war and over those who cover up failures . xxmaj oh , i do love the character , xxmaj emily . xxmaj theron presents her character beautifully , surging up my hope and optimism of seeing those who do still abide by their moral conscience and make wise choices and decisions . xxmaj susan xxmaj sarandon 's xxmaj joan comes across the screen well to remind the audience of the many unspoken and</td>\n",
       "    </tr>\n",
       "    <tr>\n",
       "      <th>9</th>\n",
       "      <td>film on xxup tv decades ago and , while i did n't clearly remember the specifics of the plot ( of which there 's very little ) until i caught it on xxup tv again last night , i vividly remembered the corpses skulking about the screen . xxmaj there 's something intensely and appropriately creepy about the actors ' performances as the dead bodies . \\n\\n xxmaj although \" shanks \" is xxunk than the usual xxmaj william xxmaj</td>\n",
       "      <td>on xxup tv decades ago and , while i did n't clearly remember the specifics of the plot ( of which there 's very little ) until i caught it on xxup tv again last night , i vividly remembered the corpses skulking about the screen . xxmaj there 's something intensely and appropriately creepy about the actors ' performances as the dead bodies . \\n\\n xxmaj although \" shanks \" is xxunk than the usual xxmaj william xxmaj castle</td>\n",
       "    </tr>\n",
       "  </tbody>\n",
       "</table>"
      ],
      "text/plain": [
       "<IPython.core.display.HTML object>"
      ]
     },
     "metadata": {},
     "output_type": "display_data"
    }
   ],
   "source": [
    "dbunch_lm.show_batch()"
   ]
  },
  {
   "cell_type": "markdown",
   "metadata": {},
   "source": [
    "Then we have a convenience method to directly grab a `Learner` from it, using the `AWD_LSTM` architecture."
   ]
  },
  {
   "cell_type": "code",
   "execution_count": null,
   "metadata": {},
   "outputs": [],
   "source": [
    "opt_func = partial(Adam, wd=0.1)\n",
    "learn = language_model_learner(dbunch_lm, AWD_LSTM, vocab, opt_func=opt_func, metrics=[accuracy, Perplexity()], path=path)\n",
    "learn = learn.to_fp16(clip=0.1)"
   ]
  },
  {
   "cell_type": "code",
   "execution_count": null,
   "metadata": {},
   "outputs": [
    {
     "data": {
      "text/html": [
       "<table border=\"1\" class=\"dataframe\">\n",
       "  <thead>\n",
       "    <tr style=\"text-align: left;\">\n",
       "      <th>epoch</th>\n",
       "      <th>train_loss</th>\n",
       "      <th>valid_loss</th>\n",
       "      <th>accuracy</th>\n",
       "      <th>perplexity</th>\n",
       "      <th>time</th>\n",
       "    </tr>\n",
       "  </thead>\n",
       "  <tbody>\n",
       "    <tr>\n",
       "      <td>0</td>\n",
       "      <td>4.426135</td>\n",
       "      <td>3.984901</td>\n",
       "      <td>0.292371</td>\n",
       "      <td>53.779987</td>\n",
       "      <td>07:00</td>\n",
       "    </tr>\n",
       "  </tbody>\n",
       "</table>"
      ],
      "text/plain": [
       "<IPython.core.display.HTML object>"
      ]
     },
     "metadata": {},
     "output_type": "display_data"
    }
   ],
   "source": [
    "learn.fit_one_cycle(1, 2e-2, moms=(0.8,0.7,0.8))"
   ]
  },
  {
   "cell_type": "code",
   "execution_count": null,
   "metadata": {},
   "outputs": [],
   "source": [
    "learn.save('stage1')"
   ]
  },
  {
   "cell_type": "code",
   "execution_count": null,
   "metadata": {},
   "outputs": [],
   "source": [
    "learn.load('stage1');"
   ]
  },
  {
   "cell_type": "code",
   "execution_count": null,
   "metadata": {},
   "outputs": [
    {
     "data": {
      "text/html": [
       "<table border=\"1\" class=\"dataframe\">\n",
       "  <thead>\n",
       "    <tr style=\"text-align: left;\">\n",
       "      <th>epoch</th>\n",
       "      <th>train_loss</th>\n",
       "      <th>valid_loss</th>\n",
       "      <th>accuracy</th>\n",
       "      <th>perplexity</th>\n",
       "      <th>time</th>\n",
       "    </tr>\n",
       "  </thead>\n",
       "  <tbody>\n",
       "    <tr>\n",
       "      <td>0</td>\n",
       "      <td>4.163227</td>\n",
       "      <td>3.870354</td>\n",
       "      <td>0.306840</td>\n",
       "      <td>47.959347</td>\n",
       "      <td>07:24</td>\n",
       "    </tr>\n",
       "    <tr>\n",
       "      <td>1</td>\n",
       "      <td>4.055693</td>\n",
       "      <td>3.790802</td>\n",
       "      <td>0.316436</td>\n",
       "      <td>44.291908</td>\n",
       "      <td>07:41</td>\n",
       "    </tr>\n",
       "    <tr>\n",
       "      <td>2</td>\n",
       "      <td>3.979279</td>\n",
       "      <td>3.729021</td>\n",
       "      <td>0.323357</td>\n",
       "      <td>41.638317</td>\n",
       "      <td>07:22</td>\n",
       "    </tr>\n",
       "    <tr>\n",
       "      <td>3</td>\n",
       "      <td>3.919654</td>\n",
       "      <td>3.688891</td>\n",
       "      <td>0.327770</td>\n",
       "      <td>40.000469</td>\n",
       "      <td>07:22</td>\n",
       "    </tr>\n",
       "    <tr>\n",
       "      <td>4</td>\n",
       "      <td>3.889432</td>\n",
       "      <td>3.660633</td>\n",
       "      <td>0.330762</td>\n",
       "      <td>38.885933</td>\n",
       "      <td>07:22</td>\n",
       "    </tr>\n",
       "    <tr>\n",
       "      <td>5</td>\n",
       "      <td>3.842923</td>\n",
       "      <td>3.637397</td>\n",
       "      <td>0.333315</td>\n",
       "      <td>37.992798</td>\n",
       "      <td>07:26</td>\n",
       "    </tr>\n",
       "    <tr>\n",
       "      <td>6</td>\n",
       "      <td>3.813823</td>\n",
       "      <td>3.619074</td>\n",
       "      <td>0.335308</td>\n",
       "      <td>37.303013</td>\n",
       "      <td>07:25</td>\n",
       "    </tr>\n",
       "    <tr>\n",
       "      <td>7</td>\n",
       "      <td>3.793213</td>\n",
       "      <td>3.608010</td>\n",
       "      <td>0.336566</td>\n",
       "      <td>36.892574</td>\n",
       "      <td>07:20</td>\n",
       "    </tr>\n",
       "    <tr>\n",
       "      <td>8</td>\n",
       "      <td>3.766456</td>\n",
       "      <td>3.602140</td>\n",
       "      <td>0.337257</td>\n",
       "      <td>36.676647</td>\n",
       "      <td>07:22</td>\n",
       "    </tr>\n",
       "    <tr>\n",
       "      <td>9</td>\n",
       "      <td>3.759768</td>\n",
       "      <td>3.600955</td>\n",
       "      <td>0.337450</td>\n",
       "      <td>36.633202</td>\n",
       "      <td>07:23</td>\n",
       "    </tr>\n",
       "  </tbody>\n",
       "</table>"
      ],
      "text/plain": [
       "<IPython.core.display.HTML object>"
      ]
     },
     "metadata": {},
     "output_type": "display_data"
    }
   ],
   "source": [
    "learn.unfreeze()\n",
    "learn.fit_one_cycle(10, 2e-3, moms=(0.8,0.7,0.8))"
   ]
  },
  {
   "cell_type": "markdown",
   "metadata": {},
   "source": [
    "Once we have fine-tuned the pretrained language model to this corpus, we save the encoder since we will use it for the classifier."
   ]
  },
  {
   "cell_type": "code",
   "execution_count": null,
   "metadata": {},
   "outputs": [],
   "source": [
    "learn.save_encoder('finetuned1')"
   ]
  },
  {
   "cell_type": "markdown",
   "metadata": {},
   "source": [
    "## Use it to train a classifier"
   ]
  },
  {
   "cell_type": "code",
   "execution_count": null,
   "metadata": {},
   "outputs": [],
   "source": [
    "texts = get_files(path, extensions=['.txt'], folders=['train', 'test'])"
   ]
  },
  {
   "cell_type": "code",
   "execution_count": null,
   "metadata": {},
   "outputs": [],
   "source": [
    "splits = GrandparentSplitter(valid_name='test')(texts)"
   ]
  },
  {
   "cell_type": "markdown",
   "metadata": {},
   "source": [
    "For classification, we need to use two set of transforms: one to numericalize the texts and the other to encode the labels as categories."
   ]
  },
  {
   "cell_type": "code",
   "execution_count": null,
   "metadata": {},
   "outputs": [],
   "source": [
    "dsrc = DataSource(texts, [[read_file, Numericalize(vocab)], [parent_label, Categorize()]], splits=splits, dl_type=SortedDL)"
   ]
  },
  {
   "cell_type": "code",
   "execution_count": null,
   "metadata": {},
   "outputs": [],
   "source": [
    "bs = 64"
   ]
  },
  {
   "cell_type": "code",
   "execution_count": null,
   "metadata": {},
   "outputs": [],
   "source": [
    "dbunch = dsrc.databunch(before_batch=pad_input, after_batch=Cuda, bs=bs)"
   ]
  },
  {
   "cell_type": "code",
   "execution_count": null,
   "metadata": {},
   "outputs": [
    {
     "data": {
      "text/html": [
       "<table border=\"1\" class=\"dataframe\">\n",
       "  <thead>\n",
       "    <tr style=\"text-align: right;\">\n",
       "      <th></th>\n",
       "      <th>text</th>\n",
       "      <th>category</th>\n",
       "    </tr>\n",
       "  </thead>\n",
       "  <tbody>\n",
       "    <tr>\n",
       "      <th>0</th>\n",
       "      <td>xxbos xxmaj some have praised xxunk xxmaj lost xxmaj xxunk as a xxmaj disney adventure for adults . i do n't think so -- at least not for thinking adults . \\n\\n xxmaj this script suggests a beginning as a live - action movie , that struck someone as the type of crap you can not sell to adults anymore . xxmaj the \" crack staff \" of many older adventure movies has been done well before , ( think xxmaj the xxmaj dirty xxmaj dozen ) but xxunk represents one of the worse films in that motif . xxmaj the characters are weak . xxmaj even the background that each member trots out seems stock and awkward at best . xxmaj an xxup md / xxmaj medicine xxmaj man , a tomboy mechanic whose father always wanted sons , if we have not at least seen these before , we have seen mix - and - match quirks before . xxmaj the story about how one companion , xxmaj vinny played by xxmaj don xxmaj novello ( fr . xxmaj guido xxmaj sarducci ) , went from flower stores to demolitions totally unconvincing . \\n\\n xxmaj only the main character , xxmaj milo xxmaj thatch , a young xxmaj atlantis - obsessed academic voiced by xxmaj michael xxup j. xxmaj fox , has any depth to him . xxmaj milo 's search for xxmaj atlantis continues that of his grandfather who raised him . xxmaj the opening scene shows a much younger xxmaj milo giddily perched on a knee , as his grandfather places his pith helmet on his head . \\n\\n xxmaj and while the characters were thin at best , the best part about xxunk was the voice talent . xxmaj commander xxmaj rourke loses nothing being voiced by xxmaj james xxmaj garner . xxmaj although xxmaj rourke is a pretty stock military type , xxmaj garner shows his ability to breath life into characters simply by his delivery . xxmaj garner 's vocal performance is the high point . xxmaj i 'm sorry to say xxmaj leonard xxmaj nimoy 's xxmaj dying xxmaj king is nothing more than obligatory . xxmaj additionally , xxmaj don xxmaj novello as the demolition expert , xxmaj vinny xxmaj xxunk , was also notable for one or two well - done , funny lines -- but xxmaj i 've always liked xxmaj father xxmaj guido xxmaj sarducci , anyway . \\n\\n xxmaj also well done was the xxmaj computer xxmaj animation . xxmaj the xxup background animation , that is . xxmaj the character animation does nothing if not make already flat characters appear even flatter . xxmaj aside from landscapes , buildings and vehicles there is n't much to impress . \\n\\n xxmaj the plot was the worst . xxmaj some say hackneyed or trite . xxmaj i 'm not so sure about that . xxmaj any serviceable plot can be made into something new with the proper treatment . xxmaj shakespeare often started from a known story and plot and was famous only for putting on a new coat of paint . xxmaj so the treatment is the thing . xxmaj and xxunk obviously lacks that . \\n\\n i can not begin to go into all the logic gaps without a spoiler section . xxmaj the plot was bad . xxmaj the plot 's bridges snap like twine and the ending does not make sense . xxmaj to add to that , the script and the animation is peppered with annoying sloppiness . \\n\\n * * xxup spoilers * * \\n\\n xxmaj right at the beginning when xxmaj milo reveals that runic or xxmaj celtic symbols have been wrongly xxunk and the \" coast of xxmaj ireland \" should read the \" coast of xxmaj iceland \" , we begin to have problems . xxmaj the writers of the script would need to know the xxmaj british take for xxmaj xxunk or xxmaj xxunk as \" ireland \" , and completely ignore the older , xxmaj latin term xxmaj xxunk . xxmaj but more than this , they need to know of the xxmaj vikings conspiracy to call the greener island xxmaj iceland and the xxunk island xxmaj greenland . \\n\\n xxmaj by making it the matter of a mis - xxunk \" letter \" , the writers have doomed themselves to requiring a runic version of xxmaj english and a post - roman date on the script . xxmaj since this is long after xxmaj atlantis was supposed to have sunk into its undersea cave . xxmaj and without visible clues and less technology than xxmaj milo had , made the inscription far less trustworthy . \\n\\n xxmaj the xxmaj shepherd 's xxmaj journal could not be written before the sinking of xxmaj atlantis , or it would know nothing about the cave or the crystal lying \" in the xxmaj king 's eye \" . xxmaj it must have been written after the sinking , but without even the technology that xxmaj milo 's expedition had , how the heck did anybody get by the xxmaj leviathan . xxmaj so how could it know more about anything after that ? xxmaj and why would it be written in xxmaj atlantian ? \\n\\n xxmaj automatic writing and clairvoyance or astral travel can explain these things . xxmaj however clairvoyance and astral travel do not require to write in xxmaj atlantian . xxmaj so it 's got to be some sort automatic writing . xxmaj since no - one left in xxmaj atlantis can read , it must be the spirits of the crystal beaming messages to the surface . xxmaj this would have made more sense . xxmaj but could also have been explained within the movie : xxmaj milo could shepherd have discovered that this power had been calling him all his life -- appeared in dreams , etc . xxmaj this needed to be explored in the movie . \\n\\n xxmaj the xxmaj atlantians should simply not be able to comprehend modern languages . xxmaj no - one expects that the original indo - europeans would be able to converse in xxmaj europe , anymore than xxmaj romans would understand that hard \" xxunk or their day became xxmaj french \" xxunk ( pronounced like \" xxunk , no less ! ) \\n\\n xxmaj current xxmaj atlantians were alive before the cataclysm -- when apparently they * could * read , yet now are unable to read what they used to , or operate similar machinery . \\n\\n xxmaj the xxmaj mass xxmaj illiteracy points out a crucial flaw in the movie . xxup nothing seems to have happened to this culture . xxmaj it seems suspended in air until xxmaj milo can rescue it . xxmaj even though it appears that life is not a constant struggle for survival , no - one wants to compose poetry or write novels and perhaps it is a combination of xxmaj atlantian school systems going downhill toward the end and lack of good fiction that caused xxmaj atlantis to fall into illiteracy . \\n\\n xxmaj kida can be excused for not knowing how to read or operate the machinery if she was so young when the xxmaj cataclysm of xxmaj stupidity set in -- but xxup any xxup of xxup it * * hardly * * qualifies her father for xxmaj xxunk ! ! xxmaj kashakim 's foolishness almost single - handedly wiped his people from existence . xxmaj killed a bunch in the cataclysm , stalled progress ( not a lot killed here , but he oversaw a massive slide in culture and progress ) until someone could take the crystal to kill everybody , if they were n't boiled in lava first because the xxmaj giant xxmaj robots were n't there to protect them . \\n\\n a bolt of blue electricity should have shattered xxmaj kashakim 's likeness , when xxmaj kida tried joining her father 's image to the circle of xxup great xxmaj kings of xxmaj atlantis ! \\n\\n xxmaj even though xxmaj milo was the only one who could read xxmaj atlantian , xxmaj rourke and others knew enough to look through a book of gibberish and find a page on a crystal -- which he knew to be a crystal and not some stylized astrological or \" phases of the sun \" diagram . \\n\\n xxmaj if xxmaj milo 's grandfather had told xxmaj rourke about it , it still does not explain how xxmaj rourke would have suffered from xxmaj milo 's reading it as part of the book . xxmaj ripping out the page -- which was dog - eared in xxmaj rourke 's hand , even though xxmaj milo found xxup no sign of a torn page in the book apparently -- only was there to tip off the viewer that \" something was not quite right \" . xxmaj unless the word \" crystal \" would have set alarms off in xxmaj milo 's head that somebody would try to steal it , xxmaj milo would have suspected nothing . xxmaj it 's just thick - headed foreshadowing . \\n\\n xxmaj the crew 's \" double - cross \" was not a character change . xxmaj we learned that xxmaj vinny , xxmaj sweet , xxmaj audrey and xxmaj cookie had been going along with xxmaj rourke from the beginning . xxmaj however , the \" change of heart \" falls flat . xxmaj it was a change , and needed to be better motivated . xxmaj hard to do with characters who were n't given anything to begin with . \\n\\n xxmaj niggling little bit that the lava flows up over the dome , instead of filling in the rest of the area that we view the sequence from . xxmaj it 's liquid ; it will not flow over the protective dome until it fills up all lower areas . \\n\\n xxmaj the ending xxup xxunk and makes no sense other than to appease political correctness . xxmaj with it 's xxunk restored , xxmaj atlantis is no longer a weak power , needing coddling . xxmaj the giant robot guardians and the sky - cycles shooting blue lightning suggest that they have less to fear from us than they might . xxmaj the technology is superior to ours , and definitely to early 20th - century . xxmaj in the end xxmaj milo needs to teach the xxmaj atlantians to read , for what ? xxmaj the whole idea is to leave their little quiet , chastened culture alone , not to send it into xxunk . \\n\\n * * xxup end xxup spoilers * * \\n\\n xxmaj perhaps , the xxmaj lost xxmaj world plot and the turn - of - the - century setting should give me a hint that this is more an homage to pulps . xxmaj the failures i find with the film agree with this idea . xxmaj but i am at a loss why i should pay to see thin characters and plot holes simply because many dime novels had them as well . xxmaj and pulp stories is part of the \" crap they ca n't sell adults anymore \" , anyway . xxmaj we have become a bit more sophisticated and our pulp needs to grow up as well . xxmaj raiders of the xxmaj lost xxmaj ark lost none of its pulp feel and avoided so much badness . \\n\\n 4 out of 10 - -the movie is enjoyable but as i think about the plot , it seeps ever lower .</td>\n",
       "      <td>neg</td>\n",
       "    </tr>\n",
       "    <tr>\n",
       "      <th>1</th>\n",
       "      <td>xxbos xxmaj warning : xxmaj does contain spoilers . \\n\\n xxmaj open xxmaj your xxmaj eyes \\n\\n xxmaj if you have not seen this film and plan on doing so , just stop reading here and take my word for it . xxmaj you have to see this film . i have seen it four times so far and i still have n't made up my mind as to what exactly happened in the film . xxmaj that is all i am going to say because if you have not seen this film , then stop reading right now . \\n\\n xxmaj if you are still reading then i am going to pose some questions to you and maybe if anyone has any answers you can email me and let me know what you think . \\n\\n i remember my xxmaj grade 11 xxmaj english teacher quite well . xxmaj his name was xxmaj mr . xxmaj xxunk . xxmaj to me , he was wise beyond his years and he always had this xxunk way of teaching you things that perhaps you were n't all too keen on . xxmaj if we did n't like xxmaj shakespeare , then he turned the story into a modern day romance with modern day language so we could understand it . xxmaj our class room was never a room , it was a cottage and we were on the lake reading a book at our own leisure time . xxmaj this was his own indelible way of branding something into our sponge - like minds . \\n\\n i begin this review of xxmaj vanilla xxmaj sky with a description of this brilliant man because he once gave us an assignment that has been firmly etched in my mind , like the phone number of a long lost best friend , and it finally made some sense to me after watching xxmaj the xxmaj matrix . xxmaj now if i did n't know better , i would have thought that the xxmaj wachowski brothers were really just an alias for my teacher xxmaj mr . xxmaj xxunk . xxmaj but giving them the benefit of the doubt , we 'll assume it was n't him . xxmaj but that was the first time this assignment was anything more than xxunk . \\n\\n xxmaj he had asked us to prove to him and to ourselves that were real . xxmaj show me how you can tell that you are real . xxmaj this got the class spouting off all of the usual ideas that xxmaj i 'm sure you can imagine . xxmaj everything from pain , to sense of touch to sense of loss to sense of hunger were spouted off to our teacher to prove to him that we were real . xxmaj after every scenario that we gave him , he would come back with the one answer that would leave us speechless . \\n\\n \" what if you are nothing but someone else 's dream ? \" \\n\\n xxmaj what if you were someone else 's dream ? xxmaj what a messed up question that is . xxmaj this was a question / scenario posed to us about 15 years ago , before the astronomical use of the xxmaj internet and rapid advancement of computers . xxmaj how possible could it seem back then ? xxmaj but if you look at today 's technology , now ask yourself , what it you were a part of someone else 's dream . \\n\\n xxmaj another brilliant but surreal film this year , xxmaj david xxmaj lynch 's xxmaj mulholland xxmaj drive explored similar areas . xxmaj but xxmaj vanilla xxmaj sky goes deeper than any other film could hope to . xxmaj in short this is one film that will literally ( if you let it ) blow your mind from all of the possibilities that surround you . \\n\\n xxmaj open your xxmaj eyes . \\n\\n xxmaj tom xxmaj cruise plays xxmaj david xxmaj aames , a young , hot shot , righteous , full of himself publisher and owner of several magazines . xxmaj he inherited this from his father and although he has talent and business savvy , his board of xxunk , the xxmaj seven xxmaj dwarfs , think he is a rich dink born with a silver spoon in his mouth . xxmaj they feel he has done nothing to deserve the pinnacle of success that each and every one of them believes should go to them . \\n\\n xxmaj early in the film we meet one of xxmaj david 's gorgeous toys named xxmaj julie xxmaj gianni , played with pernicious but bombastic perfection by xxmaj cameron xxmaj diaz . xxmaj david and xxmaj julie play a good game , both claiming they are just there to use each other and are not the slightest bit interested in a monogamous , committed relationship . xxmaj this is the type of relationship commensurate with xxmaj david 's other flings he 's had in the sexual prime of his life . xxmaj and although both talk a good game , we can tell that only one is really telling the truth . \\n\\n xxmaj next we meet xxmaj brian xxmaj shelby , played with a stroke of genius by xxmaj kevin xxmaj smith 's good buddy xxmaj jason xxmaj lee . xxmaj brian is writing a book that xxmaj david is going to publish but they are also very good friends . xxmaj this is something that xxmaj david has very little of in his life and you can sense a real caring for one another early on in the film . xxmaj brian has one famous line that he keeps telling xxmaj david over and over again . xxmaj and that is \" the sweet ai n't so sweet without the bitter . \" xxmaj he goes on to tell him that one day he will find true love and not just this part time lover status that he seems to perpetrate with all of the floozies who inhabit his bed for a night or two . \\n\\n xxmaj at xxmaj david 's huge birthday bash , ( so huge that the likes of xxmaj steven xxmaj spielberg wish him a happy birthday ) xxmaj brian enters with his date , xxmaj sofia xxmaj xxunk , played of course by xxmaj penelope xxmaj cruz with what has to be the best performance of this year by an actress . xxmaj this is a bash by invite only and at first xxmaj david and xxmaj sofia seem intrigued with one another . xxmaj and in typical xxmaj david fashion , despite his best friend being there , he begins to flirt with xxmaj sofia . xxmaj to complicate things , xxmaj julie shows up uninvited and begins spying on xxmaj david . xxmaj david then spends the night with xxmaj sofia , but they only talk and draw caricatures of one another . xxmaj there is no hanky panky . xxmaj the next day , as xxmaj david is leaving xxmaj sofia 's apartment , he is greeted by xxmaj julie , who offers him a ride and from there … … .well , i think we have all seen the commercials . \\n\\n xxmaj that is all i will really say about the plot , because from here the film teases us with what is reality and what is blurred perception . xxmaj we are introduced to a character played by xxmaj kurt xxmaj russel and a few other shady characters that all play a part in this labyrinth like haze . xxmaj there is a subtext of death and possible panacea - like cure - alls that may or not be able to create the possibility of eternal life . xxmaj this is just one of the intriguing possibilities the movie offers us , but it does n't end there . \\n\\n xxmaj like many movies seem to thrive on today , this film has a secret . xxmaj sixth xxmaj sense may have began this craze , but look even further back and you can maybe thank xxmaj angel xxmaj heart for starting the craze . xxmaj regardless of how it originated , xxmaj vanilla xxmaj sky has one of it 's own xxunk gut busters . xxmaj and what makes this one so much fun is that the film gives you many obvious clues along the way but not enough to give you an xxunk solution to the gauntlet of truth and lies you have just put yourself through . i have seen this film four times and every time it has been because i want to see if there is something more i can pick up , something more i can understand . xxmaj to be able to work your mind in the theater , to enable it to open up to new possibilities is something rare in a film . xxmaj all of the ersatz so called \" best xxmaj pictures of the year \" have been good but nothing spectacular . xxmaj they lack substance . a xxmaj beautiful xxmaj mind was intriguing but flat , xxmaj the xxmaj royal xxmaj tenenbaums was interesting but uneven . xxmaj vanilla xxmaj sky is a rarity because it is a film that leaves you yearning for more yet guarantees your satisfaction because the film and those that made it care about it . i know this film has received mixed reviews but i just think that those who do n't like it do n't quite understand it . \\n\\n xxmaj this is what film making is supposed to be like . xxmaj this is what a film is supposed to do to you . xxmaj it is supposed to make you feel something . xxmaj most of the other films this year have been just empty spaces . xxmaj this one is n't . \\n\\n 10 out of 10 xxmaj the best film of the year . i would love to see this get nominated for best picture and i would love to see xxmaj cruz up for best xxmaj actress , xxmaj diaz for best supporting , xxmaj cruise for best actor and xxmaj jason xxmaj mewes should be a shoe in for best supporting actor . xxmaj cameron xxmaj crowe should there as well . xxmaj none of this may come to pass , and that is a shame . xxmaj this is one film that should not be missed . \\n\\n xxmaj and on a final note , i am quite sure xxmaj mr . xxmaj xxunk would like this film and maybe this is the one film that may answer his question . xxmaj can you prove you are real ? xxmaj or are we just a figment of someone 's imagination ? xxmaj are we artificially transplanted for someone else 's bemusement ? xxmaj this is a film that spawns more questions than it does answers . xxmaj and xxmaj i 'm sure that is just fine with him . \\n\\n xxmaj open xxmaj your xxmaj eyes</td>\n",
       "      <td>pos</td>\n",
       "    </tr>\n",
       "  </tbody>\n",
       "</table>"
      ],
      "text/plain": [
       "<IPython.core.display.HTML object>"
      ]
     },
     "metadata": {},
     "output_type": "display_data"
    }
   ],
   "source": [
    "dbunch.show_batch(max_n=2)"
   ]
  },
  {
   "cell_type": "markdown",
   "metadata": {},
   "source": [
    "Then we once again have a convenience function to create a classifier from this `DataBunch` with the `AWD_LSTM` architecture."
   ]
  },
  {
   "cell_type": "code",
   "execution_count": null,
   "metadata": {},
   "outputs": [],
   "source": [
    "opt_func = partial(Adam, wd=0.1)\n",
    "learn = text_classifier_learner(dbunch, AWD_LSTM, vocab, metrics=[accuracy], path=path, drop_mult=0.5, opt_func=opt_func)"
   ]
  },
  {
   "cell_type": "markdown",
   "metadata": {},
   "source": [
    "We load our pretrained encoder."
   ]
  },
  {
   "cell_type": "code",
   "execution_count": null,
   "metadata": {},
   "outputs": [],
   "source": [
    "learn = learn.load_encoder('finetuned1')\n",
    "learn = learn.to_fp16(clip=0.1)"
   ]
  },
  {
   "cell_type": "markdown",
   "metadata": {},
   "source": [
    "Then we can train with gradual unfreezing and differential learning rates."
   ]
  },
  {
   "cell_type": "code",
   "execution_count": null,
   "metadata": {},
   "outputs": [],
   "source": [
    "lr = 1e-1 * bs/128"
   ]
  },
  {
   "cell_type": "code",
   "execution_count": null,
   "metadata": {},
   "outputs": [
    {
     "data": {
      "text/html": [
       "<table border=\"1\" class=\"dataframe\">\n",
       "  <thead>\n",
       "    <tr style=\"text-align: left;\">\n",
       "      <th>epoch</th>\n",
       "      <th>train_loss</th>\n",
       "      <th>valid_loss</th>\n",
       "      <th>accuracy</th>\n",
       "      <th>time</th>\n",
       "    </tr>\n",
       "  </thead>\n",
       "  <tbody>\n",
       "    <tr>\n",
       "      <td>0</td>\n",
       "      <td>0.336135</td>\n",
       "      <td>0.196716</td>\n",
       "      <td>0.925840</td>\n",
       "      <td>01:02</td>\n",
       "    </tr>\n",
       "  </tbody>\n",
       "</table>"
      ],
      "text/plain": [
       "<IPython.core.display.HTML object>"
      ]
     },
     "metadata": {},
     "output_type": "display_data"
    }
   ],
   "source": [
    "learn.fit_one_cycle(1, lr, moms=(0.8,0.7,0.8), wd=0.1)"
   ]
  },
  {
   "cell_type": "code",
   "execution_count": null,
   "metadata": {},
   "outputs": [
    {
     "data": {
      "text/html": [
       "<table border=\"1\" class=\"dataframe\">\n",
       "  <thead>\n",
       "    <tr style=\"text-align: left;\">\n",
       "      <th>epoch</th>\n",
       "      <th>train_loss</th>\n",
       "      <th>valid_loss</th>\n",
       "      <th>accuracy</th>\n",
       "      <th>time</th>\n",
       "    </tr>\n",
       "  </thead>\n",
       "  <tbody>\n",
       "    <tr>\n",
       "      <td>0</td>\n",
       "      <td>0.213551</td>\n",
       "      <td>0.161639</td>\n",
       "      <td>0.938480</td>\n",
       "      <td>01:05</td>\n",
       "    </tr>\n",
       "  </tbody>\n",
       "</table>"
      ],
      "text/plain": [
       "<IPython.core.display.HTML object>"
      ]
     },
     "metadata": {},
     "output_type": "display_data"
    }
   ],
   "source": [
    "learn.freeze_to(-2)\n",
    "lr /= 2\n",
    "learn.fit_one_cycle(1, slice(lr/(2.6**4),lr), moms=(0.8,0.7,0.8), wd=0.1)"
   ]
  },
  {
   "cell_type": "code",
   "execution_count": null,
   "metadata": {},
   "outputs": [
    {
     "data": {
      "text/html": [
       "<table border=\"1\" class=\"dataframe\">\n",
       "  <thead>\n",
       "    <tr style=\"text-align: left;\">\n",
       "      <th>epoch</th>\n",
       "      <th>train_loss</th>\n",
       "      <th>valid_loss</th>\n",
       "      <th>accuracy</th>\n",
       "      <th>time</th>\n",
       "    </tr>\n",
       "  </thead>\n",
       "  <tbody>\n",
       "    <tr>\n",
       "      <td>0</td>\n",
       "      <td>0.157397</td>\n",
       "      <td>0.152008</td>\n",
       "      <td>0.943200</td>\n",
       "      <td>01:20</td>\n",
       "    </tr>\n",
       "  </tbody>\n",
       "</table>"
      ],
      "text/plain": [
       "<IPython.core.display.HTML object>"
      ]
     },
     "metadata": {},
     "output_type": "display_data"
    }
   ],
   "source": [
    "learn.freeze_to(-3)\n",
    "lr /= 2\n",
    "learn.fit_one_cycle(1, slice(lr/(2.6**4),lr), moms=(0.8,0.7,0.8), wd=0.1)"
   ]
  },
  {
   "cell_type": "code",
   "execution_count": null,
   "metadata": {},
   "outputs": [
    {
     "data": {
      "text/html": [
       "<table border=\"1\" class=\"dataframe\">\n",
       "  <thead>\n",
       "    <tr style=\"text-align: left;\">\n",
       "      <th>epoch</th>\n",
       "      <th>train_loss</th>\n",
       "      <th>valid_loss</th>\n",
       "      <th>accuracy</th>\n",
       "      <th>time</th>\n",
       "    </tr>\n",
       "  </thead>\n",
       "  <tbody>\n",
       "    <tr>\n",
       "      <td>0</td>\n",
       "      <td>0.133800</td>\n",
       "      <td>0.163456</td>\n",
       "      <td>0.940560</td>\n",
       "      <td>01:34</td>\n",
       "    </tr>\n",
       "    <tr>\n",
       "      <td>1</td>\n",
       "      <td>0.095326</td>\n",
       "      <td>0.154301</td>\n",
       "      <td>0.945120</td>\n",
       "      <td>01:34</td>\n",
       "    </tr>\n",
       "  </tbody>\n",
       "</table>"
      ],
      "text/plain": [
       "<IPython.core.display.HTML object>"
      ]
     },
     "metadata": {},
     "output_type": "display_data"
    }
   ],
   "source": [
    "learn.unfreeze()\n",
    "lr /= 5\n",
    "learn.fit_one_cycle(2, slice(lr/(2.6**4),lr), moms=(0.8,0.7,0.8), wd=0.1)"
   ]
  },
  {
   "cell_type": "code",
   "execution_count": null,
   "metadata": {},
   "outputs": [],
   "source": []
  }
 ],
 "metadata": {
  "kernelspec": {
   "display_name": "Python 3",
   "language": "python",
   "name": "python3"
  }
 },
 "nbformat": 4,
 "nbformat_minor": 2
}
