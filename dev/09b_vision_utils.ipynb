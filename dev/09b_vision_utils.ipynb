{
 "cells": [
  {
   "cell_type": "code",
   "execution_count": null,
   "metadata": {},
   "outputs": [],
   "source": [
    "#default_exp vision.utils"
   ]
  },
  {
   "cell_type": "code",
   "execution_count": null,
   "metadata": {},
   "outputs": [],
   "source": [
    "#export\n",
    "from local.test import *\n",
    "from local.torch_basics import *\n",
    "from local.data.all import *\n",
    "\n",
    "from local.vision.core import *"
   ]
  },
  {
   "cell_type": "code",
   "execution_count": null,
   "metadata": {},
   "outputs": [],
   "source": [
    "from local.notebook.showdoc import *"
   ]
  },
  {
   "cell_type": "markdown",
   "metadata": {},
   "source": [
    "# Vision utils\n",
    "\n",
    "> Some utils function to quickly download a bunch of images, check them and pre-resize them"
   ]
  },
  {
   "cell_type": "code",
   "execution_count": null,
   "metadata": {},
   "outputs": [],
   "source": [
    "#export\n",
    "def _download_image_inner(dest, inp, timeout=4):\n",
    "    i,url = inp\n",
    "    suffix = re.findall(r'\\.\\w+?(?=(?:\\?|$))', url)\n",
    "    suffix = suffix[0] if len(suffix)>0  else '.jpg'\n",
    "    try: download_url(url, dest/f\"{i:08d}{suffix}\", overwrite=True, show_progress=False, timeout=timeout)\n",
    "    except Exception as e: f\"Couldn't download {url}.\""
   ]
  },
  {
   "cell_type": "code",
   "execution_count": null,
   "metadata": {},
   "outputs": [],
   "source": [
    "with tempfile.TemporaryDirectory() as d:\n",
    "    d = Path(d)\n",
    "    url = \"https://www.fast.ai/images/jh-head\"\n",
    "    _download_image_inner(d, (125,url))\n",
    "    assert (d/'00000125.jpg').is_file()"
   ]
  },
  {
   "cell_type": "code",
   "execution_count": null,
   "metadata": {},
   "outputs": [],
   "source": [
    "#export\n",
    "def download_images(url_file, dest, max_pics=1000, n_workers=8, timeout=4):\n",
    "    \"Download images listed in text file `url_file` to path `dest`, at most `max_pics`\"\n",
    "    urls = url_file.read().strip().split(\"\\n\")[:max_pics]\n",
    "    dest = Path(dest)\n",
    "    dest.mkdir(exist_ok=True)\n",
    "    parallel(partial(_download_image_inner, dest, timeout=timeout), list(enumerate(urls)), n_workers=n_workers)"
   ]
  },
  {
   "cell_type": "code",
   "execution_count": null,
   "metadata": {},
   "outputs": [],
   "source": [
    "with tempfile.TemporaryDirectory() as d:\n",
    "    d = Path(d)\n",
    "    url_file = (d/'urls.txt')\n",
    "    url_file.write(\"\\n\".join([f\"https://www.fast.ai/images/{n}\" for n in \"jh-head thomas.JPG sg-head\".split()]))\n",
    "    download_images(url_file, d)\n",
    "    for i in [0,2]: assert (d/f'0000000{i}.jpg').is_file()\n",
    "    assert (d/f'00000001.JPG').is_file()"
   ]
  },
  {
   "cell_type": "code",
   "execution_count": null,
   "metadata": {},
   "outputs": [],
   "source": [
    "#export\n",
    "def resize_to(img, targ_sz, use_min=False):\n",
    "    \"Size to resize to, to hit `targ_sz` at same aspect ratio, in PIL coords (i.e w*h)\"\n",
    "    w,h = img.size\n",
    "    min_sz = (min if use_min else max)(w,h)\n",
    "    ratio = targ_sz/min_sz\n",
    "    return int(w*ratio),int(h*ratio)"
   ]
  },
  {
   "cell_type": "code",
   "execution_count": null,
   "metadata": {},
   "outputs": [],
   "source": [
    "class _FakeImg():\n",
    "    def __init__(self, size): self.size=size\n",
    "img = _FakeImg((200,500))\n",
    "\n",
    "test_eq(resize_to(img, 400), [160,400])\n",
    "test_eq(resize_to(img, 400, use_min=True), [400,1000])"
   ]
  },
  {
   "cell_type": "code",
   "execution_count": null,
   "metadata": {},
   "outputs": [],
   "source": [
    "#export\n",
    "@delegates(Image.Image.save)\n",
    "def verify_image(file, delete=True, max_size=None, dest=None, n_channels=3, interp=Image.BILINEAR, ext=None, img_format=None, resume=False, **kwargs):\n",
    "    \"Check if the image in `file` exists, maybe resize it and copy it in `dest`.\"\n",
    "    try:\n",
    "        # deal with partially broken images as indicated by PIL warnings\n",
    "        with warnings.catch_warnings():\n",
    "            warnings.filterwarnings('error')\n",
    "            try: Image.open(file)\n",
    "            except Warning as w:\n",
    "                if \"Possibly corrupt EXIF data\" in str(w):\n",
    "                    if delete: # green light to modify files\n",
    "                        print(f\"{file}: Removing corrupt EXIF data\")\n",
    "                        warnings.simplefilter(\"ignore\")\n",
    "                        PIL.Image.open(file).save(file)\n",
    "                    else: print(f\"{file}: Corrupt EXIF data, pass `delete=True` to remove it\")\n",
    "                else: warnings.warn(w)\n",
    "\n",
    "        img = Image.open(file)\n",
    "        imgarr = np.array(img)\n",
    "        img_channels = 1 if len(imgarr.shape) == 2 else imgarr.shape[2]\n",
    "        if (max_size is not None and (img.height > max_size or img.width > max_size)) or img_channels != n_channels:\n",
    "            assert dest is not None, \"You should provide `dest` Path to save resized image\"\n",
    "            dest_fname = Path(dest)/file.name\n",
    "            if ext is not None: dest_fname=dest_fname.with_suffix(ext)\n",
    "            if resume and os.path.isfile(dest_fname): return\n",
    "            if max_size is not None:\n",
    "                new_sz = resize_to(img, max_size)\n",
    "                img = img.resize(new_sz, resample=interp)\n",
    "            if n_channels == 3: img = img.convert(\"RGB\")\n",
    "            img.save(dest_fname, img_format, **kwargs)\n",
    "    except Exception as e:\n",
    "        print(f'{e}')\n",
    "        if delete: file.unlink()"
   ]
  },
  {
   "cell_type": "code",
   "execution_count": null,
   "metadata": {},
   "outputs": [],
   "source": [
    "#export\n",
    "@delegates(verify_image)\n",
    "def verify_images(path, max_workers=4, recurse=False, dest='.', **kwargs):\n",
    "    \"Check if the images in `path` aren't broken, maybe resize them and copy it in `dest`.\"\n",
    "    path = Path(path)\n",
    "    dest = path/Path(dest)\n",
    "    os.makedirs(dest, exist_ok=True)\n",
    "    files = get_image_files(path, recurse=recurse)\n",
    "    func = partial(verify_image, dest=dest, **kwargs)\n",
    "    parallel(func, files, max_workers=max_workers)"
   ]
  },
  {
   "cell_type": "markdown",
   "metadata": {},
   "source": [
    "# Export -"
   ]
  },
  {
   "cell_type": "code",
   "execution_count": null,
   "metadata": {},
   "outputs": [
    {
     "name": "stdout",
     "output_type": "stream",
     "text": [
      "Converted 00_test.ipynb.\n",
      "Converted 01_core_foundation.ipynb.\n",
      "Converted 01a_core_utils.ipynb.\n",
      "Converted 01b_core_dispatch.ipynb.\n",
      "Converted 01c_core_transform.ipynb.\n",
      "Converted 02_core_script.ipynb.\n",
      "Converted 03_torchcore.ipynb.\n",
      "Converted 03a_layers.ipynb.\n",
      "Converted 04_data_load.ipynb.\n",
      "Converted 05_data_core.ipynb.\n",
      "Converted 06_data_transforms.ipynb.\n",
      "Converted 07_data_block.ipynb.\n",
      "Converted 08_vision_core.ipynb.\n",
      "Converted 09_vision_augment.ipynb.\n",
      "Converted 09a_vision_data.ipynb.\n",
      "Converted 09b_vision_utils.ipynb.\n",
      "Converted 10_pets_tutorial.ipynb.\n",
      "Converted 11_vision_models_xresnet.ipynb.\n",
      "Converted 12_optimizer.ipynb.\n",
      "Converted 13_learner.ipynb.\n",
      "Converted 13a_metrics.ipynb.\n",
      "Converted 14_callback_schedule.ipynb.\n",
      "Converted 14a_callback_data.ipynb.\n",
      "Converted 15_callback_hook.ipynb.\n",
      "Converted 15a_vision_models_unet.ipynb.\n",
      "Converted 16_callback_progress.ipynb.\n",
      "Converted 17_callback_tracker.ipynb.\n",
      "Converted 18_callback_fp16.ipynb.\n",
      "Converted 19_callback_mixup.ipynb.\n",
      "Converted 20_interpret.ipynb.\n",
      "Converted 20a_distributed.ipynb.\n",
      "Converted 21_vision_learner.ipynb.\n",
      "Converted 22_tutorial_imagenette.ipynb.\n",
      "Converted 23_tutorial_transfer_learning.ipynb.\n",
      "Converted 30_text_core.ipynb.\n",
      "Converted 31_text_data.ipynb.\n",
      "Converted 32_text_models_awdlstm.ipynb.\n",
      "Converted 33_text_models_core.ipynb.\n",
      "Converted 34_callback_rnn.ipynb.\n",
      "Converted 35_tutorial_wikitext.ipynb.\n",
      "Converted 36_text_models_qrnn.ipynb.\n",
      "Converted 37_text_learner.ipynb.\n",
      "Converted 38_tutorial_ulmfit.ipynb.\n",
      "Converted 40_tabular_core.ipynb.\n",
      "Converted 41_tabular_model.ipynb.\n",
      "Converted 42_tabular_rapids.ipynb.\n",
      "Converted 50_data_block_examples.ipynb.\n",
      "Converted 60_medical_imaging.ipynb.\n",
      "Converted 65_medical_text.ipynb.\n",
      "Converted 70_callback_wandb.ipynb.\n",
      "Converted 71_callback_tensorboard.ipynb.\n",
      "Converted 90_notebook_core.ipynb.\n",
      "Converted 91_notebook_export.ipynb.\n",
      "Converted 92_notebook_showdoc.ipynb.\n",
      "Converted 93_notebook_export2html.ipynb.\n",
      "Converted 94_notebook_test.ipynb.\n",
      "Converted 95_index.ipynb.\n",
      "Converted 96_data_external.ipynb.\n",
      "Converted 97_utils_test.ipynb.\n",
      "Converted notebook2jekyll.ipynb.\n",
      "Converted xse_resnext.ipynb.\n"
     ]
    }
   ],
   "source": [
    "#hide\n",
    "from local.notebook.export import notebook2script\n",
    "notebook2script(all_fs=True)"
   ]
  },
  {
   "cell_type": "code",
   "execution_count": null,
   "metadata": {},
   "outputs": [],
   "source": []
  }
 ],
 "metadata": {
  "kernelspec": {
   "display_name": "Python 3",
   "language": "python",
   "name": "python3"
  }
 },
 "nbformat": 4,
 "nbformat_minor": 2
}
