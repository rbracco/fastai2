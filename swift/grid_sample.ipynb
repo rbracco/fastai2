{
 "cells": [
  {
   "cell_type": "code",
   "execution_count": null,
   "metadata": {},
   "outputs": [],
   "source": [
    "import TensorFlow"
   ]
  },
  {
   "cell_type": "code",
   "execution_count": null,
   "metadata": {},
   "outputs": [],
   "source": [
    "enum PaddingMode {\n",
    "    case zeros\n",
    "    case reflection\n",
    "    case border\n",
    "}"
   ]
  },
  {
   "cell_type": "code",
   "execution_count": null,
   "metadata": {},
   "outputs": [],
   "source": [
    "func grabIdx(_ x: Tensor<Float>, _ b: Int, _ c: Int, _ i: Int, _ j: Int, padMode: PaddingMode) -> Tensor<Float> {\n",
    "    //TODO: check and implement other padding modes\n",
    "    let (h,w) = (x.shape[2],x.shape[3])\n",
    "    return i>=0 && i<h && j>=0 && j<w ? x[b,c,i,j] : Tensor<Float>(0)\n",
    "}"
   ]
  },
  {
   "cell_type": "code",
   "execution_count": null,
   "metadata": {},
   "outputs": [],
   "source": [
    "enum InterpolationMode {\n",
    "    case nearest\n",
    "    case bilinear\n",
    "}"
   ]
  },
  {
   "cell_type": "code",
   "execution_count": null,
   "metadata": {},
   "outputs": [],
   "source": [
    "func grabPixel(_ x: Tensor<Float>, _ b: Int, _ c: Int, _ i: Float, _ j: Float, mode: InterpolationMode, padMode: PaddingMode) -> Tensor<Float> {\n",
    "    //TODO: check and implement other padding modes\n",
    "    switch mode {\n",
    "    case .nearest: \n",
    "        return grabIdx(x, b, c, Int(round(i)), Int(round(j)), padMode: padMode)\n",
    "    case .bilinear:\n",
    "        let i1 = floor(i)\n",
    "        let i2 = i1+1\n",
    "        let j1 = floor(j)\n",
    "        let j2 = j1+1\n",
    "        let v11 = grabIdx(x, b, c, Int(i1), Int(j1), padMode: padMode)\n",
    "        let v12 = grabIdx(x, b, c, Int(i1), Int(j2), padMode: padMode)\n",
    "        let v21 = grabIdx(x, b, c, Int(i2), Int(j1), padMode: padMode)\n",
    "        let v22 = grabIdx(x, b, c, Int(i2), Int(j2), padMode: padMode)\n",
    "        //Compiler doesn't manage to get the type of the result if no cast to Tensor<Float> \n",
    "        return (Tensor<Float>((i2-i) * (j2-j)) * v11 + Tensor<Float>((i2-i) * (j-j1)) * v12 +\n",
    "                Tensor<Float>((i-i1) * (j2-j)) * v21 + Tensor<Float>((i-i1) * (j-j1)) * v22)\n",
    "    }\n",
    "}"
   ]
  },
  {
   "cell_type": "markdown",
   "metadata": {},
   "source": [
    "Note: the loops over batch size (bs) and channels (ch) aren't necessary if we can set `res[:,:,i,j]` directly, just have to adapt `grabIdx` and `grabPixel` accordingly. "
   ]
  },
  {
   "cell_type": "code",
   "execution_count": null,
   "metadata": {},
   "outputs": [],
   "source": [
    "func gridSample(_ x:Tensor<Float>, grid g: Tensor<Float>, mode: InterpolationMode = .bilinear, padMode: PaddingMode = .zeros) -> Tensor<Float> {\n",
    "    let (bs,ch,h,w) = (x.shape[0],x.shape[1],x.shape[2],x.shape[3])\n",
    "    let (nh,nw) = (g.shape[1],g.shape[2])\n",
    "    var res = Tensor<Float>(zeros: [bs, ch, nh, nw])\n",
    "    for b in 0..<bs {\n",
    "        for c in 0..<ch {\n",
    "            for i in 0..<nh {\n",
    "                for j in 0..<nw {\n",
    "                    //Copying PyTorch behavior, points are assumed to be \n",
    "                    // - going from -1 to 1 so we scale them back to 0 -> h/w -1\n",
    "                    // - in the format (col,row) which is why 0 and 1 are inversed \n",
    "                    var i1 = (g[b,i,j,1].scalar! + 1) * Float(h-1)/2.0\n",
    "                    var j1 = (g[b,i,j,0].scalar! + 1) * Float(w-1)/2.0\n",
    "                    res[b,c,i,j] = grabPixel(x, b, c, i1, j1, mode: mode, padMode: padMode)\n",
    "                }\n",
    "            }\n",
    "        }\n",
    "    }\n",
    "    return res\n",
    "}"
   ]
  },
  {
   "cell_type": "code",
   "execution_count": null,
   "metadata": {},
   "outputs": [],
   "source": [
    "let x = Tensor<Float>(randomNormal: [12,3,16,16])\n",
    "let c = Tensor<Float>([-1.0, -0.5, 0.0, 0.5, 1.0])\n",
    "let r = Tensor<Float>([-1.0, -0.67, -0.33, 0.0, 0.33, 0.67, 1.0])"
   ]
  },
  {
   "cell_type": "code",
   "execution_count": null,
   "metadata": {},
   "outputs": [
    {
     "data": {
      "text/plain": [
       "[[ -1.0,  -1.0],\n",
       " [-0.67,  -1.0],\n",
       " [-0.33,  -1.0],\n",
       " [  0.0,  -1.0],\n",
       " [ 0.33,  -1.0],\n",
       " [ 0.67,  -1.0],\n",
       " [  1.0,  -1.0]]\n"
      ]
     },
     "execution_count": null,
     "metadata": {},
     "output_type": "execute_result"
    }
   ],
   "source": [
    "let y1 = c.expandingShape(at: [1,2]).broadcasted(to: [5,7,1])\n",
    "let y2 = r.expandingShape(at: [0,2]).broadcasted(to: [5,7,1])\n",
    "var y = Tensor<Float>(concatenating: [y2, y1], alongAxis: 2)\n",
    "y = y.expandingShape(at: 0).broadcasted(to: [12,5,7,2])\n",
    "y[0,0]"
   ]
  },
  {
   "cell_type": "code",
   "execution_count": null,
   "metadata": {},
   "outputs": [],
   "source": [
    "enum MyError: Error {\n",
    "    case runtimeError(String)\n",
    "}"
   ]
  },
  {
   "cell_type": "code",
   "execution_count": null,
   "metadata": {},
   "outputs": [],
   "source": [
    "func testEqual(_ x: Tensor<Float>, _ y:Tensor<Float>) throws {\n",
    "    if x != y { throw MyError.runtimeError(\"\\(x) different from \\(y)\")}\n",
    "}"
   ]
  },
  {
   "cell_type": "code",
   "execution_count": null,
   "metadata": {},
   "outputs": [],
   "source": [
    "func testClose(_ x: Tensor<Float>, _ y:Tensor<Float>, tol: Float = 1e-5) throws {\n",
    "    if abs(x-y).scalar! >= tol { throw MyError.runtimeError(\"\\(x) not close to \\(y)\")}\n",
    "}"
   ]
  },
  {
   "cell_type": "code",
   "execution_count": null,
   "metadata": {},
   "outputs": [],
   "source": [
    "//Test bilinear interpolation\n",
    "let res = gridSample(x, grid:y)"
   ]
  },
  {
   "cell_type": "code",
   "execution_count": null,
   "metadata": {},
   "outputs": [],
   "source": [
    "//Corner values\n",
    "testEqual(res[0,0,0,0], x[0,0,0,0])\n",
    "testEqual(res[0,0,0,6], x[0,0,0,15])\n",
    "testEqual(res[0,0,4,0], x[0,0,15,0])\n",
    "testEqual(res[0,0,4,6], x[0,0,15,15])\n",
    "\n",
    "//Border value\n",
    "let a: Float = (1.0-0.33)*15.0/2.0\n",
    "testEqual(res[0,0,0,2], Tensor<Float>(6.0-a)*x[0,0,0,5]+Tensor<Float>(a-5.0)*x[0,0,0,6])\n",
    "\n",
    "//Random middle value\n",
    "let b: Float = (1.0-0.5)*15.0/2.0\n",
    "let a11 = Tensor<Float>((6.0-a) * (4.0-b))\n",
    "let a12 = Tensor<Float>((6.0-a) * (b-3.0))\n",
    "let a21 = Tensor<Float>((a-5.0) * (4.0-b))\n",
    "let a22 = Tensor<Float>((a-5.0) * (b-3.0))\n",
    "testClose(res[0,0,1,2], a11*x[0,0,3,5]+a12*x[0,0,4,5]+a21*x[0,0,3,6]+a22*x[0,0,4,6])"
   ]
  },
  {
   "cell_type": "code",
   "execution_count": null,
   "metadata": {},
   "outputs": [],
   "source": [
    "//Test nearest interpolation\n",
    "let res = gridSample(x, grid:y, mode: .nearest)"
   ]
  },
  {
   "cell_type": "code",
   "execution_count": null,
   "metadata": {},
   "outputs": [],
   "source": [
    "//Corner values\n",
    "testEqual(res[0,0,0,0], x[0,0,0,0])\n",
    "testEqual(res[0,0,0,6], x[0,0,0,15])\n",
    "testEqual(res[0,0,4,0], x[0,0,15,0])\n",
    "testEqual(res[0,0,4,6], x[0,0,15,15])\n",
    "\n",
    "//Border value\n",
    "testEqual(res[0,0,0,2], x[0,0,0,5])\n",
    "\n",
    "//Random middle values\n",
    "testClose(res[0,0,1,2], x[0,0,4,5])"
   ]
  },
  {
   "cell_type": "code",
   "execution_count": null,
   "metadata": {},
   "outputs": [],
   "source": []
  }
 ],
 "metadata": {
  "kernelspec": {
   "display_name": "Swift",
   "language": "swift",
   "name": "swift"
  }
 },
 "nbformat": 4,
 "nbformat_minor": 2
}
